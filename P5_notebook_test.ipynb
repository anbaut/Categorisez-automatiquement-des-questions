{
 "cells": [
  {
   "cell_type": "code",
   "execution_count": 1,
   "id": "50f6fbb8",
   "metadata": {},
   "outputs": [
    {
     "name": "stdout",
     "output_type": "stream",
     "text": [
      "Populating the interactive namespace from numpy and matplotlib\n"
     ]
    }
   ],
   "source": [
    "#Importation des librairies\n",
    "import warnings\n",
    "warnings.filterwarnings(\"ignore\")\n",
    "\n",
    "import os\n",
    "import re\n",
    "import pandas as pd\n",
    "import missingno as msno\n",
    "import numpy as np\n",
    "import seaborn as sns\n",
    "import matplotlib.pyplot as plt\n",
    "import missingno as msno\n",
    "import nltk\n",
    "import nlp_module\n",
    "import string,unicodedata\n",
    "from sklearn.linear_model import LogisticRegression\n",
    "from sklearn.feature_extraction.text import CountVectorizer\n",
    "from sklearn.feature_extraction.text import HashingVectorizer\n",
    "from sklearn.model_selection import train_test_split\n",
    "from sklearn.metrics import accuracy_score\n",
    "from sklearn.multioutput import MultiOutputClassifier\n",
    "from sklearn.pipeline import Pipeline\n",
    "from sklearn import preprocessing\n",
    "from nlp_module import remove_stopwords, plot_top_words, tok, print_score\n",
    "from sklearn.model_selection import GridSearchCV\n",
    "from sklearn.decomposition import NMF, LatentDirichletAllocation\n",
    "import pyLDAvis\n",
    "import pyLDAvis.sklearn\n",
    "\n",
    "\n",
    "from string import punctuation\n",
    "from nltk.corpus import stopwords\n",
    "from time import time\n",
    "\n",
    "pd.set_option(\"display.max_columns\", None)\n",
    "\n",
    "%pylab inline"
   ]
  },
  {
   "cell_type": "code",
   "execution_count": 2,
   "id": "3f3bd6cb",
   "metadata": {},
   "outputs": [],
   "source": [
    "df = pd.read_csv(\"df.csv\", sep=',')"
   ]
  },
  {
   "cell_type": "code",
   "execution_count": 3,
   "id": "57d0d10e",
   "metadata": {
    "scrolled": false
   },
   "outputs": [
    {
     "data": {
      "text/html": [
       "<div>\n",
       "<style scoped>\n",
       "    .dataframe tbody tr th:only-of-type {\n",
       "        vertical-align: middle;\n",
       "    }\n",
       "\n",
       "    .dataframe tbody tr th {\n",
       "        vertical-align: top;\n",
       "    }\n",
       "\n",
       "    .dataframe thead th {\n",
       "        text-align: right;\n",
       "    }\n",
       "</style>\n",
       "<table border=\"1\" class=\"dataframe\">\n",
       "  <thead>\n",
       "    <tr style=\"text-align: right;\">\n",
       "      <th></th>\n",
       "      <th>Title</th>\n",
       "      <th>Body</th>\n",
       "      <th>Tags1</th>\n",
       "      <th>Tags2</th>\n",
       "      <th>Tags3</th>\n",
       "    </tr>\n",
       "  </thead>\n",
       "  <tbody>\n",
       "    <tr>\n",
       "      <th>0</th>\n",
       "      <td>How I set permissions (attributes) file ZIP fi...</td>\n",
       "      <td>When I extract files ZIP file created Python z...</td>\n",
       "      <td>python</td>\n",
       "      <td>zip</td>\n",
       "      <td>zipfile</td>\n",
       "    </tr>\n",
       "    <tr>\n",
       "      <th>1</th>\n",
       "      <td>How get directory listing C?</td>\n",
       "      <td>How scan directory folders files C? It needs c...</td>\n",
       "      <td>c</td>\n",
       "      <td>file</td>\n",
       "      <td>cross-platform</td>\n",
       "    </tr>\n",
       "    <tr>\n",
       "      <th>2</th>\n",
       "      <td>Returning DataTables WCF/.NET</td>\n",
       "      <td>I WCF service I want return DataTable. I know ...</td>\n",
       "      <td>c#</td>\n",
       "      <td>.net</td>\n",
       "      <td>web-services</td>\n",
       "    </tr>\n",
       "    <tr>\n",
       "      <th>3</th>\n",
       "      <td>Angularjs Form/Field validation using JavaScri...</td>\n",
       "      <td>Is way validate field angular without using di...</td>\n",
       "      <td>javascript</td>\n",
       "      <td>validation</td>\n",
       "      <td>angularjs</td>\n",
       "    </tr>\n",
       "    <tr>\n",
       "      <th>4</th>\n",
       "      <td>Scrolling Overflowed DIVs JavaScript</td>\n",
       "      <td>I' got div uses overflow:auto keep contents in...</td>\n",
       "      <td>javascript</td>\n",
       "      <td>jquery</td>\n",
       "      <td>ajax</td>\n",
       "    </tr>\n",
       "    <tr>\n",
       "      <th>...</th>\n",
       "      <td>...</td>\n",
       "      <td>...</td>\n",
       "      <td>...</td>\n",
       "      <td>...</td>\n",
       "      <td>...</td>\n",
       "    </tr>\n",
       "    <tr>\n",
       "      <th>96567</th>\n",
       "      <td>Android Studio Build gradle OutOfMemoryError</td>\n",
       "      <td>I' new Android. I import Github project Androi...</td>\n",
       "      <td>android</td>\n",
       "      <td>android-camera</td>\n",
       "      <td>ddms</td>\n",
       "    </tr>\n",
       "    <tr>\n",
       "      <th>96568</th>\n",
       "      <td>Reload section method swift 3?</td>\n",
       "      <td>I code written objective c.I want convert code...</td>\n",
       "      <td>c#</td>\n",
       "      <td>entity-framework-6</td>\n",
       "      <td>repository-pattern</td>\n",
       "    </tr>\n",
       "    <tr>\n",
       "      <th>96569</th>\n",
       "      <td>How use jarsigner signing apk?</td>\n",
       "      <td>I little programming knowledge.I able open jar...</td>\n",
       "      <td>javascript</td>\n",
       "      <td>css</td>\n",
       "      <td>html</td>\n",
       "    </tr>\n",
       "    <tr>\n",
       "      <th>96570</th>\n",
       "      <td>Model binding ASP.NET Core map underscores tit...</td>\n",
       "      <td>I model class I want bind query string ASP.NET...</td>\n",
       "      <td>git</td>\n",
       "      <td>git-clone</td>\n",
       "      <td>git-remote</td>\n",
       "    </tr>\n",
       "    <tr>\n",
       "      <th>96571</th>\n",
       "      <td>Why comma inside ternary operator throw syntax...</td>\n",
       "      <td>I noticed something odd trying use comma opera...</td>\n",
       "      <td>java</td>\n",
       "      <td>android</td>\n",
       "      <td>bouncycastle</td>\n",
       "    </tr>\n",
       "  </tbody>\n",
       "</table>\n",
       "<p>96572 rows × 5 columns</p>\n",
       "</div>"
      ],
      "text/plain": [
       "                                                   Title  \\\n",
       "0      How I set permissions (attributes) file ZIP fi...   \n",
       "1                           How get directory listing C?   \n",
       "2                          Returning DataTables WCF/.NET   \n",
       "3      Angularjs Form/Field validation using JavaScri...   \n",
       "4                   Scrolling Overflowed DIVs JavaScript   \n",
       "...                                                  ...   \n",
       "96567       Android Studio Build gradle OutOfMemoryError   \n",
       "96568                     Reload section method swift 3?   \n",
       "96569                     How use jarsigner signing apk?   \n",
       "96570  Model binding ASP.NET Core map underscores tit...   \n",
       "96571  Why comma inside ternary operator throw syntax...   \n",
       "\n",
       "                                                    Body       Tags1  \\\n",
       "0      When I extract files ZIP file created Python z...      python   \n",
       "1      How scan directory folders files C? It needs c...           c   \n",
       "2      I WCF service I want return DataTable. I know ...          c#   \n",
       "3      Is way validate field angular without using di...  javascript   \n",
       "4      I' got div uses overflow:auto keep contents in...  javascript   \n",
       "...                                                  ...         ...   \n",
       "96567  I' new Android. I import Github project Androi...     android   \n",
       "96568  I code written objective c.I want convert code...          c#   \n",
       "96569  I little programming knowledge.I able open jar...  javascript   \n",
       "96570  I model class I want bind query string ASP.NET...         git   \n",
       "96571  I noticed something odd trying use comma opera...        java   \n",
       "\n",
       "                    Tags2               Tags3  \n",
       "0                     zip             zipfile  \n",
       "1                    file      cross-platform  \n",
       "2                    .net        web-services  \n",
       "3              validation           angularjs  \n",
       "4                  jquery                ajax  \n",
       "...                   ...                 ...  \n",
       "96567      android-camera                ddms  \n",
       "96568  entity-framework-6  repository-pattern  \n",
       "96569                 css                html  \n",
       "96570           git-clone          git-remote  \n",
       "96571             android        bouncycastle  \n",
       "\n",
       "[96572 rows x 5 columns]"
      ]
     },
     "execution_count": 3,
     "metadata": {},
     "output_type": "execute_result"
    }
   ],
   "source": [
    "df"
   ]
  },
  {
   "cell_type": "code",
   "execution_count": 4,
   "id": "efe8774d",
   "metadata": {},
   "outputs": [
    {
     "data": {
      "text/plain": [
       "96"
      ]
     },
     "execution_count": 4,
     "metadata": {},
     "output_type": "execute_result"
    }
   ],
   "source": [
    "df.isnull().sum().sum()"
   ]
  },
  {
   "cell_type": "code",
   "execution_count": 5,
   "id": "75e1510d",
   "metadata": {},
   "outputs": [],
   "source": [
    "df = df.dropna()"
   ]
  },
  {
   "cell_type": "code",
   "execution_count": 6,
   "id": "a4fb6af1",
   "metadata": {},
   "outputs": [],
   "source": [
    "df_sample = df.sample(frac=0.10, random_state=1)"
   ]
  },
  {
   "cell_type": "code",
   "execution_count": 7,
   "id": "ec38c6a1",
   "metadata": {},
   "outputs": [],
   "source": [
    "full_text = df_sample[\"Title\"].values + \" \" + df_sample[\"Body\"].values\n",
    "df[\"full_text\"] = df[\"Title\"] + df[\"Body\"]"
   ]
  },
  {
   "cell_type": "code",
   "execution_count": 8,
   "id": "f7c504ed",
   "metadata": {},
   "outputs": [],
   "source": [
    "bow_vectorizer = CountVectorizer(ngram_range = (1,1),\n",
    "                                 tokenizer=tok)\n",
    "text_bow = bow_vectorizer.fit_transform(full_text)"
   ]
  },
  {
   "cell_type": "code",
   "execution_count": null,
   "id": "9072f718",
   "metadata": {},
   "outputs": [
    {
     "name": "stdout",
     "output_type": "stream",
     "text": [
      "Fitting 5 folds for each of 18 candidates, totalling 90 fits\n",
      "[CV] END learning_decay=0.5, learning_method=batch, n_components=8; total time=  31.5s\n",
      "[CV] END learning_decay=0.5, learning_method=batch, n_components=8; total time=  31.2s\n",
      "[CV] END learning_decay=0.5, learning_method=batch, n_components=8; total time=  31.4s\n",
      "[CV] END learning_decay=0.5, learning_method=batch, n_components=8; total time=  31.2s\n"
     ]
    }
   ],
   "source": [
    "lda = LatentDirichletAllocation(random_state=42,\n",
    "                                batch_size=400)\n",
    "\n",
    "params = {'n_components' : [8, 9, 10],\n",
    "          \"learning_decay\" : [0.5, 0.7, 0.9],\n",
    "          \"learning_method\" : [\"batch\", \"online\"]}\n",
    "\n",
    "gridsearch_lda = GridSearchCV(lda,\n",
    "                              param_grid=params,\n",
    "                              cv=5,\n",
    "                              verbose=2)\n",
    "gridsearch_lda.fit(text_bow)"
   ]
  },
  {
   "cell_type": "code",
   "execution_count": null,
   "id": "99748bad",
   "metadata": {},
   "outputs": [],
   "source": [
    "best_lda_model = gridsearch_lda.best_estimator_\n",
    "\n",
    "print(\"Best Model's Params: \", gridsearch_lda.best_params_)\n",
    "print(\"Best Log Likelihood Score: \", gridsearch_lda.best_score_)"
   ]
  },
  {
   "cell_type": "code",
   "execution_count": null,
   "id": "b6fce901",
   "metadata": {},
   "outputs": [],
   "source": [
    "# Visualize the topics\n",
    "pyLDAvis.enable_notebook()\n",
    "panel = pyLDAvis.sklearn.prepare(best_lda_model, text_bow, bow_vectorizer, mds='tsne')\n",
    "panel"
   ]
  },
  {
   "cell_type": "code",
   "execution_count": null,
   "id": "b8d4037a",
   "metadata": {},
   "outputs": [],
   "source": [
    "from sklearn.preprocessing import OneHotEncoder\n",
    "onehotencoder = OneHotEncoder()\n",
    "\n",
    "categorical_cols = [\"Tags1\",\"Tags2\",\"Tags3\"]\n",
    "\n",
    "transformed_data = onehotencoder.fit_transform(df[categorical_cols])\n",
    "\n",
    "# the above transformed_data is an array so convert it to dataframe\n",
    "encoded_data = pd.DataFrame(transformed_data, index=df.index)\n",
    "\n",
    "# now concatenate the original data and the encoded data using pandas\n",
    "concatenated_data = pd.concat([df, encoded_data], axis=1)"
   ]
  },
  {
   "cell_type": "code",
   "execution_count": null,
   "id": "c3c4e25b",
   "metadata": {},
   "outputs": [],
   "source": [
    "from sklearn.decomposition import LatentDirichletAllocation\n",
    "n_topics = 20\n",
    "\n",
    "\n",
    "tf_vectorizer = CountVectorizer(max_df=0.95, min_df=2, max_features=1000, stop_words='english')\n",
    "tf = tf_vectorizer.fit_transform(full_text)\n",
    "\n",
    "\n",
    "# Créer le modèle LDA\n",
    "lda = LatentDirichletAllocation(\n",
    "        n_components=n_topics, \n",
    "        max_iter=5, \n",
    "        learning_method='online', \n",
    "        learning_offset=50.,\n",
    "        random_state=0)\n",
    "\n",
    "# Fitter sur les données\n",
    "lda.fit(tf)"
   ]
  },
  {
   "cell_type": "code",
   "execution_count": null,
   "id": "6e2a488e",
   "metadata": {},
   "outputs": [],
   "source": [
    "Xfeatures = df[\"full_text\"]\n",
    "ylabels = df[[\"Tags1\",\"Tags2\",\"Tags3\"]]"
   ]
  },
  {
   "cell_type": "code",
   "execution_count": null,
   "id": "00d9784f",
   "metadata": {},
   "outputs": [],
   "source": [
    "x_train,x_test,y_train,y_test = train_test_split(Xfeatures,ylabels,test_size=0.3,random_state=7)"
   ]
  },
  {
   "cell_type": "code",
   "execution_count": null,
   "id": "2f9ad8f1",
   "metadata": {},
   "outputs": [],
   "source": [
    "pipe_lr = Pipeline(steps=[('cv',CountVectorizer(max_df=0.95, min_df=2, max_features=1000, stop_words='english')),\n",
    "                          ('lr_multi',MultiOutputClassifier(LogisticRegression()))])"
   ]
  },
  {
   "cell_type": "code",
   "execution_count": null,
   "id": "878b526e",
   "metadata": {
    "scrolled": false
   },
   "outputs": [],
   "source": [
    "pipe_lr.fit(x_train,y_train)"
   ]
  },
  {
   "cell_type": "code",
   "execution_count": null,
   "id": "464d9cc0",
   "metadata": {},
   "outputs": [],
   "source": [
    "pipe_lr.score(x_test,y_test)"
   ]
  },
  {
   "cell_type": "code",
   "execution_count": null,
   "id": "bb183e56",
   "metadata": {},
   "outputs": [],
   "source": [
    "print(x_test.iloc[0])"
   ]
  },
  {
   "cell_type": "code",
   "execution_count": null,
   "id": "e7727d8a",
   "metadata": {},
   "outputs": [],
   "source": [
    "pred1 = x_test.iloc[0]"
   ]
  },
  {
   "cell_type": "code",
   "execution_count": null,
   "id": "d02a2851",
   "metadata": {},
   "outputs": [],
   "source": [
    "pipe_lr.predict([pred1])"
   ]
  },
  {
   "cell_type": "code",
   "execution_count": null,
   "id": "51e7ddfa",
   "metadata": {},
   "outputs": [],
   "source": [
    "print(pipe_lr.classes_)\n",
    "pipe_lr.predict_proba([pred1])"
   ]
  },
  {
   "cell_type": "code",
   "execution_count": null,
   "id": "87beb4ca",
   "metadata": {},
   "outputs": [],
   "source": []
  },
  {
   "cell_type": "code",
   "execution_count": null,
   "id": "1b7bffb8",
   "metadata": {},
   "outputs": [],
   "source": []
  }
 ],
 "metadata": {
  "kernelspec": {
   "display_name": "Projet3",
   "language": "python",
   "name": "projet3"
  },
  "language_info": {
   "codemirror_mode": {
    "name": "ipython",
    "version": 3
   },
   "file_extension": ".py",
   "mimetype": "text/x-python",
   "name": "python",
   "nbconvert_exporter": "python",
   "pygments_lexer": "ipython3",
   "version": "3.9.7"
  }
 },
 "nbformat": 4,
 "nbformat_minor": 5
}
