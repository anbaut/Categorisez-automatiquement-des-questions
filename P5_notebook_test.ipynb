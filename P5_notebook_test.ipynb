{
 "cells": [
  {
   "cell_type": "code",
   "execution_count": 513,
   "id": "50f6fbb8",
   "metadata": {
    "pycharm": {
     "name": "#%%\n"
    }
   },
   "outputs": [
    {
     "name": "stdout",
     "output_type": "stream",
     "text": [
      "Populating the interactive namespace from numpy and matplotlib\n"
     ]
    }
   ],
   "source": [
    "#Importation des librairies\n",
    "import warnings\n",
    "warnings.filterwarnings(\"ignore\")\n",
    "\n",
    "import pandas as pd\n",
    "import numpy as np\n",
    "from sklearn.feature_extraction.text import CountVectorizer\n",
    "from nlp_module import remove_stopwords, plot_top_words, tok, print_score\n",
    "from sklearn.model_selection import GridSearchCV\n",
    "from sklearn.decomposition import NMF, LatentDirichletAllocation\n",
    "import ast\n",
    "import missingno as msno\n",
    "\n",
    "pd.set_option(\"display.max_columns\", None)\n",
    "\n",
    "%pylab inline"
   ]
  },
  {
   "cell_type": "code",
   "execution_count": 514,
   "id": "3f3bd6cb",
   "metadata": {
    "pycharm": {
     "name": "#%%\n"
    }
   },
   "outputs": [],
   "source": [
    "df = pd.read_csv(\"df.csv\", sep=',')"
   ]
  },
  {
   "cell_type": "code",
   "execution_count": 515,
   "id": "57d0d10e",
   "metadata": {
    "pycharm": {
     "name": "#%%\n"
    },
    "scrolled": false
   },
   "outputs": [],
   "source": [
    "df = df.sample(frac=0.1,random_state=1)"
   ]
  },
  {
   "cell_type": "code",
   "execution_count": 516,
   "outputs": [
    {
     "data": {
      "text/plain": "<AxesSubplot:>"
     },
     "execution_count": 516,
     "metadata": {},
     "output_type": "execute_result"
    },
    {
     "data": {
      "text/plain": "<Figure size 1800x720 with 2 Axes>",
      "image/png": "[encoded data removed]"
     },
     "metadata": {
      "needs_background": "light"
     },
     "output_type": "display_data"
    }
   ],
   "source": [
    "msno.matrix(df)"
   ],
   "metadata": {
    "collapsed": false,
    "pycharm": {
     "name": "#%%\n"
    }
   }
  },
  {
   "cell_type": "code",
   "execution_count": 517,
   "id": "bf56141f",
   "metadata": {
    "pycharm": {
     "name": "#%%\n"
    }
   },
   "outputs": [],
   "source": [
    "df = df.reset_index()"
   ]
  },
  {
   "cell_type": "code",
   "execution_count": 518,
   "id": "efe8774d",
   "metadata": {
    "pycharm": {
     "name": "#%%\n"
    }
   },
   "outputs": [
    {
     "data": {
      "text/plain": "0"
     },
     "execution_count": 518,
     "metadata": {},
     "output_type": "execute_result"
    }
   ],
   "source": [
    "df.isnull().sum().sum()"
   ]
  },
  {
   "cell_type": "code",
   "execution_count": 519,
   "id": "75e1510d",
   "metadata": {
    "pycharm": {
     "name": "#%%\n"
    }
   },
   "outputs": [],
   "source": [
    "df = df.dropna()"
   ]
  },
  {
   "cell_type": "code",
   "execution_count": 520,
   "id": "f172d2af",
   "metadata": {
    "pycharm": {
     "name": "#%%\n"
    }
   },
   "outputs": [],
   "source": [
    "df['Tags']=df['Tags'].str.replace(\"'\",\"\")\n",
    "df['Tags']=df['Tags'].str.replace(\"[\",\"\")\n",
    "df['Tags']=df['Tags'].str.replace(\"]\",\"\")\n",
    "df['Tags']=df['Tags'].str.replace(\",\",\" \")\n"
   ]
  },
  {
   "cell_type": "code",
   "execution_count": 521,
   "id": "775f926a",
   "metadata": {
    "pycharm": {
     "name": "#%%\n"
    }
   },
   "outputs": [
    {
     "data": {
      "text/plain": "      index                                              Title  \\\n0     28721                   Create Seamless Loop Audio - Web   \n1     19745    OnItemClickListener using ArrayAdapter ListView   \n2     23113     Rails 4.2 - Sidekiq sending emails development   \n3     17120  Babel unexpected token import running mocha tests   \n4        88      Iphone safari resizing viewport keyboard open   \n...     ...                                                ...   \n3018  16688  How I validate incoming JSON data inside REST ...   \n3019  20032                   POST file string using cURL PHP?   \n3020  25007        Flutter - Validate phone number using Regex   \n3021  14498  Why PostgreSQL array access much faster C PL/p...   \n3022  11769  Optimal plugins project use IntelliJ IDEA Java...   \n\n                                                   Body  \\\n0     I want create seamless loop audio file. But ap...   \n1     I want OnItemClickListener ListView I create u...   \n2     I rails app I method I send lot emails. I woul...   \n3     The solutions offered related questions, inclu...   \n4     Mobile safari ' update window.innerHeight keyb...   \n...                                                 ...   \n3018  A rest service needs validate incoming json da...   \n3019  I wondering possible post file - along form da...   \n3020  In Flutter mobile app, I trying validate phone...   \n3021  I table schema includes int array column, cust...   \n3022  I' building web application using MEAN stack: ...   \n\n                                       Tags       Tags1             Tags2  \\\n0                     javascript html forms  javascript              html   \n1                php iphone objective-c ios         php            iphone   \n2                                      ruby        ruby              None   \n3                      c++ image-processing         c++  image-processing   \n4                              html ios css        html               ios   \n...                                     ...         ...               ...   \n3018              java json validation rest        java              json   \n3019                             ios iphone         ios            iphone   \n3020  javascript node.js typescript express  javascript           node.js   \n3021                    .net sql sql-server        .net               sql   \n3022                       java spring rest        java            spring   \n\n            Tags3    Tags4 Tags5  \n0           forms     None  None  \n1     objective-c      ios  None  \n2            None     None  None  \n3            None     None  None  \n4             css     None  None  \n...           ...      ...   ...  \n3018   validation     rest  None  \n3019         None     None  None  \n3020   typescript  express  None  \n3021   sql-server     None  None  \n3022         rest     None  None  \n\n[3023 rows x 9 columns]",
      "text/html": "<div>\n<style scoped>\n    .dataframe tbody tr th:only-of-type {\n        vertical-align: middle;\n    }\n\n    .dataframe tbody tr th {\n        vertical-align: top;\n    }\n\n    .dataframe thead th {\n        text-align: right;\n    }\n</style>\n<table border=\"1\" class=\"dataframe\">\n  <thead>\n    <tr style=\"text-align: right;\">\n      <th></th>\n      <th>index</th>\n      <th>Title</th>\n      <th>Body</th>\n      <th>Tags</th>\n      <th>Tags1</th>\n      <th>Tags2</th>\n      <th>Tags3</th>\n      <th>Tags4</th>\n      <th>Tags5</th>\n    </tr>\n  </thead>\n  <tbody>\n    <tr>\n      <th>0</th>\n      <td>28721</td>\n      <td>Create Seamless Loop Audio - Web</td>\n      <td>I want create seamless loop audio file. But ap...</td>\n      <td>javascript html forms</td>\n      <td>javascript</td>\n      <td>html</td>\n      <td>forms</td>\n      <td>None</td>\n      <td>None</td>\n    </tr>\n    <tr>\n      <th>1</th>\n      <td>19745</td>\n      <td>OnItemClickListener using ArrayAdapter ListView</td>\n      <td>I want OnItemClickListener ListView I create u...</td>\n      <td>php iphone objective-c ios</td>\n      <td>php</td>\n      <td>iphone</td>\n      <td>objective-c</td>\n      <td>ios</td>\n      <td>None</td>\n    </tr>\n    <tr>\n      <th>2</th>\n      <td>23113</td>\n      <td>Rails 4.2 - Sidekiq sending emails development</td>\n      <td>I rails app I method I send lot emails. I woul...</td>\n      <td>ruby</td>\n      <td>ruby</td>\n      <td>None</td>\n      <td>None</td>\n      <td>None</td>\n      <td>None</td>\n    </tr>\n    <tr>\n      <th>3</th>\n      <td>17120</td>\n      <td>Babel unexpected token import running mocha tests</td>\n      <td>The solutions offered related questions, inclu...</td>\n      <td>c++ image-processing</td>\n      <td>c++</td>\n      <td>image-processing</td>\n      <td>None</td>\n      <td>None</td>\n      <td>None</td>\n    </tr>\n    <tr>\n      <th>4</th>\n      <td>88</td>\n      <td>Iphone safari resizing viewport keyboard open</td>\n      <td>Mobile safari ' update window.innerHeight keyb...</td>\n      <td>html ios css</td>\n      <td>html</td>\n      <td>ios</td>\n      <td>css</td>\n      <td>None</td>\n      <td>None</td>\n    </tr>\n    <tr>\n      <th>...</th>\n      <td>...</td>\n      <td>...</td>\n      <td>...</td>\n      <td>...</td>\n      <td>...</td>\n      <td>...</td>\n      <td>...</td>\n      <td>...</td>\n      <td>...</td>\n    </tr>\n    <tr>\n      <th>3018</th>\n      <td>16688</td>\n      <td>How I validate incoming JSON data inside REST ...</td>\n      <td>A rest service needs validate incoming json da...</td>\n      <td>java json validation rest</td>\n      <td>java</td>\n      <td>json</td>\n      <td>validation</td>\n      <td>rest</td>\n      <td>None</td>\n    </tr>\n    <tr>\n      <th>3019</th>\n      <td>20032</td>\n      <td>POST file string using cURL PHP?</td>\n      <td>I wondering possible post file - along form da...</td>\n      <td>ios iphone</td>\n      <td>ios</td>\n      <td>iphone</td>\n      <td>None</td>\n      <td>None</td>\n      <td>None</td>\n    </tr>\n    <tr>\n      <th>3020</th>\n      <td>25007</td>\n      <td>Flutter - Validate phone number using Regex</td>\n      <td>In Flutter mobile app, I trying validate phone...</td>\n      <td>javascript node.js typescript express</td>\n      <td>javascript</td>\n      <td>node.js</td>\n      <td>typescript</td>\n      <td>express</td>\n      <td>None</td>\n    </tr>\n    <tr>\n      <th>3021</th>\n      <td>14498</td>\n      <td>Why PostgreSQL array access much faster C PL/p...</td>\n      <td>I table schema includes int array column, cust...</td>\n      <td>.net sql sql-server</td>\n      <td>.net</td>\n      <td>sql</td>\n      <td>sql-server</td>\n      <td>None</td>\n      <td>None</td>\n    </tr>\n    <tr>\n      <th>3022</th>\n      <td>11769</td>\n      <td>Optimal plugins project use IntelliJ IDEA Java...</td>\n      <td>I' building web application using MEAN stack: ...</td>\n      <td>java spring rest</td>\n      <td>java</td>\n      <td>spring</td>\n      <td>rest</td>\n      <td>None</td>\n      <td>None</td>\n    </tr>\n  </tbody>\n</table>\n<p>3023 rows × 9 columns</p>\n</div>"
     },
     "execution_count": 521,
     "metadata": {},
     "output_type": "execute_result"
    }
   ],
   "source": [
    "df"
   ]
  },
  {
   "cell_type": "code",
   "execution_count": 522,
   "id": "71496ce1",
   "metadata": {
    "pycharm": {
     "name": "#%%\n"
    }
   },
   "outputs": [
    {
     "data": {
      "text/plain": "index     int64\nTitle    object\nBody     object\nTags     object\nTags1    object\nTags2    object\nTags3    object\nTags4    object\nTags5    object\ndtype: object"
     },
     "execution_count": 522,
     "metadata": {},
     "output_type": "execute_result"
    }
   ],
   "source": [
    "df.dtypes"
   ]
  },
  {
   "cell_type": "code",
   "execution_count": 523,
   "id": "a2824eab",
   "metadata": {
    "pycharm": {
     "name": "#%%\n"
    }
   },
   "outputs": [
    {
     "data": {
      "text/plain": "<bound method NDFrame.head of       index                                              Title  \\\n0     28721                   Create Seamless Loop Audio - Web   \n1     19745    OnItemClickListener using ArrayAdapter ListView   \n2     23113     Rails 4.2 - Sidekiq sending emails development   \n3     17120  Babel unexpected token import running mocha tests   \n4        88      Iphone safari resizing viewport keyboard open   \n...     ...                                                ...   \n3018  16688  How I validate incoming JSON data inside REST ...   \n3019  20032                   POST file string using cURL PHP?   \n3020  25007        Flutter - Validate phone number using Regex   \n3021  14498  Why PostgreSQL array access much faster C PL/p...   \n3022  11769  Optimal plugins project use IntelliJ IDEA Java...   \n\n                                                   Body  \\\n0     I want create seamless loop audio file. But ap...   \n1     I want OnItemClickListener ListView I create u...   \n2     I rails app I method I send lot emails. I woul...   \n3     The solutions offered related questions, inclu...   \n4     Mobile safari ' update window.innerHeight keyb...   \n...                                                 ...   \n3018  A rest service needs validate incoming json da...   \n3019  I wondering possible post file - along form da...   \n3020  In Flutter mobile app, I trying validate phone...   \n3021  I table schema includes int array column, cust...   \n3022  I' building web application using MEAN stack: ...   \n\n                                       Tags       Tags1             Tags2  \\\n0                     javascript html forms  javascript              html   \n1                php iphone objective-c ios         php            iphone   \n2                                      ruby        ruby              None   \n3                      c++ image-processing         c++  image-processing   \n4                              html ios css        html               ios   \n...                                     ...         ...               ...   \n3018              java json validation rest        java              json   \n3019                             ios iphone         ios            iphone   \n3020  javascript node.js typescript express  javascript           node.js   \n3021                    .net sql sql-server        .net               sql   \n3022                       java spring rest        java            spring   \n\n            Tags3    Tags4 Tags5  \n0           forms     None  None  \n1     objective-c      ios  None  \n2            None     None  None  \n3            None     None  None  \n4             css     None  None  \n...           ...      ...   ...  \n3018   validation     rest  None  \n3019         None     None  None  \n3020   typescript  express  None  \n3021   sql-server     None  None  \n3022         rest     None  None  \n\n[3023 rows x 9 columns]>"
     },
     "execution_count": 523,
     "metadata": {},
     "output_type": "execute_result"
    }
   ],
   "source": [
    "df.head"
   ]
  },
  {
   "cell_type": "code",
   "execution_count": 524,
   "id": "ec38c6a1",
   "metadata": {
    "pycharm": {
     "name": "#%%\n"
    }
   },
   "outputs": [],
   "source": [
    "df[\"full_text\"] = df[\"Title\"] + df[\"Body\"]"
   ]
  },
  {
   "cell_type": "code",
   "execution_count": 525,
   "outputs": [
    {
     "data": {
      "text/plain": "0       Create Seamless Loop Audio - WebI want create ...\n1       OnItemClickListener using ArrayAdapter ListVie...\n2       Rails 4.2 - Sidekiq sending emails development...\n3       Babel unexpected token import running mocha te...\n4       Iphone safari resizing viewport keyboard openM...\n                              ...                        \n3018    How I validate incoming JSON data inside REST ...\n3019    POST file string using cURL PHP?I wondering po...\n3020    Flutter - Validate phone number using RegexIn ...\n3021    Why PostgreSQL array access much faster C PL/p...\n3022    Optimal plugins project use IntelliJ IDEA Java...\nName: full_text, Length: 3023, dtype: object"
     },
     "execution_count": 525,
     "metadata": {},
     "output_type": "execute_result"
    }
   ],
   "source": [
    "df[\"full_text\"]"
   ],
   "metadata": {
    "collapsed": false,
    "pycharm": {
     "name": "#%%\n"
    }
   }
  },
  {
   "cell_type": "code",
   "execution_count": 526,
   "id": "f7c504ed",
   "metadata": {
    "pycharm": {
     "name": "#%%\n"
    }
   },
   "outputs": [],
   "source": [
    "bow_vectorizer = CountVectorizer(ngram_range = (1,1),\n",
    "                                 tokenizer=tok)\n",
    "text_bow = bow_vectorizer.fit_transform(df[\"full_text\"])"
   ]
  },
  {
   "cell_type": "code",
   "execution_count": 527,
   "id": "9072f718",
   "metadata": {
    "pycharm": {
     "name": "#%%\n"
    }
   },
   "outputs": [],
   "source": [
    "lda = LatentDirichletAllocation(random_state=42,\n",
    "                                batch_size=400)\n",
    "\n",
    "params = {'n_components' : [8, 9, 10],\n",
    "          \"learning_decay\" : [0.5, 0.7, 0.9],\n",
    "          \"learning_method\" : [\"batch\", \"online\"]}\n",
    "\n",
    "gridsearch_lda = GridSearchCV(lda,\n",
    "                              param_grid=params,\n",
    "                              cv=5,\n",
    "                              verbose=2)\n",
    "#gridsearch_lda.fit(text_bow)"
   ]
  },
  {
   "cell_type": "code",
   "execution_count": 528,
   "id": "99748bad",
   "metadata": {
    "pycharm": {
     "name": "#%%\n"
    }
   },
   "outputs": [],
   "source": [
    "#best_lda_model = gridsearch_lda.best_estimator_\n",
    "\n",
    "#print(\"Best Model's Params: \", gridsearch_lda.best_params_)\n",
    "#print(\"Best Log Likelihood Score: \", gridsearch_lda.best_score_)"
   ]
  },
  {
   "cell_type": "code",
   "execution_count": 529,
   "id": "b6fce901",
   "metadata": {
    "pycharm": {
     "name": "#%%\n"
    }
   },
   "outputs": [],
   "source": [
    "import pyLDAvis\n",
    "\n",
    "# Visualize the topics\n",
    "#pyLDAvis.enable_notebook()\n",
    "#panel = pyLDAvis.sklearn.prepare(best_lda_model, text_bow, bow_vectorizer, mds='tsne')\n",
    "#panel"
   ]
  },
  {
   "cell_type": "code",
   "execution_count": 530,
   "id": "a266fe6a",
   "metadata": {
    "pycharm": {
     "name": "#%%\n"
    }
   },
   "outputs": [
    {
     "data": {
      "text/plain": "count     3023\nunique     107\ntop       java\nfreq       386\nName: Tags1, dtype: object"
     },
     "execution_count": 530,
     "metadata": {},
     "output_type": "execute_result"
    }
   ],
   "source": [
    "df[\"Tags1\"].describe()"
   ]
  },
  {
   "cell_type": "code",
   "execution_count": 531,
   "id": "a8884ed4",
   "metadata": {
    "pycharm": {
     "name": "#%%\n"
    }
   },
   "outputs": [],
   "source": [
    "from sklearn.feature_extraction.text import TfidfVectorizer\n",
    "tf = TfidfVectorizer(analyzer='word', ngram_range=(1, 3), min_df=0, stop_words='english')"
   ]
  },
  {
   "cell_type": "code",
   "execution_count": 532,
   "id": "461207e1",
   "metadata": {
    "pycharm": {
     "name": "#%%\n"
    }
   },
   "outputs": [],
   "source": [
    "matrix = tf.fit_transform(df['full_text'])"
   ]
  },
  {
   "cell_type": "code",
   "execution_count": 533,
   "id": "f5fb979a",
   "metadata": {
    "pycharm": {
     "name": "#%%\n"
    }
   },
   "outputs": [
    {
     "data": {
      "text/plain": "array([[1.        , 0.00279313, 0.0020388 , ..., 0.00565299, 0.00704954,\n        0.00319017],\n       [0.00279313, 1.        , 0.00215868, ..., 0.00282409, 0.00474326,\n        0.00167242],\n       [0.0020388 , 0.00215868, 1.        , ..., 0.00162917, 0.0010241 ,\n        0.00297133],\n       ...,\n       [0.00565299, 0.00282409, 0.00162917, ..., 1.        , 0.00596483,\n        0.002047  ],\n       [0.00704954, 0.00474326, 0.0010241 , ..., 0.00596483, 1.        ,\n        0.        ],\n       [0.00319017, 0.00167242, 0.00297133, ..., 0.002047  , 0.        ,\n        1.        ]])"
     },
     "execution_count": 533,
     "metadata": {},
     "output_type": "execute_result"
    }
   ],
   "source": [
    "from sklearn.metrics.pairwise import linear_kernel\n",
    "\n",
    "cosine_similarities = linear_kernel(matrix,matrix)\n",
    "cosine_similarities"
   ]
  },
  {
   "cell_type": "code",
   "execution_count": 534,
   "id": "644fa4d5",
   "metadata": {
    "pycharm": {
     "name": "#%%\n"
    }
   },
   "outputs": [],
   "source": [
    "post_title = df['Title']\n",
    "\n",
    "indices = pd.Series(df.index, index=df['Title'])"
   ]
  },
  {
   "cell_type": "code",
   "execution_count": 535,
   "id": "7132ee99",
   "metadata": {
    "pycharm": {
     "name": "#%%\n"
    }
   },
   "outputs": [],
   "source": [
    "def post_recommend(original_title):\n",
    "\n",
    "    \n",
    "    idx = indices[original_title]\n",
    "\n",
    "    sim_scores = list(enumerate(cosine_similarities[idx]))\n",
    "\n",
    "    sim_scores = sorted(sim_scores, key=lambda x: x[1], reverse=True)\n",
    "\n",
    "    sim_scores = sim_scores[1:31]\n",
    "\n",
    "    movie_indices = [i[0] for i in sim_scores]\n",
    "\n",
    "    return df.iloc[movie_indices]"
   ]
  },
  {
   "cell_type": "code",
   "execution_count": 536,
   "id": "9269c887",
   "metadata": {
    "pycharm": {
     "name": "#%%\n"
    }
   },
   "outputs": [],
   "source": [
    "def recommend_tags(original_title, sample_size):\n",
    "    posts = post_recommend(original_title).head(sample_size)\n",
    "    \n",
    "    tags = posts[\"Tags\"].apply(ast.literal_eval).apply(lambda x: pd.Series(x)).stack().value_counts()\n",
    "    return tags"
   ]
  },
  {
   "cell_type": "markdown",
   "id": "11e7130d",
   "metadata": {
    "pycharm": {
     "name": "#%% md\n"
    }
   },
   "source": [
    "### MLKNN"
   ]
  },
  {
   "cell_type": "code",
   "execution_count": 537,
   "id": "a714d001",
   "metadata": {
    "pycharm": {
     "name": "#%%\n"
    }
   },
   "outputs": [],
   "source": [
    "\n",
    "tags_array=df['Tags'].to_numpy()\n",
    "df2 = pd.DataFrame(tags_array, columns=['Tags'])\n",
    "\n",
    "coun_vect = CountVectorizer(tokenizer=lambda txt: txt.split())\n",
    "\n",
    "count_matrix  = coun_vect.fit_transform(df2[\"Tags\"])\n",
    "count_array = count_matrix.toarray()\n",
    "\n",
    "y = pd.DataFrame(data=count_array,columns = coun_vect.get_feature_names())\n",
    "\n",
    "y.replace(2,1,inplace= True)\n",
    "y.replace(3,1,inplace= True)\n",
    "y.replace(4,1,inplace= True)\n"
   ]
  },
  {
   "cell_type": "code",
   "execution_count": 538,
   "outputs": [
    {
     "data": {
      "text/plain": "                                       Tags\n0                     javascript html forms\n1                php iphone objective-c ios\n2                                      ruby\n3                      c++ image-processing\n4                              html ios css\n...                                     ...\n3018              java json validation rest\n3019                             ios iphone\n3020  javascript node.js typescript express\n3021                    .net sql sql-server\n3022                       java spring rest\n\n[3023 rows x 1 columns]",
      "text/html": "<div>\n<style scoped>\n    .dataframe tbody tr th:only-of-type {\n        vertical-align: middle;\n    }\n\n    .dataframe tbody tr th {\n        vertical-align: top;\n    }\n\n    .dataframe thead th {\n        text-align: right;\n    }\n</style>\n<table border=\"1\" class=\"dataframe\">\n  <thead>\n    <tr style=\"text-align: right;\">\n      <th></th>\n      <th>Tags</th>\n    </tr>\n  </thead>\n  <tbody>\n    <tr>\n      <th>0</th>\n      <td>javascript html forms</td>\n    </tr>\n    <tr>\n      <th>1</th>\n      <td>php iphone objective-c ios</td>\n    </tr>\n    <tr>\n      <th>2</th>\n      <td>ruby</td>\n    </tr>\n    <tr>\n      <th>3</th>\n      <td>c++ image-processing</td>\n    </tr>\n    <tr>\n      <th>4</th>\n      <td>html ios css</td>\n    </tr>\n    <tr>\n      <th>...</th>\n      <td>...</td>\n    </tr>\n    <tr>\n      <th>3018</th>\n      <td>java json validation rest</td>\n    </tr>\n    <tr>\n      <th>3019</th>\n      <td>ios iphone</td>\n    </tr>\n    <tr>\n      <th>3020</th>\n      <td>javascript node.js typescript express</td>\n    </tr>\n    <tr>\n      <th>3021</th>\n      <td>.net sql sql-server</td>\n    </tr>\n    <tr>\n      <th>3022</th>\n      <td>java spring rest</td>\n    </tr>\n  </tbody>\n</table>\n<p>3023 rows × 1 columns</p>\n</div>"
     },
     "execution_count": 538,
     "metadata": {},
     "output_type": "execute_result"
    }
   ],
   "source": [
    "df2"
   ],
   "metadata": {
    "collapsed": false,
    "pycharm": {
     "name": "#%%\n"
    }
   }
  },
  {
   "cell_type": "code",
   "execution_count": 539,
   "outputs": [
    {
     "data": {
      "text/plain": "0       3\n1       4\n2       1\n3       2\n4       3\n       ..\n3018    4\n3019    2\n3020    4\n3021    3\n3022    3\nLength: 3023, dtype: int64"
     },
     "execution_count": 539,
     "metadata": {},
     "output_type": "execute_result"
    }
   ],
   "source": [
    "y.sum(axis=1)"
   ],
   "metadata": {
    "collapsed": false,
    "pycharm": {
     "name": "#%%\n"
    }
   }
  },
  {
   "cell_type": "code",
   "execution_count": 540,
   "outputs": [
    {
     "data": {
      "text/plain": "array([[0, 0, 0, ..., 0, 0, 0],\n       [0, 0, 0, ..., 0, 0, 0],\n       [0, 0, 0, ..., 0, 0, 0],\n       ...,\n       [0, 0, 0, ..., 0, 0, 0],\n       [1, 0, 0, ..., 0, 0, 0],\n       [0, 0, 0, ..., 0, 0, 0]], dtype=int64)"
     },
     "execution_count": 540,
     "metadata": {},
     "output_type": "execute_result"
    }
   ],
   "source": [
    "count_matrix.toarray()"
   ],
   "metadata": {
    "collapsed": false,
    "pycharm": {
     "name": "#%%\n"
    }
   }
  },
  {
   "cell_type": "code",
   "execution_count": 541,
   "outputs": [
    {
     "data": {
      "text/plain": "                                       Tags\n0                     javascript html forms\n1                php iphone objective-c ios\n2                                      ruby\n3                      c++ image-processing\n4                              html ios css\n...                                     ...\n3018              java json validation rest\n3019                             ios iphone\n3020  javascript node.js typescript express\n3021                    .net sql sql-server\n3022                       java spring rest\n\n[3023 rows x 1 columns]",
      "text/html": "<div>\n<style scoped>\n    .dataframe tbody tr th:only-of-type {\n        vertical-align: middle;\n    }\n\n    .dataframe tbody tr th {\n        vertical-align: top;\n    }\n\n    .dataframe thead th {\n        text-align: right;\n    }\n</style>\n<table border=\"1\" class=\"dataframe\">\n  <thead>\n    <tr style=\"text-align: right;\">\n      <th></th>\n      <th>Tags</th>\n    </tr>\n  </thead>\n  <tbody>\n    <tr>\n      <th>0</th>\n      <td>javascript html forms</td>\n    </tr>\n    <tr>\n      <th>1</th>\n      <td>php iphone objective-c ios</td>\n    </tr>\n    <tr>\n      <th>2</th>\n      <td>ruby</td>\n    </tr>\n    <tr>\n      <th>3</th>\n      <td>c++ image-processing</td>\n    </tr>\n    <tr>\n      <th>4</th>\n      <td>html ios css</td>\n    </tr>\n    <tr>\n      <th>...</th>\n      <td>...</td>\n    </tr>\n    <tr>\n      <th>3018</th>\n      <td>java json validation rest</td>\n    </tr>\n    <tr>\n      <th>3019</th>\n      <td>ios iphone</td>\n    </tr>\n    <tr>\n      <th>3020</th>\n      <td>javascript node.js typescript express</td>\n    </tr>\n    <tr>\n      <th>3021</th>\n      <td>.net sql sql-server</td>\n    </tr>\n    <tr>\n      <th>3022</th>\n      <td>java spring rest</td>\n    </tr>\n  </tbody>\n</table>\n<p>3023 rows × 1 columns</p>\n</div>"
     },
     "execution_count": 541,
     "metadata": {},
     "output_type": "execute_result"
    }
   ],
   "source": [
    "df2"
   ],
   "metadata": {
    "collapsed": false,
    "pycharm": {
     "name": "#%%\n"
    }
   }
  },
  {
   "cell_type": "code",
   "execution_count": 542,
   "id": "c21419aa",
   "metadata": {
    "pycharm": {
     "name": "#%%\n"
    }
   },
   "outputs": [],
   "source": [
    "from sklearn.model_selection import train_test_split\n",
    "\n",
    "X = df[\"full_text\"]\n",
    "\n",
    "X_train, X_test, y_train, y_test = train_test_split(X, y, \n",
    "                                                    test_size=.25)"
   ]
  },
  {
   "cell_type": "code",
   "execution_count": 543,
   "id": "1b60f439",
   "metadata": {
    "pycharm": {
     "name": "#%%\n"
    }
   },
   "outputs": [],
   "source": [
    "vectorizer = CountVectorizer(ngram_range = (1,1),\n",
    "                                 tokenizer=tok)\n",
    "\n",
    "vectorizer.fit(X_train)\n",
    "X_train_vec = vectorizer.transform(X_train)\n",
    "X_test_vec = vectorizer.transform(X_test)"
   ]
  },
  {
   "cell_type": "code",
   "execution_count": 544,
   "id": "50b00c8f",
   "metadata": {
    "pycharm": {
     "name": "#%%\n"
    }
   },
   "outputs": [],
   "source": [
    "X_train_vec = X_train_vec.toarray()\n",
    "y_train = np.array(y_train)"
   ]
  },
  {
   "cell_type": "code",
   "execution_count": 545,
   "id": "c4aaf928",
   "metadata": {
    "pycharm": {
     "name": "#%%\n"
    }
   },
   "outputs": [],
   "source": [
    "X_test_vec = X_test_vec.toarray()\n",
    "y_test = np.array(y_test)"
   ]
  },
  {
   "cell_type": "code",
   "execution_count": 546,
   "id": "6a2ff2c7",
   "metadata": {
    "pycharm": {
     "name": "#%%\n"
    }
   },
   "outputs": [
    {
     "data": {
      "text/plain": "{'difference': 19762,\n 'initializing': 27152,\n 'static': 43851,\n 'variable': 48798,\n 'inline': 27197,\n 'constructor': 17462,\n 'c#i': 14805,\n 'would': 50116,\n 'like': 29845,\n 'know': 29213,\n 'member': 31447,\n ':': 7832,\n 'class': 15955,\n 'foo': 23204,\n '{': 50901,\n 'private': 37425,\n 'bar': 13604,\n 'bar_': 13611,\n '=': 9135,\n 'new': 33278,\n 'bar(': 13605,\n ')': 341,\n ';': 7834,\n '}': 50902,\n 'inside': 27326,\n 'foo(': 23205,\n 'firebase': 22849,\n 'rest': 39957,\n 'auth': 13091,\n 'creating': 18129,\n 'token': 46462,\n 'node.js': 33517,\n 'admin': 11254,\n 'sdki': 41126,\n 'issue': 28025,\n 'asked': 12728,\n 'lot': 30545,\n ',': 742,\n 'i': 26208,\n 'still': 43966,\n 'cannot': 15120,\n 'seem': 41296,\n 'find': 22793,\n 'exact': 21740,\n 'answer': 11979,\n 'solve': 42887,\n 'problem.': 37456,\n 'wish': 49958,\n 'access': 10910,\n 'using': 48402,\n 'calls': 15057,\n 'adding': 11187,\n 'access_token': 10924,\n 'param.': 35899,\n 'the': 45911,\n 'created': 18095,\n 'sdk': 41122,\n 'following': 23179,\n 'code': 16329,\n 'var': 48745,\n 'require(': 39751,\n '\"': 1,\n 'firebase-admin': 22851,\n 'serviceaccount': 41799,\n './pk.json': 1481,\n 'admin.initializeapp(': 11262,\n 'credential': 18137,\n 'admin.credential.cert(': 11261,\n 'databaseurl': 18720,\n 'https://xxx.firebaseio.com': 26114,\n 'uid': 47300,\n '1234': 4310,\n 'admin.auth(': 11259,\n '.createcustomtoken(': 1736,\n '.(': 1405,\n 'function(': 23679,\n 'customtoken': 18425,\n '/': 2560,\n 'send': 41599,\n 'back': 13501,\n 'client': 16094,\n 'console.log(': 17390,\n '+customtoken': 696,\n '.catch(': 1673,\n 'error': 21471,\n 'custom': 18394,\n 'problem': 37454,\n 'take': 45268,\n 'use': 47979,\n 'call': 14994,\n 'get': 24024,\n 'unauthorized': 47495,\n 'request': 39665,\n 'error.': 21477,\n 'read': 38859,\n 'questions': 38368,\n 'people': 36246,\n 'added': 11171,\n 'scope': 40981,\n 'param': 35898,\n 'issuing': 28037,\n 'found': 23424,\n 'way': 49477,\n 'sdk.': 41123,\n 'google': 24467,\n \"'\": 339,\n 'docs': 20213,\n 'detailed': 19538,\n 'issue.': 28026,\n 'any': 12003,\n 'idea': 26333,\n 'might': 31815,\n 'try': 46969,\n 'resolve': 39846,\n 'one': 34512,\n '?': 9371,\n 'how': 25503,\n 'open': 34647,\n 'url': 47900,\n 'c++': 14812,\n 'program': 37607,\n 'in': 26813,\n 'ruby': 40486,\n '%': 247,\n 'x(': 50255,\n 'https://google.com': 26027,\n 'what': 49716,\n 'equivalent': 21445,\n 'wonder': 50009,\n 'platform-independent': 36691,\n 'solution.': 42879,\n 'but': 14705,\n 'unix/mac': 47663,\n 'better': 13902,\n 'here': 25185,\n '#include': 171,\n '<stdio.h>': 8797,\n '<string.h>': 8800,\n '<fstream>': 8339,\n 'int': 27441,\n 'main': 30756,\n '(': 340,\n 'argc': 12503,\n 'char': 15616,\n '*argv[': 457,\n ']': 10160,\n 'url[': 47917,\n '1000': 4060,\n 'https://www.google.com': 26099,\n 'std': 43907,\n 'fstream': 23630,\n 'fs': 23606,\n 'fs.open(': 23612,\n 'fs.close(': 23608,\n 'return': 40083,\n '0': 2965,\n 'aws': 13387,\n 'lambda': 29326,\n 'provided': 37867,\n 'execution': 21860,\n 'role': 40261,\n 'permissions': 36307,\n 'describenetworkinterfaces': 19453,\n 'ec2today': 20771,\n 'question': 38358,\n 'anywhere': 12020,\n 'google.': 24473,\n 'function': 23678,\n 'question.': 38360,\n 'input': 27230,\n 'function[': 23699,\n 'eg.': 20887,\n 'click': 16080,\n 'save': 40762,\n 'occured': 34332,\n 'ec2': 20764,\n 'exports.handler': 22039,\n 'event': 21646,\n 'context': 17594,\n 'callback': 15011,\n '=>': 9188,\n 'callback(': 15012,\n 'null': 34009,\n 'hello': 25128,\n 'bound': 14313,\n 'lambda_excute_execution(': 29332,\n 'policy': 36925,\n 'amazonelastictranscoderfullaccess': 11632,\n 'and': 11691,\n 'triggers': 46918,\n '.': 1403,\n 'give': 24312,\n 'administratoraccess': 11275,\n 'source': 43046,\n 'correctly.': 17908,\n 'this': 45985,\n 'run': 40511,\n 'functions': 23713,\n 'successfully': 44469,\n 'today.': 46433,\n 'is': 27933,\n 'anyone': 12012,\n 'thanks': 45906,\n 'very': 49016,\n 'much': 32480,\n '!': 0,\n 'extending': 22095,\n 'setuptools': 42036,\n 'extension': 22100,\n 'cmake': 16257,\n 'setup.py?i': 42034,\n 'writing': 50183,\n 'python': 38145,\n 'links': 29939,\n 'library': 29749,\n 'help': 25157,\n 'build': 14604,\n 'process.': 37475,\n 'means': 31369,\n 'right': 40196,\n 'bundle': 14672,\n 'first': 22910,\n 'compile': 16952,\n 'setup.py': 42033,\n 'bdist_wheel.': 13758,\n 'there': 45951,\n 'must': 32579,\n 'way.': 49478,\n 'wondering': 50013,\n 'possible': 37089,\n 'anybody': 12005,\n 'tried': 46909,\n 'invoke': 27769,\n 'part': 35977,\n 'ext_modules': 22085,\n 'process': 37471,\n 'guessing': 24741,\n 'create': 18077,\n 'subclass': 44362,\n 'something': 42962,\n 'sure': 44625,\n 'look.': 30490,\n 'gives': 24319,\n 'control': 17678,\n 'building': 14647,\n 'c': 14795,\n 'libraries': 29742,\n 'extensions': 22108,\n 'complex': 17008,\n 'steps': 43953,\n 'exactly': 21744,\n 'want': 49429,\n 'plus': 36815,\n 'easily': 20740,\n 'directly': 19843,\n 'python_add_module(': 38178,\n 'command': 16815,\n 'findpythonlibs.cmake.': 22822,\n 'step.': 43944,\n 'signalr': 42361,\n '+': 636,\n 'posting': 37125,\n 'message': 31571,\n 'hub': 26151,\n 'via': 49022,\n 'action': 11022,\n 'methodi': 31660,\n 'hub-': 26152,\n 'feature': 22427,\n 'https://github.com/signalr/signalr': 26021,\n 'publish': 37980,\n 'messages': 31603,\n 'subscribed': 44415,\n 'clients': 16144,\n 'public': 37959,\n 'newsfeedhub': 33350,\n 'void': 49242,\n 'send(': 41600,\n 'string': 44139,\n 'channel': 15585,\n 'content': 17547,\n 'clients[': 16146,\n '.addmessage(': 1569,\n 'works': 50078,\n 'fine': 22827,\n 'calling': 15050,\n 'javascript': 28406,\n 'also': 11601,\n 'web': 49503,\n 'application': 12287,\n 'within': 49979,\n 'asp.net': 12752,\n 'mvc': 32602,\n 'method': 31638,\n 'already': 11597,\n 'instantiating': 27402,\n 'object': 34195,\n 'ob': 34166,\n 'results': 40022,\n 'underlying': 47536,\n 'connection': 17316,\n 'set': 41880,\n 'without': 49981,\n 'jquery.attr(': 28730,\n 'chrome': 15810,\n 'ie': 26421,\n 'fails': 22308,\n 'firefox': 22898,\n '8.0.1i': 7485,\n 'facing': 22259,\n 'curious': 18337,\n 'behavior': 13840,\n '8.0.1': 7484,\n 'piece': 36540,\n 'except': 21784,\n 'debug': 19027,\n 'mode': 32059,\n '_': 10308,\n 'step': 43943,\n 'put': 38039,\n 'alert': 11479,\n 'line': 29868,\n 'attribute': 13007,\n 'rel': 39377,\n '...': 1418,\n 'stuff': 44309,\n 'excepts': 21801,\n 'ff': 22496,\n 'totaltracks': 46624,\n 'data.length': 18635,\n 'j=0': 28187,\n 'j<totaltracks': 28185,\n 'newtrack': 33357,\n '=data[': 9201,\n 'j': 28165,\n 'myplaylist.add(': 32831,\n 'tracks': 46696,\n '$': 246,\n '.jp-playlist-item': 2022,\n 'curtrack': 18391,\n '[': 9887,\n '.attr(': 1612,\n 'effect': 20866,\n 'j++': 28166,\n 'it': 28049,\n 'seems': 41300,\n 'care': 15194,\n 'instruction': 27419,\n 'jump': 28922,\n 'done': 20303,\n '2': 5056,\n 'days': 18890,\n 'passed': 36013,\n 'wall': 49421,\n 'help/clue/trick': 25160,\n 'appreciated': 12392,\n 'jni': 28626,\n 'vs.': 49282,\n 'jna': 28623,\n 'performancewe': 36273,\n 'native': 33057,\n 'c/asm': 14866,\n 'utilizing': 48516,\n 'gpu(': 24528,\n 'opencl': 34662,\n 'big': 13938,\n 'encrypt/decrypt': 21172,\n 'data': 18600,\n 'specific': 43179,\n 'perfect': 36258,\n 'a': 10725,\n 'project': 37666,\n 'distribution': 20044,\n 'developing': 19591,\n 'jee': 28558,\n 'need': 33170,\n 'application/library.': 12308,\n 'we': 49497,\n 'separated-external': 41655,\n 'class.': 15959,\n 'application(': 12288,\n 'handlers': 24887,\n 'threads': 46081,\n 'etc': 21579,\n 'switch': 44748,\n 'java': 28237,\n 'performance': 36268,\n 'died.': 19754,\n 'running': 40562,\n 'thinking': 45978,\n 'questions.': 38369,\n 'for': 23250,\n 'better(': 13903,\n 'faster': 22372,\n 'read/write': 38867,\n 'solution': 42878,\n 'exchange': 21805,\n 'direct(': 19827,\n 'unmanaged': 47691,\n 'memory': 31486,\n 'java(': 28238,\n 'bytebuffer#allocatedirect(': 14770,\n 'manage': 30884,\n 'handle': 24860,\n 'shared': 42131,\n 'code(': 16330,\n 'lib': 29691,\n 'two': 47077,\n 'amd': 11644,\n 'w7000': 49384,\n 'clustered': 16249,\n 'device': 19600,\n 'redhat': 39156,\n 'linux6': 29959,\n 'x64.': 50360,\n 'pretty': 37349,\n 'print': 37398,\n 'ipython': 27914,\n 'notebook': 33724,\n 'sympy?i': 44791,\n 'pprint': 37167,\n 'former': 23363,\n 'prints': 37417,\n 'unicode': 47576,\n 'version': 48966,\n 'latter': 29449,\n 'prints.': 37418,\n 'sympy': 44789,\n 'import': 26766,\n 'symbols': 44768,\n 'sympy.functions': 44790,\n 'sym': 44760,\n 'init_printing': 27113,\n 'init_printing(': 27114,\n 'use_latex=true': 47987,\n 'symbol': 44762,\n 'x': 50253,\n 'symbol(': 44763,\n '#': 2,\n 'if': 26458,\n 'cell': 15347,\n 'contains': 17542,\n 'render': 39505,\n 'perfectly.': 36262,\n 'pi': 36500,\n '**2': 357,\n 'however': 25504,\n 'multiple': 32535,\n 'expressions': 22072,\n 'printed': 37401,\n 'single': 42488,\n 'cell.': 15348,\n 'pprint(': 37168,\n 'cout': 17989,\n 'threadsi': 46091,\n 'write': 50153,\n 'simple': 42435,\n 'testing': 45729,\n 'thread': 46020,\n 'c++11': 14820,\n 'doesnt': 20268,\n 'work': 50034,\n 'expect.': 21941,\n 'printer': 37403,\n 'exec(': 21826,\n 'mutex': 32588,\n '.lock(': 2061,\n 'cout<<': 17990,\n '<<this_thread': 8087,\n 'get_id(': 24037,\n '<<endl': 8086,\n 'chrono': 15852,\n 'milliseconds': 31836,\n 'duration(': 20614,\n '100': 4046,\n 'this_thread': 45997,\n 'sleep_for(': 42650,\n 'duration': 20613,\n '.unlock(': 2492,\n 'main(': 30757,\n 'firstthread(': 22944,\n '&printer': 318,\n '1': 3691,\n 'printer.exec(': 37404,\n 'secondthread(': 41202,\n 'firstthread.join(': 22945,\n 'secondthread.join(': 41203,\n '11376': 4228,\n '16076': 4693,\n '....': 1419,\n 'used': 47996,\n 'locking': 30312,\n 'cant': 15127,\n 'understand': 47540,\n 'executing': 21858,\n 'time.': 46168,\n 'seams': 41146,\n 'weired': 49688,\n '.can': 1664,\n 'explain': 21996,\n 'happening': 24929,\n 'form': 23296,\n 'css': 18256,\n 'simple_form_forhere': 42440,\n 'simple_form_for': 42439,\n 'ignored': 26487,\n 'setting.': 41995,\n 'rails': 38632,\n 'view': 49079,\n '<': 7835,\n '@admin_artist': 9490,\n 'foobarbaz': 23232,\n '&#124;': 250,\n 'f': 22159,\n '>': 9223,\n 'renders': 39521,\n '<form': 8335,\n 'accept-charset=': 10894,\n 'utf-8': 48492,\n 'action=': 11036,\n 'admin/artists': 11265,\n 'class=': 15969,\n 'simple_form': 42438,\n 'new_admin_artist': 33286,\n 'id=': 26317,\n 'method=': 31653,\n 'post': 37096,\n 'novalidate=': 33791,\n 'novalidate': 33790,\n 'suggestions': 44494,\n 'where': 49732,\n 'members': 31462,\n 'stored?i': 44031,\n 'trying': 46981,\n 'learn': 29571,\n 'c#': 14796,\n 'manages': 30911,\n 'memory.': 31493,\n 'stuck': 44278,\n 'elements': 20958,\n 'numerous': 34096,\n 'blogs': 14131,\n 'articles': 12668,\n 'subject': 44380,\n 'quite': 38406,\n 'satisfactory': 40755,\n 'answer.': 11980,\n 'let': 29639,\n 'define': 19231,\n 'block': 14101,\n 'myclass': 32705,\n 'mystr': 32908,\n 'myint': 32784,\n '12': 4267,\n 'before': 13803,\n 'guys': 24779,\n 'share': 42129,\n 'findings': 22819,\n 'subject.': 44381,\n 'feel': 22454,\n 'free': 23533,\n 'agree': 11407,\n 'disagree': 19905,\n 'correct': 17899,\n 'lifetime.': 29823,\n 'reference': 39219,\n 'type': 47109,\n 'go': 24441,\n 'heap': 25078,\n 'life': 29811,\n 'value': 48686,\n 'stack': 43664,\n 'confuses': 17294,\n 'answers': 11985,\n 'internet': 27624,\n 'confusion': 17297,\n 'number': 34044,\n 'when': 49727,\n 'starts': 43793,\n 'loads': 30188,\n 'related': 39380,\n 'assemblies': 12789,\n 'appdomain.': 12238,\n 'assembly': 12791,\n 'loaded': 30167,\n 'constructors': 17468,\n 'called': 15035,\n 'including': 26877,\n 'fields.': 22539,\n 'they': 45963,\n 'live': 30110,\n 'unload': 47680,\n 'lines': 29900,\n 'mentioned': 31520,\n 'explicitly': 22005,\n 'stored': 44028,\n 'then': 45938,\n 'everybody': 21711,\n 'says': 40797,\n 'heap/stack': 25082,\n 'every': 21709,\n 'regardless': 39284,\n 'whether': 49739,\n 'declared': 19090,\n 'type.': 47115,\n 'heap.': 25081,\n 'folks': 23172,\n 'please': 36747,\n 'connect': 17306,\n 'dots': 20336,\n 'management': 30895,\n 'variables': 48809,\n 'c#.': 14797,\n 'thank': 45903,\n 'precious': 37211,\n 'time': 46163,\n '-': 762,\n 'structs': 44250,\n 'file': 22560,\n '.pcap': 2191,\n 'wireshark.': 49954,\n 'order': 34869,\n 'couple': 17980,\n 'various': 48830,\n 'types': 47161,\n 'file.': 22576,\n 'see': 41282,\n 'so': 42796,\n 'struct': 44247,\n 'instances': 27391,\n 'fill': 22749,\n 'file*': 22562,\n 'fp': 23439,\n 'fopen(': 23249,\n 'test.pcap': 45618,\n 'w': 49342,\n 'unsure': 47756,\n 'properly': 37762,\n 'believe': 13857,\n 'memcpy': 31469,\n 'best': 13891,\n 'mostly': 32314,\n 'resorted': 39859,\n 'past': 36059,\n 'typedef': 47143,\n 'pcap_hdr_s': 36164,\n 'uint32_t': 47360,\n 'magic_number': 30717,\n '*': 342,\n 'magic': 30715,\n '*/': 431,\n 'uint16_t': 47359,\n 'version_major': 48983,\n 'major': 30815,\n 'version_minor': 48984,\n 'minor': 31896,\n 'int32_t': 27454,\n 'thiszone': 46001,\n 'gmt': 24431,\n 'local': 30206,\n 'correction': 17905,\n 'sigfigs': 42345,\n 'accuracy': 10982,\n 'timestamps': 46243,\n 'snaplen': 42770,\n 'max': 31226,\n 'length': 29617,\n 'captured': 15168,\n 'packets': 35745,\n 'octets': 34351,\n 'network': 33254,\n 'link': 29912,\n 'pcap_hdr_t': 36165,\n 'pcaprec_hdr_s': 36166,\n 'ts_sec': 46989,\n 'timestamp': 46233,\n 'seconds': 41197,\n 'ts_usec': 46990,\n 'microseconds': 31727,\n 'incl_len': 26853,\n 'packet': 35741,\n 'saved': 40774,\n 'orig_len': 35367,\n 'actual': 11109,\n 'pcaprec_hdr_t': 36167,\n 'ethernet_hdr_s': 21607,\n 'uint8_t': 47362,\n 'dst[': 20539,\n '6': 7002,\n 'destination': 19518,\n 'host': 25463,\n 'address': 11210,\n 'src[': 43566,\n 'ip': 27854,\n 'arp': 12548,\n 'rarp': 38693,\n 'ethernet_hdr_t': 21608,\n 'ip_hdr_s': 27860,\n 'ip_hl': 27862,\n '4': 6267,\n 'fields': 22538,\n 'bits': 14036,\n 'ip_v': 27871,\n 'ip_tos': 27869,\n 'ip_len': 27864,\n 'ip_id': 27863,\n 'ip_off': 27865,\n 'ip_ttl': 27870,\n 'ip_p': 27866,\n 'ip_sum': 27868,\n 'ip_src': 27867,\n 'ip_dst': 27859,\n 'ip_hdr_t': 27861,\n 'udp_header': 47243,\n 'src': 43522,\n 'dst': 20537,\n 'checksum': 15727,\n 'udp_header_t': 47244,\n 'global': 24388,\n 'database': 18690,\n 'connection?i': 17326,\n 'mysqli': 32899,\n 'problems': 37458,\n 'make': 30818,\n 'entire': 21299,\n 'script': 41058,\n 'files': 22687,\n 'index.php': 26953,\n 'classes/config.class.php': 15998,\n 'classes/admin.class.php': 15997,\n 'config.class.php': 17192,\n 'config': 17175,\n 'array(': 12566,\n 'sql': 43439,\n '__construct(': 10335,\n 'db': 18893,\n 'config[': 17224,\n 'localhost': 30247,\n 'user': 48025,\n 'pass': 36007,\n 'mysqli(': 32900,\n 'again': 11384,\n 'contecttodatabase(': 17545,\n '->sql': 992,\n 'db(': 18894,\n 'really': 38958,\n 'puzzled': 38052,\n 'can': 15086,\n '---': 768,\n 'edit': 20811,\n '->connection': 932,\n '__destruct(': 10340,\n '->connection->close(': 933,\n 'getconnection(': 24105,\n '==': 9164,\n 'db->connection': 18895,\n 'loading': 30180,\n 'require_once(': 39755,\n 'real_escape_string': 38944,\n 'errors': 21518,\n 'warning': 49444,\n 'real_escape_string(': 38945,\n 'mysqli.real-escape-string': 32902,\n 'couldn': 17946,\n 'fetch': 22470,\n 'home/calico/_/_.com/_/index.php': 25372,\n '20': 5288,\n 'query(': 38328,\n 'mysqli.query': 32901,\n '28': 5696,\n 'external': 22116,\n 'jars?i': 28232,\n 'eclipse': 20776,\n '3.4': 5893,\n 'compiles': 16975,\n 'errors.': 21520,\n 'my': 32629,\n 'uses': 48390,\n 'jar': 28221,\n 'java.lang.noclassdeffounderror': 28295,\n 'another': 11964,\n 'could': 17945,\n 'extract': 22133,\n 'folder': 23161,\n 'right.': 40200,\n 'importing': 26782,\n 'jars': 28231,\n 'outside': 35533,\n 'eclipse.': 20778,\n '5': 6715,\n 'claims': 15930,\n 'identity': 26368,\n 'datai': 18758,\n 'entity': 21308,\n 'framework': 23513,\n 'approach.': 12397,\n 'owin': 35596,\n 'authentication': 13120,\n 'users.': 48166,\n 'below': 13867,\n 'shows': 42286,\n 'login': 30409,\n 'account': 10952,\n 'controller.': 17700,\n 'actionresult': 11052,\n 'login(': 30410,\n 'loginviewmodel': 30440,\n 'model': 32082,\n 'returnurl': 40101,\n 'modelstate.isvalid': 32142,\n '_accountservice.verifypassword(': 10419,\n 'model.username': 32103,\n 'model.password': 32097,\n 'false': 22333,\n 'claimsidentity(': 15934,\n 'new[': 33285,\n 'claim(': 15925,\n 'claimtypes.name': 15938,\n 'defaultauthenticationtypes.applicationcookie': 19180,\n 'claimtypes.role': 15940,\n 'identity.addclaim(': 26370,\n 'guest': 24743,\n 'claimtypes.givenname': 15937,\n 'person': 36333,\n 'claimtypes.sid': 15941,\n 'user.userid': 48066,\n '/ok': 2800,\n 'store': 44016,\n 'userid': 48123,\n 'authenticationmanager.signin(': 13133,\n 'authenticationproperties': 13134,\n 'ispersistent': 28007,\n 'model.rememberme': 32101,\n 'redirecttoaction(': 39172,\n 'index': 26936,\n 'mydashboard': 32736,\n 'else': 21001,\n 'modelstate.addmodelerror(': 32141,\n 'invalid': 27712,\n 'username': 48138,\n 'password.': 36031,\n 'got': 24506,\n 'far': 22351,\n 'failed': 22297,\n 'redisplay': 39174,\n 'view(': 49080,\n 'as': 12693,\n 'claimsidentity': 15933,\n 'several': 42054,\n 'passing': 36021,\n 'authenticationmanager': 13132,\n 'perform': 36266,\n 'sign': 42350,\n 'either': 20902,\n 'controllers': 17708,\n 'razor': 38735,\n 'views.': 49148,\n 'approach': 12396,\n 'listed': 30059,\n 'tutorial': 47042,\n 'http://brockallen.com/2013/10/24/-primer': 25600,\n '--': 767,\n 'owin-cookie-authentication-middleware': 35597,\n 'asp-net-developer/': 12748,\n 'example': 21751,\n 'controller': 17698,\n 'attempt': 12979,\n 'values': 48722,\n 'user.claims': 48042,\n 'equal': 21425,\n 'ctx': 18299,\n 'httpcontext.getowincontext(': 25880,\n 'claimsprincipal': 15935,\n 'ctx.authentication.user': 18301,\n 'ienumerable<claim>': 26441,\n 'perhaps': 36288,\n 'missing': 31932,\n 'update': 47790,\n 'based': 13659,\n 'darin': 18584,\n 'fail': 22295,\n 'claims.': 15931,\n 'screenshot': 41048,\n 'showing': 42279,\n 'hovered': 25501,\n 'identity.claims.': 26371,\n 'selenium': 41367,\n 'scripts': 41080,\n 'jmeteri': 28619,\n 'automation': 13255,\n 'ready': 38934,\n 'functional': 23702,\n 'flow': 23080,\n 'integrate': 27487,\n 'jmeter': 28617,\n 'load-testing.': 30153,\n 'aim': 11425,\n 'load': 30150,\n 'testing.': 45730,\n 'why': 49774,\n 'int&amp;': 27444,\n 'ill-formed?according': 26530,\n 'expr.cast': 22052,\n 'c-style': 14847,\n 'cast': 15232,\n 'tries': 46911,\n 'casts': 15239,\n 'const_cast': 17416,\n 'static_cast': 43855,\n 'followed': 23177,\n 'reinterpret_cast': 39367,\n 'well-formed': 49697,\n 'const_cast<int&>(': 17417,\n 'static_cast<const': 43857,\n 'int&>(': 27443,\n 'yet': 50714,\n 'gcc': 23872,\n 'clang': 15942,\n 'reject': 39371,\n '0.': 2986,\n 'stylesheet': 44342,\n 'jinja2': 28593,\n 'templatei': 45531,\n 'making': 30854,\n 'website': 49637,\n 'html': 25523,\n 'flask': 22999,\n 'jinja2.': 28594,\n 'page': 35766,\n 'working': 50072,\n 'server': 41733,\n 'buttons': 14721,\n 'labels': 29303,\n 'etc.': 21581,\n 'displayed': 19994,\n 'template.': 45514,\n 'looked': 30492,\n 'around': 12546,\n 'change': 15558,\n '<link': 8490,\n 'rel=': 39378,\n 'type=': 47120,\n 'text/css': 45821,\n 'href=': 25512,\n 'styles.css': 44339,\n '@app.route(': 9512,\n 'def': 19160,\n 'resultstemplate(': 40034,\n 'render_template(': 39510,\n 'questions.html': 38370,\n 'head=': 25046,\n 'welcome': 49689,\n 'locations': 30289,\n 'python-code.py': 38149,\n 'templates/template.html': 45537,\n 'templates/styles.css': 45536,\n 'emulator': 21089,\n 'haxm': 25021,\n '6.0.5': 7014,\n 'installed.': 27365,\n 'install': 27349,\n '>=': 9292,\n '6.2.1': 7026,\n 'fix': 22960,\n 'compatibility': 16933,\n 'issues': 28034,\n 'macemulator': 30672,\n 'running.': 40563,\n 'installed': 27364,\n '6.2.1.': 7027,\n 'checkout': 15721,\n 'image.': 26556,\n 'reinstalled': 39365,\n 'haxm.': 25022,\n 'anow': 11972,\n 'occurs.': 34344,\n 'image': 26553,\n 'second': 41184,\n 'third.': 45983,\n '54': 6859,\n 'pm': 36822,\n 'reason': 38975,\n 'argument': 12520,\n 'coreaudio': 17872,\n 'lock': 30294,\n 'voice': 49241,\n 'audioinputdeviceioproc': 13060,\n 'many': 30953,\n 'languages': 29361,\n 'written': 50184,\n 'vm?there': 49226,\n 'programming': 37633,\n 'scala': 40819,\n 'clojure': 16175,\n 'coming': 16808,\n 'made': 30703,\n 'vm': 49222,\n 'therefore': 45956,\n 'compatible': 16939,\n 'byte-code.': 14758,\n ...}"
     },
     "execution_count": 546,
     "metadata": {},
     "output_type": "execute_result"
    }
   ],
   "source": [
    "vectorizer.vocabulary_"
   ]
  },
  {
   "cell_type": "code",
   "execution_count": 547,
   "id": "bd0dec3f",
   "metadata": {
    "pycharm": {
     "name": "#%%\n"
    }
   },
   "outputs": [],
   "source": [
    "from skmultilearn.adapt import MLkNN\n",
    "\n",
    "#parameters = {'k': range(1), 's': [0.1,0.2,0.3,0.4,0.5,0.6,0.7,0.8,0.9,1]}\n",
    "#score = 'f1_macro'\n",
    "\n",
    "#clf = GridSearchCV(MLkNN(), parameters, scoring=score)\n",
    "#clf.fit(X_train_vec, y_train)\n",
    "\n",
    "#print (clf.best_params_, clf.best_score_)\n",
    "\n"
   ]
  },
  {
   "cell_type": "code",
   "execution_count": 548,
   "outputs": [
    {
     "data": {
      "text/plain": "MLkNN(k=2, s=1)"
     },
     "execution_count": 548,
     "metadata": {},
     "output_type": "execute_result"
    }
   ],
   "source": [
    "mlknn_clf = MLkNN(k=2,s=1)\n",
    "mlknn_clf.fit(X_train_vec, y_train)"
   ],
   "metadata": {
    "collapsed": false,
    "pycharm": {
     "name": "#%%\n"
    }
   }
  },
  {
   "cell_type": "code",
   "execution_count": 549,
   "id": "65b93f16",
   "metadata": {
    "pycharm": {
     "name": "#%%\n"
    },
    "scrolled": true
   },
   "outputs": [],
   "source": [
    "y_pred = mlknn_clf.predict(X_test_vec)"
   ]
  },
  {
   "cell_type": "code",
   "execution_count": 550,
   "id": "9bf0d521",
   "metadata": {
    "pycharm": {
     "name": "#%%\n"
    }
   },
   "outputs": [],
   "source": [
    "y_pred = y_pred.tocsc()\n",
    "y_pred = y_pred.toarray()"
   ]
  },
  {
   "cell_type": "code",
   "execution_count": 551,
   "id": "060bf02f",
   "metadata": {
    "pycharm": {
     "name": "#%%\n"
    }
   },
   "outputs": [
    {
     "data": {
      "text/plain": "[array(['ios', 'java', 'json', 'rest'], dtype='<U19'),\n array(['javascript', 'sql-server'], dtype='<U19'),\n array(['javascript'], dtype='<U19'),\n array(['android', 'image-processing', 'ruby', 'ruby-on-rails'],\n       dtype='<U19'),\n array(['javascript'], dtype='<U19'),\n array(['multithreading', 'numpy', 'performance', 'sql-server'],\n       dtype='<U19'),\n array(['android', 'ios', 'multithreading'], dtype='<U19'),\n array(['linux', 'mysql', 'sql'], dtype='<U19'),\n array(['angularjs', 'image'], dtype='<U19'),\n array(['javascript'], dtype='<U19'),\n array(['gcc'], dtype='<U19'),\n array(['django', 'forms', 'laravel', 'php'], dtype='<U19'),\n array(['c++', 'java', 'performance', 'spring'], dtype='<U19'),\n array(['c++'], dtype='<U19'),\n array([], dtype='<U19'),\n array(['c', 'javascript', 'performance'], dtype='<U19'),\n array(['javascript'], dtype='<U19'),\n array([], dtype='<U19'),\n array(['opencv', 'python'], dtype='<U19'),\n array(['javascript'], dtype='<U19'),\n array(['numpy', 'python-3.x', 'wpf', 'xaml'], dtype='<U19'),\n array(['javascript', 'visual-studio'], dtype='<U19'),\n array([], dtype='<U19'),\n array(['php'], dtype='<U19'),\n array([], dtype='<U19'),\n array(['django', 'visual-studio'], dtype='<U19'),\n array(['ios'], dtype='<U19'),\n array(['android'], dtype='<U19'),\n array(['algorithm', 'math', 'python'], dtype='<U19'),\n array(['ios', 'wpf'], dtype='<U19'),\n array(['javascript', 'php'], dtype='<U19'),\n array(['android', 'date'], dtype='<U19'),\n array(['c'], dtype='<U19'),\n array(['c++'], dtype='<U19'),\n array(['javascript'], dtype='<U19'),\n array(['numpy', 'rest'], dtype='<U19'),\n array([], dtype='<U19'),\n array(['git', 'ios'], dtype='<U19'),\n array(['java'], dtype='<U19'),\n array(['c', 'c++', 'gcc'], dtype='<U19'),\n array(['c++', 'optimization'], dtype='<U19'),\n array(['javascript', 'visual-studio'], dtype='<U19'),\n array(['javascript', 'ruby-on-rails', 'unit-testing'], dtype='<U19'),\n array(['ios', 'performance', 'python-3.x'], dtype='<U19'),\n array(['java', 'php'], dtype='<U19'),\n array(['c++', 'multithreading'], dtype='<U19'),\n array(['c', 'c++', 'class', 'gcc', 'java', 'security'], dtype='<U19'),\n array(['numpy'], dtype='<U19'),\n array(['bash', 'ios', 'shell'], dtype='<U19'),\n array(['google-chrome'], dtype='<U19'),\n array(['c++', 'ios', 'uitableview'], dtype='<U19'),\n array(['list', 'numpy', 'python'], dtype='<U19'),\n array(['visual-studio-2010'], dtype='<U19'),\n array(['ios', 'javascript'], dtype='<U19'),\n array(['android', 'android-studio', 'java', 'mysql'], dtype='<U19'),\n array(['algorithm', 'c++', 'math'], dtype='<U19'),\n array([], dtype='<U19'),\n array([], dtype='<U19'),\n array(['c++'], dtype='<U19'),\n array(['php'], dtype='<U19'),\n array([], dtype='<U19'),\n array(['java'], dtype='<U19'),\n array(['javascript', 'oop'], dtype='<U19'),\n array([], dtype='<U19'),\n array(['c++', 'multithreading'], dtype='<U19'),\n array(['android', 'java'], dtype='<U19'),\n array(['ajax', 'django'], dtype='<U19'),\n array([], dtype='<U19'),\n array(['python'], dtype='<U19'),\n array([], dtype='<U19'),\n array(['android', 'regex'], dtype='<U19'),\n array(['java'], dtype='<U19'),\n array(['.net', 'c#', 'c++'], dtype='<U19'),\n array(['r'], dtype='<U19'),\n array(['google-chrome', 'http', 'javascript', 'optimization', 'security',\n        'selenium'], dtype='<U19'),\n array(['html', 'http', 'java'], dtype='<U19'),\n array(['android', 'hibernate', 'java', 'jpa', 'spring'], dtype='<U19'),\n array(['c++', 'java', 'language-lawyer'], dtype='<U19'),\n array(['.net', 'c#', 'c++'], dtype='<U19'),\n array(['javascript'], dtype='<U19'),\n array([], dtype='<U19'),\n array(['java'], dtype='<U19'),\n array(['qt'], dtype='<U19'),\n array(['assembly', 'c', 'c++', 'multithreading'], dtype='<U19'),\n array(['css', 'javascript'], dtype='<U19'),\n array(['java', 'php'], dtype='<U19'),\n array(['java'], dtype='<U19'),\n array(['android', 'java'], dtype='<U19'),\n array(['http', 'optimization', 'rest', 'security'], dtype='<U19'),\n array(['image'], dtype='<U19'),\n array([], dtype='<U19'),\n array(['android', 'ios'], dtype='<U19'),\n array(['android', 'cocoa-touch', 'ios', 'java'], dtype='<U19'),\n array(['android', 'bash', 'shell', 'visual-studio'], dtype='<U19'),\n array(['javascript', 'numpy'], dtype='<U19'),\n array(['c', 'c++', 'gcc'], dtype='<U19'),\n array(['ios'], dtype='<U19'),\n array([], dtype='<U19'),\n array(['asp.net', 'ios'], dtype='<U19'),\n array(['java', 'mysql'], dtype='<U19'),\n array(['android', 'android-studio'], dtype='<U19'),\n array(['c++', 'java', 'javascript'], dtype='<U19'),\n array(['oop'], dtype='<U19'),\n array(['c'], dtype='<U19'),\n array(['java', 'mysql', 'unix', 'visual-studio'], dtype='<U19'),\n array(['c++'], dtype='<U19'),\n array(['git', 'java'], dtype='<U19'),\n array(['c++', 'javascript', 'visual-studio-2010'], dtype='<U19'),\n array(['asynchronous', 'c++', 'express', 'javascript', 'optimization',\n        'performance', 'visual-studio-2010'], dtype='<U19'),\n array([], dtype='<U19'),\n array(['php'], dtype='<U19'),\n array(['android'], dtype='<U19'),\n array([], dtype='<U19'),\n array(['java', 'r'], dtype='<U19'),\n array(['php'], dtype='<U19'),\n array(['c++'], dtype='<U19'),\n array(['java'], dtype='<U19'),\n array(['c++'], dtype='<U19'),\n array(['windows'], dtype='<U19'),\n array(['android'], dtype='<U19'),\n array(['android', 'android-studio', 'gradle', 'php', 'validation'],\n       dtype='<U19'),\n array(['php', 'security', 'ubuntu', 'validation'], dtype='<U19'),\n array([], dtype='<U19'),\n array([], dtype='<U19'),\n array(['asp.net-mvc', 'java', 'unit-testing'], dtype='<U19'),\n array(['android', 'date', 'java'], dtype='<U19'),\n array(['multithreading'], dtype='<U19'),\n array(['c', 'c++', 'language-lawyer'], dtype='<U19'),\n array(['android', 'java'], dtype='<U19'),\n array(['c++', 'image'], dtype='<U19'),\n array([], dtype='<U19'),\n array(['c++', 'forms', 'memory-management'], dtype='<U19'),\n array(['javascript', 'oop'], dtype='<U19'),\n array(['c++', 'ios'], dtype='<U19'),\n array(['java', 'javascript', 'unit-testing'], dtype='<U19'),\n array([], dtype='<U19'),\n array([], dtype='<U19'),\n array(['java', 'r'], dtype='<U19'),\n array(['ios'], dtype='<U19'),\n array([], dtype='<U19'),\n array(['assembly', 'c', 'c++', 'multithreading'], dtype='<U19'),\n array(['c++', 'mysql'], dtype='<U19'),\n array(['authentication', 'ios', 'java', 'spring'], dtype='<U19'),\n array(['java', 'javascript'], dtype='<U19'),\n array(['java'], dtype='<U19'),\n array([], dtype='<U19'),\n array(['class', 'hibernate', 'java', 'jpa'], dtype='<U19'),\n array(['api', 'javascript'], dtype='<U19'),\n array(['ios'], dtype='<U19'),\n array([], dtype='<U19'),\n array(['cocoa-touch', 'ios', 'iphone', 'objective-c'], dtype='<U19'),\n array(['google-chrome', 'javascript', 'visual-studio'], dtype='<U19'),\n array(['asp.net-mvc', 'c++'], dtype='<U19'),\n array([], dtype='<U19'),\n array(['c', 'unix'], dtype='<U19'),\n array(['java'], dtype='<U19'),\n array(['javascript', 'ruby', 'ruby-on-rails'], dtype='<U19'),\n array(['java', 'javascript'], dtype='<U19'),\n array([], dtype='<U19'),\n array([], dtype='<U19'),\n array(['ios', 'macos'], dtype='<U19'),\n array(['docker', 'numpy'], dtype='<U19'),\n array(['angular', 'cocoa-touch', 'uitableview'], dtype='<U19'),\n array(['asp.net', 'javascript'], dtype='<U19'),\n array(['java'], dtype='<U19'),\n array(['c', 'linux', 'multithreading'], dtype='<U19'),\n array([], dtype='<U19'),\n array(['image-processing', 'java'], dtype='<U19'),\n array(['c++'], dtype='<U19'),\n array(['optimization', 'performance'], dtype='<U19'),\n array(['java', 'javascript'], dtype='<U19'),\n array(['java', 'javascript'], dtype='<U19'),\n array([], dtype='<U19'),\n array(['javascript'], dtype='<U19'),\n array(['asp.net-mvc', 'security', 'unit-testing', 'validation'],\n       dtype='<U19'),\n array(['ios', 'multithreading'], dtype='<U19'),\n array(['javascript', 'r', 'string'], dtype='<U19'),\n array(['database', 'mongodb', 'postgresql', 'sql'], dtype='<U19'),\n array([], dtype='<U19'),\n array(['ios', 'java', 'uitableview'], dtype='<U19'),\n array(['android', 'gradle', 'javascript'], dtype='<U19'),\n array(['php'], dtype='<U19'),\n array(['concurrency', 'memory'], dtype='<U19'),\n array([], dtype='<U19'),\n array(['c', 'c++', 'gcc'], dtype='<U19'),\n array(['javascript'], dtype='<U19'),\n array([], dtype='<U19'),\n array(['django', 'forms'], dtype='<U19'),\n array([], dtype='<U19'),\n array(['c++'], dtype='<U19'),\n array(['ios'], dtype='<U19'),\n array(['asynchronous', 'ios', 'javascript', 'multithreading'],\n       dtype='<U19'),\n array(['java'], dtype='<U19'),\n array(['android'], dtype='<U19'),\n array(['ios'], dtype='<U19'),\n array(['cocoa-touch', 'ios', 'javascript'], dtype='<U19'),\n array(['asp.net-mvc', 'security', 'unit-testing', 'validation'],\n       dtype='<U19'),\n array(['java', 'spring', 'spring-mvc', 'wpf', 'xaml'], dtype='<U19'),\n array(['c++', 'oop'], dtype='<U19'),\n array(['numpy', 'performance', 'php'], dtype='<U19'),\n array(['ios', 'java'], dtype='<U19'),\n array(['java'], dtype='<U19'),\n array(['android', 'c++', 'java', 'performance', 'visual-studio'],\n       dtype='<U19'),\n array([], dtype='<U19'),\n array([], dtype='<U19'),\n array(['iphone', 'objective-c'], dtype='<U19'),\n array(['ios', 'sql', 'tsql'], dtype='<U19'),\n array([], dtype='<U19'),\n array(['unit-testing'], dtype='<U19'),\n array([], dtype='<U19'),\n array(['javascript'], dtype='<U19'),\n array(['bash', 'javascript', 'shell'], dtype='<U19'),\n array([], dtype='<U19'),\n array(['javascript'], dtype='<U19'),\n array([], dtype='<U19'),\n array(['java', 'selenium'], dtype='<U19'),\n array(['android', 'c++', 'memory-management'], dtype='<U19'),\n array([], dtype='<U19'),\n array(['mysql', 'sql', 'visual-studio-2010'], dtype='<U19'),\n array(['javascript', 'php'], dtype='<U19'),\n array(['c++'], dtype='<U19'),\n array(['android', 'javascript', 'visual-studio'], dtype='<U19'),\n array(['c++', 'ios', 'multithreading'], dtype='<U19'),\n array([], dtype='<U19'),\n array(['android', 'c++'], dtype='<U19'),\n array([], dtype='<U19'),\n array(['hibernate', 'java', 'jpa'], dtype='<U19'),\n array(['python-3.x', 'ruby', 'sql-server'], dtype='<U19'),\n array(['java', 'visual-studio-2010'], dtype='<U19'),\n array(['ios'], dtype='<U19'),\n array(['android', 'android-studio', 'java', 'javascript'], dtype='<U19'),\n array(['android'], dtype='<U19'),\n array(['c++'], dtype='<U19'),\n array(['bash', 'multithreading', 'sql-server'], dtype='<U19'),\n array(['angularjs', 'sql', 'sql-server'], dtype='<U19'),\n array(['java', 'javascript'], dtype='<U19'),\n array(['image-processing', 'ios'], dtype='<U19'),\n array(['java', 'mysql'], dtype='<U19'),\n array(['cocoa-touch'], dtype='<U19'),\n array(['php'], dtype='<U19'),\n array(['c', 'python'], dtype='<U19'),\n array(['android', 'image-processing', 'xaml'], dtype='<U19'),\n array(['.net', 'visual-studio'], dtype='<U19'),\n array(['image', 'opencv'], dtype='<U19'),\n array(['gcc', 'javascript', 'php'], dtype='<U19'),\n array(['c++', 'javascript'], dtype='<U19'),\n array(['c++', 'mysql', 'postgresql', 'sql'], dtype='<U19'),\n array(['java', 'spring', 'spring-mvc', 'visual-studio'], dtype='<U19'),\n array(['javascript'], dtype='<U19'),\n array(['angularjs', 'ios', 'uitableview'], dtype='<U19'),\n array(['c#', 'exception', 'mysql', 'unit-testing'], dtype='<U19'),\n array(['java'], dtype='<U19'),\n array(['c++'], dtype='<U19'),\n array(['javascript'], dtype='<U19'),\n array(['javascript'], dtype='<U19'),\n array(['android', 'visual-studio'], dtype='<U19'),\n array(['java', 'php'], dtype='<U19'),\n array(['ios', 'selenium'], dtype='<U19'),\n array(['algorithm', 'c++', 'data-structures', 'ruby', 'ruby-on-rails',\n        'ruby-on-rails-3'], dtype='<U19'),\n array(['javascript', 'php'], dtype='<U19'),\n array(['java', 'php'], dtype='<U19'),\n array(['javascript', 'mysql'], dtype='<U19'),\n array(['angular', 'javascript', 'php', 'security'], dtype='<U19'),\n array(['c++', 'java'], dtype='<U19'),\n array([], dtype='<U19'),\n array(['c++'], dtype='<U19'),\n array(['docker', 'http'], dtype='<U19'),\n array(['bash', 'shell'], dtype='<U19'),\n array(['opencv', 'types'], dtype='<U19'),\n array(['angular'], dtype='<U19'),\n array(['android', 'php'], dtype='<U19'),\n array(['asp.net', 'asp.net-mvc', 'authentication', 'java', 'rest',\n        'spring'], dtype='<U19'),\n array(['algorithm', 'data-structures', 'mysql', 'performance', 'sql'],\n       dtype='<U19'),\n array(['javascript', 'visual-studio'], dtype='<U19'),\n array(['apache-spark', 'maven', 'python-3.x'], dtype='<U19'),\n array(['javascript', 'r'], dtype='<U19'),\n array(['cocoa-touch', 'ios', 'javascript', 'math', 'uitableview'],\n       dtype='<U19'),\n array(['c++'], dtype='<U19'),\n array(['asp.net', 'java'], dtype='<U19'),\n array(['.net', 'c#', 'c++'], dtype='<U19'),\n array(['c', 'c++', 'linux'], dtype='<U19'),\n array([], dtype='<U19'),\n array(['algorithm', 'data-structures', 'ios', 'java', 'uitableview'],\n       dtype='<U19'),\n array(['java', 'spring', 'spring-mvc'], dtype='<U19'),\n array(['java', 'javascript'], dtype='<U19'),\n array(['android', 'numpy'], dtype='<U19'),\n array(['java'], dtype='<U19'),\n array(['python'], dtype='<U19'),\n array(['asp.net', 'asp.net-mvc', 'authentication'], dtype='<U19'),\n array(['bash', 'git', 'linux'], dtype='<U19'),\n array(['javascript', 'php', 'validation'], dtype='<U19'),\n array(['c++', 'numpy', 'types'], dtype='<U19'),\n array(['javascript', 'php'], dtype='<U19'),\n array(['bash', 'java', 'shell'], dtype='<U19'),\n array(['performance', 'python-3.x'], dtype='<U19'),\n array(['javascript'], dtype='<U19'),\n array(['java'], dtype='<U19'),\n array(['c++', 'javascript'], dtype='<U19'),\n array(['c++'], dtype='<U19'),\n array(['php', 'string'], dtype='<U19'),\n array([], dtype='<U19'),\n array(['php'], dtype='<U19'),\n array(['.net', 'angular'], dtype='<U19'),\n array(['ios', 'java'], dtype='<U19'),\n array(['android', 'android-layout'], dtype='<U19'),\n array(['c', 'c++', 'gcc'], dtype='<U19'),\n array(['android', 'java', 'javascript', 'php'], dtype='<U19'),\n array(['c++'], dtype='<U19'),\n array(['c++'], dtype='<U19'),\n array([], dtype='<U19'),\n array(['c++'], dtype='<U19'),\n array(['asp.net-mvc', 'ubuntu'], dtype='<U19'),\n array(['asp.net', 'ios'], dtype='<U19'),\n array(['c', 'java'], dtype='<U19'),\n array(['amazon-web-services', 'android', 'mysql'], dtype='<U19'),\n array(['javascript'], dtype='<U19'),\n array(['java'], dtype='<U19'),\n array([], dtype='<U19'),\n array(['c++', 'javascript'], dtype='<U19'),\n array(['assembly', 'c', 'c++', 'multithreading'], dtype='<U19'),\n array(['android', 'java', 'testing'], dtype='<U19'),\n array(['algorithm', 'c++', 'image', 'image-processing'], dtype='<U19'),\n array([], dtype='<U19'),\n array([], dtype='<U19'),\n array(['ios', 'javascript'], dtype='<U19'),\n array(['java', 'spring'], dtype='<U19'),\n array(['javascript'], dtype='<U19'),\n array(['android'], dtype='<U19'),\n array(['java', 'visual-studio'], dtype='<U19'),\n array(['ios'], dtype='<U19'),\n array(['asp.net-mvc', 'ios'], dtype='<U19'),\n array(['algorithm', 'android', 'c++', 'multithreading'], dtype='<U19'),\n array(['java', 'spring'], dtype='<U19'),\n array(['php'], dtype='<U19'),\n array(['c++', 'image-processing', 'php'], dtype='<U19'),\n array(['c++', 'javascript'], dtype='<U19'),\n array(['multithreading'], dtype='<U19'),\n array(['django', 'java', 'javascript', 'spring'], dtype='<U19'),\n array(['java'], dtype='<U19'),\n array(['java', 'php'], dtype='<U19'),\n array(['angularjs', 'c++'], dtype='<U19'),\n array(['javascript'], dtype='<U19'),\n array(['c++'], dtype='<U19'),\n array(['c++'], dtype='<U19'),\n array(['angularjs', 'ios', 'uitableview'], dtype='<U19'),\n array(['android', 'c', 'c++', 'date', 'gcc'], dtype='<U19'),\n array(['angularjs'], dtype='<U19'),\n array(['c'], dtype='<U19'),\n array(['ios'], dtype='<U19'),\n array([], dtype='<U19'),\n array(['image', 'image-processing', 'javascript'], dtype='<U19'),\n array(['angularjs', 'django', 'google-chrome', 'postgresql'], dtype='<U19'),\n array([], dtype='<U19'),\n array(['java', 'types'], dtype='<U19'),\n array(['c'], dtype='<U19'),\n array(['css', 'qt'], dtype='<U19'),\n array(['hibernate', 'java', 'jpa'], dtype='<U19'),\n array(['visual-studio'], dtype='<U19'),\n array([], dtype='<U19'),\n array(['django', 'forms', 'opencv', 'python'], dtype='<U19'),\n array([], dtype='<U19'),\n array(['algorithm', 'list', 'python'], dtype='<U19'),\n array(['selenium'], dtype='<U19'),\n array(['c', 'c++', 'class', 'gcc', 'java'], dtype='<U19'),\n array(['bash', 'ios', 'shell'], dtype='<U19'),\n array(['sql-server'], dtype='<U19'),\n array(['java'], dtype='<U19'),\n array(['oop'], dtype='<U19'),\n array(['python-3.x'], dtype='<U19'),\n array(['google-chrome', 'javascript'], dtype='<U19'),\n array([], dtype='<U19'),\n array(['database', 'javascript', 'mysql', 'php', 'postgresql', 'sql'],\n       dtype='<U19'),\n array(['c++'], dtype='<U19'),\n array(['c++'], dtype='<U19'),\n array(['javascript', 'selenium'], dtype='<U19'),\n array(['ios'], dtype='<U19'),\n array(['c', 'c++', 'linux', 'multithreading'], dtype='<U19'),\n array(['c++'], dtype='<U19'),\n array(['concurrency', 'java', 'multithreading'], dtype='<U19'),\n array([], dtype='<U19'),\n array(['c++', 'javascript', 'ruby-on-rails'], dtype='<U19'),\n array([], dtype='<U19'),\n array(['image-processing', 'ios'], dtype='<U19'),\n array([], dtype='<U19'),\n array(['c++', 'google-chrome', 'javascript'], dtype='<U19'),\n array(['android', 'java'], dtype='<U19'),\n array(['c++', 'list'], dtype='<U19'),\n array(['java', 'php'], dtype='<U19'),\n array([], dtype='<U19'),\n array(['android', 'java'], dtype='<U19'),\n array(['android', 'javascript', 'php', 'ruby'], dtype='<U19'),\n array(['android', 'javascript', 'json', 'mongodb', 'spring'], dtype='<U19'),\n array(['javascript', 'mysql', 'sql'], dtype='<U19'),\n array(['android', 'ios'], dtype='<U19'),\n array(['cocoa-touch', 'ios'], dtype='<U19'),\n array(['asp.net-mvc', 'image', 'java', 'unit-testing'], dtype='<U19'),\n array(['ios'], dtype='<U19'),\n array(['asynchronous', 'ios', 'multithreading'], dtype='<U19'),\n array(['c'], dtype='<U19'),\n array(['c++'], dtype='<U19'),\n array(['php'], dtype='<U19'),\n array(['asp.net', 'java'], dtype='<U19'),\n array(['android'], dtype='<U19'),\n array([], dtype='<U19'),\n array(['c', 'multithreading', 'unix'], dtype='<U19'),\n array(['visual-studio'], dtype='<U19'),\n array([], dtype='<U19'),\n array(['c', 'java'], dtype='<U19'),\n array(['php'], dtype='<U19'),\n array(['javascript', 'php'], dtype='<U19'),\n array(['google-chrome', 'javascript'], dtype='<U19'),\n array(['opencv'], dtype='<U19'),\n array(['angular', 'java', 'list', 'numpy', 'spring'], dtype='<U19'),\n array(['ubuntu', 'visual-studio'], dtype='<U19'),\n array(['java'], dtype='<U19'),\n array(['asynchronous', 'ios', 'multithreading'], dtype='<U19'),\n array([], dtype='<U19'),\n array(['java', 'regex'], dtype='<U19'),\n array(['image-processing', 'oop'], dtype='<U19'),\n array(['javascript'], dtype='<U19'),\n array(['javascript', 'math'], dtype='<U19'),\n array(['ios', 'java', 'maven'], dtype='<U19'),\n array(['linux', 'mysql', 'sql'], dtype='<U19'),\n array(['c++', 'java', 'javascript', 'performance'], dtype='<U19'),\n array(['asp.net', 'java'], dtype='<U19'),\n array([], dtype='<U19'),\n array(['date', 'r'], dtype='<U19'),\n array(['java', 'javascript'], dtype='<U19'),\n array(['c', 'c++', 'database', 'gcc', 'postgresql', 'sql'], dtype='<U19'),\n array(['forms', 'ruby', 'ruby-on-rails', 'ruby-on-rails-3'], dtype='<U19'),\n array(['c++', 'java', 'spring', 'spring-mvc'], dtype='<U19'),\n array(['amazon-web-services', 'c++', 'mysql'], dtype='<U19'),\n array(['c++', 'ios', 'multithreading'], dtype='<U19'),\n array(['ios'], dtype='<U19'),\n array(['c++'], dtype='<U19'),\n array(['java', 'linux'], dtype='<U19'),\n array(['c++'], dtype='<U19'),\n array(['django', 'forms', 'mysql', 'python'], dtype='<U19'),\n array(['python', 'python-3.x'], dtype='<U19'),\n array(['c++'], dtype='<U19'),\n array(['cocoa-touch', 'ios', 'java'], dtype='<U19'),\n array(['android', 'date', 'javascript', 'php'], dtype='<U19'),\n array(['ruby-on-rails', 'ruby-on-rails-3'], dtype='<U19'),\n array(['linux'], dtype='<U19'),\n array(['android', 'ios'], dtype='<U19'),\n array(['c++'], dtype='<U19'),\n array(['ios', 'sql', 'tsql'], dtype='<U19'),\n array(['ios', 'r'], dtype='<U19'),\n array(['django', 'forms', 'mysql', 'python'], dtype='<U19'),\n array(['django', 'php', 'python-3.x', 'unit-testing'], dtype='<U19'),\n array(['android', 'android-studio'], dtype='<U19'),\n array(['ios'], dtype='<U19'),\n array(['c++', 'multithreading'], dtype='<U19'),\n array(['ios', 'javascript', 'unit-testing'], dtype='<U19'),\n array(['android'], dtype='<U19'),\n array(['api', 'ios', 'java', 'rest'], dtype='<U19'),\n array([], dtype='<U19'),\n array(['c++', 'security', 'validation'], dtype='<U19'),\n array(['database', 'mongodb', 'postgresql', 'sql'], dtype='<U19'),\n array(['google-chrome', 'javascript', 'mongodb', 'selenium'], dtype='<U19'),\n array(['database', 'java', 'mongodb', 'postgresql', 'sql'], dtype='<U19'),\n array(['android', 'cocoa-touch', 'ios', 'oop'], dtype='<U19'),\n array([], dtype='<U19'),\n array(['android'], dtype='<U19'),\n array(['javascript'], dtype='<U19'),\n array(['visual-studio'], dtype='<U19'),\n array(['assembly', 'java', 'jpa'], dtype='<U19'),\n array(['javascript', 'r'], dtype='<U19'),\n array(['ios', 'sql', 'tsql'], dtype='<U19'),\n array(['android', 'security', 'validation'], dtype='<U19'),\n array(['git', 'linux', 'performance', 'sql', 'sql-server'], dtype='<U19'),\n array(['android', 'javascript'], dtype='<U19'),\n array(['ios', 'iphone'], dtype='<U19'),\n array(['android', 'multithreading'], dtype='<U19'),\n array(['c++', 'java', 'language-lawyer', 'spring', 'spring-mvc'],\n       dtype='<U19'),\n array(['android', 'image', 'java'], dtype='<U19'),\n array(['database', 'git', 'postgresql', 'ruby', 'ruby-on-rails',\n        'ruby-on-rails-3'], dtype='<U19'),\n array(['ios'], dtype='<U19'),\n array([], dtype='<U19'),\n array(['image-processing', 'java'], dtype='<U19'),\n array(['java', 'rest'], dtype='<U19'),\n array(['c', 'c++', 'gcc', 'wpf'], dtype='<U19'),\n array(['javascript'], dtype='<U19'),\n array(['algorithm', 'image', 'image-processing', 'java'], dtype='<U19'),\n array(['ios', 'uitableview'], dtype='<U19'),\n array(['android', 'angularjs', 'unit-testing'], dtype='<U19'),\n array([], dtype='<U19'),\n array(['selenium'], dtype='<U19'),\n array([], dtype='<U19'),\n array(['html', 'java'], dtype='<U19'),\n array(['algorithm', 'image', 'image-processing', 'laravel', 'php'],\n       dtype='<U19'),\n array(['css'], dtype='<U19'),\n array(['javascript', 'jquery', 'twitter-bootstrap'], dtype='<U19'),\n array(['android', 'git'], dtype='<U19'),\n array(['java', 'linux'], dtype='<U19'),\n array(['android', 'android-layout'], dtype='<U19'),\n array(['ios', 'java'], dtype='<U19'),\n array(['amazon-web-services', 'angularjs', 'ios', 'javascript'],\n       dtype='<U19'),\n array(['android', 'ios'], dtype='<U19'),\n array(['ios'], dtype='<U19'),\n array([], dtype='<U19'),\n array(['asp.net-mvc', 'php'], dtype='<U19'),\n array(['javascript', 'security'], dtype='<U19'),\n array([], dtype='<U19'),\n array(['bash', 'javascript', 'shell'], dtype='<U19'),\n array(['android'], dtype='<U19'),\n array(['api', 'ios', 'rest'], dtype='<U19'),\n array(['c++'], dtype='<U19'),\n array([], dtype='<U19'),\n array([], dtype='<U19'),\n array(['c++'], dtype='<U19'),\n array(['c++'], dtype='<U19'),\n array(['opencv', 'python', 'testing'], dtype='<U19'),\n array(['c++'], dtype='<U19'),\n array(['google-chrome', 'javascript'], dtype='<U19'),\n array(['bash', 'java'], dtype='<U19'),\n array(['c++'], dtype='<U19'),\n array(['apache-spark', 'python'], dtype='<U19'),\n array(['c', 'c++', 'gcc'], dtype='<U19'),\n array(['java', 'security', 'validation'], dtype='<U19'),\n array(['oop'], dtype='<U19'),\n array([], dtype='<U19'),\n array([], dtype='<U19'),\n array(['javascript', 'security', 'validation'], dtype='<U19'),\n array(['.net'], dtype='<U19'),\n array(['express', 'hibernate', 'http', 'java', 'javascript', 'jpa'],\n       dtype='<U19'),\n array(['ios'], dtype='<U19'),\n array(['java', 'php'], dtype='<U19'),\n array(['bash', 'java', 'linux', 'shell', 'spring', 'unix'], dtype='<U19'),\n array(['git'], dtype='<U19'),\n array(['algorithm', 'image', 'image-processing'], dtype='<U19'),\n array([], dtype='<U19'),\n array(['java', 'ruby', 'ruby-on-rails', 'ruby-on-rails-3'], dtype='<U19'),\n array(['bash', 'c++', 'java', 'regex'], dtype='<U19'),\n array(['android', 'javascript'], dtype='<U19'),\n array(['c++', 'java'], dtype='<U19'),\n array(['android', 'android-studio'], dtype='<U19'),\n array(['optimization', 'performance'], dtype='<U19'),\n array(['android', 'c++', 'multithreading'], dtype='<U19'),\n array(['c', 'performance'], dtype='<U19'),\n array(['javascript', 'php'], dtype='<U19'),\n array(['android', 'javascript'], dtype='<U19'),\n array(['javascript'], dtype='<U19'),\n array(['concurrency', 'java', 'multithreading'], dtype='<U19'),\n array(['javascript'], dtype='<U19'),\n array(['c++', 'linux'], dtype='<U19'),\n array(['angular', 'javascript', 'list'], dtype='<U19'),\n array(['asp.net-mvc', 'bash', 'regex', 'visual-studio'], dtype='<U19'),\n array(['ios', 'visual-studio'], dtype='<U19'),\n array(['javascript'], dtype='<U19'),\n array(['algorithm', 'data-structures', 'mysql', 'performance', 'sql'],\n       dtype='<U19'),\n array(['javascript'], dtype='<U19'),\n array(['javascript'], dtype='<U19'),\n array(['image-processing', 'java'], dtype='<U19'),\n array(['javascript'], dtype='<U19'),\n array(['laravel', 'php'], dtype='<U19'),\n array(['image', 'java'], dtype='<U19'),\n array(['ios'], dtype='<U19'),\n array([], dtype='<U19'),\n array(['mysql'], dtype='<U19'),\n array(['.net'], dtype='<U19'),\n array(['cocoa-touch', 'ios', 'iphone', 'memory-management'], dtype='<U19'),\n array(['ios'], dtype='<U19'),\n array(['image'], dtype='<U19'),\n array(['ios', 'javascript'], dtype='<U19'),\n array(['ios', 'mysql'], dtype='<U19'),\n array(['bash', 'linux'], dtype='<U19'),\n array(['asp.net-mvc', 'javascript', 'validation'], dtype='<U19'),\n array(['c', 'c++', 'gcc'], dtype='<U19'),\n array(['javascript'], dtype='<U19'),\n array(['http', 'javascript'], dtype='<U19'),\n array(['bash', 'java'], dtype='<U19'),\n array(['javascript'], dtype='<U19'),\n array(['angularjs'], dtype='<U19'),\n array(['javascript'], dtype='<U19'),\n array(['ios'], dtype='<U19'),\n array(['multithreading', 'python'], dtype='<U19'),\n array([], dtype='<U19'),\n array([], dtype='<U19'),\n array(['javascript', 'list'], dtype='<U19'),\n array(['git', 'java', 'laravel', 'php'], dtype='<U19'),\n array(['google-chrome', 'javascript'], dtype='<U19'),\n array(['android', 'gradle', 'postgresql'], dtype='<U19'),\n array(['java', 'javascript'], dtype='<U19'),\n array(['javascript'], dtype='<U19'),\n array(['android', 'ios'], dtype='<U19'),\n array([], dtype='<U19'),\n array(['ios'], dtype='<U19'),\n array(['android', 'ios'], dtype='<U19'),\n array([], dtype='<U19'),\n array([], dtype='<U19'),\n array(['database', 'django', 'python'], dtype='<U19'),\n array(['.net'], dtype='<U19'),\n array(['c'], dtype='<U19'),\n array(['sql', 'sql-server'], dtype='<U19'),\n array([], dtype='<U19'),\n array(['list', 'python', 'python-3.x'], dtype='<U19'),\n array([], dtype='<U19'),\n array([], dtype='<U19'),\n array([], dtype='<U19'),\n array(['c++', 'gcc', 'java'], dtype='<U19'),\n array(['ios'], dtype='<U19'),\n array(['database', 'ios', 'mysql', 'sql'], dtype='<U19'),\n array(['ios', 'javascript', 'php'], dtype='<U19'),\n array(['c++', 'sql', 'sql-server', 'tsql'], dtype='<U19'),\n array(['asynchronous', 'ios', 'multithreading'], dtype='<U19'),\n array(['django', 'forms', 'laravel', 'php'], dtype='<U19'),\n array([], dtype='<U19'),\n array(['algorithm', 'c++', 'image', 'image-processing', 'language-lawyer'],\n       dtype='<U19'),\n array(['java', 'spring', 'spring-mvc'], dtype='<U19'),\n array(['c++'], dtype='<U19'),\n array(['image-processing', 'javascript'], dtype='<U19'),\n array(['c++'], dtype='<U19'),\n array([], dtype='<U19'),\n array(['javascript', 'ruby-on-rails'], dtype='<U19'),\n array(['android', 'java'], dtype='<U19'),\n array([], dtype='<U19'),\n array(['ios', 'java', 'selenium', 'uitableview'], dtype='<U19'),\n array(['javascript', 'php'], dtype='<U19'),\n array(['c', 'linux', 'multithreading'], dtype='<U19'),\n array(['javascript', 'selenium'], dtype='<U19'),\n array(['javascript', 'php'], dtype='<U19'),\n array(['c', 'c++', 'gcc', 'javascript', 'php'], dtype='<U19'),\n array(['android'], dtype='<U19'),\n array([], dtype='<U19'),\n array(['cocoa-touch', 'ios', 'objective-c', 'uitableview'], dtype='<U19'),\n array(['git', 'hibernate', 'java', 'jpa'], dtype='<U19'),\n array(['ios'], dtype='<U19'),\n array([], dtype='<U19'),\n array(['npm'], dtype='<U19'),\n array(['ios'], dtype='<U19'),\n array(['bash', 'git', 'javascript'], dtype='<U19'),\n array([], dtype='<U19'),\n array(['algorithm', 'data-structures', 'javascript', 'performance'],\n       dtype='<U19'),\n array(['c++'], dtype='<U19'),\n array(['html', 'javascript'], dtype='<U19'),\n array(['c'], dtype='<U19'),\n array(['wpf', 'xaml'], dtype='<U19'),\n array(['c++'], dtype='<U19'),\n array(['algorithm', 'c', 'c++', 'memory-management'], dtype='<U19'),\n array(['asp.net'], dtype='<U19'),\n array(['algorithm', 'data-structures', 'java', 'performance'],\n       dtype='<U19'),\n array(['c++', 'cocoa-touch', 'ios', 'multithreading', 'uitableview'],\n       dtype='<U19'),\n array(['bash', 'git', 'java', 'rest', 'spring'], dtype='<U19'),\n array(['java', 'javascript'], dtype='<U19'),\n array(['javascript', 'r'], dtype='<U19'),\n array(['java', 'php'], dtype='<U19'),\n array(['java', 'unit-testing'], dtype='<U19'),\n array(['c++', 'java', 'javascript', 'multithreading'], dtype='<U19'),\n array([], dtype='<U19'),\n array(['asp.net', 'database', 'javascript'], dtype='<U19'),\n array(['c++'], dtype='<U19'),\n array(['java', 'ruby', 'ruby-on-rails', 'ruby-on-rails-3', 'spring',\n        'spring-mvc'], dtype='<U19'),\n array(['javascript', 'oop'], dtype='<U19'),\n array(['c++'], dtype='<U19'),\n array([], dtype='<U19'),\n array(['android'], dtype='<U19'),\n array(['django', 'python-3.x', 'unicode'], dtype='<U19'),\n array(['c', 'c++', 'gcc'], dtype='<U19'),\n array(['bash'], dtype='<U19'),\n array(['javascript'], dtype='<U19'),\n array(['android', 'android-studio', 'java'], dtype='<U19'),\n array([], dtype='<U19'),\n array(['c', 'docker', 'gcc', 'javascript', 'math'], dtype='<U19'),\n array(['java', 'javascript'], dtype='<U19'),\n array(['ios', 'iphone'], dtype='<U19'),\n array(['javascript', 'wpf'], dtype='<U19'),\n array(['ios'], dtype='<U19'),\n array(['android'], dtype='<U19'),\n array(['google-chrome', 'hibernate', 'java', 'javascript', 'jpa',\n        'selenium', 'spring'], dtype='<U19'),\n array(['ios', 'javascript'], dtype='<U19'),\n array(['ios', 'javascript', 'ruby', 'ruby-on-rails'], dtype='<U19'),\n array(['ios', 'javascript'], dtype='<U19'),\n array(['c++'], dtype='<U19'),\n array(['concurrency', 'java', 'multithreading'], dtype='<U19'),\n array([], dtype='<U19'),\n array(['c++', 'java', 'spring', 'spring-mvc'], dtype='<U19'),\n array([], dtype='<U19'),\n array(['java', 'rest', 'testing'], dtype='<U19'),\n array(['java', 'mysql'], dtype='<U19'),\n array(['cocoa-touch', 'ios', 'java', 'oop'], dtype='<U19'),\n array(['android', 'android-layout'], dtype='<U19'),\n array(['c++', 'php'], dtype='<U19'),\n array(['android', 'javascript', 'visual-studio'], dtype='<U19'),\n array(['c++', 'java', 'list', 'unit-testing'], dtype='<U19'),\n array(['amazon-web-services', 'c++'], dtype='<U19'),\n array(['ios', 'javascript'], dtype='<U19'),\n array([], dtype='<U19'),\n array(['java', 'spring'], dtype='<U19'),\n array(['c++'], dtype='<U19'),\n array([], dtype='<U19'),\n array(['javascript'], dtype='<U19'),\n array(['ios', 'mysql', 'postgresql', 'sql'], dtype='<U19'),\n array(['java', 'php'], dtype='<U19'),\n array(['php'], dtype='<U19'),\n array(['c++'], dtype='<U19'),\n array(['linux', 'mysql', 'sql'], dtype='<U19'),\n array(['iphone', 'objective-c'], dtype='<U19'),\n array(['android', 'sql', 'tsql'], dtype='<U19'),\n array(['android', 'java'], dtype='<U19'),\n array(['java', 'r'], dtype='<U19'),\n array(['java'], dtype='<U19'),\n array(['android', 'c++'], dtype='<U19'),\n array(['c++'], dtype='<U19'),\n array(['database', 'mysql', 'php', 'sql'], dtype='<U19'),\n array(['android', 'android-layout', 'npm'], dtype='<U19'),\n array(['c', 'c++', 'gcc'], dtype='<U19'),\n array(['asp.net'], dtype='<U19'),\n array(['c', 'c++', 'gcc'], dtype='<U19'),\n array(['ios', 'javascript'], dtype='<U19'),\n array(['debugging', 'regex'], dtype='<U19'),\n array(['algorithm', 'data-structures', 'performance',\n        'visual-studio-2010'], dtype='<U19'),\n array(['concurrency', 'java', 'multithreading'], dtype='<U19'),\n array(['algorithm', 'data-structures', 'mysql', 'performance', 'sql'],\n       dtype='<U19'),\n array(['c++'], dtype='<U19'),\n array(['php'], dtype='<U19'),\n array(['java'], dtype='<U19'),\n array(['android', 'date', 'javascript', 'php'], dtype='<U19'),\n array([], dtype='<U19'),\n array(['.net', 'c#', 'c++'], dtype='<U19'),\n array(['angular'], dtype='<U19'),\n array(['javascript'], dtype='<U19'),\n array([], dtype='<U19'),\n array(['c', 'mysql'], dtype='<U19'),\n array(['android', 'javascript', 'visual-studio'], dtype='<U19'),\n array(['javascript'], dtype='<U19'),\n array(['java'], dtype='<U19'),\n array(['c++'], dtype='<U19'),\n array(['git', 'java'], dtype='<U19'),\n array([], dtype='<U19'),\n array(['google-chrome', 'java'], dtype='<U19'),\n array(['google-chrome', 'http', 'javascript', 'optimization', 'security',\n        'selenium'], dtype='<U19'),\n array(['ios', 'visual-studio'], dtype='<U19'),\n array(['php'], dtype='<U19'),\n array(['javascript'], dtype='<U19'),\n array(['javascript'], dtype='<U19'),\n array(['c++', 'java', 'oop', 'optimization'], dtype='<U19'),\n array(['apache-spark', 'optimization', 'python'], dtype='<U19'),\n array(['angular', 'ios'], dtype='<U19'),\n array([], dtype='<U19'),\n array(['android'], dtype='<U19'),\n array(['google-chrome', 'http', 'javascript', 'optimization', 'security',\n        'selenium'], dtype='<U19'),\n array(['c++', 'javascript'], dtype='<U19'),\n array(['ios'], dtype='<U19'),\n array([], dtype='<U19'),\n array(['java', 'php'], dtype='<U19'),\n array(['javascript'], dtype='<U19'),\n array(['javascript'], dtype='<U19'),\n array(['javascript'], dtype='<U19'),\n array([], dtype='<U19'),\n array(['android', 'c++'], dtype='<U19'),\n array(['c++'], dtype='<U19'),\n array([], dtype='<U19'),\n array(['visual-studio'], dtype='<U19'),\n array([], dtype='<U19'),\n array(['regex', 'sql', 'sql-server'], dtype='<U19')]"
     },
     "execution_count": 551,
     "metadata": {},
     "output_type": "execute_result"
    }
   ],
   "source": [
    "coun_vect.inverse_transform(y_pred)"
   ]
  },
  {
   "cell_type": "code",
   "execution_count": 552,
   "id": "1d9e6a74",
   "metadata": {
    "pycharm": {
     "name": "#%%\n"
    }
   },
   "outputs": [
    {
     "data": {
      "text/plain": "[array(['parsing', 'python', 'xml'], dtype='<U19'),\n array(['algorithm', 'c', 'data-structures'], dtype='<U19'),\n array(['django', 'python'], dtype='<U19'),\n array(['android', 'ios', 'mysql', 'php'], dtype='<U19'),\n array(['mysql', 'php', 'unicode'], dtype='<U19'),\n array(['haskell', 'scala'], dtype='<U19'),\n array(['algorithm', 'math'], dtype='<U19'),\n array(['apache-spark', 'java', 'scala'], dtype='<U19'),\n array(['android'], dtype='<U19'),\n array(['jquery'], dtype='<U19'),\n array(['ios', 'xcode'], dtype='<U19'),\n array(['c#', 'entity-framework', 'sql', 'winforms'], dtype='<U19'),\n array(['git'], dtype='<U19'),\n array(['c#', 'c++'], dtype='<U19'),\n array(['html', 'sockets'], dtype='<U19'),\n array(['c++'], dtype='<U19'),\n array(['dataframe', 'pandas', 'python'], dtype='<U19'),\n array(['image', 'python', 'python-3.x'], dtype='<U19'),\n array(['database', 'java', 'postgresql'], dtype='<U19'),\n array(['memory', 'memory-management', 'multithreading'], dtype='<U19'),\n array(['wpf', 'xaml'], dtype='<U19'),\n array(['numpy', 'opencv', 'python-3.x'], dtype='<U19'),\n array(['ios', 'xcode'], dtype='<U19'),\n array(['java', 'linux', 'unix'], dtype='<U19'),\n array(['c#', 'visual-studio-2010'], dtype='<U19'),\n array(['ios'], dtype='<U19'),\n array(['java', 'unit-testing'], dtype='<U19'),\n array(['.net', 'c#', 'winforms'], dtype='<U19'),\n array(['algorithm', 'math'], dtype='<U19'),\n array(['java', 'mongodb', 'performance', 'spring'], dtype='<U19'),\n array(['data-structures'], dtype='<U19'),\n array(['jquery', 'validation'], dtype='<U19'),\n array(['ios', 'xcode'], dtype='<U19'),\n array(['gcc'], dtype='<U19'),\n array(['java', 'security', 'spring-boot'], dtype='<U19'),\n array(['laravel', 'php'], dtype='<U19'),\n array(['asp.net', 'asp.net-web-api', 'c#', 'web-services'], dtype='<U19'),\n array(['cocoa-touch', 'ios', 'iphone', 'objective-c'], dtype='<U19'),\n array(['swift', 'xcode'], dtype='<U19'),\n array(['arrays', 'javascript'], dtype='<U19'),\n array(['git'], dtype='<U19'),\n array(['ios'], dtype='<U19'),\n array(['java', 'python'], dtype='<U19'),\n array(['apache-spark', 'performance', 'scala'], dtype='<U19'),\n array(['pandas', 'performance', 'python'], dtype='<U19'),\n array(['javascript', 'node.js'], dtype='<U19'),\n array(['python'], dtype='<U19'),\n array(['arrays', 'c++'], dtype='<U19'),\n array(['android', 'android-studio', 'gradle', 'java'], dtype='<U19'),\n array(['algorithm', 'arrays', 'c++'], dtype='<U19'),\n array(['c++', 'c++11', 'lambda'], dtype='<U19'),\n array(['java', 'json', 'rest', 'spring'], dtype='<U19'),\n array(['inheritance', 'java', 'oop'], dtype='<U19'),\n array(['ruby'], dtype='<U19'),\n array(['html', 'javascript', 'jquery', 'xml'], dtype='<U19'),\n array(['.net', 'c#', 'string'], dtype='<U19'),\n array(['sql', 'sql-server', 'tsql'], dtype='<U19'),\n array(['c++', 'validation', 'windows'], dtype='<U19'),\n array(['java', 'mongodb', 'spring'], dtype='<U19'),\n array(['html', 'image', 'javascript'], dtype='<U19'),\n array(['linux', 'windows'], dtype='<U19'),\n array(['authentication', 'java', 'rest', 'security'], dtype='<U19'),\n array(['javascript'], dtype='<U19'),\n array(['c#'], dtype='<U19'),\n array(['sql', 'sql-server', 'tsql'], dtype='<U19'),\n array(['python', 'selenium'], dtype='<U19'),\n array(['angular', 'typescript'], dtype='<U19'),\n array(['android', 'windows'], dtype='<U19'),\n array(['c++', 'gcc'], dtype='<U19'),\n array(['javascript', 'node.js'], dtype='<U19'),\n array(['android', 'java'], dtype='<U19'),\n array(['c++', 'image-processing', 'opencv'], dtype='<U19'),\n array(['amazon-web-services'], dtype='<U19'),\n array(['.net', 'c#', 'winforms'], dtype='<U19'),\n array(['django', 'json', 'python', 'python-3.x'], dtype='<U19'),\n array(['html', 'php', 'regex'], dtype='<U19'),\n array(['ios'], dtype='<U19'),\n array(['javascript', 'twitter-bootstrap'], dtype='<U19'),\n array(['optimization', 'performance', 'python'], dtype='<U19'),\n array(['machine-learning', 'numpy', 'python'], dtype='<U19'),\n array(['database', 'java', 'performance'], dtype='<U19'),\n array(['linux'], dtype='<U19'),\n array(['numpy', 'python'], dtype='<U19'),\n array(['r'], dtype='<U19'),\n array(['database', 'django'], dtype='<U19'),\n array(['html', 'javascript'], dtype='<U19'),\n array(['.net', 'c#'], dtype='<U19'),\n array(['android'], dtype='<U19'),\n array(['arrays', 'javascript'], dtype='<U19'),\n array(['java', 'ubuntu'], dtype='<U19'),\n array(['python', 'qt', 'user-interface'], dtype='<U19'),\n array(['async-await', 'asynchronous', 'javascript'], dtype='<U19'),\n array(['ipad', 'iphone', 'objective-c'], dtype='<U19'),\n array(['algorithm', 'git'], dtype='<U19'),\n array(['debugging', 'node.js'], dtype='<U19'),\n array(['c++'], dtype='<U19'),\n array(['ajax', 'api', 'express', 'javascript', 'node.js'], dtype='<U19'),\n array(['android'], dtype='<U19'),\n array(['python', 'ubuntu'], dtype='<U19'),\n array(['c++', 'language-lawyer'], dtype='<U19'),\n array(['html', 'javascript'], dtype='<U19'),\n array(['ios'], dtype='<U19'),\n array(['ios', 'xcode'], dtype='<U19'),\n array(['android'], dtype='<U19'),\n array(['image-processing', 'opencv'], dtype='<U19'),\n array(['java', 'scala'], dtype='<U19'),\n array(['ios', 'ipad', 'iphone', 'xcode'], dtype='<U19'),\n array(['python', 'ssl'], dtype='<U19'),\n array(['mysql'], dtype='<U19'),\n array(['c++', 'gcc'], dtype='<U19'),\n array(['asp.net', 'asp.net-web-api'], dtype='<U19'),\n array(['arrays', 'c', 'function'], dtype='<U19'),\n array(['python'], dtype='<U19'),\n array(['.net', 'c#', 'security', 'windows'], dtype='<U19'),\n array(['reactjs'], dtype='<U19'),\n array(['android', 'security'], dtype='<U19'),\n array(['bash', 'linux', 'shell'], dtype='<U19'),\n array(['css', 'html'], dtype='<U19'),\n array(['javascript', 'node.js'], dtype='<U19'),\n array(['mysql', 'sql'], dtype='<U19'),\n array(['class', 'java', 'types'], dtype='<U19'),\n array(['c', 'c++', 'optimization', 'performance'], dtype='<U19'),\n array(['debugging', 'ios', 'iphone'], dtype='<U19'),\n array(['ssl'], dtype='<U19'),\n array(['algorithm', 'math'], dtype='<U19'),\n array(['datetime', 'sql', 'sql-server', 'tsql'], dtype='<U19'),\n array(['postgresql', 'sql'], dtype='<U19'),\n array(['c', 'file'], dtype='<U19'),\n array(['hibernate', 'java'], dtype='<U19'),\n array(['apache', 'php'], dtype='<U19'),\n array(['file', 'java'], dtype='<U19'),\n array(['r'], dtype='<U19'),\n array(['javascript', 'node.js'], dtype='<U19'),\n array(['angular', 'javascript', 'typescript'], dtype='<U19'),\n array(['c'], dtype='<U19'),\n array(['python'], dtype='<U19'),\n array(['html', 'javascript'], dtype='<U19'),\n array(['twitter-bootstrap'], dtype='<U19'),\n array(['java', 'oop'], dtype='<U19'),\n array(['c', 'unix'], dtype='<U19'),\n array(['c#', 'file'], dtype='<U19'),\n array(['objective-c', 'uitableview'], dtype='<U19'),\n array(['android'], dtype='<U19'),\n array(['android', 'css', 'html', 'iphone', 'javascript'], dtype='<U19'),\n array(['python'], dtype='<U19'),\n array(['database', 'mysql', 'php'], dtype='<U19'),\n array(['cocoa-touch', 'ios'], dtype='<U19'),\n array(['reactjs'], dtype='<U19'),\n array(['java', 'json', 'rest', 'validation'], dtype='<U19'),\n array(['c++', 'string'], dtype='<U19'),\n array(['c#', 'database', 'sql-server'], dtype='<U19'),\n array(['c#', 'wpf'], dtype='<U19'),\n array(['java', 'optimization'], dtype='<U19'),\n array(['c++', 'c++11', 'linux'], dtype='<U19'),\n array(['express', 'javascript', 'node.js'], dtype='<U19'),\n array(['sql', 'sql-server', 'tsql'], dtype='<U19'),\n array(['gradle', 'spring', 'spring-boot'], dtype='<U19'),\n array(['javascript', 'jquery'], dtype='<U19'),\n array(['.net', 'ajax', 'asp.net', 'jquery'], dtype='<U19'),\n array(['dataframe', 'r'], dtype='<U19'),\n array(['.net', 'asp.net', 'asp.net-mvc'], dtype='<U19'),\n array(['postgresql', 'sql'], dtype='<U19'),\n array(['date', 'javascript'], dtype='<U19'),\n array(['memory'], dtype='<U19'),\n array(['javascript', 'reactjs'], dtype='<U19'),\n array(['javascript'], dtype='<U19'),\n array(['haskell', 'scala'], dtype='<U19'),\n array(['eclipse', 'java', 'maven'], dtype='<U19'),\n array(['ios', 'swift'], dtype='<U19'),\n array(['bash', 'shell', 'unix'], dtype='<U19'),\n array(['c++'], dtype='<U19'),\n array(['cocoa-touch', 'ios'], dtype='<U19'),\n array(['memory'], dtype='<U19'),\n array(['c#', 'entity-framework'], dtype='<U19'),\n array(['haskell', 'unicode'], dtype='<U19'),\n array(['asp.net', 'c#'], dtype='<U19'),\n array(['ios', 'iphone'], dtype='<U19'),\n array(['php'], dtype='<U19'),\n array(['angularjs'], dtype='<U19'),\n array(['image', 'java'], dtype='<U19'),\n array(['asp.net-core', 'c#'], dtype='<U19'),\n array(['c++', 'c++11', 'gcc', 'windows'], dtype='<U19'),\n array(['apache-spark'], dtype='<U19'),\n array(['css', 'html'], dtype='<U19'),\n array(['ios', 'objective-c', 'xcode'], dtype='<U19'),\n array(['ajax', 'jquery'], dtype='<U19'),\n array(['asp.net-core', 'c#', 'unit-testing'], dtype='<U19'),\n array(['php'], dtype='<U19'),\n array(['angularjs', 'javascript'], dtype='<U19'),\n array(['generics', 'java'], dtype='<U19'),\n array(['c++', 'inheritance', 'oop'], dtype='<U19'),\n array(['cocoa-touch', 'ios', 'objective-c'], dtype='<U19'),\n array(['date', 'pandas', 'python', 'sorting'], dtype='<U19'),\n array(['c++', 'c++11', 'gcc', 'visual-studio-2010'], dtype='<U19'),\n array(['android'], dtype='<U19'),\n array(['css', 'image'], dtype='<U19'),\n array(['asp.net', 'asp.net-core', 'c#'], dtype='<U19'),\n array(['.net', 'c#'], dtype='<U19'),\n array(['java', 'java-8'], dtype='<U19'),\n array(['c++', 'gcc', 'macos'], dtype='<U19'),\n array(['.net', 'c#', 'ssl'], dtype='<U19'),\n array(['android'], dtype='<U19'),\n array(['bash', 'shell', 'string'], dtype='<U19'),\n array(['ios', 'swift'], dtype='<U19'),\n array(['android', 'android-studio', 'java', 'list'], dtype='<U19'),\n array(['cocoa-touch', 'ios', 'iphone', 'xcode'], dtype='<U19'),\n array(['android', 'eclipse', 'java'], dtype='<U19'),\n array(['android', 'iphone'], dtype='<U19'),\n array(['generics', 'java'], dtype='<U19'),\n array(['java'], dtype='<U19'),\n array(['apache-spark', 'dictionary', 'python'], dtype='<U19'),\n array(['pandas', 'python', 'string'], dtype='<U19'),\n array(['c#', 'c++', 'security', 'windows'], dtype='<U19'),\n array(['data-structures'], dtype='<U19'),\n array(['c#', 'wpf'], dtype='<U19'),\n array(['class', 'python'], dtype='<U19'),\n array(['performance', 'r'], dtype='<U19'),\n array(['android', 'java'], dtype='<U19'),\n array(['haskell', 'javascript'], dtype='<U19'),\n array(['javascript'], dtype='<U19'),\n array(['pandas', 'python'], dtype='<U19'),\n array(['c#', 'wpf', 'xaml'], dtype='<U19'),\n array(['ios', 'swift'], dtype='<U19'),\n array(['python'], dtype='<U19'),\n array(['ios', 'swift'], dtype='<U19'),\n array(['iphone'], dtype='<U19'),\n array(['angular', 'html', 'image', 'typescript'], dtype='<U19'),\n array(['macos', 'ruby'], dtype='<U19'),\n array(['css', 'html', 'javascript', 'jquery'], dtype='<U19'),\n array(['java'], dtype='<U19'),\n array(['bash', 'c', 'linux'], dtype='<U19'),\n array(['python'], dtype='<U19'),\n array(['sql', 'sql-server', 'tsql'], dtype='<U19'),\n array(['arrays'], dtype='<U19'),\n array(['node.js', 'parsing', 'sql'], dtype='<U19'),\n array(['async-await', 'asynchronous', 'c#', 'wpf'], dtype='<U19'),\n array(['api', 'laravel', 'php'], dtype='<U19'),\n array(['python', 'python-2.7'], dtype='<U19'),\n array(['.net', 'asp.net', 'c#', 'datetime'], dtype='<U19'),\n array(['macos'], dtype='<U19'),\n array(['php'], dtype='<U19'),\n array(['exception', 'generics', 'java'], dtype='<U19'),\n array(['numpy', 'python'], dtype='<U19'),\n array(['c++', 'templates'], dtype='<U19'),\n array(['xml'], dtype='<U19'),\n array(['ios'], dtype='<U19'),\n array(['angular', 'firebase', 'javascript'], dtype='<U19'),\n array(['java'], dtype='<U19'),\n array(['ios', 'objective-c'], dtype='<U19'),\n array(['apache-spark', 'machine-learning', 'python'], dtype='<U19'),\n array(['.net', 'c#', 'types'], dtype='<U19'),\n array(['android'], dtype='<U19'),\n array(['java'], dtype='<U19'),\n array(['class', 'java', 'oop'], dtype='<U19'),\n array(['c++'], dtype='<U19'),\n array(['c++', 'performance', 'x86'], dtype='<U19'),\n array(['android'], dtype='<U19'),\n array(['image', 'image-processing', 'java'], dtype='<U19'),\n array(['ios', 'macos'], dtype='<U19'),\n array(['windows'], dtype='<U19'),\n array(['c#', 'string'], dtype='<U19'),\n array(['.net', 'c#', 'visual-studio'], dtype='<U19'),\n array(['c', 'c++', 'data-structures', 'memory', 'performance'],\n       dtype='<U19'),\n array(['generics', 'swift'], dtype='<U19'),\n array(['.net', 'c#'], dtype='<U19'),\n array(['performance'], dtype='<U19'),\n array(['c++', 'language-lawyer'], dtype='<U19'),\n array(['machine-learning'], dtype='<U19'),\n array(['machine-learning', 'numpy', 'python'], dtype='<U19'),\n array(['ios'], dtype='<U19'),\n array(['mysql', 'ruby', 'ruby-on-rails'], dtype='<U19'),\n array(['data-structures', 'java'], dtype='<U19'),\n array(['android'], dtype='<U19'),\n array(['.net'], dtype='<U19'),\n array(['android', 'android-studio'], dtype='<U19'),\n array(['python'], dtype='<U19'),\n array(['inheritance', 'oop', 'ruby'], dtype='<U19'),\n array(['ios', 'swift', 'xcode'], dtype='<U19'),\n array(['mysql', 'php'], dtype='<U19'),\n array(['c++', 'c++11', 'templates'], dtype='<U19'),\n array(['java'], dtype='<U19'),\n array(['exception', 'java'], dtype='<U19'),\n array(['docker', 'ubuntu'], dtype='<U19'),\n array(['ios', 'swift'], dtype='<U19'),\n array(['.net', 'c#', 'winforms'], dtype='<U19'),\n array(['javascript', 'node.js', 'typescript'], dtype='<U19'),\n array(['c#', 'wpf', 'xaml'], dtype='<U19'),\n array(['android'], dtype='<U19'),\n array(['hibernate', 'java', 'jpa', 'spring-boot'], dtype='<U19'),\n array(['.net', 'java', 'user-interface', 'visual-studio'], dtype='<U19'),\n array(['performance', 'python', 'python-3.x'], dtype='<U19'),\n array(['c++', 'x86'], dtype='<U19'),\n array(['.net', 'c#', 'sockets'], dtype='<U19'),\n array(['arrays', 'mysql', 'php', 'sql-server'], dtype='<U19'),\n array(['hibernate', 'java', 'jpa', 'spring', 'spring-boot'], dtype='<U19'),\n array(['css', 'google-chrome'], dtype='<U19'),\n array(['javascript', 'jquery'], dtype='<U19'),\n array(['sql-server'], dtype='<U19'),\n array(['android', 'android-layout'], dtype='<U19'),\n array(['data-structures', 'java', 'list'], dtype='<U19'),\n array(['express', 'mongodb', 'node.js'], dtype='<U19'),\n array(['javascript', 'jquery'], dtype='<U19'),\n array(['javascript'], dtype='<U19'),\n array(['python'], dtype='<U19'),\n array(['java', 'jpa', 'maven'], dtype='<U19'),\n array(['ios', 'objective-c', 'xcode'], dtype='<U19'),\n array(['android', 'gradle', 'java'], dtype='<U19'),\n array(['ruby', 'unicode'], dtype='<U19'),\n array(['c++', 'c++11', 'optimization'], dtype='<U19'),\n array(['javascript', 'macos', 'node.js'], dtype='<U19'),\n array(['c', 'c++', 'gcc'], dtype='<U19'),\n array(['java', 'maven', 'spring'], dtype='<U19'),\n array(['angularjs', 'asp.net', 'javascript', 'json'], dtype='<U19'),\n array(['assembly', 'x86'], dtype='<U19'),\n array(['android'], dtype='<U19'),\n array(['php'], dtype='<U19'),\n array(['amazon-web-services'], dtype='<U19'),\n array(['android', 'java', 'json'], dtype='<U19'),\n array(['javascript', 'node.js', 'typescript'], dtype='<U19'),\n array(['hibernate', 'java', 'jpa'], dtype='<U19'),\n array(['ios', 'iphone', 'objective-c', 'php'], dtype='<U19'),\n array(['javascript'], dtype='<U19'),\n array(['.net', 'asp.net', 'c#', 'sql-server'], dtype='<U19'),\n array(['css', 'html', 'javascript'], dtype='<U19'),\n array(['html', 'javascript'], dtype='<U19'),\n array(['windows'], dtype='<U19'),\n array(['c++', 'c++11', 'class'], dtype='<U19'),\n array(['eclipse', 'java', 'maven', 'spring-boot'], dtype='<U19'),\n array(['html', 'ios'], dtype='<U19'),\n array(['database', 'hibernate', 'java', 'jpa', 'spring'], dtype='<U19'),\n array(['c++', 'lambda'], dtype='<U19'),\n array(['c++', 'language-lawyer'], dtype='<U19'),\n array(['php', 'unit-testing'], dtype='<U19'),\n array(['.net', 'c#', 'windows'], dtype='<U19'),\n array(['python'], dtype='<U19'),\n array(['ios', 'swift', 'xcode'], dtype='<U19'),\n array(['c++', 'class', 'oop'], dtype='<U19'),\n array(['ios', 'iphone'], dtype='<U19'),\n array(['python'], dtype='<U19'),\n array(['javascript', 'jquery', 'json'], dtype='<U19'),\n array(['image-processing', 'opencv', 'python'], dtype='<U19'),\n array(['.net', 'c#', 'visual-studio-2010'], dtype='<U19'),\n array(['css'], dtype='<U19'),\n array(['django', 'python'], dtype='<U19'),\n array(['c#', 'image'], dtype='<U19'),\n array(['date', 'python', 'python-2.7'], dtype='<U19'),\n array(['javascript'], dtype='<U19'),\n array(['sql', 'sql-server'], dtype='<U19'),\n array(['c', 'linux'], dtype='<U19'),\n array(['javascript', 'jquery'], dtype='<U19'),\n array(['angularjs', 'javascript'], dtype='<U19'),\n array(['ios', 'xcode'], dtype='<U19'),\n array(['c++', 'debugging', 'windows'], dtype='<U19'),\n array(['android', 'java'], dtype='<U19'),\n array(['asp.net-core'], dtype='<U19'),\n array(['matplotlib', 'python'], dtype='<U19'),\n array(['eclipse', 'java'], dtype='<U19'),\n array(['c#', 'multithreading', 'visual-studio-2010'], dtype='<U19'),\n array(['android', 'java'], dtype='<U19'),\n array(['python'], dtype='<U19'),\n array(['c', 'file', 'unix'], dtype='<U19'),\n array(['asp.net-mvc', 'c#'], dtype='<U19'),\n array(['database', 'pandas', 'python'], dtype='<U19'),\n array(['javascript', 'jquery'], dtype='<U19'),\n array(['css', 'javascript', 'jquery'], dtype='<U19'),\n array(['python', 'ruby'], dtype='<U19'),\n array(['css', 'java'], dtype='<U19'),\n array(['hibernate', 'java', 'jpa', 'orm'], dtype='<U19'),\n array(['matplotlib', 'numpy', 'pandas', 'python', 'python-3.x'],\n       dtype='<U19'),\n array(['swift', 'xcode'], dtype='<U19'),\n array(['html', 'javascript', 'jquery'], dtype='<U19'),\n array(['python'], dtype='<U19'),\n array(['java', 'spring'], dtype='<U19'),\n array(['c++', 'function'], dtype='<U19'),\n array(['android', 'image'], dtype='<U19'),\n array(['macos', 'python'], dtype='<U19'),\n array(['css', 'javascript', 'optimization', 'ruby-on-rails'], dtype='<U19'),\n array(['hibernate', 'java', 'jpa', 'spring'], dtype='<U19'),\n array(['.net', 'asp.net', 'c#'], dtype='<U19'),\n array(['r'], dtype='<U19'),\n array(['asp.net', 'asp.net-core', 'c#'], dtype='<U19'),\n array(['sql-server', 'tsql'], dtype='<U19'),\n array(['algorithm', 'string'], dtype='<U19'),\n array(['algorithm', 'math'], dtype='<U19'),\n array(['ios', 'objective-c', 'swift'], dtype='<U19'),\n array(['c#'], dtype='<U19'),\n array(['google-chrome', 'javascript', 'visual-studio'], dtype='<U19'),\n array(['postgresql', 'sql'], dtype='<U19'),\n array(['machine-learning'], dtype='<U19'),\n array(['google-chrome', 'javascript', 'json'], dtype='<U19'),\n array(['java', 'java-8'], dtype='<U19'),\n array(['java', 'java-8', 'maven'], dtype='<U19'),\n array(['css', 'html', 'javascript', 'jquery'], dtype='<U19'),\n array(['eclipse', 'java', 'linux'], dtype='<U19'),\n array(['.net', 'c#', 'winforms'], dtype='<U19'),\n array(['sql'], dtype='<U19'),\n array(['json', 'rest'], dtype='<U19'),\n array(['ios', 'swift'], dtype='<U19'),\n array(['dataframe', 'pandas', 'python'], dtype='<U19'),\n array(['android', 'android-studio', 'firebase'], dtype='<U19'),\n array(['ios', 'swift', 'unit-testing'], dtype='<U19'),\n array(['.net', 'c#'], dtype='<U19'),\n array(['debugging', 'ruby', 'ruby-on-rails'], dtype='<U19'),\n array(['android'], dtype='<U19'),\n array(['html', 'javascript'], dtype='<U19'),\n array(['android'], dtype='<U19'),\n array(['ios', 'swift', 'xcode'], dtype='<U19'),\n array(['ajax', 'angularjs', 'jquery'], dtype='<U19'),\n array(['laravel', 'mysql', 'php'], dtype='<U19'),\n array(['macos', 'xcode'], dtype='<U19'),\n array(['eclipse', 'java'], dtype='<U19'),\n array(['iphone', 'objective-c'], dtype='<U19'),\n array(['ipad', 'javascript', 'jquery'], dtype='<U19'),\n array(['javascript', 'typescript'], dtype='<U19'),\n array(['java', 'math'], dtype='<U19'),\n array(['numpy', 'python'], dtype='<U19'),\n array(['ajax', 'javascript', 'jquery'], dtype='<U19'),\n array(['node.js'], dtype='<U19'),\n array(['asynchronous', 'postgresql', 'ruby'], dtype='<U19'),\n array(['java', 'spring'], dtype='<U19'),\n array(['c++'], dtype='<U19'),\n array(['arrays', 'php'], dtype='<U19'),\n array(['angular', 'typescript', 'unit-testing'], dtype='<U19'),\n array(['spring'], dtype='<U19'),\n array(['generics'], dtype='<U19'),\n array(['javascript', 'laravel', 'node.js', 'npm'], dtype='<U19'),\n array(['.net', 'c#', 'generics'], dtype='<U19'),\n array(['.net', 'sql', 'sql-server', 'tsql'], dtype='<U19'),\n array(['dataframe', 'machine-learning', 'pandas', 'python'], dtype='<U19'),\n array(['asp.net', 'asp.net-mvc'], dtype='<U19'),\n array(['cocoa-touch', 'ios', 'ipad', 'iphone'], dtype='<U19'),\n array(['java', 'machine-learning', 'python', 'r'], dtype='<U19'),\n array(['cocoa', 'swift'], dtype='<U19'),\n array(['assembly', 'c++'], dtype='<U19'),\n array(['ios', 'objective-c', 'xcode'], dtype='<U19'),\n array(['logging'], dtype='<U19'),\n array(['git'], dtype='<U19'),\n array(['c', 'gcc'], dtype='<U19'),\n array(['dataframe', 'pandas', 'python'], dtype='<U19'),\n array(['regex'], dtype='<U19'),\n array(['iphone', 'uitableview'], dtype='<U19'),\n array(['function', 'inheritance', 'php'], dtype='<U19'),\n array(['javascript'], dtype='<U19'),\n array(['postgresql', 'ruby-on-rails', 'ruby-on-rails-3'], dtype='<U19'),\n array(['git', 'java', 'windows'], dtype='<U19'),\n array(['security', 'ssl'], dtype='<U19'),\n array(['android'], dtype='<U19'),\n array(['css', 'performance'], dtype='<U19'),\n array(['file', 'python', 'python-2.7', 'sockets'], dtype='<U19'),\n array(['ios', 'iphone'], dtype='<U19'),\n array(['python'], dtype='<U19'),\n array(['c#'], dtype='<U19'),\n array(['c++'], dtype='<U19'),\n array(['r'], dtype='<U19'),\n array(['c#', 'lambda'], dtype='<U19'),\n array(['c#', 'language-lawyer'], dtype='<U19'),\n array(['database', 'sql'], dtype='<U19'),\n array(['c', 'linux', 'multithreading'], dtype='<U19'),\n array(['android', 'android-studio'], dtype='<U19'),\n array(['javascript', 'reactjs'], dtype='<U19'),\n array(['c#'], dtype='<U19'),\n array(['c++', 'c++11'], dtype='<U19'),\n array(['authentication', 'java', 'web-services'], dtype='<U19'),\n array(['sql'], dtype='<U19'),\n array(['python', 'windows'], dtype='<U19'),\n array(['c++', 'c++11'], dtype='<U19'),\n array(['python'], dtype='<U19'),\n array(['c++'], dtype='<U19'),\n array(['django'], dtype='<U19'),\n array(['c#', 'linq'], dtype='<U19'),\n array(['css', 'javascript'], dtype='<U19'),\n array(['html', 'javascript', 'jquery'], dtype='<U19'),\n array(['sql', 'sql-server', 'tsql'], dtype='<U19'),\n array(['android', 'java'], dtype='<U19'),\n array(['ios', 'javascript'], dtype='<U19'),\n array(['spring', 'spring-boot', 'spring-mvc'], dtype='<U19'),\n array(['c++', 'qt'], dtype='<U19'),\n array(['javascript', 'math'], dtype='<U19'),\n array(['machine-learning', 'swift'], dtype='<U19'),\n array(['mysql', 'php'], dtype='<U19'),\n array(['html', 'image', 'javascript'], dtype='<U19'),\n array(['python', 'python-2.7'], dtype='<U19'),\n array(['.net', 'c#', 'debugging', 'sql-server', 'visual-studio'],\n       dtype='<U19'),\n array(['css', 'reactjs'], dtype='<U19'),\n array(['asp.net', 'c#'], dtype='<U19'),\n array(['c#', 'performance', 'wpf'], dtype='<U19'),\n array(['python'], dtype='<U19'),\n array(['r'], dtype='<U19'),\n array(['dictionary', 'java'], dtype='<U19'),\n array(['performance', 'sql'], dtype='<U19'),\n array(['c++', 'python'], dtype='<U19'),\n array(['orm', 'python'], dtype='<U19'),\n array(['hibernate', 'java'], dtype='<U19'),\n array(['c#', 'datetime'], dtype='<U19'),\n array(['java'], dtype='<U19'),\n array(['java', 'jquery', 'spring'], dtype='<U19'),\n array(['java', 'spring'], dtype='<U19'),\n array(['c#', 'validation'], dtype='<U19'),\n array(['html', 'javascript', 'jquery'], dtype='<U19'),\n array(['c++', 'c++11'], dtype='<U19'),\n array(['.net', 'c#'], dtype='<U19'),\n array(['c++', 'c++11'], dtype='<U19'),\n array(['apache', 'php'], dtype='<U19'),\n array(['macos'], dtype='<U19'),\n array(['javascript'], dtype='<U19'),\n array(['php', 'security'], dtype='<U19'),\n array(['.net', 'entity-framework'], dtype='<U19'),\n array(['android', 'android-layout', 'performance'], dtype='<U19'),\n array(['algorithm', 'ruby'], dtype='<U19'),\n array(['asp.net', 'c#', 'twitter-bootstrap'], dtype='<U19'),\n array(['python'], dtype='<U19'),\n array(['php', 'security'], dtype='<U19'),\n array(['apache-spark', 'java'], dtype='<U19'),\n array(['java'], dtype='<U19'),\n array(['html', 'javascript'], dtype='<U19'),\n array(['android'], dtype='<U19'),\n array(['jquery'], dtype='<U19'),\n array(['.net', 'c#', 'debugging', 'visual-studio-2010'], dtype='<U19'),\n array(['.net'], dtype='<U19'),\n array(['.net', 'c#', 'visual-studio', 'wpf'], dtype='<U19'),\n array(['python'], dtype='<U19'),\n array(['php'], dtype='<U19'),\n array(['eclipse', 'java', 'javascript'], dtype='<U19'),\n array(['arrays', 'dictionary', 'javascript'], dtype='<U19'),\n array(['ssl'], dtype='<U19'),\n array(['dataframe', 'pandas', 'python'], dtype='<U19'),\n array(['android'], dtype='<U19'),\n array(['css', 'jquery'], dtype='<U19'),\n array(['ajax', 'asp.net', 'asp.net-web-api', 'c#'], dtype='<U19'),\n array(['asp.net', 'c#', 'entity-framework', 'linq'], dtype='<U19'),\n array(['javascript', 'jquery'], dtype='<U19'),\n array(['amazon-web-services', 'javascript', 'node.js'], dtype='<U19'),\n array(['java', 'rest'], dtype='<U19'),\n array(['c'], dtype='<U19'),\n array(['c++', 'c++11', 'inheritance'], dtype='<U19'),\n array(['javascript'], dtype='<U19'),\n array(['c++'], dtype='<U19'),\n array(['bash', 'string'], dtype='<U19'),\n array(['php', 'windows'], dtype='<U19'),\n array(['angularjs', 'http', 'json', 'rest'], dtype='<U19'),\n array(['php', 'security'], dtype='<U19'),\n array(['ios', 'objective-c'], dtype='<U19'),\n array(['firebase', 'javascript', 'security'], dtype='<U19'),\n array(['macos', 'python'], dtype='<U19'),\n array(['java', 'memory-management'], dtype='<U19'),\n array(['machine-learning', 'python'], dtype='<U19'),\n array(['java', 'r'], dtype='<U19'),\n array(['haskell', 'scala'], dtype='<U19'),\n array(['c++', 'c++11'], dtype='<U19'),\n array(['.net', 'c#', 'inheritance'], dtype='<U19'),\n array(['c#'], dtype='<U19'),\n array(['cocoa-touch', 'ios', 'ipad', 'iphone', 'objective-c'],\n       dtype='<U19'),\n array(['ios', 'iphone'], dtype='<U19'),\n array(['eclipse', 'java-8'], dtype='<U19'),\n array(['haskell'], dtype='<U19'),\n array(['javascript', 'reactjs', 'typescript'], dtype='<U19'),\n array(['angular', 'api', 'asp.net', 'asp.net-core', 'c#'], dtype='<U19'),\n array(['cocoa-touch', 'image-processing', 'ios'], dtype='<U19'),\n array(['c'], dtype='<U19'),\n array(['javascript'], dtype='<U19'),\n array(['cocoa-touch', 'ios', 'ipad', 'iphone', 'objective-c'],\n       dtype='<U19'),\n array(['assembly', 'c', 'linux'], dtype='<U19'),\n array(['node.js', 'reactjs'], dtype='<U19'),\n array(['javascript'], dtype='<U19'),\n array(['algorithm', 'shell', 'sorting'], dtype='<U19'),\n array(['c++', 'visual-studio', 'windows'], dtype='<U19'),\n array(['c#', 'visual-studio'], dtype='<U19'),\n array(['django', 'orm', 'python'], dtype='<U19'),\n array(['c++', 'performance'], dtype='<U19'),\n array(['postgresql', 'sql', 'windows'], dtype='<U19'),\n array(['class', 'java', 'multithreading'], dtype='<U19'),\n array(['.net', 'http'], dtype='<U19'),\n array(['parsing', 'python', 'python-2.7'], dtype='<U19'),\n array(['c++', 'gcc', 'pointers'], dtype='<U19'),\n array(['html', 'javascript', 'jquery'], dtype='<U19'),\n array(['algorithm', 'math'], dtype='<U19'),\n array(['apache-spark', 'python'], dtype='<U19'),\n array(['http', 'javascript', 'reactjs'], dtype='<U19'),\n array(['file', 'python', 'python-2.7', 'python-3.x'], dtype='<U19'),\n array(['javascript'], dtype='<U19'),\n array(['sql'], dtype='<U19'),\n array(['.net', 'c#'], dtype='<U19'),\n array(['android', 'javascript', 'jquery'], dtype='<U19'),\n array(['google-chrome', 'html', 'javascript'], dtype='<U19'),\n array(['hibernate', 'java', 'spring'], dtype='<U19'),\n array(['java'], dtype='<U19'),\n array(['.net', 'asp.net'], dtype='<U19'),\n array(['image', 'php'], dtype='<U19'),\n array(['shell', 'ssl', 'web-services'], dtype='<U19'),\n array(['linux', 'python'], dtype='<U19'),\n array(['.net'], dtype='<U19'),\n array(['macos', 'node.js'], dtype='<U19'),\n array(['http'], dtype='<U19'),\n array(['html', 'regex', 'xml'], dtype='<U19'),\n array(['asp.net', 'asp.net-mvc', 'security'], dtype='<U19'),\n array(['security'], dtype='<U19'),\n array(['forms', 'php'], dtype='<U19'),\n array(['database', 'mysql', 'sql', 'sql-server'], dtype='<U19'),\n array(['bash', 'sorting'], dtype='<U19'),\n array(['javascript', 'json', 'node.js', 'reactjs', 'rest'], dtype='<U19'),\n array(['exception', 'java', 'maven'], dtype='<U19'),\n array(['android', 'android-layout', 'android-studio', 'xml'], dtype='<U19'),\n array(['php'], dtype='<U19'),\n array(['postgresql', 'sql'], dtype='<U19'),\n array(['c++', 'qt'], dtype='<U19'),\n array(['java', 'xml'], dtype='<U19'),\n array(['java'], dtype='<U19'),\n array(['database'], dtype='<U19'),\n array(['asynchronous', 'concurrency', 'exception', 'java', 'java-8'],\n       dtype='<U19'),\n array(['django'], dtype='<U19'),\n array(['generics', 'java', 'lambda'], dtype='<U19'),\n array(['java', 'sockets'], dtype='<U19'),\n array(['ios', 'objective-c'], dtype='<U19'),\n array(['ios', 'iphone', 'objective-c'], dtype='<U19'),\n array(['ios', 'iphone', 'objective-c'], dtype='<U19'),\n array(['angularjs', 'javascript'], dtype='<U19'),\n array(['angular', 'typescript'], dtype='<U19'),\n array(['c#', 'entity-framework'], dtype='<U19'),\n array(['c++', 'c++11', 'templates'], dtype='<U19'),\n array(['gcc'], dtype='<U19'),\n array(['python'], dtype='<U19'),\n array(['c++', 'templates'], dtype='<U19'),\n array(['apache-spark', 'python'], dtype='<U19'),\n array(['git', 'macos'], dtype='<U19'),\n array(['django', 'iphone', 'rest'], dtype='<U19'),\n array(['ajax', 'javascript', 'jquery'], dtype='<U19'),\n array(['css', 'ios', 'javascript', 'reactjs'], dtype='<U19'),\n array(['arrays'], dtype='<U19'),\n array(['google-chrome', 'javascript'], dtype='<U19'),\n array(['ios', 'xcode'], dtype='<U19'),\n array(['logging', 'mysql', 'sql'], dtype='<U19'),\n array(['.net', 'security'], dtype='<U19'),\n array(['numpy', 'python'], dtype='<U19'),\n array(['.net', 'arrays', 'c#', 'optimization', 'performance'],\n       dtype='<U19'),\n array(['c', 'c++', 'pointers', 'x86'], dtype='<U19'),\n array(['java'], dtype='<U19'),\n array(['generics', 'java', 'language-lawyer'], dtype='<U19'),\n array(['.net', 'c#', 'winforms'], dtype='<U19'),\n array(['machine-learning', 'python'], dtype='<U19'),\n array(['android'], dtype='<U19'),\n array(['asp.net-mvc'], dtype='<U19'),\n array(['c++', 'sockets'], dtype='<U19'),\n array(['c', 'optimization', 'performance', 'types'], dtype='<U19'),\n array(['asp.net', 'c#', 'javascript'], dtype='<U19'),\n array(['android', 'firebase'], dtype='<U19'),\n array(['algorithm', 'data-structures', 'javascript'], dtype='<U19'),\n array(['bash', 'linux', 'shell'], dtype='<U19'),\n array(['c++', 'c++11', 'multithreading'], dtype='<U19'),\n array(['python', 'python-3.x'], dtype='<U19'),\n array(['java'], dtype='<U19'),\n array(['sql', 'sql-server', 'tsql'], dtype='<U19'),\n array(['css', 'html', 'javascript'], dtype='<U19'),\n array(['android', 'java'], dtype='<U19'),\n array(['cocoa', 'cocoa-touch', 'iphone'], dtype='<U19'),\n array(['android'], dtype='<U19'),\n array(['django', 'python'], dtype='<U19'),\n array(['.net', 'c#'], dtype='<U19'),\n array(['c#', 'logging', 'unit-testing'], dtype='<U19'),\n array(['data-structures'], dtype='<U19'),\n array(['database', 'mysql', 'user-interface'], dtype='<U19'),\n array(['database', 'sql', 'sql-server', 'tsql'], dtype='<U19'),\n array(['gradle', 'java', 'scala'], dtype='<U19'),\n array(['ruby-on-rails'], dtype='<U19'),\n array(['javascript', 'node.js', 'npm'], dtype='<U19'),\n array(['algorithm', 'java'], dtype='<U19'),\n array(['ios', 'objective-c'], dtype='<U19'),\n array(['c++', 'c++11'], dtype='<U19'),\n array(['ajax', 'forms', 'html', 'jquery', 'validation'], dtype='<U19'),\n array(['android'], dtype='<U19'),\n array(['java', 'spring', 'spring-mvc'], dtype='<U19'),\n array(['json', 'postgresql'], dtype='<U19'),\n array(['linux', 'r', 'windows'], dtype='<U19'),\n array(['async-await', 'c#'], dtype='<U19'),\n array(['java'], dtype='<U19'),\n array(['assembly', 'performance'], dtype='<U19'),\n array(['python'], dtype='<U19'),\n array(['asp.net-mvc', 'asp.net-web-api', 'c#', 'html'], dtype='<U19'),\n array(['ios', 'swift', 'uitableview'], dtype='<U19'),\n array(['c++', 'visual-studio'], dtype='<U19'),\n array(['java'], dtype='<U19'),\n array(['class', 'php'], dtype='<U19'),\n array(['asynchronous', 'python'], dtype='<U19'),\n array(['sql'], dtype='<U19'),\n array(['api', 'php'], dtype='<U19'),\n array(['android', 'android-studio'], dtype='<U19'),\n array(['amazon-web-services', 'performance'], dtype='<U19'),\n array(['macos', 'ruby'], dtype='<U19'),\n array(['java'], dtype='<U19'),\n array(['javascript', 'node.js'], dtype='<U19'),\n array(['cocoa', 'macos'], dtype='<U19'),\n array(['c', 'c++', 'python', 'shell'], dtype='<U19'),\n array(['python'], dtype='<U19'),\n array(['.net', 'arrays', 'c#'], dtype='<U19'),\n array(['git', 'node.js', 'npm'], dtype='<U19'),\n array(['laravel', 'php'], dtype='<U19'),\n array(['bash', 'python'], dtype='<U19'),\n array(['apache-spark'], dtype='<U19'),\n array(['jquery', 'php'], dtype='<U19'),\n array(['java', 'maven', 'spring-mvc'], dtype='<U19'),\n array(['android'], dtype='<U19'),\n array(['arrays', 'c++', 'c++11'], dtype='<U19'),\n array(['html', 'javascript'], dtype='<U19'),\n array(['javascript'], dtype='<U19'),\n array(['opencv'], dtype='<U19'),\n array(['datetime', 'sql', 'sql-server', 'tsql'], dtype='<U19'),\n array(['css', 'html'], dtype='<U19'),\n array(['pandas', 'python'], dtype='<U19'),\n array(['html', 'regex', 'string'], dtype='<U19'),\n array(['bash', 'iphone', 'shell'], dtype='<U19'),\n array(['authentication', 'java'], dtype='<U19'),\n array(['hibernate', 'jpa', 'orm'], dtype='<U19'),\n array(['arrays', 'numpy', 'python'], dtype='<U19'),\n array(['.net', 'c#', 'string'], dtype='<U19'),\n array(['javascript', 'typescript'], dtype='<U19'),\n array(['asynchronous', 'python', 'python-3.x'], dtype='<U19'),\n array(['linux', 'php', 'ubuntu'], dtype='<U19'),\n array(['list', 'python', 'python-2.7'], dtype='<U19'),\n array(['multithreading', 'python'], dtype='<U19'),\n array(['c#', 'wpf', 'xaml'], dtype='<U19'),\n array(['scala'], dtype='<U19'),\n array(['c#'], dtype='<U19'),\n array(['windows'], dtype='<U19'),\n array(['machine-learning'], dtype='<U19'),\n array(['python', 'python-3.x'], dtype='<U19'),\n array(['.net', 'c#', 'visual-studio', 'visual-studio-2010'], dtype='<U19'),\n array(['algorithm', 'c', 'c++'], dtype='<U19'),\n array(['css', 'google-chrome', 'javascript', 'jquery'], dtype='<U19'),\n array(['java'], dtype='<U19'),\n array(['hibernate', 'java', 'spring', 'spring-mvc', 'validation'],\n       dtype='<U19'),\n array(['python'], dtype='<U19'),\n array(['java', 'windows'], dtype='<U19'),\n array(['xml'], dtype='<U19'),\n array(['bash', 'shell', 'unix'], dtype='<U19'),\n array(['c++', 'gcc', 'inheritance', 'templates'], dtype='<U19'),\n array(['laravel'], dtype='<U19'),\n array(['css', 'google-chrome', 'html'], dtype='<U19'),\n array(['cocoa'], dtype='<U19'),\n array(['optimization', 'python'], dtype='<U19'),\n array(['ios', 'objective-c'], dtype='<U19'),\n array(['ubuntu'], dtype='<U19'),\n array(['apache', 'php', 'unix'], dtype='<U19'),\n array(['algorithm', 'haskell', 'sorting'], dtype='<U19'),\n array(['cocoa-touch', 'ios', 'iphone'], dtype='<U19'),\n array(['git', 'logging'], dtype='<U19'),\n array(['c', 'gcc'], dtype='<U19'),\n array(['c++'], dtype='<U19'),\n array(['c', 'math'], dtype='<U19'),\n array(['ios', 'swift', 'xcode'], dtype='<U19'),\n array(['css', 'jquery'], dtype='<U19'),\n array(['algorithm', 'data-structures'], dtype='<U19'),\n array(['mysql', 'ruby', 'ruby-on-rails'], dtype='<U19'),\n array(['javascript', 'jquery'], dtype='<U19'),\n array(['generics', 'java', 'json'], dtype='<U19'),\n array(['javascript', 'node.js'], dtype='<U19'),\n array(['c++', 'c++11'], dtype='<U19'),\n array(['algorithm', 'assembly'], dtype='<U19')]"
     },
     "execution_count": 552,
     "metadata": {},
     "output_type": "execute_result"
    }
   ],
   "source": [
    "coun_vect.inverse_transform(y_test)"
   ]
  },
  {
   "cell_type": "code",
   "execution_count": 553,
   "id": "9e0a8758",
   "metadata": {
    "pycharm": {
     "name": "#%%\n"
    }
   },
   "outputs": [
    {
     "data": {
      "text/plain": "array([[0, 0, 0, ..., 0, 0, 0],\n       [0, 0, 0, ..., 0, 0, 0],\n       [0, 0, 0, ..., 0, 0, 0],\n       ...,\n       [0, 0, 0, ..., 0, 0, 0],\n       [0, 0, 0, ..., 0, 0, 0],\n       [0, 0, 0, ..., 0, 0, 0]], dtype=int64)"
     },
     "execution_count": 553,
     "metadata": {},
     "output_type": "execute_result"
    }
   ],
   "source": [
    "y_pred"
   ]
  },
  {
   "cell_type": "code",
   "execution_count": 554,
   "id": "34a7067b",
   "metadata": {
    "pycharm": {
     "name": "#%%\n"
    }
   },
   "outputs": [
    {
     "data": {
      "text/plain": "0      3\n1      3\n2      2\n3      4\n4      3\n      ..\n751    2\n752    3\n753    2\n754    2\n755    2\nLength: 756, dtype: int64"
     },
     "execution_count": 554,
     "metadata": {},
     "output_type": "execute_result"
    }
   ],
   "source": [
    "df_test = pd.DataFrame(y_test)\n",
    "df_test.sum(axis=1)"
   ]
  },
  {
   "cell_type": "code",
   "execution_count": 555,
   "outputs": [],
   "source": [
    "def custom_score(test,pred):\n",
    "\n",
    "    total_accuracy=0\n",
    "    accuracy=0\n",
    "    size = len(pred)\n",
    "    for i in range(size):\n",
    "        goal = len(test[i])\n",
    "        score = 0\n",
    "        for value in test[i]:\n",
    "            if(value in pred[i]):\n",
    "                score+=1\n",
    "            #print(value)\n",
    "            #print(coun_vect.inverse_transform(y_pred)[i])\n",
    "        accuracy = score*(100/goal)\n",
    "        total_accuracy+=accuracy\n",
    "    print(\"Accuracy : \",total_accuracy/size)\n",
    "\n"
   ],
   "metadata": {
    "collapsed": false,
    "pycharm": {
     "name": "#%%\n"
    }
   }
  },
  {
   "cell_type": "code",
   "execution_count": 556,
   "outputs": [
    {
     "name": "stdout",
     "output_type": "stream",
     "text": [
      "Accuracy :  6.432980599647268\n"
     ]
    }
   ],
   "source": [
    "custom_score(coun_vect.inverse_transform(y_test),coun_vect.inverse_transform(y_pred))"
   ],
   "metadata": {
    "collapsed": false,
    "pycharm": {
     "name": "#%%\n"
    }
   }
  },
  {
   "cell_type": "code",
   "execution_count": 557,
   "outputs": [
    {
     "name": "stdout",
     "output_type": "stream",
     "text": [
      "['ios' 'java' 'json' 'rest']\n",
      "['javascript' 'sql-server']\n",
      "['javascript']\n",
      "['android' 'image-processing' 'ruby' 'ruby-on-rails']\n",
      "['javascript']\n",
      "['multithreading' 'numpy' 'performance' 'sql-server']\n",
      "['android' 'ios' 'multithreading']\n",
      "['linux' 'mysql' 'sql']\n",
      "['angularjs' 'image']\n",
      "['javascript']\n",
      "['gcc']\n",
      "['django' 'forms' 'laravel' 'php']\n",
      "['c++' 'java' 'performance' 'spring']\n",
      "['c++']\n",
      "[]\n",
      "['c' 'javascript' 'performance']\n",
      "['javascript']\n",
      "[]\n",
      "['opencv' 'python']\n",
      "['javascript']\n",
      "['numpy' 'python-3.x' 'wpf' 'xaml']\n",
      "['javascript' 'visual-studio']\n",
      "[]\n",
      "['php']\n",
      "[]\n",
      "['django' 'visual-studio']\n",
      "['ios']\n",
      "['android']\n",
      "['algorithm' 'math' 'python']\n",
      "['ios' 'wpf']\n",
      "['javascript' 'php']\n",
      "['android' 'date']\n",
      "['c']\n",
      "['c++']\n",
      "['javascript']\n",
      "['numpy' 'rest']\n",
      "[]\n",
      "['git' 'ios']\n",
      "['java']\n",
      "['c' 'c++' 'gcc']\n",
      "['c++' 'optimization']\n",
      "['javascript' 'visual-studio']\n",
      "['javascript' 'ruby-on-rails' 'unit-testing']\n",
      "['ios' 'performance' 'python-3.x']\n",
      "['java' 'php']\n",
      "['c++' 'multithreading']\n",
      "['c' 'c++' 'class' 'gcc' 'java' 'security']\n",
      "['numpy']\n",
      "['bash' 'ios' 'shell']\n",
      "['google-chrome']\n",
      "['c++' 'ios' 'uitableview']\n",
      "['list' 'numpy' 'python']\n",
      "['visual-studio-2010']\n",
      "['ios' 'javascript']\n",
      "['android' 'android-studio' 'java' 'mysql']\n",
      "['algorithm' 'c++' 'math']\n",
      "[]\n",
      "[]\n",
      "['c++']\n",
      "['php']\n",
      "[]\n",
      "['java']\n",
      "['javascript' 'oop']\n",
      "[]\n",
      "['c++' 'multithreading']\n",
      "['android' 'java']\n",
      "['ajax' 'django']\n",
      "[]\n",
      "['python']\n",
      "[]\n",
      "['android' 'regex']\n",
      "['java']\n",
      "['.net' 'c#' 'c++']\n",
      "['r']\n",
      "['google-chrome' 'http' 'javascript' 'optimization' 'security' 'selenium']\n",
      "['html' 'http' 'java']\n",
      "['android' 'hibernate' 'java' 'jpa' 'spring']\n",
      "['c++' 'java' 'language-lawyer']\n",
      "['.net' 'c#' 'c++']\n",
      "['javascript']\n",
      "[]\n",
      "['java']\n",
      "['qt']\n",
      "['assembly' 'c' 'c++' 'multithreading']\n",
      "['css' 'javascript']\n",
      "['java' 'php']\n",
      "['java']\n",
      "['android' 'java']\n",
      "['http' 'optimization' 'rest' 'security']\n",
      "['image']\n",
      "[]\n",
      "['android' 'ios']\n",
      "['android' 'cocoa-touch' 'ios' 'java']\n",
      "['android' 'bash' 'shell' 'visual-studio']\n",
      "['javascript' 'numpy']\n",
      "['c' 'c++' 'gcc']\n",
      "['ios']\n",
      "[]\n",
      "['asp.net' 'ios']\n",
      "['java' 'mysql']\n",
      "['android' 'android-studio']\n",
      "['c++' 'java' 'javascript']\n",
      "['oop']\n",
      "['c']\n",
      "['java' 'mysql' 'unix' 'visual-studio']\n",
      "['c++']\n",
      "['git' 'java']\n",
      "['c++' 'javascript' 'visual-studio-2010']\n",
      "['asynchronous' 'c++' 'express' 'javascript' 'optimization' 'performance'\n",
      " 'visual-studio-2010']\n",
      "[]\n",
      "['php']\n",
      "['android']\n",
      "[]\n",
      "['java' 'r']\n",
      "['php']\n",
      "['c++']\n",
      "['java']\n",
      "['c++']\n",
      "['windows']\n",
      "['android']\n",
      "['android' 'android-studio' 'gradle' 'php' 'validation']\n",
      "['php' 'security' 'ubuntu' 'validation']\n",
      "[]\n",
      "[]\n",
      "['asp.net-mvc' 'java' 'unit-testing']\n",
      "['android' 'date' 'java']\n",
      "['multithreading']\n",
      "['c' 'c++' 'language-lawyer']\n",
      "['android' 'java']\n",
      "['c++' 'image']\n",
      "[]\n",
      "['c++' 'forms' 'memory-management']\n",
      "['javascript' 'oop']\n",
      "['c++' 'ios']\n",
      "['java' 'javascript' 'unit-testing']\n",
      "[]\n",
      "[]\n",
      "['java' 'r']\n",
      "['ios']\n",
      "[]\n",
      "['assembly' 'c' 'c++' 'multithreading']\n",
      "['c++' 'mysql']\n",
      "['authentication' 'ios' 'java' 'spring']\n",
      "['java' 'javascript']\n",
      "['java']\n",
      "[]\n",
      "['class' 'hibernate' 'java' 'jpa']\n",
      "['api' 'javascript']\n",
      "['ios']\n",
      "[]\n",
      "['cocoa-touch' 'ios' 'iphone' 'objective-c']\n",
      "['google-chrome' 'javascript' 'visual-studio']\n",
      "['asp.net-mvc' 'c++']\n",
      "[]\n",
      "['c' 'unix']\n",
      "['java']\n",
      "['javascript' 'ruby' 'ruby-on-rails']\n",
      "['java' 'javascript']\n",
      "[]\n",
      "[]\n",
      "['ios' 'macos']\n",
      "['docker' 'numpy']\n",
      "['angular' 'cocoa-touch' 'uitableview']\n",
      "['asp.net' 'javascript']\n",
      "['java']\n",
      "['c' 'linux' 'multithreading']\n",
      "[]\n",
      "['image-processing' 'java']\n",
      "['c++']\n",
      "['optimization' 'performance']\n",
      "['java' 'javascript']\n",
      "['java' 'javascript']\n",
      "[]\n",
      "['javascript']\n",
      "['asp.net-mvc' 'security' 'unit-testing' 'validation']\n",
      "['ios' 'multithreading']\n",
      "['javascript' 'r' 'string']\n",
      "['database' 'mongodb' 'postgresql' 'sql']\n",
      "[]\n",
      "['ios' 'java' 'uitableview']\n",
      "['android' 'gradle' 'javascript']\n",
      "['php']\n",
      "['concurrency' 'memory']\n",
      "[]\n",
      "['c' 'c++' 'gcc']\n",
      "['javascript']\n",
      "[]\n",
      "['django' 'forms']\n",
      "[]\n",
      "['c++']\n",
      "['ios']\n",
      "['asynchronous' 'ios' 'javascript' 'multithreading']\n",
      "['java']\n",
      "['android']\n",
      "['ios']\n",
      "['cocoa-touch' 'ios' 'javascript']\n",
      "['asp.net-mvc' 'security' 'unit-testing' 'validation']\n",
      "['java' 'spring' 'spring-mvc' 'wpf' 'xaml']\n",
      "['c++' 'oop']\n",
      "['numpy' 'performance' 'php']\n",
      "['ios' 'java']\n",
      "['java']\n",
      "['android' 'c++' 'java' 'performance' 'visual-studio']\n",
      "[]\n",
      "[]\n",
      "['iphone' 'objective-c']\n",
      "['ios' 'sql' 'tsql']\n",
      "[]\n",
      "['unit-testing']\n",
      "[]\n",
      "['javascript']\n",
      "['bash' 'javascript' 'shell']\n",
      "[]\n",
      "['javascript']\n",
      "[]\n",
      "['java' 'selenium']\n",
      "['android' 'c++' 'memory-management']\n",
      "[]\n",
      "['mysql' 'sql' 'visual-studio-2010']\n",
      "['javascript' 'php']\n",
      "['c++']\n",
      "['android' 'javascript' 'visual-studio']\n",
      "['c++' 'ios' 'multithreading']\n",
      "[]\n",
      "['android' 'c++']\n",
      "[]\n",
      "['hibernate' 'java' 'jpa']\n",
      "['python-3.x' 'ruby' 'sql-server']\n",
      "['java' 'visual-studio-2010']\n",
      "['ios']\n",
      "['android' 'android-studio' 'java' 'javascript']\n",
      "['android']\n",
      "['c++']\n",
      "['bash' 'multithreading' 'sql-server']\n",
      "['angularjs' 'sql' 'sql-server']\n",
      "['java' 'javascript']\n",
      "['image-processing' 'ios']\n",
      "['java' 'mysql']\n",
      "['cocoa-touch']\n",
      "['php']\n",
      "['c' 'python']\n",
      "['android' 'image-processing' 'xaml']\n",
      "['.net' 'visual-studio']\n",
      "['image' 'opencv']\n",
      "['gcc' 'javascript' 'php']\n",
      "['c++' 'javascript']\n",
      "['c++' 'mysql' 'postgresql' 'sql']\n",
      "['java' 'spring' 'spring-mvc' 'visual-studio']\n",
      "['javascript']\n",
      "['angularjs' 'ios' 'uitableview']\n",
      "['c#' 'exception' 'mysql' 'unit-testing']\n",
      "['java']\n",
      "['c++']\n",
      "['javascript']\n",
      "['javascript']\n",
      "['android' 'visual-studio']\n",
      "['java' 'php']\n",
      "['ios' 'selenium']\n",
      "['algorithm' 'c++' 'data-structures' 'ruby' 'ruby-on-rails'\n",
      " 'ruby-on-rails-3']\n",
      "['javascript' 'php']\n",
      "['java' 'php']\n",
      "['javascript' 'mysql']\n",
      "['angular' 'javascript' 'php' 'security']\n",
      "['c++' 'java']\n",
      "[]\n",
      "['c++']\n",
      "['docker' 'http']\n",
      "['bash' 'shell']\n",
      "['opencv' 'types']\n",
      "['angular']\n",
      "['android' 'php']\n",
      "['asp.net' 'asp.net-mvc' 'authentication' 'java' 'rest' 'spring']\n",
      "['algorithm' 'data-structures' 'mysql' 'performance' 'sql']\n",
      "['javascript' 'visual-studio']\n",
      "['apache-spark' 'maven' 'python-3.x']\n",
      "['javascript' 'r']\n",
      "['cocoa-touch' 'ios' 'javascript' 'math' 'uitableview']\n",
      "['c++']\n",
      "['asp.net' 'java']\n",
      "['.net' 'c#' 'c++']\n",
      "['c' 'c++' 'linux']\n",
      "[]\n",
      "['algorithm' 'data-structures' 'ios' 'java' 'uitableview']\n",
      "['java' 'spring' 'spring-mvc']\n",
      "['java' 'javascript']\n",
      "['android' 'numpy']\n",
      "['java']\n",
      "['python']\n",
      "['asp.net' 'asp.net-mvc' 'authentication']\n",
      "['bash' 'git' 'linux']\n",
      "['javascript' 'php' 'validation']\n",
      "['c++' 'numpy' 'types']\n",
      "['javascript' 'php']\n",
      "['bash' 'java' 'shell']\n",
      "['performance' 'python-3.x']\n",
      "['javascript']\n",
      "['java']\n",
      "['c++' 'javascript']\n",
      "['c++']\n",
      "['php' 'string']\n",
      "[]\n",
      "['php']\n",
      "['.net' 'angular']\n",
      "['ios' 'java']\n",
      "['android' 'android-layout']\n",
      "['c' 'c++' 'gcc']\n",
      "['android' 'java' 'javascript' 'php']\n",
      "['c++']\n",
      "['c++']\n",
      "[]\n",
      "['c++']\n",
      "['asp.net-mvc' 'ubuntu']\n",
      "['asp.net' 'ios']\n",
      "['c' 'java']\n",
      "['amazon-web-services' 'android' 'mysql']\n",
      "['javascript']\n",
      "['java']\n",
      "[]\n",
      "['c++' 'javascript']\n",
      "['assembly' 'c' 'c++' 'multithreading']\n",
      "['android' 'java' 'testing']\n",
      "['algorithm' 'c++' 'image' 'image-processing']\n",
      "[]\n",
      "[]\n",
      "['ios' 'javascript']\n",
      "['java' 'spring']\n",
      "['javascript']\n",
      "['android']\n",
      "['java' 'visual-studio']\n",
      "['ios']\n",
      "['asp.net-mvc' 'ios']\n",
      "['algorithm' 'android' 'c++' 'multithreading']\n",
      "['java' 'spring']\n",
      "['php']\n",
      "['c++' 'image-processing' 'php']\n",
      "['c++' 'javascript']\n",
      "['multithreading']\n",
      "['django' 'java' 'javascript' 'spring']\n",
      "['java']\n",
      "['java' 'php']\n",
      "['angularjs' 'c++']\n",
      "['javascript']\n",
      "['c++']\n",
      "['c++']\n",
      "['angularjs' 'ios' 'uitableview']\n",
      "['android' 'c' 'c++' 'date' 'gcc']\n",
      "['angularjs']\n",
      "['c']\n",
      "['ios']\n",
      "[]\n",
      "['image' 'image-processing' 'javascript']\n",
      "['angularjs' 'django' 'google-chrome' 'postgresql']\n",
      "[]\n",
      "['java' 'types']\n",
      "['c']\n",
      "['css' 'qt']\n",
      "['hibernate' 'java' 'jpa']\n",
      "['visual-studio']\n",
      "[]\n",
      "['django' 'forms' 'opencv' 'python']\n",
      "[]\n",
      "['algorithm' 'list' 'python']\n",
      "['selenium']\n",
      "['c' 'c++' 'class' 'gcc' 'java']\n",
      "['bash' 'ios' 'shell']\n",
      "['sql-server']\n",
      "['java']\n",
      "['oop']\n",
      "['python-3.x']\n",
      "['google-chrome' 'javascript']\n",
      "[]\n",
      "['database' 'javascript' 'mysql' 'php' 'postgresql' 'sql']\n",
      "['c++']\n",
      "['c++']\n",
      "['javascript' 'selenium']\n",
      "['ios']\n",
      "['c' 'c++' 'linux' 'multithreading']\n",
      "['c++']\n",
      "['concurrency' 'java' 'multithreading']\n",
      "[]\n",
      "['c++' 'javascript' 'ruby-on-rails']\n",
      "[]\n",
      "['image-processing' 'ios']\n",
      "[]\n",
      "['c++' 'google-chrome' 'javascript']\n",
      "['android' 'java']\n",
      "['c++' 'list']\n",
      "['java' 'php']\n",
      "[]\n",
      "['android' 'java']\n",
      "['android' 'javascript' 'php' 'ruby']\n",
      "['android' 'javascript' 'json' 'mongodb' 'spring']\n",
      "['javascript' 'mysql' 'sql']\n",
      "['android' 'ios']\n",
      "['cocoa-touch' 'ios']\n",
      "['asp.net-mvc' 'image' 'java' 'unit-testing']\n",
      "['ios']\n",
      "['asynchronous' 'ios' 'multithreading']\n",
      "['c']\n",
      "['c++']\n",
      "['php']\n",
      "['asp.net' 'java']\n",
      "['android']\n",
      "[]\n",
      "['c' 'multithreading' 'unix']\n",
      "['visual-studio']\n",
      "[]\n",
      "['c' 'java']\n",
      "['php']\n",
      "['javascript' 'php']\n",
      "['google-chrome' 'javascript']\n",
      "['opencv']\n",
      "['angular' 'java' 'list' 'numpy' 'spring']\n",
      "['ubuntu' 'visual-studio']\n",
      "['java']\n",
      "['asynchronous' 'ios' 'multithreading']\n",
      "[]\n",
      "['java' 'regex']\n",
      "['image-processing' 'oop']\n",
      "['javascript']\n",
      "['javascript' 'math']\n",
      "['ios' 'java' 'maven']\n",
      "['linux' 'mysql' 'sql']\n",
      "['c++' 'java' 'javascript' 'performance']\n",
      "['asp.net' 'java']\n",
      "[]\n",
      "['date' 'r']\n",
      "['java' 'javascript']\n",
      "['c' 'c++' 'database' 'gcc' 'postgresql' 'sql']\n",
      "['forms' 'ruby' 'ruby-on-rails' 'ruby-on-rails-3']\n",
      "['c++' 'java' 'spring' 'spring-mvc']\n",
      "['amazon-web-services' 'c++' 'mysql']\n",
      "['c++' 'ios' 'multithreading']\n",
      "['ios']\n",
      "['c++']\n",
      "['java' 'linux']\n",
      "['c++']\n",
      "['django' 'forms' 'mysql' 'python']\n",
      "['python' 'python-3.x']\n",
      "['c++']\n",
      "['cocoa-touch' 'ios' 'java']\n",
      "['android' 'date' 'javascript' 'php']\n",
      "['ruby-on-rails' 'ruby-on-rails-3']\n",
      "['linux']\n",
      "['android' 'ios']\n",
      "['c++']\n",
      "['ios' 'sql' 'tsql']\n",
      "['ios' 'r']\n",
      "['django' 'forms' 'mysql' 'python']\n",
      "['django' 'php' 'python-3.x' 'unit-testing']\n",
      "['android' 'android-studio']\n",
      "['ios']\n",
      "['c++' 'multithreading']\n",
      "['ios' 'javascript' 'unit-testing']\n",
      "['android']\n",
      "['api' 'ios' 'java' 'rest']\n",
      "[]\n",
      "['c++' 'security' 'validation']\n",
      "['database' 'mongodb' 'postgresql' 'sql']\n",
      "['google-chrome' 'javascript' 'mongodb' 'selenium']\n",
      "['database' 'java' 'mongodb' 'postgresql' 'sql']\n",
      "['android' 'cocoa-touch' 'ios' 'oop']\n",
      "[]\n",
      "['android']\n",
      "['javascript']\n",
      "['visual-studio']\n",
      "['assembly' 'java' 'jpa']\n",
      "['javascript' 'r']\n",
      "['ios' 'sql' 'tsql']\n",
      "['android' 'security' 'validation']\n",
      "['git' 'linux' 'performance' 'sql' 'sql-server']\n",
      "['android' 'javascript']\n",
      "['ios' 'iphone']\n",
      "['android' 'multithreading']\n",
      "['c++' 'java' 'language-lawyer' 'spring' 'spring-mvc']\n",
      "['android' 'image' 'java']\n",
      "['database' 'git' 'postgresql' 'ruby' 'ruby-on-rails' 'ruby-on-rails-3']\n",
      "['ios']\n",
      "[]\n",
      "['image-processing' 'java']\n",
      "['java' 'rest']\n",
      "['c' 'c++' 'gcc' 'wpf']\n",
      "['javascript']\n",
      "['algorithm' 'image' 'image-processing' 'java']\n",
      "['ios' 'uitableview']\n",
      "['android' 'angularjs' 'unit-testing']\n",
      "[]\n",
      "['selenium']\n",
      "[]\n",
      "['html' 'java']\n",
      "['algorithm' 'image' 'image-processing' 'laravel' 'php']\n",
      "['css']\n",
      "['javascript' 'jquery' 'twitter-bootstrap']\n",
      "['android' 'git']\n",
      "['java' 'linux']\n",
      "['android' 'android-layout']\n",
      "['ios' 'java']\n",
      "['amazon-web-services' 'angularjs' 'ios' 'javascript']\n",
      "['android' 'ios']\n",
      "['ios']\n",
      "[]\n",
      "['asp.net-mvc' 'php']\n",
      "['javascript' 'security']\n",
      "[]\n",
      "['bash' 'javascript' 'shell']\n",
      "['android']\n",
      "['api' 'ios' 'rest']\n",
      "['c++']\n",
      "[]\n",
      "[]\n",
      "['c++']\n",
      "['c++']\n",
      "['opencv' 'python' 'testing']\n",
      "['c++']\n",
      "['google-chrome' 'javascript']\n",
      "['bash' 'java']\n",
      "['c++']\n",
      "['apache-spark' 'python']\n",
      "['c' 'c++' 'gcc']\n",
      "['java' 'security' 'validation']\n",
      "['oop']\n",
      "[]\n",
      "[]\n",
      "['javascript' 'security' 'validation']\n",
      "['.net']\n",
      "['express' 'hibernate' 'http' 'java' 'javascript' 'jpa']\n",
      "['ios']\n",
      "['java' 'php']\n",
      "['bash' 'java' 'linux' 'shell' 'spring' 'unix']\n",
      "['git']\n",
      "['algorithm' 'image' 'image-processing']\n",
      "[]\n",
      "['java' 'ruby' 'ruby-on-rails' 'ruby-on-rails-3']\n",
      "['bash' 'c++' 'java' 'regex']\n",
      "['android' 'javascript']\n",
      "['c++' 'java']\n",
      "['android' 'android-studio']\n",
      "['optimization' 'performance']\n",
      "['android' 'c++' 'multithreading']\n",
      "['c' 'performance']\n",
      "['javascript' 'php']\n",
      "['android' 'javascript']\n",
      "['javascript']\n",
      "['concurrency' 'java' 'multithreading']\n",
      "['javascript']\n",
      "['c++' 'linux']\n",
      "['angular' 'javascript' 'list']\n",
      "['asp.net-mvc' 'bash' 'regex' 'visual-studio']\n",
      "['ios' 'visual-studio']\n",
      "['javascript']\n",
      "['algorithm' 'data-structures' 'mysql' 'performance' 'sql']\n",
      "['javascript']\n",
      "['javascript']\n",
      "['image-processing' 'java']\n",
      "['javascript']\n",
      "['laravel' 'php']\n",
      "['image' 'java']\n",
      "['ios']\n",
      "[]\n",
      "['mysql']\n",
      "['.net']\n",
      "['cocoa-touch' 'ios' 'iphone' 'memory-management']\n",
      "['ios']\n",
      "['image']\n",
      "['ios' 'javascript']\n",
      "['ios' 'mysql']\n",
      "['bash' 'linux']\n",
      "['asp.net-mvc' 'javascript' 'validation']\n",
      "['c' 'c++' 'gcc']\n",
      "['javascript']\n",
      "['http' 'javascript']\n",
      "['bash' 'java']\n",
      "['javascript']\n",
      "['angularjs']\n",
      "['javascript']\n",
      "['ios']\n",
      "['multithreading' 'python']\n",
      "[]\n",
      "[]\n",
      "['javascript' 'list']\n",
      "['git' 'java' 'laravel' 'php']\n",
      "['google-chrome' 'javascript']\n",
      "['android' 'gradle' 'postgresql']\n",
      "['java' 'javascript']\n",
      "['javascript']\n",
      "['android' 'ios']\n",
      "[]\n",
      "['ios']\n",
      "['android' 'ios']\n",
      "[]\n",
      "[]\n",
      "['database' 'django' 'python']\n",
      "['.net']\n",
      "['c']\n",
      "['sql' 'sql-server']\n",
      "[]\n",
      "['list' 'python' 'python-3.x']\n",
      "[]\n",
      "[]\n",
      "[]\n",
      "['c++' 'gcc' 'java']\n",
      "['ios']\n",
      "['database' 'ios' 'mysql' 'sql']\n",
      "['ios' 'javascript' 'php']\n",
      "['c++' 'sql' 'sql-server' 'tsql']\n",
      "['asynchronous' 'ios' 'multithreading']\n",
      "['django' 'forms' 'laravel' 'php']\n",
      "[]\n",
      "['algorithm' 'c++' 'image' 'image-processing' 'language-lawyer']\n",
      "['java' 'spring' 'spring-mvc']\n",
      "['c++']\n",
      "['image-processing' 'javascript']\n",
      "['c++']\n",
      "[]\n",
      "['javascript' 'ruby-on-rails']\n",
      "['android' 'java']\n",
      "[]\n",
      "['ios' 'java' 'selenium' 'uitableview']\n",
      "['javascript' 'php']\n",
      "['c' 'linux' 'multithreading']\n",
      "['javascript' 'selenium']\n",
      "['javascript' 'php']\n",
      "['c' 'c++' 'gcc' 'javascript' 'php']\n",
      "['android']\n",
      "[]\n",
      "['cocoa-touch' 'ios' 'objective-c' 'uitableview']\n",
      "['git' 'hibernate' 'java' 'jpa']\n",
      "['ios']\n",
      "[]\n",
      "['npm']\n",
      "['ios']\n",
      "['bash' 'git' 'javascript']\n",
      "[]\n",
      "['algorithm' 'data-structures' 'javascript' 'performance']\n",
      "['c++']\n",
      "['html' 'javascript']\n",
      "['c']\n",
      "['wpf' 'xaml']\n",
      "['c++']\n",
      "['algorithm' 'c' 'c++' 'memory-management']\n",
      "['asp.net']\n",
      "['algorithm' 'data-structures' 'java' 'performance']\n",
      "['c++' 'cocoa-touch' 'ios' 'multithreading' 'uitableview']\n",
      "['bash' 'git' 'java' 'rest' 'spring']\n",
      "['java' 'javascript']\n",
      "['javascript' 'r']\n",
      "['java' 'php']\n",
      "['java' 'unit-testing']\n",
      "['c++' 'java' 'javascript' 'multithreading']\n",
      "[]\n",
      "['asp.net' 'database' 'javascript']\n",
      "['c++']\n",
      "['java' 'ruby' 'ruby-on-rails' 'ruby-on-rails-3' 'spring' 'spring-mvc']\n",
      "['javascript' 'oop']\n",
      "['c++']\n",
      "[]\n",
      "['android']\n",
      "['django' 'python-3.x' 'unicode']\n",
      "['c' 'c++' 'gcc']\n",
      "['bash']\n",
      "['javascript']\n",
      "['android' 'android-studio' 'java']\n",
      "[]\n",
      "['c' 'docker' 'gcc' 'javascript' 'math']\n",
      "['java' 'javascript']\n",
      "['ios' 'iphone']\n",
      "['javascript' 'wpf']\n",
      "['ios']\n",
      "['android']\n",
      "['google-chrome' 'hibernate' 'java' 'javascript' 'jpa' 'selenium' 'spring']\n",
      "['ios' 'javascript']\n",
      "['ios' 'javascript' 'ruby' 'ruby-on-rails']\n",
      "['ios' 'javascript']\n",
      "['c++']\n",
      "['concurrency' 'java' 'multithreading']\n",
      "[]\n",
      "['c++' 'java' 'spring' 'spring-mvc']\n",
      "[]\n",
      "['java' 'rest' 'testing']\n",
      "['java' 'mysql']\n",
      "['cocoa-touch' 'ios' 'java' 'oop']\n",
      "['android' 'android-layout']\n",
      "['c++' 'php']\n",
      "['android' 'javascript' 'visual-studio']\n",
      "['c++' 'java' 'list' 'unit-testing']\n",
      "['amazon-web-services' 'c++']\n",
      "['ios' 'javascript']\n",
      "[]\n",
      "['java' 'spring']\n",
      "['c++']\n",
      "[]\n",
      "['javascript']\n",
      "['ios' 'mysql' 'postgresql' 'sql']\n",
      "['java' 'php']\n",
      "['php']\n",
      "['c++']\n",
      "['linux' 'mysql' 'sql']\n",
      "['iphone' 'objective-c']\n",
      "['android' 'sql' 'tsql']\n",
      "['android' 'java']\n",
      "['java' 'r']\n",
      "['java']\n",
      "['android' 'c++']\n",
      "['c++']\n",
      "['database' 'mysql' 'php' 'sql']\n",
      "['android' 'android-layout' 'npm']\n",
      "['c' 'c++' 'gcc']\n",
      "['asp.net']\n",
      "['c' 'c++' 'gcc']\n",
      "['ios' 'javascript']\n",
      "['debugging' 'regex']\n",
      "['algorithm' 'data-structures' 'performance' 'visual-studio-2010']\n",
      "['concurrency' 'java' 'multithreading']\n",
      "['algorithm' 'data-structures' 'mysql' 'performance' 'sql']\n",
      "['c++']\n",
      "['php']\n",
      "['java']\n",
      "['android' 'date' 'javascript' 'php']\n",
      "[]\n",
      "['.net' 'c#' 'c++']\n",
      "['angular']\n",
      "['javascript']\n",
      "[]\n",
      "['c' 'mysql']\n",
      "['android' 'javascript' 'visual-studio']\n",
      "['javascript']\n",
      "['java']\n",
      "['c++']\n",
      "['git' 'java']\n",
      "[]\n",
      "['google-chrome' 'java']\n",
      "['google-chrome' 'http' 'javascript' 'optimization' 'security' 'selenium']\n",
      "['ios' 'visual-studio']\n",
      "['php']\n",
      "['javascript']\n",
      "['javascript']\n",
      "['c++' 'java' 'oop' 'optimization']\n",
      "['apache-spark' 'optimization' 'python']\n",
      "['angular' 'ios']\n",
      "[]\n",
      "['android']\n",
      "['google-chrome' 'http' 'javascript' 'optimization' 'security' 'selenium']\n",
      "['c++' 'javascript']\n",
      "['ios']\n",
      "[]\n",
      "['java' 'php']\n",
      "['javascript']\n",
      "['javascript']\n",
      "['javascript']\n",
      "[]\n",
      "['android' 'c++']\n",
      "['c++']\n",
      "[]\n",
      "['visual-studio']\n",
      "[]\n",
      "['regex' 'sql' 'sql-server']\n"
     ]
    }
   ],
   "source": [
    "for val in coun_vect.inverse_transform(y_pred):\n",
    "    print(val)"
   ],
   "metadata": {
    "collapsed": false,
    "pycharm": {
     "name": "#%%\n"
    }
   }
  },
  {
   "cell_type": "code",
   "execution_count": 558,
   "outputs": [
    {
     "name": "stdout",
     "output_type": "stream",
     "text": [
      "['parsing' 'python' 'xml']\n",
      "['algorithm' 'c' 'data-structures']\n",
      "['django' 'python']\n",
      "['android' 'ios' 'mysql' 'php']\n",
      "['mysql' 'php' 'unicode']\n",
      "['haskell' 'scala']\n",
      "['algorithm' 'math']\n",
      "['apache-spark' 'java' 'scala']\n",
      "['android']\n",
      "['jquery']\n",
      "['ios' 'xcode']\n",
      "['c#' 'entity-framework' 'sql' 'winforms']\n",
      "['git']\n",
      "['c#' 'c++']\n",
      "['html' 'sockets']\n",
      "['c++']\n",
      "['dataframe' 'pandas' 'python']\n",
      "['image' 'python' 'python-3.x']\n",
      "['database' 'java' 'postgresql']\n",
      "['memory' 'memory-management' 'multithreading']\n",
      "['wpf' 'xaml']\n",
      "['numpy' 'opencv' 'python-3.x']\n",
      "['ios' 'xcode']\n",
      "['java' 'linux' 'unix']\n",
      "['c#' 'visual-studio-2010']\n",
      "['ios']\n",
      "['java' 'unit-testing']\n",
      "['.net' 'c#' 'winforms']\n",
      "['algorithm' 'math']\n",
      "['java' 'mongodb' 'performance' 'spring']\n",
      "['data-structures']\n",
      "['jquery' 'validation']\n",
      "['ios' 'xcode']\n",
      "['gcc']\n",
      "['java' 'security' 'spring-boot']\n",
      "['laravel' 'php']\n",
      "['asp.net' 'asp.net-web-api' 'c#' 'web-services']\n",
      "['cocoa-touch' 'ios' 'iphone' 'objective-c']\n",
      "['swift' 'xcode']\n",
      "['arrays' 'javascript']\n",
      "['git']\n",
      "['ios']\n",
      "['java' 'python']\n",
      "['apache-spark' 'performance' 'scala']\n",
      "['pandas' 'performance' 'python']\n",
      "['javascript' 'node.js']\n",
      "['python']\n",
      "['arrays' 'c++']\n",
      "['android' 'android-studio' 'gradle' 'java']\n",
      "['algorithm' 'arrays' 'c++']\n",
      "['c++' 'c++11' 'lambda']\n",
      "['java' 'json' 'rest' 'spring']\n",
      "['inheritance' 'java' 'oop']\n",
      "['ruby']\n",
      "['html' 'javascript' 'jquery' 'xml']\n",
      "['.net' 'c#' 'string']\n",
      "['sql' 'sql-server' 'tsql']\n",
      "['c++' 'validation' 'windows']\n",
      "['java' 'mongodb' 'spring']\n",
      "['html' 'image' 'javascript']\n",
      "['linux' 'windows']\n",
      "['authentication' 'java' 'rest' 'security']\n",
      "['javascript']\n",
      "['c#']\n",
      "['sql' 'sql-server' 'tsql']\n",
      "['python' 'selenium']\n",
      "['angular' 'typescript']\n",
      "['android' 'windows']\n",
      "['c++' 'gcc']\n",
      "['javascript' 'node.js']\n",
      "['android' 'java']\n",
      "['c++' 'image-processing' 'opencv']\n",
      "['amazon-web-services']\n",
      "['.net' 'c#' 'winforms']\n",
      "['django' 'json' 'python' 'python-3.x']\n",
      "['html' 'php' 'regex']\n",
      "['ios']\n",
      "['javascript' 'twitter-bootstrap']\n",
      "['optimization' 'performance' 'python']\n",
      "['machine-learning' 'numpy' 'python']\n",
      "['database' 'java' 'performance']\n",
      "['linux']\n",
      "['numpy' 'python']\n",
      "['r']\n",
      "['database' 'django']\n",
      "['html' 'javascript']\n",
      "['.net' 'c#']\n",
      "['android']\n",
      "['arrays' 'javascript']\n",
      "['java' 'ubuntu']\n",
      "['python' 'qt' 'user-interface']\n",
      "['async-await' 'asynchronous' 'javascript']\n",
      "['ipad' 'iphone' 'objective-c']\n",
      "['algorithm' 'git']\n",
      "['debugging' 'node.js']\n",
      "['c++']\n",
      "['ajax' 'api' 'express' 'javascript' 'node.js']\n",
      "['android']\n",
      "['python' 'ubuntu']\n",
      "['c++' 'language-lawyer']\n",
      "['html' 'javascript']\n",
      "['ios']\n",
      "['ios' 'xcode']\n",
      "['android']\n",
      "['image-processing' 'opencv']\n",
      "['java' 'scala']\n",
      "['ios' 'ipad' 'iphone' 'xcode']\n",
      "['python' 'ssl']\n",
      "['mysql']\n",
      "['c++' 'gcc']\n",
      "['asp.net' 'asp.net-web-api']\n",
      "['arrays' 'c' 'function']\n",
      "['python']\n",
      "['.net' 'c#' 'security' 'windows']\n",
      "['reactjs']\n",
      "['android' 'security']\n",
      "['bash' 'linux' 'shell']\n",
      "['css' 'html']\n",
      "['javascript' 'node.js']\n",
      "['mysql' 'sql']\n",
      "['class' 'java' 'types']\n",
      "['c' 'c++' 'optimization' 'performance']\n",
      "['debugging' 'ios' 'iphone']\n",
      "['ssl']\n",
      "['algorithm' 'math']\n",
      "['datetime' 'sql' 'sql-server' 'tsql']\n",
      "['postgresql' 'sql']\n",
      "['c' 'file']\n",
      "['hibernate' 'java']\n",
      "['apache' 'php']\n",
      "['file' 'java']\n",
      "['r']\n",
      "['javascript' 'node.js']\n",
      "['angular' 'javascript' 'typescript']\n",
      "['c']\n",
      "['python']\n",
      "['html' 'javascript']\n",
      "['twitter-bootstrap']\n",
      "['java' 'oop']\n",
      "['c' 'unix']\n",
      "['c#' 'file']\n",
      "['objective-c' 'uitableview']\n",
      "['android']\n",
      "['android' 'css' 'html' 'iphone' 'javascript']\n",
      "['python']\n",
      "['database' 'mysql' 'php']\n",
      "['cocoa-touch' 'ios']\n",
      "['reactjs']\n",
      "['java' 'json' 'rest' 'validation']\n",
      "['c++' 'string']\n",
      "['c#' 'database' 'sql-server']\n",
      "['c#' 'wpf']\n",
      "['java' 'optimization']\n",
      "['c++' 'c++11' 'linux']\n",
      "['express' 'javascript' 'node.js']\n",
      "['sql' 'sql-server' 'tsql']\n",
      "['gradle' 'spring' 'spring-boot']\n",
      "['javascript' 'jquery']\n",
      "['.net' 'ajax' 'asp.net' 'jquery']\n",
      "['dataframe' 'r']\n",
      "['.net' 'asp.net' 'asp.net-mvc']\n",
      "['postgresql' 'sql']\n",
      "['date' 'javascript']\n",
      "['memory']\n",
      "['javascript' 'reactjs']\n",
      "['javascript']\n",
      "['haskell' 'scala']\n",
      "['eclipse' 'java' 'maven']\n",
      "['ios' 'swift']\n",
      "['bash' 'shell' 'unix']\n",
      "['c++']\n",
      "['cocoa-touch' 'ios']\n",
      "['memory']\n",
      "['c#' 'entity-framework']\n",
      "['haskell' 'unicode']\n",
      "['asp.net' 'c#']\n",
      "['ios' 'iphone']\n",
      "['php']\n",
      "['angularjs']\n",
      "['image' 'java']\n",
      "['asp.net-core' 'c#']\n",
      "['c++' 'c++11' 'gcc' 'windows']\n",
      "['apache-spark']\n",
      "['css' 'html']\n",
      "['ios' 'objective-c' 'xcode']\n",
      "['ajax' 'jquery']\n",
      "['asp.net-core' 'c#' 'unit-testing']\n",
      "['php']\n",
      "['angularjs' 'javascript']\n",
      "['generics' 'java']\n",
      "['c++' 'inheritance' 'oop']\n",
      "['cocoa-touch' 'ios' 'objective-c']\n",
      "['date' 'pandas' 'python' 'sorting']\n",
      "['c++' 'c++11' 'gcc' 'visual-studio-2010']\n",
      "['android']\n",
      "['css' 'image']\n",
      "['asp.net' 'asp.net-core' 'c#']\n",
      "['.net' 'c#']\n",
      "['java' 'java-8']\n",
      "['c++' 'gcc' 'macos']\n",
      "['.net' 'c#' 'ssl']\n",
      "['android']\n",
      "['bash' 'shell' 'string']\n",
      "['ios' 'swift']\n",
      "['android' 'android-studio' 'java' 'list']\n",
      "['cocoa-touch' 'ios' 'iphone' 'xcode']\n",
      "['android' 'eclipse' 'java']\n",
      "['android' 'iphone']\n",
      "['generics' 'java']\n",
      "['java']\n",
      "['apache-spark' 'dictionary' 'python']\n",
      "['pandas' 'python' 'string']\n",
      "['c#' 'c++' 'security' 'windows']\n",
      "['data-structures']\n",
      "['c#' 'wpf']\n",
      "['class' 'python']\n",
      "['performance' 'r']\n",
      "['android' 'java']\n",
      "['haskell' 'javascript']\n",
      "['javascript']\n",
      "['pandas' 'python']\n",
      "['c#' 'wpf' 'xaml']\n",
      "['ios' 'swift']\n",
      "['python']\n",
      "['ios' 'swift']\n",
      "['iphone']\n",
      "['angular' 'html' 'image' 'typescript']\n",
      "['macos' 'ruby']\n",
      "['css' 'html' 'javascript' 'jquery']\n",
      "['java']\n",
      "['bash' 'c' 'linux']\n",
      "['python']\n",
      "['sql' 'sql-server' 'tsql']\n",
      "['arrays']\n",
      "['node.js' 'parsing' 'sql']\n",
      "['async-await' 'asynchronous' 'c#' 'wpf']\n",
      "['api' 'laravel' 'php']\n",
      "['python' 'python-2.7']\n",
      "['.net' 'asp.net' 'c#' 'datetime']\n",
      "['macos']\n",
      "['php']\n",
      "['exception' 'generics' 'java']\n",
      "['numpy' 'python']\n",
      "['c++' 'templates']\n",
      "['xml']\n",
      "['ios']\n",
      "['angular' 'firebase' 'javascript']\n",
      "['java']\n",
      "['ios' 'objective-c']\n",
      "['apache-spark' 'machine-learning' 'python']\n",
      "['.net' 'c#' 'types']\n",
      "['android']\n",
      "['java']\n",
      "['class' 'java' 'oop']\n",
      "['c++']\n",
      "['c++' 'performance' 'x86']\n",
      "['android']\n",
      "['image' 'image-processing' 'java']\n",
      "['ios' 'macos']\n",
      "['windows']\n",
      "['c#' 'string']\n",
      "['.net' 'c#' 'visual-studio']\n",
      "['c' 'c++' 'data-structures' 'memory' 'performance']\n",
      "['generics' 'swift']\n",
      "['.net' 'c#']\n",
      "['performance']\n",
      "['c++' 'language-lawyer']\n",
      "['machine-learning']\n",
      "['machine-learning' 'numpy' 'python']\n",
      "['ios']\n",
      "['mysql' 'ruby' 'ruby-on-rails']\n",
      "['data-structures' 'java']\n",
      "['android']\n",
      "['.net']\n",
      "['android' 'android-studio']\n",
      "['python']\n",
      "['inheritance' 'oop' 'ruby']\n",
      "['ios' 'swift' 'xcode']\n",
      "['mysql' 'php']\n",
      "['c++' 'c++11' 'templates']\n",
      "['java']\n",
      "['exception' 'java']\n",
      "['docker' 'ubuntu']\n",
      "['ios' 'swift']\n",
      "['.net' 'c#' 'winforms']\n",
      "['javascript' 'node.js' 'typescript']\n",
      "['c#' 'wpf' 'xaml']\n",
      "['android']\n",
      "['hibernate' 'java' 'jpa' 'spring-boot']\n",
      "['.net' 'java' 'user-interface' 'visual-studio']\n",
      "['performance' 'python' 'python-3.x']\n",
      "['c++' 'x86']\n",
      "['.net' 'c#' 'sockets']\n",
      "['arrays' 'mysql' 'php' 'sql-server']\n",
      "['hibernate' 'java' 'jpa' 'spring' 'spring-boot']\n",
      "['css' 'google-chrome']\n",
      "['javascript' 'jquery']\n",
      "['sql-server']\n",
      "['android' 'android-layout']\n",
      "['data-structures' 'java' 'list']\n",
      "['express' 'mongodb' 'node.js']\n",
      "['javascript' 'jquery']\n",
      "['javascript']\n",
      "['python']\n",
      "['java' 'jpa' 'maven']\n",
      "['ios' 'objective-c' 'xcode']\n",
      "['android' 'gradle' 'java']\n",
      "['ruby' 'unicode']\n",
      "['c++' 'c++11' 'optimization']\n",
      "['javascript' 'macos' 'node.js']\n",
      "['c' 'c++' 'gcc']\n",
      "['java' 'maven' 'spring']\n",
      "['angularjs' 'asp.net' 'javascript' 'json']\n",
      "['assembly' 'x86']\n",
      "['android']\n",
      "['php']\n",
      "['amazon-web-services']\n",
      "['android' 'java' 'json']\n",
      "['javascript' 'node.js' 'typescript']\n",
      "['hibernate' 'java' 'jpa']\n",
      "['ios' 'iphone' 'objective-c' 'php']\n",
      "['javascript']\n",
      "['.net' 'asp.net' 'c#' 'sql-server']\n",
      "['css' 'html' 'javascript']\n",
      "['html' 'javascript']\n",
      "['windows']\n",
      "['c++' 'c++11' 'class']\n",
      "['eclipse' 'java' 'maven' 'spring-boot']\n",
      "['html' 'ios']\n",
      "['database' 'hibernate' 'java' 'jpa' 'spring']\n",
      "['c++' 'lambda']\n",
      "['c++' 'language-lawyer']\n",
      "['php' 'unit-testing']\n",
      "['.net' 'c#' 'windows']\n",
      "['python']\n",
      "['ios' 'swift' 'xcode']\n",
      "['c++' 'class' 'oop']\n",
      "['ios' 'iphone']\n",
      "['python']\n",
      "['javascript' 'jquery' 'json']\n",
      "['image-processing' 'opencv' 'python']\n",
      "['.net' 'c#' 'visual-studio-2010']\n",
      "['css']\n",
      "['django' 'python']\n",
      "['c#' 'image']\n",
      "['date' 'python' 'python-2.7']\n",
      "['javascript']\n",
      "['sql' 'sql-server']\n",
      "['c' 'linux']\n",
      "['javascript' 'jquery']\n",
      "['angularjs' 'javascript']\n",
      "['ios' 'xcode']\n",
      "['c++' 'debugging' 'windows']\n",
      "['android' 'java']\n",
      "['asp.net-core']\n",
      "['matplotlib' 'python']\n",
      "['eclipse' 'java']\n",
      "['c#' 'multithreading' 'visual-studio-2010']\n",
      "['android' 'java']\n",
      "['python']\n",
      "['c' 'file' 'unix']\n",
      "['asp.net-mvc' 'c#']\n",
      "['database' 'pandas' 'python']\n",
      "['javascript' 'jquery']\n",
      "['css' 'javascript' 'jquery']\n",
      "['python' 'ruby']\n",
      "['css' 'java']\n",
      "['hibernate' 'java' 'jpa' 'orm']\n",
      "['matplotlib' 'numpy' 'pandas' 'python' 'python-3.x']\n",
      "['swift' 'xcode']\n",
      "['html' 'javascript' 'jquery']\n",
      "['python']\n",
      "['java' 'spring']\n",
      "['c++' 'function']\n",
      "['android' 'image']\n",
      "['macos' 'python']\n",
      "['css' 'javascript' 'optimization' 'ruby-on-rails']\n",
      "['hibernate' 'java' 'jpa' 'spring']\n",
      "['.net' 'asp.net' 'c#']\n",
      "['r']\n",
      "['asp.net' 'asp.net-core' 'c#']\n",
      "['sql-server' 'tsql']\n",
      "['algorithm' 'string']\n",
      "['algorithm' 'math']\n",
      "['ios' 'objective-c' 'swift']\n",
      "['c#']\n",
      "['google-chrome' 'javascript' 'visual-studio']\n",
      "['postgresql' 'sql']\n",
      "['machine-learning']\n",
      "['google-chrome' 'javascript' 'json']\n",
      "['java' 'java-8']\n",
      "['java' 'java-8' 'maven']\n",
      "['css' 'html' 'javascript' 'jquery']\n",
      "['eclipse' 'java' 'linux']\n",
      "['.net' 'c#' 'winforms']\n",
      "['sql']\n",
      "['json' 'rest']\n",
      "['ios' 'swift']\n",
      "['dataframe' 'pandas' 'python']\n",
      "['android' 'android-studio' 'firebase']\n",
      "['ios' 'swift' 'unit-testing']\n",
      "['.net' 'c#']\n",
      "['debugging' 'ruby' 'ruby-on-rails']\n",
      "['android']\n",
      "['html' 'javascript']\n",
      "['android']\n",
      "['ios' 'swift' 'xcode']\n",
      "['ajax' 'angularjs' 'jquery']\n",
      "['laravel' 'mysql' 'php']\n",
      "['macos' 'xcode']\n",
      "['eclipse' 'java']\n",
      "['iphone' 'objective-c']\n",
      "['ipad' 'javascript' 'jquery']\n",
      "['javascript' 'typescript']\n",
      "['java' 'math']\n",
      "['numpy' 'python']\n",
      "['ajax' 'javascript' 'jquery']\n",
      "['node.js']\n",
      "['asynchronous' 'postgresql' 'ruby']\n",
      "['java' 'spring']\n",
      "['c++']\n",
      "['arrays' 'php']\n",
      "['angular' 'typescript' 'unit-testing']\n",
      "['spring']\n",
      "['generics']\n",
      "['javascript' 'laravel' 'node.js' 'npm']\n",
      "['.net' 'c#' 'generics']\n",
      "['.net' 'sql' 'sql-server' 'tsql']\n",
      "['dataframe' 'machine-learning' 'pandas' 'python']\n",
      "['asp.net' 'asp.net-mvc']\n",
      "['cocoa-touch' 'ios' 'ipad' 'iphone']\n",
      "['java' 'machine-learning' 'python' 'r']\n",
      "['cocoa' 'swift']\n",
      "['assembly' 'c++']\n",
      "['ios' 'objective-c' 'xcode']\n",
      "['logging']\n",
      "['git']\n",
      "['c' 'gcc']\n",
      "['dataframe' 'pandas' 'python']\n",
      "['regex']\n",
      "['iphone' 'uitableview']\n",
      "['function' 'inheritance' 'php']\n",
      "['javascript']\n",
      "['postgresql' 'ruby-on-rails' 'ruby-on-rails-3']\n",
      "['git' 'java' 'windows']\n",
      "['security' 'ssl']\n",
      "['android']\n",
      "['css' 'performance']\n",
      "['file' 'python' 'python-2.7' 'sockets']\n",
      "['ios' 'iphone']\n",
      "['python']\n",
      "['c#']\n",
      "['c++']\n",
      "['r']\n",
      "['c#' 'lambda']\n",
      "['c#' 'language-lawyer']\n",
      "['database' 'sql']\n",
      "['c' 'linux' 'multithreading']\n",
      "['android' 'android-studio']\n",
      "['javascript' 'reactjs']\n",
      "['c#']\n",
      "['c++' 'c++11']\n",
      "['authentication' 'java' 'web-services']\n",
      "['sql']\n",
      "['python' 'windows']\n",
      "['c++' 'c++11']\n",
      "['python']\n",
      "['c++']\n",
      "['django']\n",
      "['c#' 'linq']\n",
      "['css' 'javascript']\n",
      "['html' 'javascript' 'jquery']\n",
      "['sql' 'sql-server' 'tsql']\n",
      "['android' 'java']\n",
      "['ios' 'javascript']\n",
      "['spring' 'spring-boot' 'spring-mvc']\n",
      "['c++' 'qt']\n",
      "['javascript' 'math']\n",
      "['machine-learning' 'swift']\n",
      "['mysql' 'php']\n",
      "['html' 'image' 'javascript']\n",
      "['python' 'python-2.7']\n",
      "['.net' 'c#' 'debugging' 'sql-server' 'visual-studio']\n",
      "['css' 'reactjs']\n",
      "['asp.net' 'c#']\n",
      "['c#' 'performance' 'wpf']\n",
      "['python']\n",
      "['r']\n",
      "['dictionary' 'java']\n",
      "['performance' 'sql']\n",
      "['c++' 'python']\n",
      "['orm' 'python']\n",
      "['hibernate' 'java']\n",
      "['c#' 'datetime']\n",
      "['java']\n",
      "['java' 'jquery' 'spring']\n",
      "['java' 'spring']\n",
      "['c#' 'validation']\n",
      "['html' 'javascript' 'jquery']\n",
      "['c++' 'c++11']\n",
      "['.net' 'c#']\n",
      "['c++' 'c++11']\n",
      "['apache' 'php']\n",
      "['macos']\n",
      "['javascript']\n",
      "['php' 'security']\n",
      "['.net' 'entity-framework']\n",
      "['android' 'android-layout' 'performance']\n",
      "['algorithm' 'ruby']\n",
      "['asp.net' 'c#' 'twitter-bootstrap']\n",
      "['python']\n",
      "['php' 'security']\n",
      "['apache-spark' 'java']\n",
      "['java']\n",
      "['html' 'javascript']\n",
      "['android']\n",
      "['jquery']\n",
      "['.net' 'c#' 'debugging' 'visual-studio-2010']\n",
      "['.net']\n",
      "['.net' 'c#' 'visual-studio' 'wpf']\n",
      "['python']\n",
      "['php']\n",
      "['eclipse' 'java' 'javascript']\n",
      "['arrays' 'dictionary' 'javascript']\n",
      "['ssl']\n",
      "['dataframe' 'pandas' 'python']\n",
      "['android']\n",
      "['css' 'jquery']\n",
      "['ajax' 'asp.net' 'asp.net-web-api' 'c#']\n",
      "['asp.net' 'c#' 'entity-framework' 'linq']\n",
      "['javascript' 'jquery']\n",
      "['amazon-web-services' 'javascript' 'node.js']\n",
      "['java' 'rest']\n",
      "['c']\n",
      "['c++' 'c++11' 'inheritance']\n",
      "['javascript']\n",
      "['c++']\n",
      "['bash' 'string']\n",
      "['php' 'windows']\n",
      "['angularjs' 'http' 'json' 'rest']\n",
      "['php' 'security']\n",
      "['ios' 'objective-c']\n",
      "['firebase' 'javascript' 'security']\n",
      "['macos' 'python']\n",
      "['java' 'memory-management']\n",
      "['machine-learning' 'python']\n",
      "['java' 'r']\n",
      "['haskell' 'scala']\n",
      "['c++' 'c++11']\n",
      "['.net' 'c#' 'inheritance']\n",
      "['c#']\n",
      "['cocoa-touch' 'ios' 'ipad' 'iphone' 'objective-c']\n",
      "['ios' 'iphone']\n",
      "['eclipse' 'java-8']\n",
      "['haskell']\n",
      "['javascript' 'reactjs' 'typescript']\n",
      "['angular' 'api' 'asp.net' 'asp.net-core' 'c#']\n",
      "['cocoa-touch' 'image-processing' 'ios']\n",
      "['c']\n",
      "['javascript']\n",
      "['cocoa-touch' 'ios' 'ipad' 'iphone' 'objective-c']\n",
      "['assembly' 'c' 'linux']\n",
      "['node.js' 'reactjs']\n",
      "['javascript']\n",
      "['algorithm' 'shell' 'sorting']\n",
      "['c++' 'visual-studio' 'windows']\n",
      "['c#' 'visual-studio']\n",
      "['django' 'orm' 'python']\n",
      "['c++' 'performance']\n",
      "['postgresql' 'sql' 'windows']\n",
      "['class' 'java' 'multithreading']\n",
      "['.net' 'http']\n",
      "['parsing' 'python' 'python-2.7']\n",
      "['c++' 'gcc' 'pointers']\n",
      "['html' 'javascript' 'jquery']\n",
      "['algorithm' 'math']\n",
      "['apache-spark' 'python']\n",
      "['http' 'javascript' 'reactjs']\n",
      "['file' 'python' 'python-2.7' 'python-3.x']\n",
      "['javascript']\n",
      "['sql']\n",
      "['.net' 'c#']\n",
      "['android' 'javascript' 'jquery']\n",
      "['google-chrome' 'html' 'javascript']\n",
      "['hibernate' 'java' 'spring']\n",
      "['java']\n",
      "['.net' 'asp.net']\n",
      "['image' 'php']\n",
      "['shell' 'ssl' 'web-services']\n",
      "['linux' 'python']\n",
      "['.net']\n",
      "['macos' 'node.js']\n",
      "['http']\n",
      "['html' 'regex' 'xml']\n",
      "['asp.net' 'asp.net-mvc' 'security']\n",
      "['security']\n",
      "['forms' 'php']\n",
      "['database' 'mysql' 'sql' 'sql-server']\n",
      "['bash' 'sorting']\n",
      "['javascript' 'json' 'node.js' 'reactjs' 'rest']\n",
      "['exception' 'java' 'maven']\n",
      "['android' 'android-layout' 'android-studio' 'xml']\n",
      "['php']\n",
      "['postgresql' 'sql']\n",
      "['c++' 'qt']\n",
      "['java' 'xml']\n",
      "['java']\n",
      "['database']\n",
      "['asynchronous' 'concurrency' 'exception' 'java' 'java-8']\n",
      "['django']\n",
      "['generics' 'java' 'lambda']\n",
      "['java' 'sockets']\n",
      "['ios' 'objective-c']\n",
      "['ios' 'iphone' 'objective-c']\n",
      "['ios' 'iphone' 'objective-c']\n",
      "['angularjs' 'javascript']\n",
      "['angular' 'typescript']\n",
      "['c#' 'entity-framework']\n",
      "['c++' 'c++11' 'templates']\n",
      "['gcc']\n",
      "['python']\n",
      "['c++' 'templates']\n",
      "['apache-spark' 'python']\n",
      "['git' 'macos']\n",
      "['django' 'iphone' 'rest']\n",
      "['ajax' 'javascript' 'jquery']\n",
      "['css' 'ios' 'javascript' 'reactjs']\n",
      "['arrays']\n",
      "['google-chrome' 'javascript']\n",
      "['ios' 'xcode']\n",
      "['logging' 'mysql' 'sql']\n",
      "['.net' 'security']\n",
      "['numpy' 'python']\n",
      "['.net' 'arrays' 'c#' 'optimization' 'performance']\n",
      "['c' 'c++' 'pointers' 'x86']\n",
      "['java']\n",
      "['generics' 'java' 'language-lawyer']\n",
      "['.net' 'c#' 'winforms']\n",
      "['machine-learning' 'python']\n",
      "['android']\n",
      "['asp.net-mvc']\n",
      "['c++' 'sockets']\n",
      "['c' 'optimization' 'performance' 'types']\n",
      "['asp.net' 'c#' 'javascript']\n",
      "['android' 'firebase']\n",
      "['algorithm' 'data-structures' 'javascript']\n",
      "['bash' 'linux' 'shell']\n",
      "['c++' 'c++11' 'multithreading']\n",
      "['python' 'python-3.x']\n",
      "['java']\n",
      "['sql' 'sql-server' 'tsql']\n",
      "['css' 'html' 'javascript']\n",
      "['android' 'java']\n",
      "['cocoa' 'cocoa-touch' 'iphone']\n",
      "['android']\n",
      "['django' 'python']\n",
      "['.net' 'c#']\n",
      "['c#' 'logging' 'unit-testing']\n",
      "['data-structures']\n",
      "['database' 'mysql' 'user-interface']\n",
      "['database' 'sql' 'sql-server' 'tsql']\n",
      "['gradle' 'java' 'scala']\n",
      "['ruby-on-rails']\n",
      "['javascript' 'node.js' 'npm']\n",
      "['algorithm' 'java']\n",
      "['ios' 'objective-c']\n",
      "['c++' 'c++11']\n",
      "['ajax' 'forms' 'html' 'jquery' 'validation']\n",
      "['android']\n",
      "['java' 'spring' 'spring-mvc']\n",
      "['json' 'postgresql']\n",
      "['linux' 'r' 'windows']\n",
      "['async-await' 'c#']\n",
      "['java']\n",
      "['assembly' 'performance']\n",
      "['python']\n",
      "['asp.net-mvc' 'asp.net-web-api' 'c#' 'html']\n",
      "['ios' 'swift' 'uitableview']\n",
      "['c++' 'visual-studio']\n",
      "['java']\n",
      "['class' 'php']\n",
      "['asynchronous' 'python']\n",
      "['sql']\n",
      "['api' 'php']\n",
      "['android' 'android-studio']\n",
      "['amazon-web-services' 'performance']\n",
      "['macos' 'ruby']\n",
      "['java']\n",
      "['javascript' 'node.js']\n",
      "['cocoa' 'macos']\n",
      "['c' 'c++' 'python' 'shell']\n",
      "['python']\n",
      "['.net' 'arrays' 'c#']\n",
      "['git' 'node.js' 'npm']\n",
      "['laravel' 'php']\n",
      "['bash' 'python']\n",
      "['apache-spark']\n",
      "['jquery' 'php']\n",
      "['java' 'maven' 'spring-mvc']\n",
      "['android']\n",
      "['arrays' 'c++' 'c++11']\n",
      "['html' 'javascript']\n",
      "['javascript']\n",
      "['opencv']\n",
      "['datetime' 'sql' 'sql-server' 'tsql']\n",
      "['css' 'html']\n",
      "['pandas' 'python']\n",
      "['html' 'regex' 'string']\n",
      "['bash' 'iphone' 'shell']\n",
      "['authentication' 'java']\n",
      "['hibernate' 'jpa' 'orm']\n",
      "['arrays' 'numpy' 'python']\n",
      "['.net' 'c#' 'string']\n",
      "['javascript' 'typescript']\n",
      "['asynchronous' 'python' 'python-3.x']\n",
      "['linux' 'php' 'ubuntu']\n",
      "['list' 'python' 'python-2.7']\n",
      "['multithreading' 'python']\n",
      "['c#' 'wpf' 'xaml']\n",
      "['scala']\n",
      "['c#']\n",
      "['windows']\n",
      "['machine-learning']\n",
      "['python' 'python-3.x']\n",
      "['.net' 'c#' 'visual-studio' 'visual-studio-2010']\n",
      "['algorithm' 'c' 'c++']\n",
      "['css' 'google-chrome' 'javascript' 'jquery']\n",
      "['java']\n",
      "['hibernate' 'java' 'spring' 'spring-mvc' 'validation']\n",
      "['python']\n",
      "['java' 'windows']\n",
      "['xml']\n",
      "['bash' 'shell' 'unix']\n",
      "['c++' 'gcc' 'inheritance' 'templates']\n",
      "['laravel']\n",
      "['css' 'google-chrome' 'html']\n",
      "['cocoa']\n",
      "['optimization' 'python']\n",
      "['ios' 'objective-c']\n",
      "['ubuntu']\n",
      "['apache' 'php' 'unix']\n",
      "['algorithm' 'haskell' 'sorting']\n",
      "['cocoa-touch' 'ios' 'iphone']\n",
      "['git' 'logging']\n",
      "['c' 'gcc']\n",
      "['c++']\n",
      "['c' 'math']\n",
      "['ios' 'swift' 'xcode']\n",
      "['css' 'jquery']\n",
      "['algorithm' 'data-structures']\n",
      "['mysql' 'ruby' 'ruby-on-rails']\n",
      "['javascript' 'jquery']\n",
      "['generics' 'java' 'json']\n",
      "['javascript' 'node.js']\n",
      "['c++' 'c++11']\n",
      "['algorithm' 'assembly']\n"
     ]
    }
   ],
   "source": [
    "for val in coun_vect.inverse_transform(y_test):\n",
    "    print(val)"
   ],
   "metadata": {
    "collapsed": false,
    "pycharm": {
     "name": "#%%\n"
    }
   }
  },
  {
   "cell_type": "code",
   "execution_count": 559,
   "outputs": [
    {
     "data": {
      "text/plain": "array(['javascript', 'sql-server'], dtype='<U19')"
     },
     "execution_count": 559,
     "metadata": {},
     "output_type": "execute_result"
    }
   ],
   "source": [
    "coun_vect.inverse_transform(y_pred)[1]"
   ],
   "metadata": {
    "collapsed": false,
    "pycharm": {
     "name": "#%%\n"
    }
   }
  },
  {
   "cell_type": "code",
   "execution_count": 560,
   "outputs": [
    {
     "data": {
      "text/plain": "False"
     },
     "execution_count": 560,
     "metadata": {},
     "output_type": "execute_result"
    }
   ],
   "source": [
    "'net' in coun_vect.inverse_transform(y_pred)[1]"
   ],
   "metadata": {
    "collapsed": false,
    "pycharm": {
     "name": "#%%\n"
    }
   }
  },
  {
   "cell_type": "markdown",
   "source": [
    "TODO:\n",
    "remove les empty\n",
    "refaire la précision avec jacquard\n",
    "trouver la meilleure approche\n",
    "piste d'amélioration deep learning\n",
    "utilisation de faiss plus proche voisin de facebook\n",
    "utilisation de fastext (facebook) vectorisation"
   ],
   "metadata": {
    "collapsed": false,
    "pycharm": {
     "name": "#%% md\n"
    }
   }
  },
  {
   "cell_type": "code",
   "execution_count": null,
   "outputs": [],
   "source": [],
   "metadata": {
    "collapsed": false,
    "pycharm": {
     "name": "#%%\n"
    }
   }
  }
 ],
 "metadata": {
  "kernelspec": {
   "display_name": "Projet3",
   "language": "python",
   "name": "projet3"
  },
  "language_info": {
   "codemirror_mode": {
    "name": "ipython",
    "version": 3
   },
   "file_extension": ".py",
   "mimetype": "text/x-python",
   "name": "python",
   "nbconvert_exporter": "python",
   "pygments_lexer": "ipython3",
   "version": "3.9.7"
  }
 },
 "nbformat": 4,
 "nbformat_minor": 5
}