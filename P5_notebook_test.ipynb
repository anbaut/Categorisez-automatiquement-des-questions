{
 "cells": [
  {
   "cell_type": "code",
   "execution_count": 1,
   "id": "50f6fbb8",
   "metadata": {},
   "outputs": [
    {
     "name": "stdout",
     "output_type": "stream",
     "text": [
      "Populating the interactive namespace from numpy and matplotlib\n"
     ]
    }
   ],
   "source": [
    "#Importation des librairies\n",
    "import warnings\n",
    "warnings.filterwarnings(\"ignore\")\n",
    "\n",
    "import os\n",
    "import re\n",
    "import pandas as pd\n",
    "import missingno as msno\n",
    "import numpy as np\n",
    "import seaborn as sns\n",
    "import matplotlib.pyplot as plt\n",
    "import missingno as msno\n",
    "import nltk\n",
    "import nlp_module\n",
    "import string,unicodedata\n",
    "from sklearn.linear_model import LogisticRegression\n",
    "from sklearn.feature_extraction.text import CountVectorizer\n",
    "from sklearn.feature_extraction.text import HashingVectorizer\n",
    "from sklearn.model_selection import train_test_split\n",
    "from sklearn.metrics import accuracy_score\n",
    "from sklearn.multioutput import MultiOutputClassifier\n",
    "from sklearn.pipeline import Pipeline\n",
    "from sklearn import preprocessing\n",
    "from nlp_module import remove_stopwords, plot_top_words, tok, print_score\n",
    "from sklearn.model_selection import GridSearchCV\n",
    "from sklearn.decomposition import NMF, LatentDirichletAllocation\n",
    "import pyLDAvis\n",
    "import pyLDAvis.sklearn\n",
    "\n",
    "\n",
    "from string import punctuation\n",
    "from nltk.corpus import stopwords\n",
    "from time import time\n",
    "\n",
    "pd.set_option(\"display.max_columns\", None)\n",
    "\n",
    "%pylab inline"
   ]
  },
  {
   "cell_type": "code",
   "execution_count": 2,
   "id": "3f3bd6cb",
   "metadata": {},
   "outputs": [],
   "source": [
    "df = pd.read_csv(\"df.csv\", sep=',')"
   ]
  },
  {
   "cell_type": "code",
   "execution_count": 3,
   "id": "57d0d10e",
   "metadata": {
    "scrolled": false
   },
   "outputs": [
    {
     "data": {
      "text/html": [
       "<div>\n",
       "<style scoped>\n",
       "    .dataframe tbody tr th:only-of-type {\n",
       "        vertical-align: middle;\n",
       "    }\n",
       "\n",
       "    .dataframe tbody tr th {\n",
       "        vertical-align: top;\n",
       "    }\n",
       "\n",
       "    .dataframe thead th {\n",
       "        text-align: right;\n",
       "    }\n",
       "</style>\n",
       "<table border=\"1\" class=\"dataframe\">\n",
       "  <thead>\n",
       "    <tr style=\"text-align: right;\">\n",
       "      <th></th>\n",
       "      <th>Title</th>\n",
       "      <th>Body</th>\n",
       "      <th>Tags1</th>\n",
       "      <th>Tags2</th>\n",
       "      <th>Tags3</th>\n",
       "    </tr>\n",
       "  </thead>\n",
       "  <tbody>\n",
       "    <tr>\n",
       "      <th>0</th>\n",
       "      <td>How I set permissions (attributes) file ZIP fi...</td>\n",
       "      <td>When I extract files ZIP file created Python z...</td>\n",
       "      <td>python</td>\n",
       "      <td>zip</td>\n",
       "      <td>zipfile</td>\n",
       "    </tr>\n",
       "    <tr>\n",
       "      <th>1</th>\n",
       "      <td>How get directory listing C?</td>\n",
       "      <td>How scan directory folders files C? It needs c...</td>\n",
       "      <td>c</td>\n",
       "      <td>file</td>\n",
       "      <td>cross-platform</td>\n",
       "    </tr>\n",
       "    <tr>\n",
       "      <th>2</th>\n",
       "      <td>Returning DataTables WCF/.NET</td>\n",
       "      <td>I WCF service I want return DataTable. I know ...</td>\n",
       "      <td>c#</td>\n",
       "      <td>.net</td>\n",
       "      <td>web-services</td>\n",
       "    </tr>\n",
       "    <tr>\n",
       "      <th>3</th>\n",
       "      <td>Angularjs Form/Field validation using JavaScri...</td>\n",
       "      <td>Is way validate field angular without using di...</td>\n",
       "      <td>javascript</td>\n",
       "      <td>validation</td>\n",
       "      <td>angularjs</td>\n",
       "    </tr>\n",
       "    <tr>\n",
       "      <th>4</th>\n",
       "      <td>Scrolling Overflowed DIVs JavaScript</td>\n",
       "      <td>I' got div uses overflow:auto keep contents in...</td>\n",
       "      <td>javascript</td>\n",
       "      <td>jquery</td>\n",
       "      <td>ajax</td>\n",
       "    </tr>\n",
       "    <tr>\n",
       "      <th>...</th>\n",
       "      <td>...</td>\n",
       "      <td>...</td>\n",
       "      <td>...</td>\n",
       "      <td>...</td>\n",
       "      <td>...</td>\n",
       "    </tr>\n",
       "    <tr>\n",
       "      <th>96567</th>\n",
       "      <td>Android Studio Build gradle OutOfMemoryError</td>\n",
       "      <td>I' new Android. I import Github project Androi...</td>\n",
       "      <td>android</td>\n",
       "      <td>android-camera</td>\n",
       "      <td>ddms</td>\n",
       "    </tr>\n",
       "    <tr>\n",
       "      <th>96568</th>\n",
       "      <td>Reload section method swift 3?</td>\n",
       "      <td>I code written objective c.I want convert code...</td>\n",
       "      <td>c#</td>\n",
       "      <td>entity-framework-6</td>\n",
       "      <td>repository-pattern</td>\n",
       "    </tr>\n",
       "    <tr>\n",
       "      <th>96569</th>\n",
       "      <td>How use jarsigner signing apk?</td>\n",
       "      <td>I little programming knowledge.I able open jar...</td>\n",
       "      <td>javascript</td>\n",
       "      <td>css</td>\n",
       "      <td>html</td>\n",
       "    </tr>\n",
       "    <tr>\n",
       "      <th>96570</th>\n",
       "      <td>Model binding ASP.NET Core map underscores tit...</td>\n",
       "      <td>I model class I want bind query string ASP.NET...</td>\n",
       "      <td>git</td>\n",
       "      <td>git-clone</td>\n",
       "      <td>git-remote</td>\n",
       "    </tr>\n",
       "    <tr>\n",
       "      <th>96571</th>\n",
       "      <td>Why comma inside ternary operator throw syntax...</td>\n",
       "      <td>I noticed something odd trying use comma opera...</td>\n",
       "      <td>java</td>\n",
       "      <td>android</td>\n",
       "      <td>bouncycastle</td>\n",
       "    </tr>\n",
       "  </tbody>\n",
       "</table>\n",
       "<p>96572 rows × 5 columns</p>\n",
       "</div>"
      ],
      "text/plain": [
       "                                                   Title  \\\n",
       "0      How I set permissions (attributes) file ZIP fi...   \n",
       "1                           How get directory listing C?   \n",
       "2                          Returning DataTables WCF/.NET   \n",
       "3      Angularjs Form/Field validation using JavaScri...   \n",
       "4                   Scrolling Overflowed DIVs JavaScript   \n",
       "...                                                  ...   \n",
       "96567       Android Studio Build gradle OutOfMemoryError   \n",
       "96568                     Reload section method swift 3?   \n",
       "96569                     How use jarsigner signing apk?   \n",
       "96570  Model binding ASP.NET Core map underscores tit...   \n",
       "96571  Why comma inside ternary operator throw syntax...   \n",
       "\n",
       "                                                    Body       Tags1  \\\n",
       "0      When I extract files ZIP file created Python z...      python   \n",
       "1      How scan directory folders files C? It needs c...           c   \n",
       "2      I WCF service I want return DataTable. I know ...          c#   \n",
       "3      Is way validate field angular without using di...  javascript   \n",
       "4      I' got div uses overflow:auto keep contents in...  javascript   \n",
       "...                                                  ...         ...   \n",
       "96567  I' new Android. I import Github project Androi...     android   \n",
       "96568  I code written objective c.I want convert code...          c#   \n",
       "96569  I little programming knowledge.I able open jar...  javascript   \n",
       "96570  I model class I want bind query string ASP.NET...         git   \n",
       "96571  I noticed something odd trying use comma opera...        java   \n",
       "\n",
       "                    Tags2               Tags3  \n",
       "0                     zip             zipfile  \n",
       "1                    file      cross-platform  \n",
       "2                    .net        web-services  \n",
       "3              validation           angularjs  \n",
       "4                  jquery                ajax  \n",
       "...                   ...                 ...  \n",
       "96567      android-camera                ddms  \n",
       "96568  entity-framework-6  repository-pattern  \n",
       "96569                 css                html  \n",
       "96570           git-clone          git-remote  \n",
       "96571             android        bouncycastle  \n",
       "\n",
       "[96572 rows x 5 columns]"
      ]
     },
     "execution_count": 3,
     "metadata": {},
     "output_type": "execute_result"
    }
   ],
   "source": [
    "df"
   ]
  },
  {
   "cell_type": "code",
   "execution_count": 4,
   "id": "efe8774d",
   "metadata": {},
   "outputs": [
    {
     "data": {
      "text/plain": [
       "96"
      ]
     },
     "execution_count": 4,
     "metadata": {},
     "output_type": "execute_result"
    }
   ],
   "source": [
    "df.isnull().sum().sum()"
   ]
  },
  {
   "cell_type": "code",
   "execution_count": 5,
   "id": "75e1510d",
   "metadata": {},
   "outputs": [],
   "source": [
    "df = df.dropna()"
   ]
  },
  {
   "cell_type": "code",
   "execution_count": 6,
   "id": "a4fb6af1",
   "metadata": {},
   "outputs": [],
   "source": [
    "df_sample = df.sample(frac=0.10, random_state=1)"
   ]
  },
  {
   "cell_type": "code",
   "execution_count": 7,
   "id": "ec38c6a1",
   "metadata": {},
   "outputs": [],
   "source": [
    "full_text = df_sample[\"Title\"].values + \" \" + df_sample[\"Body\"].values\n",
    "df[\"full_text\"] = df[\"Title\"] + df[\"Body\"]"
   ]
  },
  {
   "cell_type": "code",
   "execution_count": 8,
   "id": "f7c504ed",
   "metadata": {},
   "outputs": [],
   "source": [
    "bow_vectorizer = CountVectorizer(ngram_range = (1,1),\n",
    "                                 tokenizer=tok)\n",
    "text_bow = bow_vectorizer.fit_transform(full_text)"
   ]
  },
  {
   "cell_type": "code",
   "execution_count": 9,
   "id": "9072f718",
   "metadata": {},
   "outputs": [
    {
     "name": "stdout",
     "output_type": "stream",
     "text": [
      "Fitting 5 folds for each of 18 candidates, totalling 90 fits\n",
      "[CV] END learning_decay=0.5, learning_method=batch, n_components=8; total time=  32.8s\n",
      "[CV] END learning_decay=0.5, learning_method=batch, n_components=8; total time=  32.5s\n",
      "[CV] END learning_decay=0.5, learning_method=batch, n_components=8; total time=  36.5s\n",
      "[CV] END learning_decay=0.5, learning_method=batch, n_components=8; total time=  34.8s\n",
      "[CV] END learning_decay=0.5, learning_method=batch, n_components=8; total time=  35.4s\n",
      "[CV] END learning_decay=0.5, learning_method=batch, n_components=9; total time=  33.6s\n",
      "[CV] END learning_decay=0.5, learning_method=batch, n_components=9; total time=  32.5s\n",
      "[CV] END learning_decay=0.5, learning_method=batch, n_components=9; total time=  32.9s\n",
      "[CV] END learning_decay=0.5, learning_method=batch, n_components=9; total time=  33.8s\n",
      "[CV] END learning_decay=0.5, learning_method=batch, n_components=9; total time=  33.3s\n",
      "[CV] END learning_decay=0.5, learning_method=batch, n_components=10; total time=  32.6s\n",
      "[CV] END learning_decay=0.5, learning_method=batch, n_components=10; total time=  33.8s\n",
      "[CV] END learning_decay=0.5, learning_method=batch, n_components=10; total time=  32.4s\n",
      "[CV] END learning_decay=0.5, learning_method=batch, n_components=10; total time=  32.1s\n",
      "[CV] END learning_decay=0.5, learning_method=batch, n_components=10; total time=  32.1s\n",
      "[CV] END learning_decay=0.5, learning_method=online, n_components=8; total time=  23.3s\n",
      "[CV] END learning_decay=0.5, learning_method=online, n_components=8; total time=  23.4s\n",
      "[CV] END learning_decay=0.5, learning_method=online, n_components=8; total time=  25.2s\n",
      "[CV] END learning_decay=0.5, learning_method=online, n_components=8; total time=  23.9s\n",
      "[CV] END learning_decay=0.5, learning_method=online, n_components=8; total time=  23.4s\n",
      "[CV] END learning_decay=0.5, learning_method=online, n_components=9; total time=  25.1s\n",
      "[CV] END learning_decay=0.5, learning_method=online, n_components=9; total time=  26.0s\n",
      "[CV] END learning_decay=0.5, learning_method=online, n_components=9; total time=  25.8s\n",
      "[CV] END learning_decay=0.5, learning_method=online, n_components=9; total time=  26.7s\n",
      "[CV] END learning_decay=0.5, learning_method=online, n_components=9; total time=  26.3s\n",
      "[CV] END learning_decay=0.5, learning_method=online, n_components=10; total time=  27.3s\n",
      "[CV] END learning_decay=0.5, learning_method=online, n_components=10; total time=  26.6s\n",
      "[CV] END learning_decay=0.5, learning_method=online, n_components=10; total time=  26.1s\n",
      "[CV] END learning_decay=0.5, learning_method=online, n_components=10; total time=  26.0s\n",
      "[CV] END learning_decay=0.5, learning_method=online, n_components=10; total time=  27.3s\n",
      "[CV] END learning_decay=0.7, learning_method=batch, n_components=8; total time=  33.9s\n",
      "[CV] END learning_decay=0.7, learning_method=batch, n_components=8; total time=  32.0s\n",
      "[CV] END learning_decay=0.7, learning_method=batch, n_components=8; total time=  32.5s\n",
      "[CV] END learning_decay=0.7, learning_method=batch, n_components=8; total time=  32.3s\n",
      "[CV] END learning_decay=0.7, learning_method=batch, n_components=8; total time=  33.2s\n",
      "[CV] END learning_decay=0.7, learning_method=batch, n_components=9; total time=  34.0s\n",
      "[CV] END learning_decay=0.7, learning_method=batch, n_components=9; total time=  33.4s\n",
      "[CV] END learning_decay=0.7, learning_method=batch, n_components=9; total time=  33.4s\n",
      "[CV] END learning_decay=0.7, learning_method=batch, n_components=9; total time=  32.5s\n",
      "[CV] END learning_decay=0.7, learning_method=batch, n_components=9; total time=  32.7s\n",
      "[CV] END learning_decay=0.7, learning_method=batch, n_components=10; total time=  32.7s\n",
      "[CV] END learning_decay=0.7, learning_method=batch, n_components=10; total time=  32.7s\n",
      "[CV] END learning_decay=0.7, learning_method=batch, n_components=10; total time=  34.6s\n",
      "[CV] END learning_decay=0.7, learning_method=batch, n_components=10; total time=  33.7s\n",
      "[CV] END learning_decay=0.7, learning_method=batch, n_components=10; total time=  33.5s\n",
      "[CV] END learning_decay=0.7, learning_method=online, n_components=8; total time=  22.7s\n",
      "[CV] END learning_decay=0.7, learning_method=online, n_components=8; total time=  22.6s\n",
      "[CV] END learning_decay=0.7, learning_method=online, n_components=8; total time=  22.9s\n",
      "[CV] END learning_decay=0.7, learning_method=online, n_components=8; total time=  22.7s\n",
      "[CV] END learning_decay=0.7, learning_method=online, n_components=8; total time=  22.5s\n",
      "[CV] END learning_decay=0.7, learning_method=online, n_components=9; total time=  24.2s\n",
      "[CV] END learning_decay=0.7, learning_method=online, n_components=9; total time=  24.4s\n",
      "[CV] END learning_decay=0.7, learning_method=online, n_components=9; total time=  24.5s\n",
      "[CV] END learning_decay=0.7, learning_method=online, n_components=9; total time=  24.4s\n",
      "[CV] END learning_decay=0.7, learning_method=online, n_components=9; total time=  24.2s\n",
      "[CV] END learning_decay=0.7, learning_method=online, n_components=10; total time=  25.7s\n",
      "[CV] END learning_decay=0.7, learning_method=online, n_components=10; total time=  25.5s\n",
      "[CV] END learning_decay=0.7, learning_method=online, n_components=10; total time=  25.6s\n",
      "[CV] END learning_decay=0.7, learning_method=online, n_components=10; total time=  25.7s\n",
      "[CV] END learning_decay=0.7, learning_method=online, n_components=10; total time=  25.7s\n",
      "[CV] END learning_decay=0.9, learning_method=batch, n_components=8; total time=  32.5s\n",
      "[CV] END learning_decay=0.9, learning_method=batch, n_components=8; total time=  32.3s\n",
      "[CV] END learning_decay=0.9, learning_method=batch, n_components=8; total time=  32.9s\n",
      "[CV] END learning_decay=0.9, learning_method=batch, n_components=8; total time=  32.3s\n",
      "[CV] END learning_decay=0.9, learning_method=batch, n_components=8; total time=  32.5s\n",
      "[CV] END learning_decay=0.9, learning_method=batch, n_components=9; total time=  33.3s\n",
      "[CV] END learning_decay=0.9, learning_method=batch, n_components=9; total time=  33.3s\n",
      "[CV] END learning_decay=0.9, learning_method=batch, n_components=9; total time=  33.3s\n",
      "[CV] END learning_decay=0.9, learning_method=batch, n_components=9; total time=  32.7s\n",
      "[CV] END learning_decay=0.9, learning_method=batch, n_components=9; total time=  33.1s\n",
      "[CV] END learning_decay=0.9, learning_method=batch, n_components=10; total time=  32.8s\n",
      "[CV] END learning_decay=0.9, learning_method=batch, n_components=10; total time=  32.9s\n",
      "[CV] END learning_decay=0.9, learning_method=batch, n_components=10; total time=  33.4s\n",
      "[CV] END learning_decay=0.9, learning_method=batch, n_components=10; total time=  34.0s\n",
      "[CV] END learning_decay=0.9, learning_method=batch, n_components=10; total time=  32.6s\n",
      "[CV] END learning_decay=0.9, learning_method=online, n_components=8; total time=  18.4s\n",
      "[CV] END learning_decay=0.9, learning_method=online, n_components=8; total time=  19.3s\n",
      "[CV] END learning_decay=0.9, learning_method=online, n_components=8; total time=  19.0s\n",
      "[CV] END learning_decay=0.9, learning_method=online, n_components=8; total time=  18.7s\n",
      "[CV] END learning_decay=0.9, learning_method=online, n_components=8; total time=  20.6s\n",
      "[CV] END learning_decay=0.9, learning_method=online, n_components=9; total time=  23.1s\n",
      "[CV] END learning_decay=0.9, learning_method=online, n_components=9; total time=  23.2s\n",
      "[CV] END learning_decay=0.9, learning_method=online, n_components=9; total time=  23.3s\n",
      "[CV] END learning_decay=0.9, learning_method=online, n_components=9; total time=  22.8s\n",
      "[CV] END learning_decay=0.9, learning_method=online, n_components=9; total time=  23.1s\n",
      "[CV] END learning_decay=0.9, learning_method=online, n_components=10; total time=  25.1s\n",
      "[CV] END learning_decay=0.9, learning_method=online, n_components=10; total time=  24.3s\n",
      "[CV] END learning_decay=0.9, learning_method=online, n_components=10; total time=  25.0s\n",
      "[CV] END learning_decay=0.9, learning_method=online, n_components=10; total time=  23.7s\n",
      "[CV] END learning_decay=0.9, learning_method=online, n_components=10; total time=  23.6s\n"
     ]
    },
    {
     "data": {
      "text/plain": [
       "GridSearchCV(cv=5,\n",
       "             estimator=LatentDirichletAllocation(batch_size=400,\n",
       "                                                 random_state=42),\n",
       "             param_grid={'learning_decay': [0.5, 0.7, 0.9],\n",
       "                         'learning_method': ['batch', 'online'],\n",
       "                         'n_components': [8, 9, 10]},\n",
       "             verbose=2)"
      ]
     },
     "execution_count": 9,
     "metadata": {},
     "output_type": "execute_result"
    }
   ],
   "source": [
    "lda = LatentDirichletAllocation(random_state=42,\n",
    "                                batch_size=400)\n",
    "\n",
    "params = {'n_components' : [8, 9, 10],\n",
    "          \"learning_decay\" : [0.5, 0.7, 0.9],\n",
    "          \"learning_method\" : [\"batch\", \"online\"]}\n",
    "\n",
    "gridsearch_lda = GridSearchCV(lda,\n",
    "                              param_grid=params,\n",
    "                              cv=5,\n",
    "                              verbose=2)\n",
    "gridsearch_lda.fit(text_bow)"
   ]
  },
  {
   "cell_type": "code",
   "execution_count": 10,
   "id": "99748bad",
   "metadata": {},
   "outputs": [
    {
     "name": "stdout",
     "output_type": "stream",
     "text": [
      "Best Model's Params:  {'learning_decay': 0.9, 'learning_method': 'online', 'n_components': 8}\n",
      "Best Log Likelihood Score:  -3540096.231567706\n"
     ]
    }
   ],
   "source": [
    "best_lda_model = gridsearch_lda.best_estimator_\n",
    "\n",
    "print(\"Best Model's Params: \", gridsearch_lda.best_params_)\n",
    "print(\"Best Log Likelihood Score: \", gridsearch_lda.best_score_)"
   ]
  },
  {
   "cell_type": "code",
   "execution_count": 11,
   "id": "b6fce901",
   "metadata": {},
   "outputs": [
    {
     "data": {
      "text/html": [
       "\n",
       "<link rel=\"stylesheet\" type=\"text/css\" href=\"https://cdn.jsdelivr.net/gh/bmabey/pyLDAvis@3.3.1/pyLDAvis/js/ldavis.v1.0.0.css\">\n",
       "\n",
       "\n",
       "<div id=\"ldavis_el2730816194659933443079816241\"></div>\n",
       "<script type=\"text/javascript\">\n",
       "\n",
       "var ldavis_el2730816194659933443079816241_data = {\"mdsDat\": {\"x\": [-108.958251953125, 186.487060546875, 19.245832443237305, 170.65882873535156, -1.3864107131958008, -145.8000946044922, 64.83454132080078, -196.90603637695312], \"y\": [-208.9414825439453, -98.1032485961914, 160.85877990722656, 75.44507598876953, -35.043739318847656, 106.94461059570312, -221.8252716064453, -58.99091339111328], \"topics\": [1, 2, 3, 4, 5, 6, 7, 8], \"cluster\": [1, 1, 1, 1, 1, 1, 1, 1], \"Freq\": [84.7031963762997, 4.977635773876658, 3.7258422217559732, 1.5937780028855482, 1.4897400247063934, 1.2568375157976626, 1.2335648305819946, 1.0194052540960774]}, \"tinfo\": {\"Term\": [\"\\\"\", \";\", \":\", \")\", \"=\", \">\", \"(\", \"}\", \"{\", \"0\", \"]\", \"android\", \"[\", \"/\", \"%\", \"int\", \"&#124;\", \"--\", \"void\", \"public\", \"*\", \",\", \"return\", \"'\", \"new\", \"already\", \"true\", \"name=\", \"==\", \"right\", \"=>\", \"std\", \"response\", \"function(\", \"def\", \"sql\", \"server\", \"a\", \"javascript\", \"jquery\", \"many\", \"number\", \"store\", \"table\", \"current\", \"good\", \"date\", \"best\", \"is\", \"video\", \"objects\", \"php\", \"variable\", \"possible\", \"_\", \"question\", \"console.log(\", \"node\", \"client\", \"there\", \",\", \"i\", \"'\", \"?\", \".\", \")\", \"using\", \"use\", \"$\", \"the\", \"like\", \"would\", \"file\", \"data\", \"1\", \"(\", \"get\", \"how\", \"one\", \"way\", \"code\", \"error\", \"string\", \"want\", \"function\", \"need\", \"what\", \"2\", \"also\", \":\", \"]\", \"=\", \"{\", \"}\", \"/\", \"[\", \"!\", \";\", \"-\", \"new\", \"\\\"\", \"0\", \"public\", \"2/20/13\", \"<gridviewcolumn\", \"displaymemberbinding=\", \"header=\", \"ts-node\", \"debugproxy\", \"53.590\", \"5644\", \"com.dps.nom.dops.util.debugproxy\", \"layoutinflater.java\", \"12-19\", \"0000002f\", \"closesession\", \"property=\", \"wrap_content\", \"5dp\", \"</listview>\", \"virtualfilterchain.dofilter(\", \"<setter\", \"<xsl\", \"<property\", \"0000001b\", \"layout_weight=\", \"</gridview>\", \"applicationfilterchain.java\", \"<gridview>\", \"textappearance=\", \"filterchainproxy.java\", \"<listview.view>\", \"</listview.view>\", \"layout_height=\", \"layout_width=\", \"<textview\", \"background=\", \"org.springframework.security.web.filterchainproxy$\", \"match_parent\", \"</linearlayout>\", \"<linearlayout\", \"fill_parent\", \"xmlns\", \"<item\", \"android=\", \"http://schemas.android.com/apk/res/android\", \"com.android.support\", \"android\", \"orientation=\", \"value=\", \"cst\", \"name=\", \"id=\", \"class=\", \"text=\", \"width=\", \">\", \"\\\"\", \"<?xml\", \"encoding=\", \"<option\", \"version=\", \"binding\", \":\", \"<div\", \"</div>\", \"true\", \"?>\", \"--\", \"/\", \"utf-8\", \"type=\", \"'\", \"}\", \")\", \"{\", \"i\", \"false\", \",\", \"ymm1\", \"eax\", \"ecx\", \"qword\", \"3260\", \"ebp\", \"38.089\", \"06-29\", \"xmm0\", \"rax\", \"vec4\", \"&#xfffd\", \"5.0f\", \"rdx\", \"lparam\", \"9990\", \"@interface\", \".section\", \".l7\", \"nop\", \"&arr[\", \"rdi\", \"debug.log(\", \"&#x0\", \"ebx\", \".quad\", \"xmm1\", \"lea\", \".l2\", \"charat\", \"movl\", \"ymm0\", \"rbp\", \"mov\", \"loops=1\", \"&#x1\", \"0.000\", \"c5\", \"mkmapview\", \"dword\", \"@end\", \"rcx\", \"ptr\", \"esp\", \"intptr\", \";\", \"%\", \"void\", \"@property\", \"float\", \"int\", \")\", \"&#124;\", \"=\", \"@\", \"0\", \"char\", \"*\", \"}\", \"{\", \"]\", \"(\", \"[\", \"public\", \"==\", \"@override\", \"..\", \"private\", \",\", \"/\", \"return\", \"new\", \"\\u2502\", \"~[\", \"\\u2551\", \"973c1361-43c3-41a2-9bcd-6ef850c41fcc\", \"#~\", \"worker.1\", \"2014-07-16t03\", \"info/worker-9/23\", \"04-10\", \"sampleheartrateapp[\", \"1803\", \"1743\", \"requests.packages.urllib3.connection\", \"05-07\", \"2013-11-04\", \"0.3e1\", \"2014-07-16t02\", \"\\u251c\\u2500\\u2500\", \"nowrap\", \"na\", \"info/worker-28/99\", \"v/main\", \"ops/\", \"streambenchmark.loop\", \"model.add(\", \"streambenchmark.stream\", \"thrpt\", \"2689\", \"18,2\", \"moshem$\", \"reads/second\", \"l2\", \"align=\", \"myengine\", \"l3\", \"sparse\", \"<td\", \"gem\", \"<module>\", \"blas\", \"df\", \"layer\", \"install\", \"right\", \"loss\", \",\", \")\", \"numpy\", \"pip\", \"<compile\", \"https://xdebug.org/docs/upgrade_guide#changed-\", \"<xsd\", \"up-to-date\", \"overruns\", \"28/apr/2017\", \"</xs\", \"+0200\", \"58.\", \"<xs\", \"include=\", \"owasp_dirbuster_project\", \"http://www.owasp.org/index.php/category\", \"lldb_private\", \"proximity\", \"10.0.2.214\", \"</xsd\", \"dirbuster-0.12\", \"libsystem_pthread.dylib\", \"5.100\", \"02-10\", \"core.js\", \"complextype>\", \"len=0\", \"publickeytoken=b77a5c561934e089</value>\", \"kb/\", \"<value>\", \"system.resources.resxfileref\", \"sharename/b\", \"163.33.74.115\", \"tokenset\", \"<package\", \"ssdp\", \"rsync\", \"datamember\", \"version=2.0.0.0\", \"oidc\", \"ack\", \"<attribute\", \"req.session.useridentity\", \"targetframework=\", \"0.0\", \"culture=neutral\", \"cv\", \"entityframework\", \"rx\", \"tx\", \"packets\", \"net451\", \"upgrading\", \"500\", \"varchar(\", \"0.\", \"tcp\", \"0\", \"version=\", \"--\", \"\\\"\", \"name=\", \">\", \"type=\", \"1.0\", \",\", \":\", \"guide\", \"[\", \"2012-01-26t08\", \"&session\", \"get_account(\", \"m_messagesizeiterator\", \"msg_cnt\", \"\\u00f4\\u00f6\\u00a3\", \"m_socket\", \"\\u00f4\\u00f6\\u00e7\\u00f4\\u00f6\\u00e7\", \"vret_val\", \"ora-06550\", \"bytes_transferred\", \"19582\", \"ret1\", \"tran_cnt\", \"&m_messagesize\", \"ioservice\", \"07-06\", \"m_message\", \"m_messagesize\", \"i/debug(\", \"__1\", \"vtran_count\", \"vaccount_id\", \"async_write(\", \"+00\", \"06550.\", \"vmessage_count\", \"*cause\", \"new_session\", \"internal/modules/cjs/loader.js\", \"error_code&amp;\", \"2012-01-16t02\", \"async_read(\", \"placeholders\", \"<version>$\", \"25\", \"</dependency>\", \"buffer(\", \"<dependency>\", \":\", \"rc\", \"bind(\", \"'\", \",\", \"hc=\", \"viewgroup.java\", \"16783\", \"androidruntime\", \"awaiter\", \"p12\", \"jce\", \"pkcs12\", \"0x70\", \"xerces\", \"view.java\", \"android.view.viewgroup.drawchild(\", \"usr/local/lib/python3.6/dist-packages/selenium/webdriver/remote/webelement.py\", \"amet\", \"com.sun.deploy.security.trustdecider.isallpermissiongranted(\", \"aenean\", \"usr/local/lib/python3.6/dist-packages/selenium/webdriver/remote/webdriver.py\", \"5d576e9a44fe4c5b6a07e568f1ebc753f1214634\", \"ypos\", \"nmi\", \"4.15.0-42-generic\", \"android.view.viewgroup.dispatchdraw(\", \"-destkeystore\", \"-srckeystore\", \"dolor\", \"platform=linux\", \"chromedriver=2.44.609551\", \"-importkeystore\", \"warn/system.err(\", \"java.security.nosuchproviderexception\", \"2015-12-15\", \"msk\", \"iasyncresult\", \"error/androidruntime(\", \"root/instapy/instapy/unfollow_util.py\", \"38.487\", \"1167\", \"03-06\", \"android.view.view.measure(\", \"jks\", \"keytool\", \"controllercontext\", \"zygoteinit.java\", \"311\", \"interrupts\", \"applet\", \"keystore\", \")\", \"e/androidruntime(\", \":\", \"caused\", \"lnk2005\", \"msvcr100.dll\", \"\\\\dcmtk-3.5.4-src\\\\cmakebinaries\\\\dcmpstat\\\\apps\\\\libcmt.lib(\", \"msvcrt.lib(\", \"\\\\1\\\\1\\\\1\\\\1\\\\1\\\\1\\\\1\\\\1\\\\1\\\\1\\\\1\\\\1\\\\1\\\\1\\\\1\\\\1\\\\1\\\\1\\\\1\\\\1\\\\1\\\\1\\\\1\\\\1\\\\1\\\\1\\\\1\\\\1\\\\1\\\\1\\\\1\\\\1\\\\1\\\\1\\\\1\\\\1\\\\1\\\\1\\\\1\\\\1\\\\1\\\\1\\\\1\\\\1\\\\1\\\\1\\\\1\\\\1\\\\1\\\\1\\\\1\\\\1\\\\1\\\\1\\\\1\\\\1\\\\1\\\\1\\\\1\\\\1\\\\1\\\\1\\\\1\\\\1\\\\1\\\\1\\\\1\\\\1\\\\1\\\\1\\\\1\\\\1\\\\1\\\\1\\\\1\\\\1\\\\1\\\\1\\\\1\\\\1\\\\1\\\\1\\\\1\\\\1\\\\1\\\\1\\\\1\\\\1\\\\1\\\\1\\\\1\\\\1\\\\1\\\\1\\\\1\\\\1\\\\1\\\\1\\\\1\\\\1\\\\1\\\\1\\\\1\\\\1\\\\1\\\\1\\\\1\\\\1\\\\1\\\\1\\\\1\\\\1\\\\1\\\\1\\\\1\\\\1\\\\1\\\\1\\\\1\\\\1\\\\1\\\\1\\\\1\\\\1\\\\1\\\\1\\\\1\\\\1\", \"libcmt.lib(\", \"dcmp2pgm\", \"dcmpsprt\", \"dcmprscu\", \"\\\\dcmtk-3.5.4-src\\\\cmakebinaries\\\\dcmpstat\\\\apps\\\\msvcrt.lib(\", \"dcmprscp\", \"ccp1\", \"i/memory(\", \"crt0dat.obj\", \"1045\", \"libruby.dylib\", \"verts[\", \"loadscene\", \"04-03\", \"_to\", \"clearscene\", \"camera1session\", \"rotverts[\", \"nmem\", \"15827\", \"jmem\", \"42432\", \"nazgulled\", \"usr/local/lib/ruby/gems/1.9.1/gems/sinatra-1.0/lib/sinatra/base.rb\", \"_from\", \"loc\", \"04-02\", \"usr/local/lib/python3.6/site-packages/pymysql/connections.py\", \"usr/local/lib/python3.6/site-packages/sqlalchemy/engine/base.py\", \"usr/local/lib/python3.6/site-packages/flask/app.py\", \"usr/local/lib/python3.6/site-packages/sqlalchemy/orm/query.py\", \"65536\", \"m\", \"cleared\", \"defined\", \"u\", \"ff\", \"already\", \"02\", \"38\"], \"Freq\": [70140.0, 40637.0, 80110.0, 85604.0, 23557.0, 5139.0, 27836.0, 20202.0, 19225.0, 5473.0, 15846.0, 3676.0, 10333.0, 18574.0, 3620.0, 3186.0, 3282.0, 2998.0, 2431.0, 4613.0, 2943.0, 86651.0, 4268.0, 48554.0, 5403.0, 831.0, 1845.0, 1077.0, 1369.0, 1032.0, 1891.8236620929995, 1649.59050147274, 807.6587159709, 687.8537681937239, 697.7648300391706, 700.4966831490124, 1930.373352712976, 1553.2595743111376, 740.4089846277689, 505.49559440691894, 785.0632058970001, 1117.0932021544047, 646.556715366008, 958.1551690207708, 598.4127984255924, 663.794143975045, 670.456489301029, 763.1422248809663, 2598.464117099168, 457.58696922033346, 603.4159294185508, 518.7882440084938, 577.8837105572785, 1245.3266108084983, 409.3055030484372, 1735.7695103500255, 413.0794751404393, 450.2921386066317, 879.5958540309155, 594.9501250847578, 85979.3874282249, 47107.222971839896, 48150.357101915266, 17911.85077886438, 9646.019244059311, 83198.16801986359, 7234.906922424378, 5166.220163520823, 4767.750209769019, 5619.7459366213025, 5134.135977112491, 3891.66412394842, 4915.537995777938, 3756.4206995757004, 5377.52448231816, 27209.08390873973, 4633.543695361211, 4046.2767165112487, 3300.1735781133207, 3099.2125730669954, 5083.79108588643, 4932.970524872034, 3735.7772371423325, 3133.0023992036463, 2421.543074408441, 2491.725069724688, 2448.412929315192, 3349.9408620668105, 2283.438515419011, 75161.90486147499, 15326.034020141886, 22580.992678735136, 18479.792299690314, 19372.613238187376, 17737.437848675647, 9912.985717149682, 4201.218878655202, 36369.34984327475, 4511.037008008928, 5244.655360994715, 51961.30100843124, 4888.940973209605, 4226.900367835065, 94.18348726850655, 59.897920962625285, 51.61499698416657, 60.462686068666876, 67.79112275460943, 68.38853875245589, 47.19953331816615, 47.17862203981048, 68.30559463941857, 34.047059217231684, 49.52624502341158, 46.40427976325979, 41.050873738266155, 62.99224200777928, 292.6442632129844, 26.733099487558256, 23.136490789098932, 37.86876873237325, 40.222972619501576, 22.10999258410808, 124.6732214740906, 26.524045204760966, 49.5040683275427, 19.464941640000347, 22.299411040232783, 19.46168283735075, 20.914066675015526, 45.01660560582804, 19.45533920212618, 19.452811716613542, 328.9595733064082, 332.464911145039, 57.37941882262284, 78.66602137113959, 37.70288369574306, 218.51762601839505, 66.85577947824856, 68.6202160764629, 68.05341071406077, 247.83324397989483, 106.90524410688963, 85.17441887401124, 84.96807403659244, 81.27159826983977, 2773.7990312842644, 64.2506950431064, 390.771323638576, 92.21935496282275, 778.7606153728409, 570.680778521805, 537.8151137980778, 103.6181738342922, 130.6989150783717, 2584.295019507772, 17876.047784007227, 107.25004249084267, 99.27306174151548, 100.03962519565614, 130.80092332924698, 161.44443897407803, 4682.262090526047, 195.87114639918082, 172.17028661085632, 285.3656269061385, 107.60641180541299, 321.5375643245771, 574.1397848114369, 117.30840941964955, 147.70935635052822, 313.39429032725855, 236.4737266825646, 252.28061574380916, 176.79585054488726, 181.67647235343608, 127.90618599469954, 161.71795570659802, 61.95766333699045, 143.2652009429175, 51.465184138651615, 40.03784324055785, 44.07479866654165, 37.397149490323415, 41.550406383702295, 41.54508650823946, 32.77218272841101, 130.3787295634304, 44.95540635329302, 178.5640167800293, 53.10145044396433, 38.90640307969953, 23.717343831169625, 25.924297302961335, 37.28363932982302, 25.652374704488196, 19.733814072671535, 32.99638869860785, 23.044003373786072, 56.10337879659501, 22.717414646795376, 35.16379307660155, 20.96123214977961, 17.95820105942321, 18.494924134797014, 19.57919148181061, 17.769299508641854, 36.50547429140171, 66.23285397101054, 42.778730354974975, 44.60474892005456, 156.91838230725412, 45.17364531196043, 27.430682582342715, 114.38576826267284, 54.48856449305017, 29.479750382788776, 44.168904858829485, 44.34018552202623, 43.412725716663005, 119.75665016353994, 43.337595912887, 49.061677505536274, 4188.129439965755, 638.8650767167486, 431.11918664417686, 54.97273055362045, 164.56364251763955, 443.20396118667577, 2042.7295374775076, 383.8920480229177, 944.5224601832562, 180.6650770512071, 382.4192887962044, 123.21635367295244, 282.85660856491694, 575.3241312606845, 557.268654358267, 468.7013999485829, 576.9486595553917, 375.14801493698184, 259.871538435566, 164.2052733941112, 111.86096902436792, 133.67724817873162, 133.2726689345803, 339.7924581184451, 231.46607155944142, 161.6681396452992, 140.785195044531, 147.31004886248908, 58.647007866743465, 72.16767618664724, 64.81426268548282, 42.349484390793414, 64.60449951940207, 40.054828973073725, 37.33659972276744, 26.417039182783544, 34.87473493568059, 32.293308661569135, 34.777157224918994, 23.467734051163774, 32.841431113699564, 34.645720631209855, 18.12242088097549, 24.65654534663868, 21.69886161772592, 109.2263059028781, 56.736211293220265, 23.28093757023704, 32.696733305194996, 45.64373920379266, 17.908866075122823, 30.947137013086344, 17.861471174808475, 45.3293265690895, 13.546767976105677, 16.02248169715623, 14.797415296033538, 21.471441045393533, 46.52569616849398, 111.22223818748351, 31.68110703799967, 26.756293238067478, 28.839829958903984, 60.26014176671253, 66.35768855658883, 51.462454865218525, 30.10888451562852, 39.57756951845628, 40.28129944511928, 54.17512674924106, 54.2639860650385, 32.25210214949593, 72.31050227079045, 61.3807641108833, 34.77577658583609, 32.467207231053465, 33.095811748998, 26.809748727146385, 22.953698393312877, 29.710685178555803, 24.519403503238024, 18.807640831444914, 22.39359669914439, 18.746375980846338, 15.11389828601249, 26.264767408923124, 58.16884606942633, 16.32476023514136, 16.324017860699403, 13.68377368650862, 14.671745948208889, 17.20716696612128, 11.514273578459516, 16.274958110624993, 12.272747701797423, 11.55441476428755, 13.450931469328086, 12.816224294450898, 14.001066084783321, 15.357921698060526, 10.917951606210616, 11.882699276987987, 10.911447313923274, 10.913194727059334, 10.91411194363764, 16.75300028750423, 36.680871657896475, 35.14466752547251, 13.47310233473985, 29.696775231724615, 21.85182937762864, 15.297568909233844, 15.890033717589334, 22.27579392997074, 15.44037031864594, 15.758569235698618, 38.27433908749145, 103.74583102940458, 39.817326319484984, 32.474001003722975, 25.623715619480674, 27.09008676212092, 24.622608527269488, 36.73515741248441, 19.748695014607154, 32.902968835012274, 67.78266435626799, 56.967681258244305, 40.341896403169734, 55.66990817230477, 192.45111964852512, 43.01580930719747, 108.76034048951226, 246.61224968003404, 60.18148781939556, 90.29863586464589, 55.526680823032095, 39.75925883236978, 53.07456760596808, 35.36580077099889, 26.242321583733148, 26.342179358098864, 52.448504220388486, 56.28155555300634, 23.743655051036328, 46.8971807567382, 42.316151951622395, 18.975488828339053, 74.59554394383827, 18.981543942448123, 23.68400612288559, 37.59590612384129, 47.9103318183441, 39.39986070131165, 28.27394937112225, 42.178077496444445, 37.46287677119479, 32.79280260657833, 42.54746020760582, 74.27705016167805, 92.66094832761897, 39.336375942079584, 53.04399433365349, 23.55388603437646, 23.545853739624114, 28.08493755361537, 18.81020479128433, 18.90755541285374, 23.514414207001956, 18.89710506072484, 28.030690573600666, 26.7555971954774, 43.86828028710896, 24.03909968386111, 28.409556315203805, 75.19537169313699, 23.553484155152, 52.7770889548716, 42.33467135233428, 35.07943143768066, 38.031237779194015, 77.92209338700988, 29.14472693163131, 27.108428958892862, 40.59093353505489, 28.676352140542352, 55.70859105360767, 44.80685690401645, 24.995225781297464, 24.93975794749235, 16.422081203622195, 19.177515493912377, 19.686520368493436, 17.205758645473594, 19.658733877019802, 14.833879385852061, 26.403989415082638, 14.599016020447538, 14.405241797869394, 15.76110514718681, 14.383368686874773, 11.652571589978194, 14.375823826882169, 14.36658413771413, 13.138082641543178, 14.362928547523872, 14.360814216054008, 14.539949154646443, 11.369198958650575, 11.366857950230601, 12.776714855391191, 14.339014141046441, 14.334319518174476, 11.349095862785628, 14.416424813268236, 14.321984686318237, 34.22394766823226, 34.000427953671895, 16.517955755358855, 19.2060311659323, 14.304122337204474, 25.038729527372176, 25.90118006028917, 24.741261624219373, 15.107299339614816, 28.80068773840833, 20.953425405216315, 17.420784009485413, 17.73197795160889, 16.070161671766563, 19.115962161291847, 20.96917688034359, 21.742921385180573, 27.231468171808384, 16.530966316481546, 22.448671627408693, 15.753927227689585, 82.15102480508703, 69.22813924736163, 50.06131314681772, 60.35727155941172, 39.059305355305526, 21.348251812506188, 18.86588290511272, 18.86278467188711, 18.850943006307745, 21.275527724598053, 16.885761850801398, 15.272269827864104, 87.58798184741262, 12.444546309599044, 45.78356763924007, 23.105608280668736, 26.084618568310894, 36.02175832408922, 45.712003912479155, 25.56280392734199, 54.466384779712264, 12.31914330257239, 26.951681954819296, 46.04450496213355, 41.8409327966731, 42.322540283673554, 40.491320757483045, 12.834569276345317, 17.101249942320884, 15.832333987686619, 38.31915835079262, 41.68206417748891, 42.7273459294316, 25.807078665347696, 21.58455098905779, 25.63953567597068, 39.831290132701334, 69.86616265041826, 31.451654809344127, 66.56586469971694, 51.3347589124981, 32.14794452645843, 57.81678670138774, 37.198612694235095, 27.822856548419605], \"Total\": [70140.0, 40637.0, 80110.0, 85604.0, 23557.0, 5139.0, 27836.0, 20202.0, 19225.0, 5473.0, 15846.0, 3676.0, 10333.0, 18574.0, 3620.0, 3186.0, 3282.0, 2998.0, 2431.0, 4613.0, 2943.0, 86651.0, 4268.0, 48554.0, 5403.0, 831.0, 1845.0, 1077.0, 1369.0, 1032.0, 1893.3747649525612, 1651.256726464412, 808.5596517574936, 688.6284507877199, 698.5801630567257, 701.366082437449, 1932.8746899794698, 1555.3005013463544, 741.3858925991447, 506.18131340499434, 786.13635042457, 1118.6420715245088, 647.4738317189291, 959.5431332087278, 599.2987056904186, 664.7778943453707, 671.46743757233, 764.3041646639498, 2602.5497554317153, 458.3069662701119, 604.3663869318272, 519.6072994259764, 578.8315986603812, 1247.370795456476, 409.9839663610283, 1738.6500994885785, 413.7702268444861, 451.0468850042259, 881.0701799594797, 595.9503241748491, 86651.0516247266, 47360.20107520343, 48554.96627986562, 17958.797905544987, 9678.326813012827, 85604.89923411954, 7270.47943572766, 5180.761910460646, 4780.261484687557, 5648.13655709819, 5156.354061612432, 3899.523346992402, 4938.094006719893, 3764.940203880887, 5411.926297517769, 27836.588099064404, 4657.177845224991, 4062.414839050646, 3306.726716836982, 3104.4767624550814, 5120.3837631267315, 4967.113170831421, 3756.6930028966553, 3144.9786463614228, 2426.131883787679, 2497.9689477042075, 2455.3528045493217, 3371.4407376731865, 2289.4106314229207, 80110.513435572, 15846.214719122116, 23557.408413111054, 19225.056180847285, 20202.948031779026, 18574.4737664374, 10333.97786000006, 4260.580252077513, 40637.08793608368, 4594.388848092634, 5403.75176226352, 70140.68462031537, 5473.664764544311, 4613.095308556142, 95.34756697643786, 60.65420931771131, 52.375208164727255, 61.468029304024, 68.92286896701818, 69.59818128083651, 48.06135382333605, 48.06015994164933, 69.6417418782806, 34.85950582374861, 50.72338069318534, 47.53999876276574, 42.083176901757746, 64.7663329146055, 301.22354050590553, 27.5328134298993, 23.83502938263099, 39.03189974131885, 41.46096717715318, 22.796327316454867, 128.55859089189966, 27.384009723848813, 51.121871132739535, 20.114354326015295, 23.04888740135947, 20.119853229732573, 21.62746351198989, 46.556991549623426, 20.12208157403168, 20.124569880786233, 341.2099822502332, 344.9927519429282, 59.452892126450635, 81.93347486748601, 39.03427460136889, 230.72965260436567, 70.10099229199628, 72.00143077165654, 71.54833618915136, 270.5039015866728, 113.7861609371227, 90.45889797794852, 90.46444925965496, 86.84423755604256, 3676.095426934283, 68.06461430739778, 484.2284830741469, 100.9213190790495, 1077.1226242903888, 814.6890401086092, 780.1451779131961, 117.67620131359267, 153.96909400010185, 5139.878184394654, 70140.68462031537, 125.71107828905893, 114.36328434231451, 129.63768236195335, 196.1401699453095, 288.19309896555484, 80110.513435572, 465.36863483138256, 372.669622152947, 1845.3784356258468, 173.3772657838595, 2998.0640553547332, 18574.4737664374, 283.95760268542614, 817.6660867499464, 48554.96627986562, 20202.948031779026, 85604.89923411954, 19225.056180847285, 47360.20107520343, 1196.8513044922865, 86651.0516247266, 62.75971845734331, 145.45459786333032, 52.429247835504015, 40.798348200541746, 44.9473247270853, 38.21256629320512, 42.476290513450415, 42.472112812051016, 33.51768098885667, 133.38856472778266, 46.00454317963503, 182.80300635843287, 54.39622231678577, 40.07619291571225, 24.431345812375685, 26.751511456403314, 38.482827073824325, 26.48886992597782, 20.398187321173637, 34.17004088985249, 23.883083233487792, 58.14656875690583, 23.55316455210983, 36.47037560351941, 21.750563571761663, 18.643314856024737, 19.20357803953871, 20.334309549073605, 18.468647701585546, 37.942724997941994, 69.0073381351438, 44.52420931543169, 46.48882870717239, 166.02968254618418, 47.4856189225349, 28.63014689544392, 124.98063152095061, 58.44478652713388, 30.847094209520844, 47.19331921822106, 47.73239894808654, 46.82179583067955, 142.23896491191417, 46.887604600909285, 59.50667586637535, 40637.08793608368, 3620.648082946386, 2431.5939359428803, 74.11968477830517, 494.25572376929676, 3186.1032163907425, 85604.89923411954, 3282.7838786249604, 23557.408413111054, 921.5607931496717, 5473.664764544311, 455.74667903886035, 2943.9224274357593, 20202.948031779026, 19225.056180847285, 15846.214719122116, 27836.588099064404, 10333.97786000006, 4613.095308556142, 1369.4120194880632, 529.1728008473796, 1665.8685833528186, 1673.3369736792351, 86651.0516247266, 18574.4737664374, 4268.8511291758105, 5403.75176226352, 148.5271541335262, 59.786427929185, 73.75012635681091, 66.28746860273579, 43.4166441004728, 66.38283853080301, 41.287500295055885, 38.55522219998633, 27.28416072849745, 36.06568734398195, 33.43353340686242, 36.085746795087694, 24.403097298586136, 34.269484489727866, 36.16687206221844, 18.920680878861134, 25.75442328372883, 22.66831241985528, 114.28363395713656, 59.432569723267385, 24.4244269558753, 34.328815002616714, 47.955579010514946, 18.859242826657226, 32.62531167676469, 18.857151966775294, 47.9708501469885, 14.352568710000973, 16.975713559044628, 15.682019316223062, 22.84307323899069, 51.03813367043132, 129.26898462449412, 35.76734290036504, 31.365717668150328, 36.11295968199708, 105.63414096757467, 169.68347121011175, 139.42811376899434, 47.83710071308998, 124.75136428909622, 171.5093735993413, 702.0780154065081, 1032.7736033825609, 70.42470879514829, 86651.0516247266, 85604.89923411954, 304.1783631636595, 128.6577708171327, 34.05887387108796, 27.680230428991432, 23.728487009661613, 30.827007900840826, 25.566956905185013, 19.671115350928282, 23.483233132504417, 19.701967734798252, 15.890368472695064, 27.63078433940264, 61.27933641172609, 17.265110359415992, 17.26806553298695, 14.490411970067456, 15.558605102356665, 18.274635936901024, 12.234845219106548, 17.29409738118062, 13.049428889613244, 12.29507773358103, 14.321230989221302, 13.648062999134615, 14.934893794764166, 16.387358260579454, 11.65155933189416, 12.687993923514126, 11.653375236144312, 11.656298650025308, 11.681163304610232, 17.974442093531906, 39.669248627809786, 38.86426037870876, 14.480750395253459, 32.9317578348047, 24.003124275960474, 16.66266798618586, 17.37413203231787, 25.20600061599044, 16.854026216510462, 17.44615308940488, 52.73714039127679, 192.6545126991624, 59.801632295107986, 50.03766465917967, 36.55900594491467, 41.21552319584418, 35.39879729839488, 70.83618029567921, 25.514231466176764, 63.70726323597515, 248.87817250163627, 186.67382457683266, 101.23374767072754, 223.85306580715044, 5473.664764544311, 196.1401699453095, 2998.0640553547332, 70140.68462031537, 1077.1226242903888, 5139.878184394654, 817.6660867499464, 356.33093400110016, 86651.0516247266, 80110.513435572, 160.11980995991033, 10333.97786000006, 54.562465388947736, 58.620000465257604, 24.813195354182866, 49.0240933596282, 44.32416539354572, 19.899528603608037, 78.23676565775283, 19.91525676097892, 24.855652325770116, 39.50522464415734, 50.3451956980924, 41.46103840990601, 29.774743731993723, 44.424378887189896, 39.46661921049964, 34.56051461055296, 44.84421419561798, 78.35100555007062, 97.77737688392199, 41.51062982977818, 55.99387230752997, 24.95386037773931, 24.965531527315783, 29.796856279096037, 19.95744833252296, 20.081261292937135, 24.983449960962872, 20.087716378697177, 29.8032178622533, 28.504839356764446, 46.908298788048725, 25.75534877183091, 32.4914076255651, 122.73858539649872, 30.285376036216693, 243.34575949929882, 141.915763038536, 92.67815484182941, 145.11264722314988, 80110.513435572, 130.68940024901164, 119.5007862552799, 48554.96627986562, 86651.0516247266, 56.908433015985, 46.090851590275285, 25.766289067034208, 25.81057040904333, 17.125544301539346, 20.06338483959618, 20.62297081730916, 18.09356204195921, 20.675995080351612, 15.61580781294539, 27.796760415610134, 15.43632677155243, 15.24606783768917, 16.7140778354172, 15.25799818062943, 12.372832676383213, 15.266201017789854, 15.271963187605962, 13.970341067908372, 15.27502764295668, 15.274394749726513, 15.477920288465528, 12.108721116662764, 12.109313055472043, 13.612553472344578, 15.290453153981439, 15.29810644038583, 12.120471280356488, 15.405473211046528, 15.305000338986117, 37.01970925386532, 37.17796741053165, 17.749497921611002, 20.8448660676711, 15.319759617257812, 27.637832016778372, 28.885203530650273, 27.867145121491284, 16.242220076033977, 35.24125157813001, 25.99199876149348, 21.50099649632157, 25.199837485910223, 20.532758573442415, 33.027103590893525, 44.82163659380233, 62.34398729459194, 85604.89923411954, 152.92839455714153, 80110.513435572, 165.70649092783327, 83.30706386862688, 70.43118688755365, 50.950544545204274, 61.45074680286525, 40.13746449293207, 22.137800710764797, 19.658279332746297, 19.655414709481438, 19.660921003456462, 22.194281680599513, 17.66682173747676, 16.125295639972514, 92.54012430928195, 13.185964749477566, 48.55418468974752, 24.514123532320262, 27.717208812774405, 38.28360759900359, 48.59786645277476, 27.212562471011054, 58.00030296796879, 13.143095379666391, 28.759793200725348, 49.219284809615125, 44.758691617822976, 45.290149863380165, 43.3379647488316, 13.744623730439, 18.315086861076747, 16.99566581035833, 41.26891597874266, 44.982292468999205, 46.13946603543504, 27.82885120026393, 23.32249906030313, 28.015254398485013, 57.8222237068005, 210.76958342298886, 53.54153863921614, 443.14025766953387, 359.01286893639286, 85.31868510036107, 831.5472199685213, 164.00889972218255, 106.69412965733065], \"Category\": [\"Default\", \"Default\", \"Default\", \"Default\", \"Default\", \"Default\", \"Default\", \"Default\", \"Default\", \"Default\", \"Default\", \"Default\", \"Default\", \"Default\", \"Default\", \"Default\", \"Default\", \"Default\", \"Default\", \"Default\", \"Default\", \"Default\", \"Default\", \"Default\", \"Default\", \"Default\", \"Default\", \"Default\", \"Default\", \"Default\", \"Topic1\", \"Topic1\", \"Topic1\", \"Topic1\", \"Topic1\", \"Topic1\", \"Topic1\", \"Topic1\", \"Topic1\", \"Topic1\", \"Topic1\", \"Topic1\", \"Topic1\", \"Topic1\", \"Topic1\", \"Topic1\", \"Topic1\", \"Topic1\", \"Topic1\", \"Topic1\", \"Topic1\", \"Topic1\", \"Topic1\", \"Topic1\", \"Topic1\", \"Topic1\", \"Topic1\", \"Topic1\", \"Topic1\", \"Topic1\", \"Topic1\", \"Topic1\", \"Topic1\", \"Topic1\", \"Topic1\", \"Topic1\", \"Topic1\", \"Topic1\", \"Topic1\", \"Topic1\", \"Topic1\", \"Topic1\", \"Topic1\", \"Topic1\", \"Topic1\", \"Topic1\", \"Topic1\", \"Topic1\", \"Topic1\", \"Topic1\", \"Topic1\", \"Topic1\", \"Topic1\", \"Topic1\", \"Topic1\", \"Topic1\", \"Topic1\", \"Topic1\", \"Topic1\", \"Topic1\", \"Topic1\", \"Topic1\", \"Topic1\", \"Topic1\", \"Topic1\", \"Topic1\", \"Topic1\", \"Topic1\", \"Topic1\", \"Topic1\", \"Topic1\", \"Topic1\", \"Topic1\", \"Topic2\", \"Topic2\", \"Topic2\", \"Topic2\", \"Topic2\", \"Topic2\", \"Topic2\", \"Topic2\", \"Topic2\", \"Topic2\", \"Topic2\", \"Topic2\", \"Topic2\", \"Topic2\", \"Topic2\", \"Topic2\", \"Topic2\", \"Topic2\", \"Topic2\", \"Topic2\", \"Topic2\", \"Topic2\", \"Topic2\", \"Topic2\", \"Topic2\", \"Topic2\", \"Topic2\", \"Topic2\", \"Topic2\", \"Topic2\", \"Topic2\", \"Topic2\", \"Topic2\", \"Topic2\", \"Topic2\", \"Topic2\", \"Topic2\", \"Topic2\", \"Topic2\", \"Topic2\", \"Topic2\", \"Topic2\", \"Topic2\", \"Topic2\", \"Topic2\", \"Topic2\", \"Topic2\", \"Topic2\", \"Topic2\", \"Topic2\", \"Topic2\", \"Topic2\", \"Topic2\", \"Topic2\", \"Topic2\", \"Topic2\", \"Topic2\", \"Topic2\", \"Topic2\", \"Topic2\", \"Topic2\", \"Topic2\", \"Topic2\", \"Topic2\", \"Topic2\", \"Topic2\", \"Topic2\", \"Topic2\", \"Topic2\", \"Topic2\", \"Topic2\", \"Topic2\", \"Topic2\", \"Topic2\", \"Topic2\", \"Topic2\", \"Topic3\", \"Topic3\", \"Topic3\", \"Topic3\", \"Topic3\", \"Topic3\", \"Topic3\", \"Topic3\", \"Topic3\", \"Topic3\", \"Topic3\", \"Topic3\", \"Topic3\", \"Topic3\", \"Topic3\", \"Topic3\", \"Topic3\", \"Topic3\", \"Topic3\", \"Topic3\", \"Topic3\", \"Topic3\", \"Topic3\", \"Topic3\", \"Topic3\", \"Topic3\", \"Topic3\", \"Topic3\", \"Topic3\", \"Topic3\", \"Topic3\", \"Topic3\", \"Topic3\", \"Topic3\", \"Topic3\", \"Topic3\", \"Topic3\", \"Topic3\", \"Topic3\", \"Topic3\", \"Topic3\", \"Topic3\", \"Topic3\", \"Topic3\", \"Topic3\", \"Topic3\", \"Topic3\", \"Topic3\", \"Topic3\", \"Topic3\", \"Topic3\", \"Topic3\", \"Topic3\", \"Topic3\", \"Topic3\", \"Topic3\", \"Topic3\", \"Topic3\", \"Topic3\", \"Topic3\", \"Topic3\", \"Topic3\", \"Topic3\", \"Topic3\", \"Topic3\", \"Topic3\", \"Topic3\", \"Topic3\", \"Topic3\", \"Topic3\", \"Topic3\", \"Topic3\", \"Topic4\", \"Topic4\", \"Topic4\", \"Topic4\", \"Topic4\", \"Topic4\", \"Topic4\", \"Topic4\", \"Topic4\", \"Topic4\", \"Topic4\", \"Topic4\", \"Topic4\", \"Topic4\", \"Topic4\", \"Topic4\", \"Topic4\", \"Topic4\", \"Topic4\", \"Topic4\", \"Topic4\", \"Topic4\", \"Topic4\", \"Topic4\", \"Topic4\", \"Topic4\", \"Topic4\", \"Topic4\", \"Topic4\", \"Topic4\", \"Topic4\", \"Topic4\", \"Topic4\", \"Topic4\", \"Topic4\", \"Topic4\", \"Topic4\", \"Topic4\", \"Topic4\", \"Topic4\", \"Topic4\", \"Topic4\", \"Topic4\", \"Topic4\", \"Topic4\", \"Topic4\", \"Topic4\", \"Topic4\", \"Topic4\", \"Topic5\", \"Topic5\", \"Topic5\", \"Topic5\", \"Topic5\", \"Topic5\", \"Topic5\", \"Topic5\", \"Topic5\", \"Topic5\", \"Topic5\", \"Topic5\", \"Topic5\", \"Topic5\", \"Topic5\", \"Topic5\", \"Topic5\", \"Topic5\", \"Topic5\", \"Topic5\", \"Topic5\", \"Topic5\", \"Topic5\", \"Topic5\", \"Topic5\", \"Topic5\", \"Topic5\", \"Topic5\", \"Topic5\", \"Topic5\", \"Topic5\", \"Topic5\", \"Topic5\", \"Topic5\", \"Topic5\", \"Topic5\", \"Topic5\", \"Topic5\", \"Topic5\", \"Topic5\", \"Topic5\", \"Topic5\", \"Topic5\", \"Topic5\", \"Topic5\", \"Topic5\", \"Topic5\", \"Topic5\", \"Topic5\", \"Topic5\", \"Topic5\", \"Topic5\", \"Topic5\", \"Topic5\", \"Topic5\", \"Topic5\", \"Topic5\", \"Topic5\", \"Topic5\", \"Topic5\", \"Topic5\", \"Topic5\", \"Topic5\", \"Topic5\", \"Topic5\", \"Topic5\", \"Topic6\", \"Topic6\", \"Topic6\", \"Topic6\", \"Topic6\", \"Topic6\", \"Topic6\", \"Topic6\", \"Topic6\", \"Topic6\", \"Topic6\", \"Topic6\", \"Topic6\", \"Topic6\", \"Topic6\", \"Topic6\", \"Topic6\", \"Topic6\", \"Topic6\", \"Topic6\", \"Topic6\", \"Topic6\", \"Topic6\", \"Topic6\", \"Topic6\", \"Topic6\", \"Topic6\", \"Topic6\", \"Topic6\", \"Topic6\", \"Topic6\", \"Topic6\", \"Topic6\", \"Topic6\", \"Topic6\", \"Topic6\", \"Topic6\", \"Topic6\", \"Topic6\", \"Topic6\", \"Topic6\", \"Topic6\", \"Topic6\", \"Topic6\", \"Topic7\", \"Topic7\", \"Topic7\", \"Topic7\", \"Topic7\", \"Topic7\", \"Topic7\", \"Topic7\", \"Topic7\", \"Topic7\", \"Topic7\", \"Topic7\", \"Topic7\", \"Topic7\", \"Topic7\", \"Topic7\", \"Topic7\", \"Topic7\", \"Topic7\", \"Topic7\", \"Topic7\", \"Topic7\", \"Topic7\", \"Topic7\", \"Topic7\", \"Topic7\", \"Topic7\", \"Topic7\", \"Topic7\", \"Topic7\", \"Topic7\", \"Topic7\", \"Topic7\", \"Topic7\", \"Topic7\", \"Topic7\", \"Topic7\", \"Topic7\", \"Topic7\", \"Topic7\", \"Topic7\", \"Topic7\", \"Topic7\", \"Topic7\", \"Topic7\", \"Topic7\", \"Topic7\", \"Topic7\", \"Topic7\", \"Topic7\", \"Topic7\", \"Topic8\", \"Topic8\", \"Topic8\", \"Topic8\", \"Topic8\", \"Topic8\", \"Topic8\", \"Topic8\", \"Topic8\", \"Topic8\", \"Topic8\", \"Topic8\", \"Topic8\", \"Topic8\", \"Topic8\", \"Topic8\", \"Topic8\", \"Topic8\", \"Topic8\", \"Topic8\", \"Topic8\", \"Topic8\", \"Topic8\", \"Topic8\", \"Topic8\", \"Topic8\", \"Topic8\", \"Topic8\", \"Topic8\", \"Topic8\", \"Topic8\", \"Topic8\", \"Topic8\", \"Topic8\", \"Topic8\", \"Topic8\", \"Topic8\", \"Topic8\", \"Topic8\", \"Topic8\", \"Topic8\", \"Topic8\", \"Topic8\", \"Topic8\", \"Topic8\"], \"logprob\": [30.0, 29.0, 28.0, 27.0, 26.0, 25.0, 24.0, 23.0, 22.0, 21.0, 20.0, 19.0, 18.0, 17.0, 16.0, 15.0, 14.0, 13.0, 12.0, 11.0, 10.0, 9.0, 8.0, 7.0, 6.0, 5.0, 4.0, 3.0, 2.0, 1.0, -6.7759, -6.9129, -7.6271, -7.7876, -7.7733, -7.7694, -6.7557, -6.9731, -7.714, -8.0957, -7.6554, -7.3027, -7.8495, -7.4562, -7.9269, -7.8232, -7.8132, -7.6838, -6.4585, -8.1952, -7.9186, -8.0697, -7.9618, -7.1941, -8.3067, -6.862, -8.2976, -8.2113, -7.5417, -7.9327, -2.9593, -3.561, -3.5391, -4.528, -5.1469, -2.9922, -5.4345, -5.7713, -5.8516, -5.6872, -5.7775, -6.0546, -5.821, -6.09, -5.7312, -4.1099, -5.8801, -6.0157, -6.2195, -6.2823, -5.7874, -5.8175, -6.0955, -6.2715, -6.529, -6.5005, -6.518, -6.2045, -6.5878, -3.0938, -4.6839, -4.2963, -4.4968, -4.4496, -4.5378, -5.1196, -5.9781, -3.8197, -5.9069, -5.7562, -3.463, -5.8265, -5.972, -6.9418, -7.3944, -7.5432, -7.385, -7.2706, -7.2618, -7.6326, -7.6331, -7.263, -7.9593, -7.5845, -7.6496, -7.7722, -7.344, -5.8081, -8.2011, -8.3456, -7.8529, -7.7926, -8.391, -6.6613, -8.209, -7.585, -8.5184, -8.3824, -8.5186, -8.4466, -7.68, -8.5189, -8.519, -5.6911, -5.6805, -7.4373, -7.1218, -7.8573, -6.1001, -7.2845, -7.2584, -7.2667, -5.9743, -6.8151, -7.0423, -7.0447, -7.0892, -3.559, -7.3242, -5.5189, -6.9628, -4.8293, -5.1402, -5.1995, -6.8463, -6.6141, -3.6298, -1.6958, -6.8118, -6.8891, -6.8814, -6.6133, -6.4028, -3.0355, -6.2096, -6.3385, -5.8332, -6.8085, -5.7139, -5.1341, -6.7222, -6.4918, -5.7395, -6.0212, -5.9565, -6.312, -6.2848, -6.6357, -6.4012, -7.0709, -6.2326, -7.2564, -7.5075, -7.4115, -7.5758, -7.4704, -7.4706, -7.7078, -6.3269, -7.3917, -6.0124, -7.2251, -7.5362, -8.0311, -7.9422, -7.5788, -7.9527, -8.215, -7.7009, -8.0599, -7.1701, -8.0742, -7.6373, -8.1547, -8.3093, -8.2798, -8.2229, -8.3199, -7.5999, -7.0042, -7.4413, -7.3995, -6.1416, -7.3868, -7.8857, -6.4578, -7.1994, -7.8136, -7.4093, -7.4055, -7.4266, -6.4119, -7.4283, -7.3043, -2.8573, -4.7377, -5.131, -7.1905, -6.094, -5.1033, -3.5753, -5.247, -4.3467, -6.0007, -5.2508, -6.3834, -5.5524, -4.8424, -4.8743, -5.0474, -4.8396, -5.27, -5.6372, -6.0962, -6.4801, -6.3019, -6.3049, -5.369, -5.7529, -6.1118, -6.2501, -5.3556, -6.2766, -6.0692, -6.1766, -6.6022, -6.1799, -6.6579, -6.7282, -7.0742, -6.7964, -6.8733, -6.7992, -7.1925, -6.8565, -6.803, -7.451, -7.1431, -7.2709, -5.6547, -6.3097, -7.2005, -6.8609, -6.5273, -7.4629, -6.9159, -7.4655, -6.5342, -7.742, -7.5742, -7.6537, -7.2814, -6.5082, -5.6366, -6.8924, -7.0614, -6.9864, -6.2495, -6.1531, -6.4073, -6.9433, -6.6699, -6.6523, -6.3559, -6.3543, -6.8746, -6.0672, -6.2311, -6.7992, -6.8679, -6.7812, -6.9919, -7.1472, -6.8891, -7.0812, -7.3464, -7.1719, -7.3497, -7.565, -7.0124, -6.2173, -7.488, -7.488, -7.6644, -7.5947, -7.4353, -7.8371, -7.491, -7.7733, -7.8336, -7.6816, -7.7299, -7.6415, -7.549, -7.8902, -7.8056, -7.8908, -7.8907, -7.8906, -7.4621, -6.6784, -6.7212, -7.68, -6.8896, -7.1964, -7.553, -7.515, -7.1772, -7.5437, -7.5233, -6.6359, -5.6387, -6.5964, -6.8002, -7.0371, -6.9815, -7.077, -6.6769, -7.2976, -6.7871, -6.0643, -6.2382, -6.5833, -6.2612, -5.0208, -6.5191, -5.5915, -4.7728, -6.1833, -5.7775, -6.2638, -6.5978, -6.309, -6.7149, -7.0133, -7.0095, -6.1508, -6.0803, -6.9433, -6.2627, -6.3655, -7.1675, -5.7986, -7.1672, -6.9459, -6.4838, -6.2413, -6.4369, -6.7687, -6.3688, -6.4873, -6.6204, -6.36, -5.8028, -5.5817, -6.4385, -6.1395, -6.9514, -6.9517, -6.7754, -7.1763, -7.1711, -6.953, -7.1716, -6.7774, -6.8239, -6.3295, -6.931, -6.7639, -5.7906, -6.9514, -6.1446, -6.365, -6.553, -6.4722, -5.7549, -6.7384, -6.8108, -6.4071, -6.7546, -6.0718, -6.2896, -6.8733, -6.8755, -7.2933, -7.1382, -7.112, -7.2467, -7.1134, -7.395, -6.8184, -7.411, -7.4244, -7.3344, -7.4259, -7.6364, -7.4264, -7.4271, -7.5164, -7.4273, -7.4275, -7.4151, -7.6611, -7.6613, -7.5443, -7.429, -7.4293, -7.6628, -7.4236, -7.4302, -6.559, -6.5656, -7.2875, -7.1367, -7.4314, -6.8715, -6.8377, -6.8835, -7.3768, -6.7316, -7.0497, -7.2343, -7.2166, -7.315, -7.1414, -7.0489, -7.0127, -6.7876, -7.2867, -6.9807, -7.3349, -5.4927, -5.6639, -5.988, -5.801, -6.2362, -6.8403, -6.9639, -6.9641, -6.9647, -6.8437, -7.0748, -7.1752, -5.4286, -7.38, -6.0773, -6.7612, -6.6399, -6.3171, -6.0789, -6.6601, -5.9037, -7.3901, -6.6072, -6.0717, -6.1674, -6.156, -6.2002, -7.3491, -7.0621, -7.1392, -6.2553, -6.1712, -6.1464, -6.6506, -6.8293, -6.6571, -6.2166, -5.6547, -6.4528, -5.7031, -5.9629, -6.4309, -5.844, -6.285, -6.5754], \"loglift\": [30.0, 29.0, 28.0, 27.0, 26.0, 25.0, 24.0, 23.0, 22.0, 21.0, 20.0, 19.0, 18.0, 17.0, 16.0, 15.0, 14.0, 13.0, 12.0, 11.0, 10.0, 9.0, 8.0, 7.0, 6.0, 5.0, 4.0, 3.0, 2.0, 1.0, 0.1652, 0.165, 0.1649, 0.1649, 0.1648, 0.1648, 0.1647, 0.1647, 0.1647, 0.1647, 0.1647, 0.1646, 0.1646, 0.1646, 0.1645, 0.1645, 0.1645, 0.1645, 0.1644, 0.1644, 0.1644, 0.1644, 0.1644, 0.1644, 0.1644, 0.1644, 0.1643, 0.1643, 0.1643, 0.1643, 0.1582, 0.1607, 0.1576, 0.1634, 0.1627, 0.1375, 0.1611, 0.1632, 0.1634, 0.161, 0.1617, 0.164, 0.1614, 0.1638, 0.1596, 0.1432, 0.1609, 0.162, 0.164, 0.1643, 0.1588, 0.1591, 0.1604, 0.1622, 0.1641, 0.1635, 0.1632, 0.1596, 0.1634, 0.1023, 0.1326, 0.1237, 0.1265, 0.124, 0.1199, 0.1244, 0.152, 0.0551, 0.1477, 0.1361, -0.134, 0.053, 0.0786, 2.9879, 2.9877, 2.9856, 2.9837, 2.9837, 2.9827, 2.9821, 2.9817, 2.9808, 2.9766, 2.9763, 2.976, 2.9754, 2.9724, 2.9713, 2.9707, 2.9705, 2.97, 2.9699, 2.9696, 2.9695, 2.9683, 2.9681, 2.9674, 2.9672, 2.967, 2.9667, 2.9666, 2.9665, 2.9663, 2.9637, 2.9632, 2.9647, 2.9595, 2.9655, 2.9458, 2.9528, 2.9521, 2.9501, 2.9127, 2.9378, 2.94, 2.9375, 2.9339, 2.7186, 2.9426, 2.7858, 2.91, 2.6759, 2.6442, 2.6282, 2.873, 2.8364, 2.3126, 1.6332, 2.8414, 2.8587, 2.741, 2.5951, 2.4207, 0.1606, 2.1348, 2.228, 1.1335, 2.5232, 0.7676, -0.4765, 2.1162, 1.289, -2.0428, -1.4475, -2.8267, -1.6888, -2.5631, 0.7641, -3.2836, 3.277, 3.2747, 3.2713, 3.2711, 3.2703, 3.2683, 3.2678, 3.2678, 3.2674, 3.2671, 3.2668, 3.2664, 3.2658, 3.2603, 3.2602, 3.2585, 3.2582, 3.2578, 3.2568, 3.2549, 3.2541, 3.2541, 3.2537, 3.2534, 3.2529, 3.2524, 3.2523, 3.252, 3.2513, 3.2513, 3.2488, 3.2499, 3.2485, 3.2334, 3.24, 3.2471, 3.2013, 3.2198, 3.2445, 3.2236, 3.2162, 3.2143, 3.1178, 3.2111, 3.0969, 1.0175, 1.5552, 1.56, 2.991, 2.1901, 1.3174, -0.4456, 1.1438, 0.0734, 1.6605, 0.6287, 1.9819, 0.9473, -0.2688, -0.251, -0.2308, -0.5865, -0.026, 0.4134, 1.1689, 1.7358, 0.7672, 0.7597, -2.2514, -1.0952, 0.0163, -0.3577, 4.1308, 4.1198, 4.1174, 4.1166, 4.1142, 4.1119, 4.1088, 4.1069, 4.1068, 4.1055, 4.1044, 4.1021, 4.1, 4.0965, 4.0961, 4.096, 4.0955, 4.0954, 4.0938, 4.0926, 4.0911, 4.0904, 4.0897, 4.0874, 4.0863, 4.0848, 4.0824, 4.0813, 4.0813, 4.081, 4.0771, 4.0465, 3.9887, 4.0177, 3.9801, 3.9142, 3.5778, 3.2002, 3.1424, 3.6761, 2.991, 2.6903, 1.5772, 1.1929, 3.3581, -2.9496, -3.1013, 1.9704, 2.7621, 4.1779, 4.1746, 4.1734, 4.1697, 4.1647, 4.1617, 4.1591, 4.1569, 4.1565, 4.1559, 4.1545, 4.1506, 4.1503, 4.1493, 4.1479, 4.1464, 4.1459, 4.1458, 4.1452, 4.1444, 4.1439, 4.1437, 4.142, 4.1417, 4.1415, 4.141, 4.1408, 4.1407, 4.1386, 4.1362, 4.1282, 4.106, 4.1344, 4.1032, 4.1127, 4.1211, 4.1173, 4.083, 4.119, 4.1048, 3.886, 3.5876, 3.7998, 3.7742, 3.8512, 3.7869, 3.8436, 3.5499, 3.9504, 3.5458, 2.9059, 3.0197, 3.2865, 2.815, 0.8587, 2.6893, 0.89, -1.4439, 1.3219, 0.1649, 1.517, 2.0136, -3.1914, -3.5188, 2.398, -1.7655, 4.3371, 4.3359, 4.3325, 4.3322, 4.3302, 4.329, 4.3289, 4.3286, 4.3283, 4.327, 4.327, 4.3256, 4.3249, 4.3247, 4.3245, 4.3241, 4.324, 4.3232, 4.3228, 4.3228, 4.3225, 4.3188, 4.318, 4.3174, 4.3174, 4.3163, 4.316, 4.3155, 4.3153, 4.3132, 4.3096, 4.3076, 4.2423, 3.8866, 4.1252, 2.8482, 3.1669, 3.4051, 3.0375, -2.5589, 2.876, 2.8931, -2.7103, -3.637, 4.374, 4.367, 4.3649, 4.3609, 4.3533, 4.3501, 4.3488, 4.3449, 4.3448, 4.3439, 4.3439, 4.3395, 4.3385, 4.3366, 4.3362, 4.3353, 4.3352, 4.3341, 4.3338, 4.3337, 4.3336, 4.3327, 4.3322, 4.332, 4.3319, 4.331, 4.3302, 4.3295, 4.3289, 4.3289, 4.3167, 4.3059, 4.3234, 4.3134, 4.3267, 4.2965, 4.2862, 4.2763, 4.3228, 4.1934, 4.1798, 4.1848, 4.0438, 4.1502, 3.8485, 3.6356, 3.3419, -3.6579, 2.1705, -3.7847, 2.0421, 4.572, 4.5687, 4.5683, 4.568, 4.5587, 4.5496, 4.5448, 4.5448, 4.5439, 4.5437, 4.5407, 4.5316, 4.531, 4.5281, 4.5272, 4.5268, 4.5252, 4.5251, 4.5247, 4.5234, 4.5231, 4.5212, 4.521, 4.5193, 4.5185, 4.5182, 4.518, 4.5174, 4.5174, 4.515, 4.5118, 4.5098, 4.5091, 4.5105, 4.5085, 4.4973, 4.2132, 3.4818, 4.0539, 2.6903, 2.641, 3.6099, 1.9199, 3.1023, 3.2418]}, \"token.table\": {\"Topic\": [1, 2, 3, 4, 5, 6, 1, 2, 3, 4, 5, 6, 7, 8, 4, 1, 2, 3, 5, 6, 1, 2, 3, 4, 5, 1, 2, 3, 4, 6, 3, 3, 1, 3, 7, 8, 3, 1, 6, 1, 5, 6, 1, 2, 3, 4, 5, 6, 7, 1, 2, 3, 4, 5, 6, 7, 1, 2, 3, 4, 5, 6, 7, 1, 3, 4, 6, 1, 6, 1, 6, 5, 1, 2, 3, 4, 5, 6, 7, 8, 1, 2, 3, 4, 5, 6, 7, 1, 2, 3, 4, 5, 6, 7, 7, 7, 1, 2, 3, 4, 5, 6, 7, 1, 2, 3, 4, 5, 6, 3, 3, 3, 3, 1, 2, 3, 4, 5, 6, 7, 8, 1, 2, 3, 4, 5, 1, 5, 1, 3, 5, 1, 3, 4, 4, 2, 2, 1, 8, 5, 1, 7, 1, 8, 1, 8, 4, 1, 4, 3, 1, 6, 6, 8, 7, 1, 2, 3, 4, 5, 6, 1, 2, 5, 5, 1, 8, 1, 7, 2, 1, 4, 8, 1, 5, 7, 4, 4, 4, 6, 8, 1, 2, 3, 4, 5, 1, 2, 1, 6, 8, 1, 6, 8, 1, 4, 4, 4, 1, 7, 1, 2, 6, 4, 5, 1, 2, 7, 3, 1, 8, 3, 1, 3, 7, 7, 1, 8, 1, 3, 5, 1, 3, 5, 2, 2, 5, 7, 2, 1, 8, 1, 4, 3, 1, 2, 3, 4, 5, 6, 7, 8, 1, 2, 3, 4, 5, 6, 7, 1, 2, 6, 1, 2, 2, 1, 2, 2, 2, 1, 5, 5, 1, 2, 5, 1, 5, 5, 1, 2, 6, 1, 2, 2, 2, 1, 2, 5, 1, 2, 2, 1, 4, 1, 2, 1, 5, 1, 2, 1, 2, 1, 4, 1, 2, 5, 1, 6, 1, 5, 5, 2, 1, 2, 3, 4, 5, 6, 1, 2, 3, 4, 1, 6, 1, 2, 3, 5, 6, 1, 2, 3, 4, 5, 6, 7, 1, 2, 5, 1, 3, 5, 1, 3, 1, 3, 1, 2, 3, 1, 3, 1, 2, 3, 4, 5, 6, 8, 8, 8, 1, 2, 3, 4, 5, 6, 7, 1, 1, 6, 7, 8, 1, 8, 1, 2, 1, 5, 7, 7, 1, 4, 1, 2, 8, 1, 2, 3, 4, 5, 7, 1, 2, 5, 1, 7, 7, 7, 1, 2, 7, 1, 7, 2, 1, 6, 1, 6, 7, 1, 2, 1, 1, 6, 1, 2, 1, 4, 1, 6, 1, 6, 1, 3, 8, 1, 2, 6, 7, 8, 1, 3, 1, 3, 7, 1, 2, 1, 8, 1, 8, 1, 2, 2, 1, 2, 3, 4, 5, 6, 7, 1, 2, 1, 2, 7, 5, 1, 1, 7, 5, 8, 1, 2, 1, 5, 1, 1, 5, 1, 2, 3, 4, 5, 1, 5, 1, 8, 8, 8, 8, 3, 1, 2, 1, 1, 2, 8, 1, 4, 5, 2, 7, 1, 3, 1, 2, 3, 7, 1, 3, 3, 3, 3, 1, 2, 5, 1, 5, 1, 2, 3, 4, 5, 6, 8, 1, 7, 1, 6, 1, 3, 1, 2, 3, 5, 1, 8, 1, 2, 3, 4, 5, 7, 1, 2, 1, 2, 1, 3, 4, 1, 2, 3, 5, 1, 1, 4, 1, 2, 3, 4, 5, 6, 7, 1, 6, 1, 1, 5, 7, 2, 1, 2, 3, 4, 1, 2, 5, 5, 1, 2, 3, 4, 5, 6, 7, 6, 8, 1, 4, 8, 7, 1, 2, 5, 1, 5, 4, 4, 1, 4, 1, 3, 4, 1, 6, 1, 7, 1, 3, 1, 6, 1, 2, 3, 4, 7, 7, 1, 7, 1, 7, 1, 8, 1, 5, 1, 7, 1, 7, 1, 4, 1, 4, 1, 4, 1, 2, 1, 2, 1, 2, 2, 3, 5, 8, 8, 5, 1, 2, 3, 4, 5, 6, 7, 5, 1, 8, 1, 8, 1, 8, 1, 3, 1, 4, 3, 1, 8, 1, 5, 6, 1, 5, 6, 1, 5, 6, 1, 5, 6, 1, 1, 2, 1, 3, 1, 4, 4, 1, 3, 1, 3, 1, 6, 1, 7, 1, 8, 8, 1, 4, 2, 3, 4, 1, 2, 5, 8, 1, 2, 3, 7, 1, 5, 1, 2, 3, 4, 5, 6, 1, 6, 1, 8, 7, 1, 1, 3, 1, 4, 5, 1, 5, 1, 4, 1, 1, 5, 1, 2, 3, 4, 5, 6, 4, 8, 1, 6, 1, 2, 1, 2, 5, 5, 7, 1, 5, 8, 1, 1, 4, 7, 1, 6, 7, 1, 2, 3, 1, 2, 3, 1, 2, 5, 1, 3, 1, 2, 3, 4, 5, 6, 5, 1, 2, 3, 4, 3, 1, 3, 1, 3, 1, 6, 1, 3, 1, 3, 1, 3, 1, 4, 1, 5, 4, 1, 1, 6, 1, 2, 3, 4, 1, 2, 3, 4, 7, 1, 8, 1, 5, 1, 5, 4, 1, 2, 5, 1, 4, 1, 5, 1, 2, 1, 4, 4, 1, 2, 3, 5, 6, 5, 1, 1, 5, 1, 5, 1, 2, 2, 1, 2, 3, 4, 5, 6, 7, 1, 1, 4, 8, 1, 5, 1, 6, 1, 2, 3, 4, 5, 1, 2, 1, 5, 8, 1, 2, 5, 1, 8, 1, 5, 1, 5, 1, 2, 3, 4, 5, 7, 1, 2, 3, 4, 5, 6, 7, 7, 7, 8, 1, 2, 4, 8, 1, 8, 1, 8, 8, 1, 2, 1, 4, 1, 6, 1, 2, 1, 5, 1, 1, 3, 1, 2, 5, 5, 7, 1, 8, 1, 1, 7, 1, 7, 2, 1, 6, 1, 2, 3, 1, 6, 1, 6, 1, 2, 3, 5, 7, 1, 2, 3, 4, 1, 2, 3, 7, 1, 2, 1, 4, 1, 2, 3, 4, 5, 1, 2, 7, 1, 2, 3, 3, 1, 3, 3, 7, 1, 7, 1, 2, 3, 4, 5, 6, 1, 2, 3, 4, 5, 6, 1, 4, 6, 6, 1, 4, 4, 4], \"Freq\": [0.9860159300957984, 0.0028165177722327015, 0.010561941645872631, 0.00023470981435272514, 0.00023470981435272514, 0.00023470981435272514, 0.7408111323873526, 0.25485921753923746, 0.0005275112468646109, 0.00014257060726070565, 0.00352149399933943, 5.702824290428226e-05, 1.4257060726070566e-05, 5.702824290428226e-05, 0.9673709442582787, 0.9974349761562555, 0.0012551614632838786, 0.0008367743088559191, 0.00020919357721397978, 0.00020919357721397978, 0.8208475200885766, 0.00027619364740530844, 0.17648774069199208, 0.0011047745896212338, 0.0013809682370265423, 0.8815688473565284, 0.00030461950496079074, 0.11697388990494365, 0.00030461950496079074, 0.0006092390099215815, 0.9596830145237792, 0.9430618745549176, 0.005470369552015133, 0.9791961498107089, 0.010940739104030267, 0.005470369552015133, 0.9630247391069855, 0.02533786830501969, 0.9375011272857285, 0.017059024088419642, 0.017059024088419642, 0.9553053489514999, 0.9916596321469685, 0.006446302489345818, 0.0002883330186927842, 0.0004530947436600894, 0.0002265473718300447, 0.0008444038404574394, 8.238086248365262e-05, 0.9774545609960907, 0.0007184788569929735, 0.020728115024247283, 0.0006107070284440275, 0.0002514675999475407, 0.00010777182854894601, 0.00010777182854894601, 0.971883627506681, 0.002943756750543085, 0.023865456513331443, 0.0007125760388219373, 0.00010513416966225305, 0.00016354204169683807, 0.00031540250898675915, 0.9008389539360138, 0.09613025036345849, 0.0023777800443258285, 0.0006793657269502367, 0.049781666623912015, 0.9458516658543283, 0.050106605981807044, 0.9520255136543339, 0.9643706788962803, 0.9922441607790616, 0.0018695676158853672, 0.003923783885191511, 0.0008309189403934965, 0.0006116486644563238, 0.0003346756843251583, 0.00017310811258197846, 1.1540540838798564e-05, 0.9818498497080296, 0.0008706272220864815, 0.010012213053994537, 0.003917822499389167, 0.002176568055216204, 0.0006529704165648612, 0.0008706272220864815, 0.8542179061937957, 0.10740264185646317, 0.000333548577193985, 0.001667742885969925, 0.03635679491414437, 0.000333548577193985, 0.9084361506074281, 0.907555469219054, 0.9083917435786534, 0.9966598758610463, 0.0016531783136820174, 0.0009299128014461348, 0.0003099709338153783, 0.0003099709338153783, 0.00010332364460512609, 0.00010332364460512609, 0.9112363455133956, 0.004202012133460982, 0.08043851798339592, 0.0012005748952745661, 0.0024011497905491322, 0.0006002874476372831, 0.9746246877866801, 0.980479279119066, 0.9654935369062415, 0.9815443268307048, 0.9549126517947093, 0.030902625141239395, 0.012436422312937805, 0.0005922105863303716, 0.0006998852383904393, 0.00026918663015016895, 5.383732603003379e-05, 5.383732603003379e-05, 0.8931858654677796, 0.0005480788701990875, 0.06978870947201714, 0.001096157740398175, 0.0350770476927416, 0.5926877289493988, 0.3951251526329326, 0.40486983101091467, 0.057097027450257194, 0.5398264413478863, 0.06400991819807658, 0.9121413343225913, 0.016002479549519145, 0.9513399710742042, 0.9859768628582403, 0.9676062515177872, 0.7682509925585351, 0.2255975136878238, 0.9077431967813584, 0.07176910269353677, 0.8971137836692096, 0.04446194024856238, 0.93370074521981, 0.04115407004427881, 0.9465436110184127, 0.9529338380140758, 0.029180479802657838, 0.9629558334877086, 0.9888841693809718, 0.04979766885219078, 0.9461557081916249, 0.9588750917214602, 0.022299420737708377, 0.9673053181854347, 0.9937311974234887, 0.0025868792792727484, 0.0022173250965194986, 0.0009238854568831245, 0.0003695541827532498, 0.0001847770913766249, 0.5949525560959169, 0.29186351808478944, 0.11225519926338054, 0.9302510900188595, 0.04119109429557182, 0.947395168798152, 0.06923960213324401, 0.9001148277321721, 0.9857387129308097, 0.044684058619881485, 0.022342029309940743, 0.9383652310175112, 0.05563455014605708, 0.9457873524829703, 0.9702600143528386, 0.9699120319927674, 0.9425229722655888, 0.957122886491914, 0.9406421424959291, 0.024119029294767412, 0.9936404821138918, 0.0029660909913847514, 0.002076263693969326, 0.0008898272974154254, 0.0005932181982769504, 0.010487944597968802, 0.9858667922090674, 0.03882688636287147, 0.9318452727089153, 0.03882688636287147, 0.018327617582371225, 0.9530361142833037, 0.018327617582371225, 0.027649612559241626, 0.9677364395734569, 0.9707070402851746, 0.9688162207482912, 0.054025275733119785, 0.9184296874630363, 0.7643445292932501, 0.016437516758994627, 0.2177970970566788, 0.9754351491273265, 0.9658832079952898, 0.09740532392889723, 0.09740532392889723, 0.7792425914311778, 0.9789236682530642, 0.7310617767867124, 0.262432432692666, 0.9887869089392447, 0.07236457616450669, 0.03618228808225334, 0.9045572020563336, 0.9165665958875829, 0.04614891381243094, 0.9229782762486188, 0.018383629550161183, 0.9743323661585427, 0.9760003360714755, 0.7192273962829069, 0.004018030146831881, 0.27322604998456795, 0.9779166890046965, 0.9779409818249358, 0.9439680411297565, 0.9167125292288401, 0.9806480572261209, 0.2940046042885172, 0.6917755395023935, 0.015085807635724507, 0.9805774963220929, 0.9719077010796925, 0.9382289137423669, 0.058444264044886535, 0.0011484135608990948, 0.0003994481950953373, 0.00043689646338552514, 0.0009736549755448846, 0.0002746206341280444, 8.737929267710504e-05, 0.8949706252870095, 0.0015503079378889053, 0.10305856577585296, 9.84322500246924e-05, 0.00014764837503703862, 0.00014764837503703862, 2.46080625061731e-05, 0.5778075545965504, 0.1197893710748946, 0.29595021089091605, 0.5366683735706211, 0.4615348012707342, 0.9445990506106366, 0.04279539992107248, 0.9557639315706187, 0.9441195569670333, 0.9649662952276665, 0.042583574176412946, 0.9368386318810848, 0.9808052153581966, 0.08750223249781294, 0.8511580797514532, 0.055683238862244605, 0.05933300370806263, 0.8899950556209394, 0.9689104849709426, 0.5306222543207534, 0.19984474513379022, 0.26186552810634584, 0.5780363777577469, 0.42117148713947355, 0.9443408847497116, 0.9892141151443502, 0.00878841496860582, 0.9403604016408228, 0.0439420748430291, 0.041665838690263274, 0.9583142898760554, 0.9442363072675459, 0.6239774579762466, 0.3657798891584894, 0.22370038920497587, 0.7713806524309512, 0.07719174302474333, 0.9005703352886721, 0.023335663367083676, 0.9723193069618199, 0.02411907073289511, 0.9647628293158044, 0.42599863631033025, 0.567998181747107, 0.016820039601657986, 0.9587422572945052, 0.9439325326007016, 0.19811542022212023, 0.7924616808884809, 0.03619151695863945, 0.9409794409246257, 0.9692990535230926, 0.9650677363331215, 0.9585519597067551, 0.0006791918584344396, 0.04011476913878409, 0.0005093938938258297, 8.489898230430495e-05, 8.489898230430495e-05, 0.8784792180002378, 0.0007302404139652848, 0.11975942789030672, 0.0007302404139652848, 0.9992739076394125, 0.000528157456469034, 0.47919423605757655, 0.502735650009248, 0.0001945571400964582, 0.017510142608681237, 0.0001945571400964582, 0.9973941515578536, 0.0011693432996156166, 0.0005011471284066928, 0.0004454641141392825, 0.00011136602853482063, 0.00011136602853482063, 0.00027841507133705156, 0.3518339023528353, 0.6229190402312493, 0.023071075564120348, 0.7888790467260332, 0.19640592497580742, 0.014106502898814897, 0.06285039231451119, 0.921805753946164, 0.025985616859219553, 0.9614678237911234, 0.6916455256466578, 0.09637683554092773, 0.2116510898153707, 0.2563421587238226, 0.7420430910426443, 0.9592627480237258, 0.0012579860510751979, 0.03628805916563071, 0.00038707263110006085, 0.0025159721021503958, 0.00019353631555003043, 0.9716607785942142, 0.9813437804504537, 0.9461896673302358, 0.9671710418959326, 0.0008203851980064677, 0.029596973681925643, 0.0007572786443136625, 0.0013252376275489095, 0.00031553276846402607, 6.31065536928052e-05, 0.997599988190363, 0.03571819410909081, 0.9465321438909065, 0.017859097054545404, 0.941416486916829, 0.03674773373750738, 0.9554410771751918, 0.9985208637531057, 0.0006429625651983938, 0.03967309273830652, 0.8728080402427434, 0.07934618547661304, 0.9698668295179598, 0.1315087300281835, 0.858674649007551, 0.9283898514256647, 0.0012025775277534516, 0.0697494966097002, 0.9971998769749154, 0.0013103809158671689, 0.0004367936386223896, 0.0004367936386223896, 0.0004367936386223896, 0.9572768631061376, 0.24346484409584393, 0.754605002817733, 0.0016321665525978364, 0.061567938084741175, 0.9235190712711177, 0.9691224480060358, 0.9717337694381712, 0.05527372222928105, 0.9396532778977779, 0.968595408927525, 0.5131450287823783, 0.46852372193173675, 0.9544929270079386, 0.12310947085138577, 0.8617662959597003, 0.033560587420141674, 0.939696447763967, 0.9342768742574695, 0.03661507100549573, 0.9641968698113875, 0.9982936575198131, 0.7698694115992493, 0.22593993601282317, 0.4372068604427605, 0.5586532105657496, 0.35537270751335853, 0.627128307376515, 0.6150316662786384, 0.37765102315354987, 0.039725736930163145, 0.9534176863239155, 0.051330498035221744, 0.9239489646339915, 0.9130269280831007, 0.7060676944209421, 0.17500823195048992, 0.024139066475929644, 0.09655626590371857, 0.9302155033249094, 0.7284748639313534, 0.26988677187818216, 0.026355513476015224, 0.9751539986125634, 0.9151459400910607, 0.3101986743638201, 0.6896152347427075, 0.410895924157963, 0.5789897113134933, 0.051723867746980186, 0.9310296194456433, 0.9987853635455817, 0.0011349833676654337, 0.9742610472520552, 0.9928943288609067, 0.0019529786169569369, 0.004491850819000955, 0.00019529786169569368, 0.00019529786169569368, 0.00019529786169569368, 0.00019529786169569368, 0.057574343913991834, 0.9327043714066677, 0.014359204308068483, 0.9764258929486568, 0.9175515578297484, 0.9374020459996898, 0.9981385155467564, 0.1860378890199032, 0.7906610283345886, 0.9525161190144193, 0.9100585530137599, 0.0792696733752932, 0.9116012438158718, 0.3177170801331835, 0.6688780634382812, 0.9978329576251588, 0.3397440731055633, 0.639518255257531, 0.997625406142793, 0.000531216936178271, 0.0002656084680891355, 0.001062433872356542, 0.0002656084680891355, 0.04166124328246371, 0.9165473522142017, 0.997814581184107, 0.9665138885451815, 0.9622557046544357, 0.9663840262956008, 0.9666547503998847, 0.9765142152815182, 0.014368191547490116, 0.9770370252293279, 0.9991695111206892, 0.841719960090288, 0.006769865630752987, 0.15119366575348336, 0.6733393296232028, 0.3206377760110489, 0.9251711521765309, 0.9928361494326252, 0.9550008399534262, 0.042378879746771694, 0.9323353544289773, 0.6146667548051516, 0.26156032119368156, 0.013078016059684077, 0.11116313650731466, 0.013749995045733841, 0.9831246457699696, 0.968267865500027, 0.9654922241768435, 0.9727394938033775, 0.09618471577883839, 0.8656624420095455, 0.03497626028321396, 0.27353041313725857, 0.7111790741568722, 0.9931321937595977, 0.002818538559220427, 0.0002013241828014591, 0.0002013241828014591, 0.0004026483656029182, 0.0012079450968087546, 0.0020132418280145907, 0.047973443281121804, 0.9114954223413143, 0.042636378885468326, 0.9380003354803031, 0.06398279514457902, 0.9170867304056328, 0.8898348491601311, 0.10694728703520825, 0.0025065770398876933, 0.0008355256799625645, 0.6212003846244896, 0.37506438316950313, 0.9955258027308054, 0.0014175509802920336, 0.0006075218486965859, 0.0016200582631908957, 0.0004050145657977239, 0.0004050145657977239, 0.041929696199628476, 0.9504064471915787, 0.02147905108804412, 0.9665572989619855, 0.6454148827397279, 0.33383528417572134, 0.02023244146519523, 0.9982969253175025, 0.0004121787470344767, 0.0008243574940689533, 0.0004121787470344767, 0.9990873877095827, 0.6070125703195896, 0.3889595110785719, 0.995023199457853, 0.002791390071849825, 0.0010736115660960864, 0.0002147223132192173, 0.0004294446264384346, 0.0002147223132192173, 0.0002147223132192173, 0.04030113758933614, 0.9672273021440674, 0.998829843242401, 0.8306280155672157, 0.16237840905825268, 0.9840369349876524, 0.9761171893641969, 0.9959593395305532, 0.0029539080757208696, 0.0004923180126201449, 0.00024615900631007245, 0.05527033039961129, 0.9395956167933919, 0.9265658605149152, 0.9754254058420345, 0.9946537162120285, 0.003842889089744394, 0.0006545580317696496, 0.0002533773026205095, 0.0002744920778388853, 0.00010557387609187896, 0.00021114775218375792, 0.9395183874570568, 0.024090215063001456, 0.04322449348167552, 0.01080612337041888, 0.9509388565968614, 0.9577735705583849, 0.29704585195811406, 0.7008809151573684, 0.001227462198174025, 0.04895614371284111, 0.9464854451149283, 0.9416802302691218, 0.9596624760215522, 0.9215500069823187, 0.0769145291762677, 0.8602985571525329, 0.139041320984521, 0.0003138630270530948, 0.03508176234512584, 0.9472075833183977, 0.3936161087884332, 0.5752850820754024, 0.1680483719583901, 0.8234370225961114, 0.028934754336518265, 0.9548468931051027, 0.9982518084727412, 0.0003842385713905855, 0.0003842385713905855, 0.0003842385713905855, 0.0003842385713905855, 0.9147337268812784, 0.9981306730907895, 0.9697923823474409, 0.17025502021964156, 0.8228992643949342, 0.04415971256516246, 0.9273539638684117, 0.9976662247820888, 0.945775988886699, 0.6416015679425403, 0.35288086236839716, 0.1538935130270129, 0.8079409433918177, 0.07837277173631016, 0.9208800679016445, 0.12752776908598262, 0.8608124413303826, 0.7638066494606048, 0.23322340441545186, 0.03223821274939409, 0.9642156358682414, 0.019561099346373078, 0.9780549673186538, 0.034783339453998585, 0.9623390582272942, 0.9753437174900208, 0.9835593360931778, 0.9153397247732841, 0.948603715173408, 0.9382346454147549, 0.9195804737134097, 0.9956647543311947, 0.0029090322000327076, 0.000387870960004361, 0.000387870960004361, 0.000387870960004361, 0.0001939354800021805, 0.0001939354800021805, 0.9661561057697676, 0.012003783995760246, 0.9843102876523402, 0.02612084029473824, 0.9403502506105766, 0.048462625018553585, 0.9207898753525181, 0.04211801478807039, 0.9476553327315838, 0.5395833458187889, 0.4543859754263485, 0.9823445742331073, 0.664232465265337, 0.3321162326326685, 0.03828923418325288, 0.012763078061084293, 0.9444677765202376, 0.030681943979347075, 0.010227314659782358, 0.9511402633597593, 0.020398133478252332, 0.020398133478252332, 0.9587122734778597, 0.02556342894783012, 0.01278171447391506, 0.9586285855436295, 0.9985545123006254, 0.052008919809611615, 0.949162786525412, 0.03241796433750812, 0.9401209657877355, 0.03065104817717915, 0.9501824934925537, 0.9565094709762593, 0.05420717465683575, 0.9456140467914681, 0.028982424971721196, 0.9564200240667995, 0.022561056505434288, 0.94756437322824, 0.05379530241433927, 0.9145201410437676, 0.014198255690288764, 0.9796796426299247, 0.9763917140418283, 0.11183385948300835, 0.8946708758640668, 0.016825791054572353, 0.016825791054572353, 0.959070090110624, 0.22095905761592838, 0.723223133961379, 0.055703964104855896, 0.9458243641264658, 0.9976104796219771, 0.0012009756977792662, 0.00040032523259308876, 0.00040032523259308876, 0.19596906168341022, 0.7838762467336409, 0.9706219365271098, 0.0029609058120941387, 0.0260929824690796, 0.00018505661325588367, 0.00018505661325588367, 0.00018505661325588367, 0.03355342381557164, 0.9394958668360058, 0.040634479101762454, 0.9345930193405364, 0.9165286196032126, 0.9976789885064474, 0.02926540249757123, 0.9657582824198505, 0.00875015927805605, 0.9537673613081096, 0.0350006371122242, 0.9985320849570132, 0.0008939409892184541, 0.8843495546567451, 0.11506406844976239, 0.9977391414192244, 0.0575568320846121, 0.9209093133537936, 0.9979657475766801, 0.0009072415887060729, 0.00030241386290202427, 0.00030241386290202427, 0.00030241386290202427, 0.00030241386290202427, 0.9592210322372261, 0.02085263113559187, 0.02531310754482435, 0.9618980867033253, 0.025618511172868858, 0.9735034245690165, 0.04407576580763695, 0.9402830038962551, 0.9778246231146096, 0.9267244556750818, 0.9469987318641503, 0.4235123897812698, 0.5223319473968995, 0.056468318637502644, 0.9988312338440062, 0.7461655785755008, 0.24872185952516693, 0.9395607100789095, 0.3829276657228016, 0.6110547857278749, 0.9156039954482695, 0.9980993659101917, 0.0008016862376788688, 0.0008016862376788688, 0.8928267429094574, 0.02689237177438125, 0.07948189879983791, 0.015440120738632854, 0.9727276065338698, 0.9640967105545951, 0.15466929201589855, 0.843650683723083, 0.9163045021333005, 0.026446451208957333, 0.05636128946171235, 0.0002167741902373552, 0.0006503225707120657, 0.0002167741902373552, 0.9440796451930148, 0.9984757718132257, 0.0005751588547311208, 0.0005751588547311208, 0.0005751588547311208, 0.9804318499215332, 0.01499378904092393, 0.9745962876600555, 0.021510544098645317, 0.9679744844390392, 0.7728247264702236, 0.22190016898649986, 0.06407272396917074, 0.9183757102247806, 0.03439583870135877, 0.9630834836380454, 0.02495246996398055, 0.9731463285952415, 0.04377694671543173, 0.9193158810240664, 0.05731922647218452, 0.9171076235549523, 0.9425033108945794, 0.9993078411020422, 0.033585511566484934, 0.9403943238615782, 0.9609142778403649, 0.0009370202611802681, 0.03794932057780086, 0.00023425506529506701, 0.9382501613386629, 0.007746131362961098, 0.0009682664203701372, 0.052286386699987406, 0.9138524591618856, 0.03477076462339719, 0.9388106448317242, 0.09109747542323356, 0.9109747542323355, 0.3154151395392406, 0.6550929821199613, 0.9704514894221259, 0.9985127385679098, 0.0005173641132476217, 0.9416870317752175, 0.1938362311380869, 0.8030358147149315, 0.998052254775849, 0.8977435315963443, 0.9992389272701994, 0.0006055993498607269, 0.9992681839856429, 0.9544391662722164, 0.954544993417589, 0.9944916971174649, 0.0023957241097583466, 0.0026619156775092743, 0.0002661915677509274, 0.0002661915677509274, 0.9436957931732572, 0.9983918042291986, 0.2654675603593351, 0.7205548066896238, 0.7504922900843006, 0.2501640966947669, 0.11047263469489971, 0.8837810775591977, 0.9709876513423761, 0.9950184354054207, 0.0021245945239973395, 0.0017704954366644496, 0.0003540990873328899, 0.0003540990873328899, 0.00017704954366644496, 0.00017704954366644496, 0.9984053634400402, 0.020845992867249148, 0.9380696790262117, 0.020845992867249148, 0.05041688635861676, 0.9327123976344102, 0.04502032555320014, 0.945426836617203, 0.8339752813238328, 0.15443986691182088, 0.010295991127454725, 0.0005418942698660382, 0.0005418942698660382, 0.014508972348184351, 0.9866101196765359, 0.02824954733830304, 0.706238683457576, 0.25424592604472734, 0.7509177767669477, 0.18100298202200044, 0.0684876148191353, 0.8551225500899576, 0.14205618910289197, 0.03243908728400217, 0.9731726185200651, 0.47090392015237537, 0.5179943121676129, 0.9971506294410405, 0.001544174416478576, 0.000386043604119644, 0.000386043604119644, 0.000386043604119644, 0.000193021802059822, 0.9951200693102423, 0.0023382226922286273, 0.0006877125565378316, 0.0008252550678453979, 0.00041262753392269896, 0.00013754251130756632, 0.00041262753392269896, 0.9170585389047127, 0.918269559669096, 0.9432951393037405, 0.021673419437320783, 0.021673419437320783, 0.021673419437320783, 0.9319570358047937, 0.03593393032302088, 0.9342821883985428, 0.03569483916783841, 0.9280658183637985, 0.928196526117953, 0.5845943141867488, 0.4120333419268049, 0.02913004716078242, 0.9612915563058199, 0.04005522569811342, 0.9613254167547222, 0.19205809499182122, 0.8074700552881946, 0.6910449297989563, 0.3053454340972132, 0.9985633150258109, 0.021736983586496585, 0.9781642613923462, 0.11216468307401968, 0.6678897037589353, 0.21923097146285664, 0.9002159805641996, 0.06001439870427997, 0.036078668914855394, 0.9380453917862404, 0.9993302168792891, 0.03597541530193637, 0.9353607978503456, 0.02169627953263919, 0.9763325789687635, 0.9735626564897508, 0.04002649760391457, 0.9606359424939497, 0.821271993847788, 0.0008225057524765028, 0.17724998965868635, 0.04023229754317126, 0.9655751410361102, 0.04007395989488159, 0.9617750374771583, 0.9961911835632711, 0.0028617046447716055, 0.0003179671827524006, 0.0003179671827524006, 0.9087679299563008, 0.9982358500726061, 0.0003221154727565686, 0.0006442309455131372, 0.0003221154727565686, 0.9970053979470086, 0.001629093787495112, 0.000407273446873778, 0.000407273446873778, 0.14938062829664234, 0.8508201002982673, 0.015064134377682257, 0.9791687345493467, 0.9980707008721452, 0.000769324795122414, 0.0005128831967482761, 0.00025644159837413805, 0.00025644159837413805, 0.02655834927962132, 0.9726995423661309, 0.9605651004211969, 0.08132969569369013, 0.9168074787288706, 0.9845549878874742, 0.9373253235901855, 0.022459691376336445, 0.9657667291824672, 0.9878948077522101, 0.9305427789349132, 0.2777795691703906, 0.7142903207238614, 0.9612455654829484, 0.009206735123943823, 0.02897260714145034, 5.201545267764872e-05, 0.00020806181071059487, 0.0003120927160658923, 0.9589194591564792, 0.011681463498731694, 0.028461192846486117, 9.899545337908214e-05, 0.0001979909067581643, 0.0005939727202744928, 0.016726204167682775, 0.9868460458932837, 0.9547964868150223, 0.9540424322938064, 0.006732775604796131, 0.9897180139050311, 0.970517769145007, 0.9762695137857308], \"Term\": [\"!\", \"!\", \"!\", \"!\", \"!\", \"!\", \"\\\"\", \"\\\"\", \"\\\"\", \"\\\"\", \"\\\"\", \"\\\"\", \"\\\"\", \"\\\"\", \"#~\", \"$\", \"$\", \"$\", \"$\", \"$\", \"%\", \"%\", \"%\", \"%\", \"%\", \"&#124;\", \"&#124;\", \"&#124;\", \"&#124;\", \"&#124;\", \"&#x0\", \"&#x1\", \"&#xfffd\", \"&#xfffd\", \"&#xfffd\", \"&#xfffd\", \"&arr[\", \"&m_messagesize\", \"&m_messagesize\", \"&session\", \"&session\", \"&session\", \"'\", \"'\", \"'\", \"'\", \"'\", \"'\", \"'\", \"(\", \"(\", \"(\", \"(\", \"(\", \"(\", \"(\", \")\", \")\", \")\", \")\", \")\", \")\", \")\", \"*\", \"*\", \"*\", \"*\", \"*cause\", \"*cause\", \"+00\", \"+00\", \"+0200\", \",\", \",\", \",\", \",\", \",\", \",\", \",\", \",\", \"-\", \"-\", \"-\", \"-\", \"-\", \"-\", \"-\", \"--\", \"--\", \"--\", \"--\", \"--\", \"--\", \"-destkeystore\", \"-importkeystore\", \"-srckeystore\", \".\", \".\", \".\", \".\", \".\", \".\", \".\", \"..\", \"..\", \"..\", \"..\", \"..\", \"..\", \".l2\", \".l7\", \".quad\", \".section\", \"/\", \"/\", \"/\", \"/\", \"/\", \"/\", \"/\", \"/\", \"0\", \"0\", \"0\", \"0\", \"0\", \"0.\", \"0.\", \"0.0\", \"0.0\", \"0.0\", \"0.000\", \"0.000\", \"0.000\", \"0.3e1\", \"0000001b\", \"0000002f\", \"02\", \"02\", \"02-10\", \"03-06\", \"03-06\", \"04-02\", \"04-02\", \"04-03\", \"04-03\", \"04-10\", \"05-07\", \"05-07\", \"06-29\", \"06550.\", \"06550.\", \"07-06\", \"07-06\", \"0x70\", \"1\", \"1\", \"1\", \"1\", \"1\", \"1\", \"1.0\", \"1.0\", \"1.0\", \"10.0.2.214\", \"1045\", \"1045\", \"1167\", \"1167\", \"12-19\", \"15827\", \"15827\", \"15827\", \"163.33.74.115\", \"163.33.74.115\", \"16783\", \"1743\", \"18,2\", \"1803\", \"19582\", \"19582\", \"2\", \"2\", \"2\", \"2\", \"2\", \"2/20/13\", \"2/20/13\", \"2012-01-16t02\", \"2012-01-16t02\", \"2012-01-16t02\", \"2012-01-26t08\", \"2012-01-26t08\", \"2012-01-26t08\", \"2013-11-04\", \"2013-11-04\", \"2014-07-16t02\", \"2014-07-16t03\", \"2015-12-15\", \"2015-12-15\", \"25\", \"25\", \"25\", \"2689\", \"28/apr/2017\", \"311\", \"311\", \"311\", \"3260\", \"38\", \"38\", \"38.089\", \"38.487\", \"38.487\", \"38.487\", \"4.15.0-42-generic\", \"42432\", \"42432\", \"5.0f\", \"5.0f\", \"5.100\", \"500\", \"500\", \"500\", \"53.590\", \"5644\", \"58.\", \"5d576e9a44fe4c5b6a07e568f1ebc753f1214634\", \"5dp\", \"65536\", \"65536\", \"973c1361-43c3-41a2-9bcd-6ef850c41fcc\", \"973c1361-43c3-41a2-9bcd-6ef850c41fcc\", \"9990\", \":\", \":\", \":\", \":\", \":\", \":\", \":\", \":\", \";\", \";\", \";\", \";\", \";\", \";\", \";\", \"</dependency>\", \"</dependency>\", \"</dependency>\", \"</div>\", \"</div>\", \"</gridview>\", \"</linearlayout>\", \"</linearlayout>\", \"</listview.view>\", \"</listview>\", \"</xs\", \"</xs\", \"</xsd\", \"<?xml\", \"<?xml\", \"<?xml\", \"<attribute\", \"<attribute\", \"<compile\", \"<dependency>\", \"<dependency>\", \"<dependency>\", \"<div\", \"<div\", \"<gridview>\", \"<gridviewcolumn\", \"<item\", \"<item\", \"<item\", \"<linearlayout\", \"<linearlayout\", \"<listview.view>\", \"<module>\", \"<module>\", \"<option\", \"<option\", \"<package\", \"<package\", \"<property\", \"<property\", \"<setter\", \"<setter\", \"<td\", \"<td\", \"<textview\", \"<textview\", \"<value>\", \"<version>$\", \"<version>$\", \"<xs\", \"<xs\", \"<xsd\", \"<xsl\", \"=\", \"=\", \"=\", \"=\", \"=\", \"=\", \"==\", \"==\", \"==\", \"==\", \"=>\", \"=>\", \">\", \">\", \">\", \">\", \">\", \"?\", \"?\", \"?\", \"?\", \"?\", \"?\", \"?\", \"?>\", \"?>\", \"?>\", \"@\", \"@\", \"@\", \"@end\", \"@end\", \"@interface\", \"@interface\", \"@override\", \"@override\", \"@override\", \"@property\", \"@property\", \"[\", \"[\", \"[\", \"[\", \"[\", \"[\", \"\\\\1\\\\1\\\\1\\\\1\\\\1\\\\1\\\\1\\\\1\\\\1\\\\1\\\\1\\\\1\\\\1\\\\1\\\\1\\\\1\\\\1\\\\1\\\\1\\\\1\\\\1\\\\1\\\\1\\\\1\\\\1\\\\1\\\\1\\\\1\\\\1\\\\1\\\\1\\\\1\\\\1\\\\1\\\\1\\\\1\\\\1\\\\1\\\\1\\\\1\\\\1\\\\1\\\\1\\\\1\\\\1\\\\1\\\\1\\\\1\\\\1\\\\1\\\\1\\\\1\\\\1\\\\1\\\\1\\\\1\\\\1\\\\1\\\\1\\\\1\\\\1\\\\1\\\\1\\\\1\\\\1\\\\1\\\\1\\\\1\\\\1\\\\1\\\\1\\\\1\\\\1\\\\1\\\\1\\\\1\\\\1\\\\1\\\\1\\\\1\\\\1\\\\1\\\\1\\\\1\\\\1\\\\1\\\\1\\\\1\\\\1\\\\1\\\\1\\\\1\\\\1\\\\1\\\\1\\\\1\\\\1\\\\1\\\\1\\\\1\\\\1\\\\1\\\\1\\\\1\\\\1\\\\1\\\\1\\\\1\\\\1\\\\1\\\\1\\\\1\\\\1\\\\1\\\\1\\\\1\\\\1\\\\1\\\\1\\\\1\\\\1\\\\1\\\\1\\\\1\\\\1\\\\1\\\\1\\\\1\", \"\\\\dcmtk-3.5.4-src\\\\cmakebinaries\\\\dcmpstat\\\\apps\\\\libcmt.lib(\", \"\\\\dcmtk-3.5.4-src\\\\cmakebinaries\\\\dcmpstat\\\\apps\\\\msvcrt.lib(\", \"]\", \"]\", \"]\", \"]\", \"]\", \"]\", \"]\", \"_\", \"__1\", \"__1\", \"__1\", \"_from\", \"_to\", \"_to\", \"a\", \"a\", \"ack\", \"ack\", \"ack\", \"aenean\", \"align=\", \"align=\", \"already\", \"already\", \"already\", \"also\", \"also\", \"also\", \"also\", \"also\", \"amet\", \"android\", \"android\", \"android\", \"android.view.view.measure(\", \"android.view.view.measure(\", \"android.view.viewgroup.dispatchdraw(\", \"android.view.viewgroup.drawchild(\", \"android=\", \"android=\", \"androidruntime\", \"applet\", \"applet\", \"applicationfilterchain.java\", \"async_read(\", \"async_read(\", \"async_write(\", \"async_write(\", \"awaiter\", \"background=\", \"background=\", \"best\", \"bind(\", \"bind(\", \"binding\", \"binding\", \"blas\", \"blas\", \"buffer(\", \"buffer(\", \"bytes_transferred\", \"bytes_transferred\", \"c5\", \"c5\", \"camera1session\", \"caused\", \"caused\", \"caused\", \"caused\", \"ccp1\", \"char\", \"char\", \"charat\", \"charat\", \"chromedriver=2.44.609551\", \"class=\", \"class=\", \"cleared\", \"cleared\", \"clearscene\", \"clearscene\", \"client\", \"client\", \"closesession\", \"code\", \"code\", \"code\", \"code\", \"code\", \"code\", \"code\", \"com.android.support\", \"com.android.support\", \"com.dps.nom.dops.util.debugproxy\", \"com.dps.nom.dops.util.debugproxy\", \"com.sun.deploy.security.trustdecider.isallpermissiongranted(\", \"complextype>\", \"console.log(\", \"controllercontext\", \"controllercontext\", \"core.js\", \"crt0dat.obj\", \"cst\", \"cst\", \"culture=neutral\", \"culture=neutral\", \"current\", \"cv\", \"cv\", \"data\", \"data\", \"data\", \"data\", \"data\", \"datamember\", \"datamember\", \"date\", \"dcmp2pgm\", \"dcmprscp\", \"dcmprscu\", \"dcmpsprt\", \"debug.log(\", \"debugproxy\", \"debugproxy\", \"def\", \"defined\", \"defined\", \"defined\", \"df\", \"df\", \"dirbuster-0.12\", \"displaymemberbinding=\", \"dolor\", \"dword\", \"dword\", \"e/androidruntime(\", \"e/androidruntime(\", \"e/androidruntime(\", \"e/androidruntime(\", \"eax\", \"eax\", \"ebp\", \"ebx\", \"ecx\", \"encoding=\", \"encoding=\", \"encoding=\", \"entityframework\", \"entityframework\", \"error\", \"error\", \"error\", \"error\", \"error\", \"error\", \"error\", \"error/androidruntime(\", \"error/androidruntime(\", \"error_code&amp;\", \"error_code&amp;\", \"esp\", \"esp\", \"false\", \"false\", \"false\", \"false\", \"ff\", \"ff\", \"file\", \"file\", \"file\", \"file\", \"file\", \"file\", \"fill_parent\", \"fill_parent\", \"filterchainproxy.java\", \"filterchainproxy.java\", \"float\", \"float\", \"float\", \"function\", \"function\", \"function\", \"function\", \"function(\", \"gem\", \"gem\", \"get\", \"get\", \"get\", \"get\", \"get\", \"get\", \"get\", \"get_account(\", \"get_account(\", \"good\", \"guide\", \"guide\", \"hc=\", \"header=\", \"how\", \"how\", \"how\", \"how\", \"http://schemas.android.com/apk/res/android\", \"http://schemas.android.com/apk/res/android\", \"http://www.owasp.org/index.php/category\", \"https://xdebug.org/docs/upgrade_guide#changed-\", \"i\", \"i\", \"i\", \"i\", \"i\", \"i\", \"i\", \"i/debug(\", \"i/debug(\", \"i/memory(\", \"i/memory(\", \"i/memory(\", \"iasyncresult\", \"id=\", \"id=\", \"id=\", \"include=\", \"include=\", \"info/worker-28/99\", \"info/worker-9/23\", \"install\", \"install\", \"int\", \"int\", \"int\", \"internal/modules/cjs/loader.js\", \"internal/modules/cjs/loader.js\", \"interrupts\", \"interrupts\", \"intptr\", \"intptr\", \"ioservice\", \"ioservice\", \"is\", \"is\", \"is\", \"is\", \"is\", \"java.security.nosuchproviderexception\", \"javascript\", \"jce\", \"jks\", \"jks\", \"jmem\", \"jmem\", \"jquery\", \"kb/\", \"keystore\", \"keystore\", \"keytool\", \"keytool\", \"l2\", \"l2\", \"l3\", \"l3\", \"layer\", \"layer\", \"layout_height=\", \"layout_height=\", \"layout_weight=\", \"layout_weight=\", \"layout_width=\", \"layout_width=\", \"layoutinflater.java\", \"lea\", \"len=0\", \"libcmt.lib(\", \"libruby.dylib\", \"libsystem_pthread.dylib\", \"like\", \"like\", \"like\", \"like\", \"like\", \"like\", \"like\", \"lldb_private\", \"lnk2005\", \"lnk2005\", \"loadscene\", \"loadscene\", \"loc\", \"loc\", \"loops=1\", \"loops=1\", \"loss\", \"loss\", \"lparam\", \"m\", \"m\", \"m_message\", \"m_message\", \"m_message\", \"m_messagesize\", \"m_messagesize\", \"m_messagesize\", \"m_messagesizeiterator\", \"m_messagesizeiterator\", \"m_messagesizeiterator\", \"m_socket\", \"m_socket\", \"m_socket\", \"many\", \"match_parent\", \"match_parent\", \"mkmapview\", \"mkmapview\", \"model.add(\", \"model.add(\", \"moshem$\", \"mov\", \"mov\", \"movl\", \"movl\", \"msg_cnt\", \"msg_cnt\", \"msk\", \"msk\", \"msvcr100.dll\", \"msvcr100.dll\", \"msvcrt.lib(\", \"myengine\", \"myengine\", \"na\", \"na\", \"na\", \"name=\", \"name=\", \"name=\", \"nazgulled\", \"need\", \"need\", \"need\", \"need\", \"net451\", \"net451\", \"new\", \"new\", \"new\", \"new\", \"new\", \"new\", \"new_session\", \"new_session\", \"nmem\", \"nmem\", \"nmi\", \"node\", \"nop\", \"nop\", \"nowrap\", \"nowrap\", \"nowrap\", \"number\", \"number\", \"numpy\", \"numpy\", \"objects\", \"oidc\", \"oidc\", \"one\", \"one\", \"one\", \"one\", \"one\", \"one\", \"ops/\", \"ops/\", \"ora-06550\", \"ora-06550\", \"org.springframework.security.web.filterchainproxy$\", \"org.springframework.security.web.filterchainproxy$\", \"orientation=\", \"orientation=\", \"overruns\", \"owasp_dirbuster_project\", \"p12\", \"packets\", \"packets\", \"packets\", \"php\", \"pip\", \"pip\", \"pkcs12\", \"placeholders\", \"placeholders\", \"platform=linux\", \"possible\", \"possible\", \"possible\", \"private\", \"private\", \"private\", \"property=\", \"property=\", \"proximity\", \"ptr\", \"ptr\", \"public\", \"public\", \"public\", \"public\", \"public\", \"public\", \"publickeytoken=b77a5c561934e089</value>\", \"question\", \"question\", \"question\", \"question\", \"qword\", \"rax\", \"rax\", \"rbp\", \"rbp\", \"rc\", \"rc\", \"rcx\", \"rcx\", \"rdi\", \"rdi\", \"rdx\", \"rdx\", \"reads/second\", \"reads/second\", \"req.session.useridentity\", \"req.session.useridentity\", \"requests.packages.urllib3.connection\", \"response\", \"ret1\", \"ret1\", \"return\", \"return\", \"return\", \"return\", \"right\", \"right\", \"right\", \"right\", \"root/instapy/instapy/unfollow_util.py\", \"rotverts[\", \"rotverts[\", \"rsync\", \"rsync\", \"rx\", \"rx\", \"sampleheartrateapp[\", \"server\", \"server\", \"sharename/b\", \"sparse\", \"sparse\", \"sql\", \"ssdp\", \"std\", \"std\", \"store\", \"streambenchmark.loop\", \"streambenchmark.stream\", \"string\", \"string\", \"string\", \"string\", \"string\", \"system.resources.resxfileref\", \"table\", \"targetframework=\", \"targetframework=\", \"tcp\", \"tcp\", \"text=\", \"text=\", \"textappearance=\", \"the\", \"the\", \"the\", \"the\", \"the\", \"the\", \"the\", \"there\", \"thrpt\", \"thrpt\", \"thrpt\", \"tokenset\", \"tokenset\", \"tran_cnt\", \"tran_cnt\", \"true\", \"true\", \"true\", \"true\", \"true\", \"ts-node\", \"ts-node\", \"tx\", \"tx\", \"tx\", \"type=\", \"type=\", \"type=\", \"u\", \"u\", \"up-to-date\", \"up-to-date\", \"upgrading\", \"upgrading\", \"use\", \"use\", \"use\", \"use\", \"use\", \"use\", \"using\", \"using\", \"using\", \"using\", \"using\", \"using\", \"using\", \"usr/local/lib/python3.6/dist-packages/selenium/webdriver/remote/webdriver.py\", \"usr/local/lib/python3.6/dist-packages/selenium/webdriver/remote/webelement.py\", \"usr/local/lib/python3.6/site-packages/flask/app.py\", \"usr/local/lib/python3.6/site-packages/pymysql/connections.py\", \"usr/local/lib/python3.6/site-packages/pymysql/connections.py\", \"usr/local/lib/python3.6/site-packages/pymysql/connections.py\", \"usr/local/lib/python3.6/site-packages/pymysql/connections.py\", \"usr/local/lib/python3.6/site-packages/sqlalchemy/engine/base.py\", \"usr/local/lib/python3.6/site-packages/sqlalchemy/engine/base.py\", \"usr/local/lib/python3.6/site-packages/sqlalchemy/orm/query.py\", \"usr/local/lib/python3.6/site-packages/sqlalchemy/orm/query.py\", \"usr/local/lib/ruby/gems/1.9.1/gems/sinatra-1.0/lib/sinatra/base.rb\", \"utf-8\", \"utf-8\", \"v/main\", \"v/main\", \"vaccount_id\", \"vaccount_id\", \"value=\", \"value=\", \"varchar(\", \"varchar(\", \"variable\", \"vec4\", \"vec4\", \"version=\", \"version=\", \"version=\", \"version=2.0.0.0\", \"version=2.0.0.0\", \"verts[\", \"verts[\", \"video\", \"view.java\", \"view.java\", \"viewgroup.java\", \"viewgroup.java\", \"virtualfilterchain.dofilter(\", \"vmessage_count\", \"vmessage_count\", \"void\", \"void\", \"void\", \"vret_val\", \"vret_val\", \"vtran_count\", \"vtran_count\", \"want\", \"want\", \"want\", \"want\", \"warn/system.err(\", \"way\", \"way\", \"way\", \"way\", \"what\", \"what\", \"what\", \"what\", \"width=\", \"width=\", \"worker.1\", \"worker.1\", \"would\", \"would\", \"would\", \"would\", \"would\", \"wrap_content\", \"wrap_content\", \"xerces\", \"xmlns\", \"xmlns\", \"xmm0\", \"xmm1\", \"ymm0\", \"ymm0\", \"ymm1\", \"ypos\", \"zygoteinit.java\", \"zygoteinit.java\", \"{\", \"{\", \"{\", \"{\", \"{\", \"{\", \"}\", \"}\", \"}\", \"}\", \"}\", \"}\", \"~[\", \"~[\", \"\\u00f4\\u00f6\\u00a3\", \"\\u00f4\\u00f6\\u00e7\\u00f4\\u00f6\\u00e7\", \"\\u2502\", \"\\u2502\", \"\\u251c\\u2500\\u2500\", \"\\u2551\"]}, \"R\": 30, \"lambda.step\": 0.01, \"plot.opts\": {\"xlab\": \"PC1\", \"ylab\": \"PC2\"}, \"topic.order\": [5, 2, 1, 8, 4, 6, 7, 3]};\n",
       "\n",
       "function LDAvis_load_lib(url, callback){\n",
       "  var s = document.createElement('script');\n",
       "  s.src = url;\n",
       "  s.async = true;\n",
       "  s.onreadystatechange = s.onload = callback;\n",
       "  s.onerror = function(){console.warn(\"failed to load library \" + url);};\n",
       "  document.getElementsByTagName(\"head\")[0].appendChild(s);\n",
       "}\n",
       "\n",
       "if(typeof(LDAvis) !== \"undefined\"){\n",
       "   // already loaded: just create the visualization\n",
       "   !function(LDAvis){\n",
       "       new LDAvis(\"#\" + \"ldavis_el2730816194659933443079816241\", ldavis_el2730816194659933443079816241_data);\n",
       "   }(LDAvis);\n",
       "}else if(typeof define === \"function\" && define.amd){\n",
       "   // require.js is available: use it to load d3/LDAvis\n",
       "   require.config({paths: {d3: \"https://d3js.org/d3.v5\"}});\n",
       "   require([\"d3\"], function(d3){\n",
       "      window.d3 = d3;\n",
       "      LDAvis_load_lib(\"https://cdn.jsdelivr.net/gh/bmabey/pyLDAvis@3.3.1/pyLDAvis/js/ldavis.v3.0.0.js\", function(){\n",
       "        new LDAvis(\"#\" + \"ldavis_el2730816194659933443079816241\", ldavis_el2730816194659933443079816241_data);\n",
       "      });\n",
       "    });\n",
       "}else{\n",
       "    // require.js not available: dynamically load d3 & LDAvis\n",
       "    LDAvis_load_lib(\"https://d3js.org/d3.v5.js\", function(){\n",
       "         LDAvis_load_lib(\"https://cdn.jsdelivr.net/gh/bmabey/pyLDAvis@3.3.1/pyLDAvis/js/ldavis.v3.0.0.js\", function(){\n",
       "                 new LDAvis(\"#\" + \"ldavis_el2730816194659933443079816241\", ldavis_el2730816194659933443079816241_data);\n",
       "            })\n",
       "         });\n",
       "}\n",
       "</script>"
      ],
      "text/plain": [
       "PreparedData(topic_coordinates=                x           y  topics  cluster       Freq\n",
       "topic                                                    \n",
       "4     -108.958252 -208.941483       1        1  84.703196\n",
       "1      186.487061  -98.103249       2        1   4.977636\n",
       "0       19.245832  160.858780       3        1   3.725842\n",
       "7      170.658829   75.445076       4        1   1.593778\n",
       "3       -1.386411  -35.043739       5        1   1.489740\n",
       "5     -145.800095  106.944611       6        1   1.256838\n",
       "6       64.834541 -221.825272       7        1   1.233565\n",
       "2     -196.906036  -58.990913       8        1   1.019405, topic_info=           Term          Freq         Total Category  logprob  loglift\n",
       "1             \"  70140.000000  70140.000000  Default  30.0000  30.0000\n",
       "24459         ;  40637.000000  40637.000000  Default  29.0000  29.0000\n",
       "24453         :  80110.000000  80110.000000  Default  28.0000  28.0000\n",
       "1349          )  85604.000000  85604.000000  Default  27.0000  27.0000\n",
       "27874         =  23557.000000  23557.000000  Default  26.0000  26.0000\n",
       "...         ...           ...           ...      ...      ...      ...\n",
       "134863        u     51.334759    359.012869   Topic8  -5.9629   2.6410\n",
       "65647        ff     32.147945     85.318685   Topic8  -6.4309   3.6099\n",
       "35668   already     57.816787    831.547220   Topic8  -5.8440   1.9199\n",
       "11551        02     37.198613    164.008900   Topic8  -6.2850   3.1023\n",
       "20059        38     27.822857    106.694130   Topic8  -6.5754   3.2418\n",
       "\n",
       "[506 rows x 6 columns], token_table=        Topic      Freq    Term\n",
       "term                           \n",
       "0           1  0.986016       !\n",
       "0           2  0.002817       !\n",
       "0           3  0.010562       !\n",
       "0           4  0.000235       !\n",
       "0           5  0.000235       !\n",
       "...       ...       ...     ...\n",
       "145355      6  0.954042  ôöçôöç\n",
       "145621      1  0.006733       │\n",
       "145621      4  0.989718       │\n",
       "145629      4  0.970518     ├──\n",
       "145636      4  0.976270       ║\n",
       "\n",
       "[981 rows x 3 columns], R=30, lambda_step=0.01, plot_opts={'xlab': 'PC1', 'ylab': 'PC2'}, topic_order=[5, 2, 1, 8, 4, 6, 7, 3])"
      ]
     },
     "execution_count": 11,
     "metadata": {},
     "output_type": "execute_result"
    }
   ],
   "source": [
    "# Visualize the topics\n",
    "pyLDAvis.enable_notebook()\n",
    "panel = pyLDAvis.sklearn.prepare(best_lda_model, text_bow, bow_vectorizer, mds='tsne')\n",
    "panel"
   ]
  },
  {
   "cell_type": "code",
   "execution_count": 12,
   "id": "c3c4e25b",
   "metadata": {},
   "outputs": [
    {
     "data": {
      "text/plain": [
       "LatentDirichletAllocation(learning_method='online', learning_offset=50.0,\n",
       "                          max_iter=5, n_components=20, random_state=0)"
      ]
     },
     "execution_count": 12,
     "metadata": {},
     "output_type": "execute_result"
    }
   ],
   "source": [
    "from sklearn.decomposition import LatentDirichletAllocation\n",
    "n_topics = 20\n",
    "\n",
    "\n",
    "tf_vectorizer = CountVectorizer(max_df=0.95, min_df=2, max_features=1000, stop_words='english')\n",
    "tf = tf_vectorizer.fit_transform(full_text)\n",
    "\n",
    "\n",
    "# Créer le modèle LDA\n",
    "lda = LatentDirichletAllocation(\n",
    "        n_components=n_topics, \n",
    "        max_iter=5, \n",
    "        learning_method='online', \n",
    "        learning_offset=50.,\n",
    "        random_state=0)\n",
    "\n",
    "# Fitter sur les données\n",
    "lda.fit(tf)"
   ]
  },
  {
   "cell_type": "code",
   "execution_count": 13,
   "id": "6e2a488e",
   "metadata": {},
   "outputs": [],
   "source": [
    "Xfeatures = df[\"full_text\"]\n",
    "ylabels = df[[\"Tags1\",\"Tags2\",\"Tags3\"]]"
   ]
  },
  {
   "cell_type": "code",
   "execution_count": 14,
   "id": "00d9784f",
   "metadata": {},
   "outputs": [],
   "source": [
    "x_train,x_test,y_train,y_test = train_test_split(Xfeatures,ylabels,test_size=0.3,random_state=7)"
   ]
  },
  {
   "cell_type": "code",
   "execution_count": 15,
   "id": "2f9ad8f1",
   "metadata": {},
   "outputs": [],
   "source": [
    "pipe_lr = Pipeline(steps=[('cv',CountVectorizer(max_df=0.95, min_df=2, max_features=1000, stop_words='english')),\n",
    "                          ('lr_multi',MultiOutputClassifier(LogisticRegression()))])"
   ]
  },
  {
   "cell_type": "code",
   "execution_count": 16,
   "id": "878b526e",
   "metadata": {
    "scrolled": false
   },
   "outputs": [
    {
     "ename": "KeyboardInterrupt",
     "evalue": "",
     "output_type": "error",
     "traceback": [
      "\u001b[1;31m---------------------------------------------------------------------------\u001b[0m",
      "\u001b[1;31mKeyboardInterrupt\u001b[0m                         Traceback (most recent call last)",
      "\u001b[1;32m~\\AppData\\Local\\Temp/ipykernel_27308/3644595737.py\u001b[0m in \u001b[0;36m<module>\u001b[1;34m\u001b[0m\n\u001b[1;32m----> 1\u001b[1;33m \u001b[0mpipe_lr\u001b[0m\u001b[1;33m.\u001b[0m\u001b[0mfit\u001b[0m\u001b[1;33m(\u001b[0m\u001b[0mx_train\u001b[0m\u001b[1;33m,\u001b[0m\u001b[0my_train\u001b[0m\u001b[1;33m)\u001b[0m\u001b[1;33m\u001b[0m\u001b[1;33m\u001b[0m\u001b[0m\n\u001b[0m",
      "\u001b[1;32mE:\\Program Files (x86)\\Anaconda\\envs\\Projet3\\lib\\site-packages\\sklearn\\pipeline.py\u001b[0m in \u001b[0;36mfit\u001b[1;34m(self, X, y, **fit_params)\u001b[0m\n\u001b[0;32m    392\u001b[0m             \u001b[1;32mif\u001b[0m \u001b[0mself\u001b[0m\u001b[1;33m.\u001b[0m\u001b[0m_final_estimator\u001b[0m \u001b[1;33m!=\u001b[0m \u001b[1;34m\"passthrough\"\u001b[0m\u001b[1;33m:\u001b[0m\u001b[1;33m\u001b[0m\u001b[1;33m\u001b[0m\u001b[0m\n\u001b[0;32m    393\u001b[0m                 \u001b[0mfit_params_last_step\u001b[0m \u001b[1;33m=\u001b[0m \u001b[0mfit_params_steps\u001b[0m\u001b[1;33m[\u001b[0m\u001b[0mself\u001b[0m\u001b[1;33m.\u001b[0m\u001b[0msteps\u001b[0m\u001b[1;33m[\u001b[0m\u001b[1;33m-\u001b[0m\u001b[1;36m1\u001b[0m\u001b[1;33m]\u001b[0m\u001b[1;33m[\u001b[0m\u001b[1;36m0\u001b[0m\u001b[1;33m]\u001b[0m\u001b[1;33m]\u001b[0m\u001b[1;33m\u001b[0m\u001b[1;33m\u001b[0m\u001b[0m\n\u001b[1;32m--> 394\u001b[1;33m                 \u001b[0mself\u001b[0m\u001b[1;33m.\u001b[0m\u001b[0m_final_estimator\u001b[0m\u001b[1;33m.\u001b[0m\u001b[0mfit\u001b[0m\u001b[1;33m(\u001b[0m\u001b[0mXt\u001b[0m\u001b[1;33m,\u001b[0m \u001b[0my\u001b[0m\u001b[1;33m,\u001b[0m \u001b[1;33m**\u001b[0m\u001b[0mfit_params_last_step\u001b[0m\u001b[1;33m)\u001b[0m\u001b[1;33m\u001b[0m\u001b[1;33m\u001b[0m\u001b[0m\n\u001b[0m\u001b[0;32m    395\u001b[0m \u001b[1;33m\u001b[0m\u001b[0m\n\u001b[0;32m    396\u001b[0m         \u001b[1;32mreturn\u001b[0m \u001b[0mself\u001b[0m\u001b[1;33m\u001b[0m\u001b[1;33m\u001b[0m\u001b[0m\n",
      "\u001b[1;32mE:\\Program Files (x86)\\Anaconda\\envs\\Projet3\\lib\\site-packages\\sklearn\\multioutput.py\u001b[0m in \u001b[0;36mfit\u001b[1;34m(self, X, Y, sample_weight, **fit_params)\u001b[0m\n\u001b[0;32m    432\u001b[0m             \u001b[0mReturns\u001b[0m \u001b[0ma\u001b[0m \u001b[0mfitted\u001b[0m \u001b[0minstance\u001b[0m\u001b[1;33m.\u001b[0m\u001b[1;33m\u001b[0m\u001b[1;33m\u001b[0m\u001b[0m\n\u001b[0;32m    433\u001b[0m         \"\"\"\n\u001b[1;32m--> 434\u001b[1;33m         \u001b[0msuper\u001b[0m\u001b[1;33m(\u001b[0m\u001b[1;33m)\u001b[0m\u001b[1;33m.\u001b[0m\u001b[0mfit\u001b[0m\u001b[1;33m(\u001b[0m\u001b[0mX\u001b[0m\u001b[1;33m,\u001b[0m \u001b[0mY\u001b[0m\u001b[1;33m,\u001b[0m \u001b[0msample_weight\u001b[0m\u001b[1;33m,\u001b[0m \u001b[1;33m**\u001b[0m\u001b[0mfit_params\u001b[0m\u001b[1;33m)\u001b[0m\u001b[1;33m\u001b[0m\u001b[1;33m\u001b[0m\u001b[0m\n\u001b[0m\u001b[0;32m    435\u001b[0m         \u001b[0mself\u001b[0m\u001b[1;33m.\u001b[0m\u001b[0mclasses_\u001b[0m \u001b[1;33m=\u001b[0m \u001b[1;33m[\u001b[0m\u001b[0mestimator\u001b[0m\u001b[1;33m.\u001b[0m\u001b[0mclasses_\u001b[0m \u001b[1;32mfor\u001b[0m \u001b[0mestimator\u001b[0m \u001b[1;32min\u001b[0m \u001b[0mself\u001b[0m\u001b[1;33m.\u001b[0m\u001b[0mestimators_\u001b[0m\u001b[1;33m]\u001b[0m\u001b[1;33m\u001b[0m\u001b[1;33m\u001b[0m\u001b[0m\n\u001b[0;32m    436\u001b[0m         \u001b[1;32mreturn\u001b[0m \u001b[0mself\u001b[0m\u001b[1;33m\u001b[0m\u001b[1;33m\u001b[0m\u001b[0m\n",
      "\u001b[1;32mE:\\Program Files (x86)\\Anaconda\\envs\\Projet3\\lib\\site-packages\\sklearn\\multioutput.py\u001b[0m in \u001b[0;36mfit\u001b[1;34m(self, X, y, sample_weight, **fit_params)\u001b[0m\n\u001b[0;32m    200\u001b[0m         \u001b[0mfit_params_validated\u001b[0m \u001b[1;33m=\u001b[0m \u001b[0m_check_fit_params\u001b[0m\u001b[1;33m(\u001b[0m\u001b[0mX\u001b[0m\u001b[1;33m,\u001b[0m \u001b[0mfit_params\u001b[0m\u001b[1;33m)\u001b[0m\u001b[1;33m\u001b[0m\u001b[1;33m\u001b[0m\u001b[0m\n\u001b[0;32m    201\u001b[0m \u001b[1;33m\u001b[0m\u001b[0m\n\u001b[1;32m--> 202\u001b[1;33m         self.estimators_ = Parallel(n_jobs=self.n_jobs)(\n\u001b[0m\u001b[0;32m    203\u001b[0m             delayed(_fit_estimator)(\n\u001b[0;32m    204\u001b[0m                 \u001b[0mself\u001b[0m\u001b[1;33m.\u001b[0m\u001b[0mestimator\u001b[0m\u001b[1;33m,\u001b[0m \u001b[0mX\u001b[0m\u001b[1;33m,\u001b[0m \u001b[0my\u001b[0m\u001b[1;33m[\u001b[0m\u001b[1;33m:\u001b[0m\u001b[1;33m,\u001b[0m \u001b[0mi\u001b[0m\u001b[1;33m]\u001b[0m\u001b[1;33m,\u001b[0m \u001b[0msample_weight\u001b[0m\u001b[1;33m,\u001b[0m \u001b[1;33m**\u001b[0m\u001b[0mfit_params_validated\u001b[0m\u001b[1;33m\u001b[0m\u001b[1;33m\u001b[0m\u001b[0m\n",
      "\u001b[1;32mE:\\Program Files (x86)\\Anaconda\\envs\\Projet3\\lib\\site-packages\\joblib\\parallel.py\u001b[0m in \u001b[0;36m__call__\u001b[1;34m(self, iterable)\u001b[0m\n\u001b[0;32m   1044\u001b[0m                 \u001b[0mself\u001b[0m\u001b[1;33m.\u001b[0m\u001b[0m_iterating\u001b[0m \u001b[1;33m=\u001b[0m \u001b[0mself\u001b[0m\u001b[1;33m.\u001b[0m\u001b[0m_original_iterator\u001b[0m \u001b[1;32mis\u001b[0m \u001b[1;32mnot\u001b[0m \u001b[1;32mNone\u001b[0m\u001b[1;33m\u001b[0m\u001b[1;33m\u001b[0m\u001b[0m\n\u001b[0;32m   1045\u001b[0m \u001b[1;33m\u001b[0m\u001b[0m\n\u001b[1;32m-> 1046\u001b[1;33m             \u001b[1;32mwhile\u001b[0m \u001b[0mself\u001b[0m\u001b[1;33m.\u001b[0m\u001b[0mdispatch_one_batch\u001b[0m\u001b[1;33m(\u001b[0m\u001b[0miterator\u001b[0m\u001b[1;33m)\u001b[0m\u001b[1;33m:\u001b[0m\u001b[1;33m\u001b[0m\u001b[1;33m\u001b[0m\u001b[0m\n\u001b[0m\u001b[0;32m   1047\u001b[0m                 \u001b[1;32mpass\u001b[0m\u001b[1;33m\u001b[0m\u001b[1;33m\u001b[0m\u001b[0m\n\u001b[0;32m   1048\u001b[0m \u001b[1;33m\u001b[0m\u001b[0m\n",
      "\u001b[1;32mE:\\Program Files (x86)\\Anaconda\\envs\\Projet3\\lib\\site-packages\\joblib\\parallel.py\u001b[0m in \u001b[0;36mdispatch_one_batch\u001b[1;34m(self, iterator)\u001b[0m\n\u001b[0;32m    859\u001b[0m                 \u001b[1;32mreturn\u001b[0m \u001b[1;32mFalse\u001b[0m\u001b[1;33m\u001b[0m\u001b[1;33m\u001b[0m\u001b[0m\n\u001b[0;32m    860\u001b[0m             \u001b[1;32melse\u001b[0m\u001b[1;33m:\u001b[0m\u001b[1;33m\u001b[0m\u001b[1;33m\u001b[0m\u001b[0m\n\u001b[1;32m--> 861\u001b[1;33m                 \u001b[0mself\u001b[0m\u001b[1;33m.\u001b[0m\u001b[0m_dispatch\u001b[0m\u001b[1;33m(\u001b[0m\u001b[0mtasks\u001b[0m\u001b[1;33m)\u001b[0m\u001b[1;33m\u001b[0m\u001b[1;33m\u001b[0m\u001b[0m\n\u001b[0m\u001b[0;32m    862\u001b[0m                 \u001b[1;32mreturn\u001b[0m \u001b[1;32mTrue\u001b[0m\u001b[1;33m\u001b[0m\u001b[1;33m\u001b[0m\u001b[0m\n\u001b[0;32m    863\u001b[0m \u001b[1;33m\u001b[0m\u001b[0m\n",
      "\u001b[1;32mE:\\Program Files (x86)\\Anaconda\\envs\\Projet3\\lib\\site-packages\\joblib\\parallel.py\u001b[0m in \u001b[0;36m_dispatch\u001b[1;34m(self, batch)\u001b[0m\n\u001b[0;32m    777\u001b[0m         \u001b[1;32mwith\u001b[0m \u001b[0mself\u001b[0m\u001b[1;33m.\u001b[0m\u001b[0m_lock\u001b[0m\u001b[1;33m:\u001b[0m\u001b[1;33m\u001b[0m\u001b[1;33m\u001b[0m\u001b[0m\n\u001b[0;32m    778\u001b[0m             \u001b[0mjob_idx\u001b[0m \u001b[1;33m=\u001b[0m \u001b[0mlen\u001b[0m\u001b[1;33m(\u001b[0m\u001b[0mself\u001b[0m\u001b[1;33m.\u001b[0m\u001b[0m_jobs\u001b[0m\u001b[1;33m)\u001b[0m\u001b[1;33m\u001b[0m\u001b[1;33m\u001b[0m\u001b[0m\n\u001b[1;32m--> 779\u001b[1;33m             \u001b[0mjob\u001b[0m \u001b[1;33m=\u001b[0m \u001b[0mself\u001b[0m\u001b[1;33m.\u001b[0m\u001b[0m_backend\u001b[0m\u001b[1;33m.\u001b[0m\u001b[0mapply_async\u001b[0m\u001b[1;33m(\u001b[0m\u001b[0mbatch\u001b[0m\u001b[1;33m,\u001b[0m \u001b[0mcallback\u001b[0m\u001b[1;33m=\u001b[0m\u001b[0mcb\u001b[0m\u001b[1;33m)\u001b[0m\u001b[1;33m\u001b[0m\u001b[1;33m\u001b[0m\u001b[0m\n\u001b[0m\u001b[0;32m    780\u001b[0m             \u001b[1;31m# A job can complete so quickly than its callback is\u001b[0m\u001b[1;33m\u001b[0m\u001b[1;33m\u001b[0m\u001b[0m\n\u001b[0;32m    781\u001b[0m             \u001b[1;31m# called before we get here, causing self._jobs to\u001b[0m\u001b[1;33m\u001b[0m\u001b[1;33m\u001b[0m\u001b[0m\n",
      "\u001b[1;32mE:\\Program Files (x86)\\Anaconda\\envs\\Projet3\\lib\\site-packages\\joblib\\_parallel_backends.py\u001b[0m in \u001b[0;36mapply_async\u001b[1;34m(self, func, callback)\u001b[0m\n\u001b[0;32m    206\u001b[0m     \u001b[1;32mdef\u001b[0m \u001b[0mapply_async\u001b[0m\u001b[1;33m(\u001b[0m\u001b[0mself\u001b[0m\u001b[1;33m,\u001b[0m \u001b[0mfunc\u001b[0m\u001b[1;33m,\u001b[0m \u001b[0mcallback\u001b[0m\u001b[1;33m=\u001b[0m\u001b[1;32mNone\u001b[0m\u001b[1;33m)\u001b[0m\u001b[1;33m:\u001b[0m\u001b[1;33m\u001b[0m\u001b[1;33m\u001b[0m\u001b[0m\n\u001b[0;32m    207\u001b[0m         \u001b[1;34m\"\"\"Schedule a func to be run\"\"\"\u001b[0m\u001b[1;33m\u001b[0m\u001b[1;33m\u001b[0m\u001b[0m\n\u001b[1;32m--> 208\u001b[1;33m         \u001b[0mresult\u001b[0m \u001b[1;33m=\u001b[0m \u001b[0mImmediateResult\u001b[0m\u001b[1;33m(\u001b[0m\u001b[0mfunc\u001b[0m\u001b[1;33m)\u001b[0m\u001b[1;33m\u001b[0m\u001b[1;33m\u001b[0m\u001b[0m\n\u001b[0m\u001b[0;32m    209\u001b[0m         \u001b[1;32mif\u001b[0m \u001b[0mcallback\u001b[0m\u001b[1;33m:\u001b[0m\u001b[1;33m\u001b[0m\u001b[1;33m\u001b[0m\u001b[0m\n\u001b[0;32m    210\u001b[0m             \u001b[0mcallback\u001b[0m\u001b[1;33m(\u001b[0m\u001b[0mresult\u001b[0m\u001b[1;33m)\u001b[0m\u001b[1;33m\u001b[0m\u001b[1;33m\u001b[0m\u001b[0m\n",
      "\u001b[1;32mE:\\Program Files (x86)\\Anaconda\\envs\\Projet3\\lib\\site-packages\\joblib\\_parallel_backends.py\u001b[0m in \u001b[0;36m__init__\u001b[1;34m(self, batch)\u001b[0m\n\u001b[0;32m    570\u001b[0m         \u001b[1;31m# Don't delay the application, to avoid keeping the input\u001b[0m\u001b[1;33m\u001b[0m\u001b[1;33m\u001b[0m\u001b[0m\n\u001b[0;32m    571\u001b[0m         \u001b[1;31m# arguments in memory\u001b[0m\u001b[1;33m\u001b[0m\u001b[1;33m\u001b[0m\u001b[0m\n\u001b[1;32m--> 572\u001b[1;33m         \u001b[0mself\u001b[0m\u001b[1;33m.\u001b[0m\u001b[0mresults\u001b[0m \u001b[1;33m=\u001b[0m \u001b[0mbatch\u001b[0m\u001b[1;33m(\u001b[0m\u001b[1;33m)\u001b[0m\u001b[1;33m\u001b[0m\u001b[1;33m\u001b[0m\u001b[0m\n\u001b[0m\u001b[0;32m    573\u001b[0m \u001b[1;33m\u001b[0m\u001b[0m\n\u001b[0;32m    574\u001b[0m     \u001b[1;32mdef\u001b[0m \u001b[0mget\u001b[0m\u001b[1;33m(\u001b[0m\u001b[0mself\u001b[0m\u001b[1;33m)\u001b[0m\u001b[1;33m:\u001b[0m\u001b[1;33m\u001b[0m\u001b[1;33m\u001b[0m\u001b[0m\n",
      "\u001b[1;32mE:\\Program Files (x86)\\Anaconda\\envs\\Projet3\\lib\\site-packages\\joblib\\parallel.py\u001b[0m in \u001b[0;36m__call__\u001b[1;34m(self)\u001b[0m\n\u001b[0;32m    260\u001b[0m         \u001b[1;31m# change the default number of processes to -1\u001b[0m\u001b[1;33m\u001b[0m\u001b[1;33m\u001b[0m\u001b[0m\n\u001b[0;32m    261\u001b[0m         \u001b[1;32mwith\u001b[0m \u001b[0mparallel_backend\u001b[0m\u001b[1;33m(\u001b[0m\u001b[0mself\u001b[0m\u001b[1;33m.\u001b[0m\u001b[0m_backend\u001b[0m\u001b[1;33m,\u001b[0m \u001b[0mn_jobs\u001b[0m\u001b[1;33m=\u001b[0m\u001b[0mself\u001b[0m\u001b[1;33m.\u001b[0m\u001b[0m_n_jobs\u001b[0m\u001b[1;33m)\u001b[0m\u001b[1;33m:\u001b[0m\u001b[1;33m\u001b[0m\u001b[1;33m\u001b[0m\u001b[0m\n\u001b[1;32m--> 262\u001b[1;33m             return [func(*args, **kwargs)\n\u001b[0m\u001b[0;32m    263\u001b[0m                     for func, args, kwargs in self.items]\n\u001b[0;32m    264\u001b[0m \u001b[1;33m\u001b[0m\u001b[0m\n",
      "\u001b[1;32mE:\\Program Files (x86)\\Anaconda\\envs\\Projet3\\lib\\site-packages\\joblib\\parallel.py\u001b[0m in \u001b[0;36m<listcomp>\u001b[1;34m(.0)\u001b[0m\n\u001b[0;32m    260\u001b[0m         \u001b[1;31m# change the default number of processes to -1\u001b[0m\u001b[1;33m\u001b[0m\u001b[1;33m\u001b[0m\u001b[0m\n\u001b[0;32m    261\u001b[0m         \u001b[1;32mwith\u001b[0m \u001b[0mparallel_backend\u001b[0m\u001b[1;33m(\u001b[0m\u001b[0mself\u001b[0m\u001b[1;33m.\u001b[0m\u001b[0m_backend\u001b[0m\u001b[1;33m,\u001b[0m \u001b[0mn_jobs\u001b[0m\u001b[1;33m=\u001b[0m\u001b[0mself\u001b[0m\u001b[1;33m.\u001b[0m\u001b[0m_n_jobs\u001b[0m\u001b[1;33m)\u001b[0m\u001b[1;33m:\u001b[0m\u001b[1;33m\u001b[0m\u001b[1;33m\u001b[0m\u001b[0m\n\u001b[1;32m--> 262\u001b[1;33m             return [func(*args, **kwargs)\n\u001b[0m\u001b[0;32m    263\u001b[0m                     for func, args, kwargs in self.items]\n\u001b[0;32m    264\u001b[0m \u001b[1;33m\u001b[0m\u001b[0m\n",
      "\u001b[1;32mE:\\Program Files (x86)\\Anaconda\\envs\\Projet3\\lib\\site-packages\\sklearn\\utils\\fixes.py\u001b[0m in \u001b[0;36m__call__\u001b[1;34m(self, *args, **kwargs)\u001b[0m\n\u001b[0;32m    209\u001b[0m     \u001b[1;32mdef\u001b[0m \u001b[0m__call__\u001b[0m\u001b[1;33m(\u001b[0m\u001b[0mself\u001b[0m\u001b[1;33m,\u001b[0m \u001b[1;33m*\u001b[0m\u001b[0margs\u001b[0m\u001b[1;33m,\u001b[0m \u001b[1;33m**\u001b[0m\u001b[0mkwargs\u001b[0m\u001b[1;33m)\u001b[0m\u001b[1;33m:\u001b[0m\u001b[1;33m\u001b[0m\u001b[1;33m\u001b[0m\u001b[0m\n\u001b[0;32m    210\u001b[0m         \u001b[1;32mwith\u001b[0m \u001b[0mconfig_context\u001b[0m\u001b[1;33m(\u001b[0m\u001b[1;33m**\u001b[0m\u001b[0mself\u001b[0m\u001b[1;33m.\u001b[0m\u001b[0mconfig\u001b[0m\u001b[1;33m)\u001b[0m\u001b[1;33m:\u001b[0m\u001b[1;33m\u001b[0m\u001b[1;33m\u001b[0m\u001b[0m\n\u001b[1;32m--> 211\u001b[1;33m             \u001b[1;32mreturn\u001b[0m \u001b[0mself\u001b[0m\u001b[1;33m.\u001b[0m\u001b[0mfunction\u001b[0m\u001b[1;33m(\u001b[0m\u001b[1;33m*\u001b[0m\u001b[0margs\u001b[0m\u001b[1;33m,\u001b[0m \u001b[1;33m**\u001b[0m\u001b[0mkwargs\u001b[0m\u001b[1;33m)\u001b[0m\u001b[1;33m\u001b[0m\u001b[1;33m\u001b[0m\u001b[0m\n\u001b[0m\u001b[0;32m    212\u001b[0m \u001b[1;33m\u001b[0m\u001b[0m\n\u001b[0;32m    213\u001b[0m \u001b[1;33m\u001b[0m\u001b[0m\n",
      "\u001b[1;32mE:\\Program Files (x86)\\Anaconda\\envs\\Projet3\\lib\\site-packages\\sklearn\\multioutput.py\u001b[0m in \u001b[0;36m_fit_estimator\u001b[1;34m(estimator, X, y, sample_weight, **fit_params)\u001b[0m\n\u001b[0;32m     42\u001b[0m         \u001b[0mestimator\u001b[0m\u001b[1;33m.\u001b[0m\u001b[0mfit\u001b[0m\u001b[1;33m(\u001b[0m\u001b[0mX\u001b[0m\u001b[1;33m,\u001b[0m \u001b[0my\u001b[0m\u001b[1;33m,\u001b[0m \u001b[0msample_weight\u001b[0m\u001b[1;33m=\u001b[0m\u001b[0msample_weight\u001b[0m\u001b[1;33m,\u001b[0m \u001b[1;33m**\u001b[0m\u001b[0mfit_params\u001b[0m\u001b[1;33m)\u001b[0m\u001b[1;33m\u001b[0m\u001b[1;33m\u001b[0m\u001b[0m\n\u001b[0;32m     43\u001b[0m     \u001b[1;32melse\u001b[0m\u001b[1;33m:\u001b[0m\u001b[1;33m\u001b[0m\u001b[1;33m\u001b[0m\u001b[0m\n\u001b[1;32m---> 44\u001b[1;33m         \u001b[0mestimator\u001b[0m\u001b[1;33m.\u001b[0m\u001b[0mfit\u001b[0m\u001b[1;33m(\u001b[0m\u001b[0mX\u001b[0m\u001b[1;33m,\u001b[0m \u001b[0my\u001b[0m\u001b[1;33m,\u001b[0m \u001b[1;33m**\u001b[0m\u001b[0mfit_params\u001b[0m\u001b[1;33m)\u001b[0m\u001b[1;33m\u001b[0m\u001b[1;33m\u001b[0m\u001b[0m\n\u001b[0m\u001b[0;32m     45\u001b[0m     \u001b[1;32mreturn\u001b[0m \u001b[0mestimator\u001b[0m\u001b[1;33m\u001b[0m\u001b[1;33m\u001b[0m\u001b[0m\n\u001b[0;32m     46\u001b[0m \u001b[1;33m\u001b[0m\u001b[0m\n",
      "\u001b[1;32mE:\\Program Files (x86)\\Anaconda\\envs\\Projet3\\lib\\site-packages\\sklearn\\linear_model\\_logistic.py\u001b[0m in \u001b[0;36mfit\u001b[1;34m(self, X, y, sample_weight)\u001b[0m\n\u001b[0;32m   1587\u001b[0m         \u001b[1;32melse\u001b[0m\u001b[1;33m:\u001b[0m\u001b[1;33m\u001b[0m\u001b[1;33m\u001b[0m\u001b[0m\n\u001b[0;32m   1588\u001b[0m             \u001b[0mprefer\u001b[0m \u001b[1;33m=\u001b[0m \u001b[1;34m\"processes\"\u001b[0m\u001b[1;33m\u001b[0m\u001b[1;33m\u001b[0m\u001b[0m\n\u001b[1;32m-> 1589\u001b[1;33m         fold_coefs_ = Parallel(\n\u001b[0m\u001b[0;32m   1590\u001b[0m             \u001b[0mn_jobs\u001b[0m\u001b[1;33m=\u001b[0m\u001b[0mself\u001b[0m\u001b[1;33m.\u001b[0m\u001b[0mn_jobs\u001b[0m\u001b[1;33m,\u001b[0m\u001b[1;33m\u001b[0m\u001b[1;33m\u001b[0m\u001b[0m\n\u001b[0;32m   1591\u001b[0m             \u001b[0mverbose\u001b[0m\u001b[1;33m=\u001b[0m\u001b[0mself\u001b[0m\u001b[1;33m.\u001b[0m\u001b[0mverbose\u001b[0m\u001b[1;33m,\u001b[0m\u001b[1;33m\u001b[0m\u001b[1;33m\u001b[0m\u001b[0m\n",
      "\u001b[1;32mE:\\Program Files (x86)\\Anaconda\\envs\\Projet3\\lib\\site-packages\\joblib\\parallel.py\u001b[0m in \u001b[0;36m__call__\u001b[1;34m(self, iterable)\u001b[0m\n\u001b[0;32m   1041\u001b[0m             \u001b[1;31m# remaining jobs.\u001b[0m\u001b[1;33m\u001b[0m\u001b[1;33m\u001b[0m\u001b[0m\n\u001b[0;32m   1042\u001b[0m             \u001b[0mself\u001b[0m\u001b[1;33m.\u001b[0m\u001b[0m_iterating\u001b[0m \u001b[1;33m=\u001b[0m \u001b[1;32mFalse\u001b[0m\u001b[1;33m\u001b[0m\u001b[1;33m\u001b[0m\u001b[0m\n\u001b[1;32m-> 1043\u001b[1;33m             \u001b[1;32mif\u001b[0m \u001b[0mself\u001b[0m\u001b[1;33m.\u001b[0m\u001b[0mdispatch_one_batch\u001b[0m\u001b[1;33m(\u001b[0m\u001b[0miterator\u001b[0m\u001b[1;33m)\u001b[0m\u001b[1;33m:\u001b[0m\u001b[1;33m\u001b[0m\u001b[1;33m\u001b[0m\u001b[0m\n\u001b[0m\u001b[0;32m   1044\u001b[0m                 \u001b[0mself\u001b[0m\u001b[1;33m.\u001b[0m\u001b[0m_iterating\u001b[0m \u001b[1;33m=\u001b[0m \u001b[0mself\u001b[0m\u001b[1;33m.\u001b[0m\u001b[0m_original_iterator\u001b[0m \u001b[1;32mis\u001b[0m \u001b[1;32mnot\u001b[0m \u001b[1;32mNone\u001b[0m\u001b[1;33m\u001b[0m\u001b[1;33m\u001b[0m\u001b[0m\n\u001b[0;32m   1045\u001b[0m \u001b[1;33m\u001b[0m\u001b[0m\n",
      "\u001b[1;32mE:\\Program Files (x86)\\Anaconda\\envs\\Projet3\\lib\\site-packages\\joblib\\parallel.py\u001b[0m in \u001b[0;36mdispatch_one_batch\u001b[1;34m(self, iterator)\u001b[0m\n\u001b[0;32m    859\u001b[0m                 \u001b[1;32mreturn\u001b[0m \u001b[1;32mFalse\u001b[0m\u001b[1;33m\u001b[0m\u001b[1;33m\u001b[0m\u001b[0m\n\u001b[0;32m    860\u001b[0m             \u001b[1;32melse\u001b[0m\u001b[1;33m:\u001b[0m\u001b[1;33m\u001b[0m\u001b[1;33m\u001b[0m\u001b[0m\n\u001b[1;32m--> 861\u001b[1;33m                 \u001b[0mself\u001b[0m\u001b[1;33m.\u001b[0m\u001b[0m_dispatch\u001b[0m\u001b[1;33m(\u001b[0m\u001b[0mtasks\u001b[0m\u001b[1;33m)\u001b[0m\u001b[1;33m\u001b[0m\u001b[1;33m\u001b[0m\u001b[0m\n\u001b[0m\u001b[0;32m    862\u001b[0m                 \u001b[1;32mreturn\u001b[0m \u001b[1;32mTrue\u001b[0m\u001b[1;33m\u001b[0m\u001b[1;33m\u001b[0m\u001b[0m\n\u001b[0;32m    863\u001b[0m \u001b[1;33m\u001b[0m\u001b[0m\n",
      "\u001b[1;32mE:\\Program Files (x86)\\Anaconda\\envs\\Projet3\\lib\\site-packages\\joblib\\parallel.py\u001b[0m in \u001b[0;36m_dispatch\u001b[1;34m(self, batch)\u001b[0m\n\u001b[0;32m    777\u001b[0m         \u001b[1;32mwith\u001b[0m \u001b[0mself\u001b[0m\u001b[1;33m.\u001b[0m\u001b[0m_lock\u001b[0m\u001b[1;33m:\u001b[0m\u001b[1;33m\u001b[0m\u001b[1;33m\u001b[0m\u001b[0m\n\u001b[0;32m    778\u001b[0m             \u001b[0mjob_idx\u001b[0m \u001b[1;33m=\u001b[0m \u001b[0mlen\u001b[0m\u001b[1;33m(\u001b[0m\u001b[0mself\u001b[0m\u001b[1;33m.\u001b[0m\u001b[0m_jobs\u001b[0m\u001b[1;33m)\u001b[0m\u001b[1;33m\u001b[0m\u001b[1;33m\u001b[0m\u001b[0m\n\u001b[1;32m--> 779\u001b[1;33m             \u001b[0mjob\u001b[0m \u001b[1;33m=\u001b[0m \u001b[0mself\u001b[0m\u001b[1;33m.\u001b[0m\u001b[0m_backend\u001b[0m\u001b[1;33m.\u001b[0m\u001b[0mapply_async\u001b[0m\u001b[1;33m(\u001b[0m\u001b[0mbatch\u001b[0m\u001b[1;33m,\u001b[0m \u001b[0mcallback\u001b[0m\u001b[1;33m=\u001b[0m\u001b[0mcb\u001b[0m\u001b[1;33m)\u001b[0m\u001b[1;33m\u001b[0m\u001b[1;33m\u001b[0m\u001b[0m\n\u001b[0m\u001b[0;32m    780\u001b[0m             \u001b[1;31m# A job can complete so quickly than its callback is\u001b[0m\u001b[1;33m\u001b[0m\u001b[1;33m\u001b[0m\u001b[0m\n\u001b[0;32m    781\u001b[0m             \u001b[1;31m# called before we get here, causing self._jobs to\u001b[0m\u001b[1;33m\u001b[0m\u001b[1;33m\u001b[0m\u001b[0m\n",
      "\u001b[1;32mE:\\Program Files (x86)\\Anaconda\\envs\\Projet3\\lib\\site-packages\\joblib\\_parallel_backends.py\u001b[0m in \u001b[0;36mapply_async\u001b[1;34m(self, func, callback)\u001b[0m\n\u001b[0;32m    206\u001b[0m     \u001b[1;32mdef\u001b[0m \u001b[0mapply_async\u001b[0m\u001b[1;33m(\u001b[0m\u001b[0mself\u001b[0m\u001b[1;33m,\u001b[0m \u001b[0mfunc\u001b[0m\u001b[1;33m,\u001b[0m \u001b[0mcallback\u001b[0m\u001b[1;33m=\u001b[0m\u001b[1;32mNone\u001b[0m\u001b[1;33m)\u001b[0m\u001b[1;33m:\u001b[0m\u001b[1;33m\u001b[0m\u001b[1;33m\u001b[0m\u001b[0m\n\u001b[0;32m    207\u001b[0m         \u001b[1;34m\"\"\"Schedule a func to be run\"\"\"\u001b[0m\u001b[1;33m\u001b[0m\u001b[1;33m\u001b[0m\u001b[0m\n\u001b[1;32m--> 208\u001b[1;33m         \u001b[0mresult\u001b[0m \u001b[1;33m=\u001b[0m \u001b[0mImmediateResult\u001b[0m\u001b[1;33m(\u001b[0m\u001b[0mfunc\u001b[0m\u001b[1;33m)\u001b[0m\u001b[1;33m\u001b[0m\u001b[1;33m\u001b[0m\u001b[0m\n\u001b[0m\u001b[0;32m    209\u001b[0m         \u001b[1;32mif\u001b[0m \u001b[0mcallback\u001b[0m\u001b[1;33m:\u001b[0m\u001b[1;33m\u001b[0m\u001b[1;33m\u001b[0m\u001b[0m\n\u001b[0;32m    210\u001b[0m             \u001b[0mcallback\u001b[0m\u001b[1;33m(\u001b[0m\u001b[0mresult\u001b[0m\u001b[1;33m)\u001b[0m\u001b[1;33m\u001b[0m\u001b[1;33m\u001b[0m\u001b[0m\n",
      "\u001b[1;32mE:\\Program Files (x86)\\Anaconda\\envs\\Projet3\\lib\\site-packages\\joblib\\_parallel_backends.py\u001b[0m in \u001b[0;36m__init__\u001b[1;34m(self, batch)\u001b[0m\n\u001b[0;32m    570\u001b[0m         \u001b[1;31m# Don't delay the application, to avoid keeping the input\u001b[0m\u001b[1;33m\u001b[0m\u001b[1;33m\u001b[0m\u001b[0m\n\u001b[0;32m    571\u001b[0m         \u001b[1;31m# arguments in memory\u001b[0m\u001b[1;33m\u001b[0m\u001b[1;33m\u001b[0m\u001b[0m\n\u001b[1;32m--> 572\u001b[1;33m         \u001b[0mself\u001b[0m\u001b[1;33m.\u001b[0m\u001b[0mresults\u001b[0m \u001b[1;33m=\u001b[0m \u001b[0mbatch\u001b[0m\u001b[1;33m(\u001b[0m\u001b[1;33m)\u001b[0m\u001b[1;33m\u001b[0m\u001b[1;33m\u001b[0m\u001b[0m\n\u001b[0m\u001b[0;32m    573\u001b[0m \u001b[1;33m\u001b[0m\u001b[0m\n\u001b[0;32m    574\u001b[0m     \u001b[1;32mdef\u001b[0m \u001b[0mget\u001b[0m\u001b[1;33m(\u001b[0m\u001b[0mself\u001b[0m\u001b[1;33m)\u001b[0m\u001b[1;33m:\u001b[0m\u001b[1;33m\u001b[0m\u001b[1;33m\u001b[0m\u001b[0m\n",
      "\u001b[1;32mE:\\Program Files (x86)\\Anaconda\\envs\\Projet3\\lib\\site-packages\\joblib\\parallel.py\u001b[0m in \u001b[0;36m__call__\u001b[1;34m(self)\u001b[0m\n\u001b[0;32m    260\u001b[0m         \u001b[1;31m# change the default number of processes to -1\u001b[0m\u001b[1;33m\u001b[0m\u001b[1;33m\u001b[0m\u001b[0m\n\u001b[0;32m    261\u001b[0m         \u001b[1;32mwith\u001b[0m \u001b[0mparallel_backend\u001b[0m\u001b[1;33m(\u001b[0m\u001b[0mself\u001b[0m\u001b[1;33m.\u001b[0m\u001b[0m_backend\u001b[0m\u001b[1;33m,\u001b[0m \u001b[0mn_jobs\u001b[0m\u001b[1;33m=\u001b[0m\u001b[0mself\u001b[0m\u001b[1;33m.\u001b[0m\u001b[0m_n_jobs\u001b[0m\u001b[1;33m)\u001b[0m\u001b[1;33m:\u001b[0m\u001b[1;33m\u001b[0m\u001b[1;33m\u001b[0m\u001b[0m\n\u001b[1;32m--> 262\u001b[1;33m             return [func(*args, **kwargs)\n\u001b[0m\u001b[0;32m    263\u001b[0m                     for func, args, kwargs in self.items]\n\u001b[0;32m    264\u001b[0m \u001b[1;33m\u001b[0m\u001b[0m\n",
      "\u001b[1;32mE:\\Program Files (x86)\\Anaconda\\envs\\Projet3\\lib\\site-packages\\joblib\\parallel.py\u001b[0m in \u001b[0;36m<listcomp>\u001b[1;34m(.0)\u001b[0m\n\u001b[0;32m    260\u001b[0m         \u001b[1;31m# change the default number of processes to -1\u001b[0m\u001b[1;33m\u001b[0m\u001b[1;33m\u001b[0m\u001b[0m\n\u001b[0;32m    261\u001b[0m         \u001b[1;32mwith\u001b[0m \u001b[0mparallel_backend\u001b[0m\u001b[1;33m(\u001b[0m\u001b[0mself\u001b[0m\u001b[1;33m.\u001b[0m\u001b[0m_backend\u001b[0m\u001b[1;33m,\u001b[0m \u001b[0mn_jobs\u001b[0m\u001b[1;33m=\u001b[0m\u001b[0mself\u001b[0m\u001b[1;33m.\u001b[0m\u001b[0m_n_jobs\u001b[0m\u001b[1;33m)\u001b[0m\u001b[1;33m:\u001b[0m\u001b[1;33m\u001b[0m\u001b[1;33m\u001b[0m\u001b[0m\n\u001b[1;32m--> 262\u001b[1;33m             return [func(*args, **kwargs)\n\u001b[0m\u001b[0;32m    263\u001b[0m                     for func, args, kwargs in self.items]\n\u001b[0;32m    264\u001b[0m \u001b[1;33m\u001b[0m\u001b[0m\n",
      "\u001b[1;32mE:\\Program Files (x86)\\Anaconda\\envs\\Projet3\\lib\\site-packages\\sklearn\\utils\\fixes.py\u001b[0m in \u001b[0;36m__call__\u001b[1;34m(self, *args, **kwargs)\u001b[0m\n\u001b[0;32m    209\u001b[0m     \u001b[1;32mdef\u001b[0m \u001b[0m__call__\u001b[0m\u001b[1;33m(\u001b[0m\u001b[0mself\u001b[0m\u001b[1;33m,\u001b[0m \u001b[1;33m*\u001b[0m\u001b[0margs\u001b[0m\u001b[1;33m,\u001b[0m \u001b[1;33m**\u001b[0m\u001b[0mkwargs\u001b[0m\u001b[1;33m)\u001b[0m\u001b[1;33m:\u001b[0m\u001b[1;33m\u001b[0m\u001b[1;33m\u001b[0m\u001b[0m\n\u001b[0;32m    210\u001b[0m         \u001b[1;32mwith\u001b[0m \u001b[0mconfig_context\u001b[0m\u001b[1;33m(\u001b[0m\u001b[1;33m**\u001b[0m\u001b[0mself\u001b[0m\u001b[1;33m.\u001b[0m\u001b[0mconfig\u001b[0m\u001b[1;33m)\u001b[0m\u001b[1;33m:\u001b[0m\u001b[1;33m\u001b[0m\u001b[1;33m\u001b[0m\u001b[0m\n\u001b[1;32m--> 211\u001b[1;33m             \u001b[1;32mreturn\u001b[0m \u001b[0mself\u001b[0m\u001b[1;33m.\u001b[0m\u001b[0mfunction\u001b[0m\u001b[1;33m(\u001b[0m\u001b[1;33m*\u001b[0m\u001b[0margs\u001b[0m\u001b[1;33m,\u001b[0m \u001b[1;33m**\u001b[0m\u001b[0mkwargs\u001b[0m\u001b[1;33m)\u001b[0m\u001b[1;33m\u001b[0m\u001b[1;33m\u001b[0m\u001b[0m\n\u001b[0m\u001b[0;32m    212\u001b[0m \u001b[1;33m\u001b[0m\u001b[0m\n\u001b[0;32m    213\u001b[0m \u001b[1;33m\u001b[0m\u001b[0m\n",
      "\u001b[1;32mE:\\Program Files (x86)\\Anaconda\\envs\\Projet3\\lib\\site-packages\\sklearn\\linear_model\\_logistic.py\u001b[0m in \u001b[0;36m_logistic_regression_path\u001b[1;34m(X, y, pos_class, Cs, fit_intercept, max_iter, tol, verbose, solver, coef, class_weight, dual, penalty, intercept_scaling, multi_class, random_state, check_input, max_squared_sum, sample_weight, l1_ratio)\u001b[0m\n\u001b[0;32m    804\u001b[0m                 \u001b[0mnp\u001b[0m\u001b[1;33m.\u001b[0m\u001b[0msearchsorted\u001b[0m\u001b[1;33m(\u001b[0m\u001b[0mnp\u001b[0m\u001b[1;33m.\u001b[0m\u001b[0marray\u001b[0m\u001b[1;33m(\u001b[0m\u001b[1;33m[\u001b[0m\u001b[1;36m0\u001b[0m\u001b[1;33m,\u001b[0m \u001b[1;36m1\u001b[0m\u001b[1;33m,\u001b[0m \u001b[1;36m2\u001b[0m\u001b[1;33m,\u001b[0m \u001b[1;36m3\u001b[0m\u001b[1;33m]\u001b[0m\u001b[1;33m)\u001b[0m\u001b[1;33m,\u001b[0m \u001b[0mverbose\u001b[0m\u001b[1;33m)\u001b[0m\u001b[1;33m\u001b[0m\u001b[1;33m\u001b[0m\u001b[0m\n\u001b[0;32m    805\u001b[0m             ]\n\u001b[1;32m--> 806\u001b[1;33m             opt_res = optimize.minimize(\n\u001b[0m\u001b[0;32m    807\u001b[0m                 \u001b[0mfunc\u001b[0m\u001b[1;33m,\u001b[0m\u001b[1;33m\u001b[0m\u001b[1;33m\u001b[0m\u001b[0m\n\u001b[0;32m    808\u001b[0m                 \u001b[0mw0\u001b[0m\u001b[1;33m,\u001b[0m\u001b[1;33m\u001b[0m\u001b[1;33m\u001b[0m\u001b[0m\n",
      "\u001b[1;32mE:\\Program Files (x86)\\Anaconda\\envs\\Projet3\\lib\\site-packages\\scipy\\optimize\\_minimize.py\u001b[0m in \u001b[0;36mminimize\u001b[1;34m(fun, x0, args, method, jac, hess, hessp, bounds, constraints, tol, callback, options)\u001b[0m\n\u001b[0;32m    621\u001b[0m                                   **options)\n\u001b[0;32m    622\u001b[0m     \u001b[1;32melif\u001b[0m \u001b[0mmeth\u001b[0m \u001b[1;33m==\u001b[0m \u001b[1;34m'l-bfgs-b'\u001b[0m\u001b[1;33m:\u001b[0m\u001b[1;33m\u001b[0m\u001b[1;33m\u001b[0m\u001b[0m\n\u001b[1;32m--> 623\u001b[1;33m         return _minimize_lbfgsb(fun, x0, args, jac, bounds,\n\u001b[0m\u001b[0;32m    624\u001b[0m                                 callback=callback, **options)\n\u001b[0;32m    625\u001b[0m     \u001b[1;32melif\u001b[0m \u001b[0mmeth\u001b[0m \u001b[1;33m==\u001b[0m \u001b[1;34m'tnc'\u001b[0m\u001b[1;33m:\u001b[0m\u001b[1;33m\u001b[0m\u001b[1;33m\u001b[0m\u001b[0m\n",
      "\u001b[1;32mE:\\Program Files (x86)\\Anaconda\\envs\\Projet3\\lib\\site-packages\\scipy\\optimize\\lbfgsb.py\u001b[0m in \u001b[0;36m_minimize_lbfgsb\u001b[1;34m(fun, x0, args, jac, bounds, disp, maxcor, ftol, gtol, eps, maxfun, maxiter, iprint, callback, maxls, finite_diff_rel_step, **unknown_options)\u001b[0m\n\u001b[0;32m    358\u001b[0m             \u001b[1;31m# until the completion of the current minimization iteration.\u001b[0m\u001b[1;33m\u001b[0m\u001b[1;33m\u001b[0m\u001b[0m\n\u001b[0;32m    359\u001b[0m             \u001b[1;31m# Overwrite f and g:\u001b[0m\u001b[1;33m\u001b[0m\u001b[1;33m\u001b[0m\u001b[0m\n\u001b[1;32m--> 360\u001b[1;33m             \u001b[0mf\u001b[0m\u001b[1;33m,\u001b[0m \u001b[0mg\u001b[0m \u001b[1;33m=\u001b[0m \u001b[0mfunc_and_grad\u001b[0m\u001b[1;33m(\u001b[0m\u001b[0mx\u001b[0m\u001b[1;33m)\u001b[0m\u001b[1;33m\u001b[0m\u001b[1;33m\u001b[0m\u001b[0m\n\u001b[0m\u001b[0;32m    361\u001b[0m         \u001b[1;32melif\u001b[0m \u001b[0mtask_str\u001b[0m\u001b[1;33m.\u001b[0m\u001b[0mstartswith\u001b[0m\u001b[1;33m(\u001b[0m\u001b[1;34mb'NEW_X'\u001b[0m\u001b[1;33m)\u001b[0m\u001b[1;33m:\u001b[0m\u001b[1;33m\u001b[0m\u001b[1;33m\u001b[0m\u001b[0m\n\u001b[0;32m    362\u001b[0m             \u001b[1;31m# new iteration\u001b[0m\u001b[1;33m\u001b[0m\u001b[1;33m\u001b[0m\u001b[0m\n",
      "\u001b[1;32mE:\\Program Files (x86)\\Anaconda\\envs\\Projet3\\lib\\site-packages\\scipy\\optimize\\_differentiable_functions.py\u001b[0m in \u001b[0;36mfun_and_grad\u001b[1;34m(self, x)\u001b[0m\n\u001b[0;32m    265\u001b[0m         \u001b[1;32mif\u001b[0m \u001b[1;32mnot\u001b[0m \u001b[0mnp\u001b[0m\u001b[1;33m.\u001b[0m\u001b[0marray_equal\u001b[0m\u001b[1;33m(\u001b[0m\u001b[0mx\u001b[0m\u001b[1;33m,\u001b[0m \u001b[0mself\u001b[0m\u001b[1;33m.\u001b[0m\u001b[0mx\u001b[0m\u001b[1;33m)\u001b[0m\u001b[1;33m:\u001b[0m\u001b[1;33m\u001b[0m\u001b[1;33m\u001b[0m\u001b[0m\n\u001b[0;32m    266\u001b[0m             \u001b[0mself\u001b[0m\u001b[1;33m.\u001b[0m\u001b[0m_update_x_impl\u001b[0m\u001b[1;33m(\u001b[0m\u001b[0mx\u001b[0m\u001b[1;33m)\u001b[0m\u001b[1;33m\u001b[0m\u001b[1;33m\u001b[0m\u001b[0m\n\u001b[1;32m--> 267\u001b[1;33m         \u001b[0mself\u001b[0m\u001b[1;33m.\u001b[0m\u001b[0m_update_fun\u001b[0m\u001b[1;33m(\u001b[0m\u001b[1;33m)\u001b[0m\u001b[1;33m\u001b[0m\u001b[1;33m\u001b[0m\u001b[0m\n\u001b[0m\u001b[0;32m    268\u001b[0m         \u001b[0mself\u001b[0m\u001b[1;33m.\u001b[0m\u001b[0m_update_grad\u001b[0m\u001b[1;33m(\u001b[0m\u001b[1;33m)\u001b[0m\u001b[1;33m\u001b[0m\u001b[1;33m\u001b[0m\u001b[0m\n\u001b[0;32m    269\u001b[0m         \u001b[1;32mreturn\u001b[0m \u001b[0mself\u001b[0m\u001b[1;33m.\u001b[0m\u001b[0mf\u001b[0m\u001b[1;33m,\u001b[0m \u001b[0mself\u001b[0m\u001b[1;33m.\u001b[0m\u001b[0mg\u001b[0m\u001b[1;33m\u001b[0m\u001b[1;33m\u001b[0m\u001b[0m\n",
      "\u001b[1;32mE:\\Program Files (x86)\\Anaconda\\envs\\Projet3\\lib\\site-packages\\scipy\\optimize\\_differentiable_functions.py\u001b[0m in \u001b[0;36m_update_fun\u001b[1;34m(self)\u001b[0m\n\u001b[0;32m    231\u001b[0m     \u001b[1;32mdef\u001b[0m \u001b[0m_update_fun\u001b[0m\u001b[1;33m(\u001b[0m\u001b[0mself\u001b[0m\u001b[1;33m)\u001b[0m\u001b[1;33m:\u001b[0m\u001b[1;33m\u001b[0m\u001b[1;33m\u001b[0m\u001b[0m\n\u001b[0;32m    232\u001b[0m         \u001b[1;32mif\u001b[0m \u001b[1;32mnot\u001b[0m \u001b[0mself\u001b[0m\u001b[1;33m.\u001b[0m\u001b[0mf_updated\u001b[0m\u001b[1;33m:\u001b[0m\u001b[1;33m\u001b[0m\u001b[1;33m\u001b[0m\u001b[0m\n\u001b[1;32m--> 233\u001b[1;33m             \u001b[0mself\u001b[0m\u001b[1;33m.\u001b[0m\u001b[0m_update_fun_impl\u001b[0m\u001b[1;33m(\u001b[0m\u001b[1;33m)\u001b[0m\u001b[1;33m\u001b[0m\u001b[1;33m\u001b[0m\u001b[0m\n\u001b[0m\u001b[0;32m    234\u001b[0m             \u001b[0mself\u001b[0m\u001b[1;33m.\u001b[0m\u001b[0mf_updated\u001b[0m \u001b[1;33m=\u001b[0m \u001b[1;32mTrue\u001b[0m\u001b[1;33m\u001b[0m\u001b[1;33m\u001b[0m\u001b[0m\n\u001b[0;32m    235\u001b[0m \u001b[1;33m\u001b[0m\u001b[0m\n",
      "\u001b[1;32mE:\\Program Files (x86)\\Anaconda\\envs\\Projet3\\lib\\site-packages\\scipy\\optimize\\_differentiable_functions.py\u001b[0m in \u001b[0;36mupdate_fun\u001b[1;34m()\u001b[0m\n\u001b[0;32m    135\u001b[0m \u001b[1;33m\u001b[0m\u001b[0m\n\u001b[0;32m    136\u001b[0m         \u001b[1;32mdef\u001b[0m \u001b[0mupdate_fun\u001b[0m\u001b[1;33m(\u001b[0m\u001b[1;33m)\u001b[0m\u001b[1;33m:\u001b[0m\u001b[1;33m\u001b[0m\u001b[1;33m\u001b[0m\u001b[0m\n\u001b[1;32m--> 137\u001b[1;33m             \u001b[0mself\u001b[0m\u001b[1;33m.\u001b[0m\u001b[0mf\u001b[0m \u001b[1;33m=\u001b[0m \u001b[0mfun_wrapped\u001b[0m\u001b[1;33m(\u001b[0m\u001b[0mself\u001b[0m\u001b[1;33m.\u001b[0m\u001b[0mx\u001b[0m\u001b[1;33m)\u001b[0m\u001b[1;33m\u001b[0m\u001b[1;33m\u001b[0m\u001b[0m\n\u001b[0m\u001b[0;32m    138\u001b[0m \u001b[1;33m\u001b[0m\u001b[0m\n\u001b[0;32m    139\u001b[0m         \u001b[0mself\u001b[0m\u001b[1;33m.\u001b[0m\u001b[0m_update_fun_impl\u001b[0m \u001b[1;33m=\u001b[0m \u001b[0mupdate_fun\u001b[0m\u001b[1;33m\u001b[0m\u001b[1;33m\u001b[0m\u001b[0m\n",
      "\u001b[1;32mE:\\Program Files (x86)\\Anaconda\\envs\\Projet3\\lib\\site-packages\\scipy\\optimize\\_differentiable_functions.py\u001b[0m in \u001b[0;36mfun_wrapped\u001b[1;34m(x)\u001b[0m\n\u001b[0;32m    132\u001b[0m             \u001b[1;31m# Overwriting results in undefined behaviour because\u001b[0m\u001b[1;33m\u001b[0m\u001b[1;33m\u001b[0m\u001b[0m\n\u001b[0;32m    133\u001b[0m             \u001b[1;31m# fun(self.x) will change self.x, with the two no longer linked.\u001b[0m\u001b[1;33m\u001b[0m\u001b[1;33m\u001b[0m\u001b[0m\n\u001b[1;32m--> 134\u001b[1;33m             \u001b[1;32mreturn\u001b[0m \u001b[0mfun\u001b[0m\u001b[1;33m(\u001b[0m\u001b[0mnp\u001b[0m\u001b[1;33m.\u001b[0m\u001b[0mcopy\u001b[0m\u001b[1;33m(\u001b[0m\u001b[0mx\u001b[0m\u001b[1;33m)\u001b[0m\u001b[1;33m,\u001b[0m \u001b[1;33m*\u001b[0m\u001b[0margs\u001b[0m\u001b[1;33m)\u001b[0m\u001b[1;33m\u001b[0m\u001b[1;33m\u001b[0m\u001b[0m\n\u001b[0m\u001b[0;32m    135\u001b[0m \u001b[1;33m\u001b[0m\u001b[0m\n\u001b[0;32m    136\u001b[0m         \u001b[1;32mdef\u001b[0m \u001b[0mupdate_fun\u001b[0m\u001b[1;33m(\u001b[0m\u001b[1;33m)\u001b[0m\u001b[1;33m:\u001b[0m\u001b[1;33m\u001b[0m\u001b[1;33m\u001b[0m\u001b[0m\n",
      "\u001b[1;32mE:\\Program Files (x86)\\Anaconda\\envs\\Projet3\\lib\\site-packages\\scipy\\optimize\\optimize.py\u001b[0m in \u001b[0;36m__call__\u001b[1;34m(self, x, *args)\u001b[0m\n\u001b[0;32m     72\u001b[0m     \u001b[1;32mdef\u001b[0m \u001b[0m__call__\u001b[0m\u001b[1;33m(\u001b[0m\u001b[0mself\u001b[0m\u001b[1;33m,\u001b[0m \u001b[0mx\u001b[0m\u001b[1;33m,\u001b[0m \u001b[1;33m*\u001b[0m\u001b[0margs\u001b[0m\u001b[1;33m)\u001b[0m\u001b[1;33m:\u001b[0m\u001b[1;33m\u001b[0m\u001b[1;33m\u001b[0m\u001b[0m\n\u001b[0;32m     73\u001b[0m         \u001b[1;34m\"\"\" returns the the function value \"\"\"\u001b[0m\u001b[1;33m\u001b[0m\u001b[1;33m\u001b[0m\u001b[0m\n\u001b[1;32m---> 74\u001b[1;33m         \u001b[0mself\u001b[0m\u001b[1;33m.\u001b[0m\u001b[0m_compute_if_needed\u001b[0m\u001b[1;33m(\u001b[0m\u001b[0mx\u001b[0m\u001b[1;33m,\u001b[0m \u001b[1;33m*\u001b[0m\u001b[0margs\u001b[0m\u001b[1;33m)\u001b[0m\u001b[1;33m\u001b[0m\u001b[1;33m\u001b[0m\u001b[0m\n\u001b[0m\u001b[0;32m     75\u001b[0m         \u001b[1;32mreturn\u001b[0m \u001b[0mself\u001b[0m\u001b[1;33m.\u001b[0m\u001b[0m_value\u001b[0m\u001b[1;33m\u001b[0m\u001b[1;33m\u001b[0m\u001b[0m\n\u001b[0;32m     76\u001b[0m \u001b[1;33m\u001b[0m\u001b[0m\n",
      "\u001b[1;32mE:\\Program Files (x86)\\Anaconda\\envs\\Projet3\\lib\\site-packages\\scipy\\optimize\\optimize.py\u001b[0m in \u001b[0;36m_compute_if_needed\u001b[1;34m(self, x, *args)\u001b[0m\n\u001b[0;32m     66\u001b[0m         \u001b[1;32mif\u001b[0m \u001b[1;32mnot\u001b[0m \u001b[0mnp\u001b[0m\u001b[1;33m.\u001b[0m\u001b[0mall\u001b[0m\u001b[1;33m(\u001b[0m\u001b[0mx\u001b[0m \u001b[1;33m==\u001b[0m \u001b[0mself\u001b[0m\u001b[1;33m.\u001b[0m\u001b[0mx\u001b[0m\u001b[1;33m)\u001b[0m \u001b[1;32mor\u001b[0m \u001b[0mself\u001b[0m\u001b[1;33m.\u001b[0m\u001b[0m_value\u001b[0m \u001b[1;32mis\u001b[0m \u001b[1;32mNone\u001b[0m \u001b[1;32mor\u001b[0m \u001b[0mself\u001b[0m\u001b[1;33m.\u001b[0m\u001b[0mjac\u001b[0m \u001b[1;32mis\u001b[0m \u001b[1;32mNone\u001b[0m\u001b[1;33m:\u001b[0m\u001b[1;33m\u001b[0m\u001b[1;33m\u001b[0m\u001b[0m\n\u001b[0;32m     67\u001b[0m             \u001b[0mself\u001b[0m\u001b[1;33m.\u001b[0m\u001b[0mx\u001b[0m \u001b[1;33m=\u001b[0m \u001b[0mnp\u001b[0m\u001b[1;33m.\u001b[0m\u001b[0masarray\u001b[0m\u001b[1;33m(\u001b[0m\u001b[0mx\u001b[0m\u001b[1;33m)\u001b[0m\u001b[1;33m.\u001b[0m\u001b[0mcopy\u001b[0m\u001b[1;33m(\u001b[0m\u001b[1;33m)\u001b[0m\u001b[1;33m\u001b[0m\u001b[1;33m\u001b[0m\u001b[0m\n\u001b[1;32m---> 68\u001b[1;33m             \u001b[0mfg\u001b[0m \u001b[1;33m=\u001b[0m \u001b[0mself\u001b[0m\u001b[1;33m.\u001b[0m\u001b[0mfun\u001b[0m\u001b[1;33m(\u001b[0m\u001b[0mx\u001b[0m\u001b[1;33m,\u001b[0m \u001b[1;33m*\u001b[0m\u001b[0margs\u001b[0m\u001b[1;33m)\u001b[0m\u001b[1;33m\u001b[0m\u001b[1;33m\u001b[0m\u001b[0m\n\u001b[0m\u001b[0;32m     69\u001b[0m             \u001b[0mself\u001b[0m\u001b[1;33m.\u001b[0m\u001b[0mjac\u001b[0m \u001b[1;33m=\u001b[0m \u001b[0mfg\u001b[0m\u001b[1;33m[\u001b[0m\u001b[1;36m1\u001b[0m\u001b[1;33m]\u001b[0m\u001b[1;33m\u001b[0m\u001b[1;33m\u001b[0m\u001b[0m\n\u001b[0;32m     70\u001b[0m             \u001b[0mself\u001b[0m\u001b[1;33m.\u001b[0m\u001b[0m_value\u001b[0m \u001b[1;33m=\u001b[0m \u001b[0mfg\u001b[0m\u001b[1;33m[\u001b[0m\u001b[1;36m0\u001b[0m\u001b[1;33m]\u001b[0m\u001b[1;33m\u001b[0m\u001b[1;33m\u001b[0m\u001b[0m\n",
      "\u001b[1;32mE:\\Program Files (x86)\\Anaconda\\envs\\Projet3\\lib\\site-packages\\sklearn\\linear_model\\_logistic.py\u001b[0m in \u001b[0;36mfunc\u001b[1;34m(x, *args)\u001b[0m\n\u001b[0;32m    772\u001b[0m \u001b[1;33m\u001b[0m\u001b[0m\n\u001b[0;32m    773\u001b[0m             \u001b[1;32mdef\u001b[0m \u001b[0mfunc\u001b[0m\u001b[1;33m(\u001b[0m\u001b[0mx\u001b[0m\u001b[1;33m,\u001b[0m \u001b[1;33m*\u001b[0m\u001b[0margs\u001b[0m\u001b[1;33m)\u001b[0m\u001b[1;33m:\u001b[0m\u001b[1;33m\u001b[0m\u001b[1;33m\u001b[0m\u001b[0m\n\u001b[1;32m--> 774\u001b[1;33m                 \u001b[1;32mreturn\u001b[0m \u001b[0m_multinomial_loss_grad\u001b[0m\u001b[1;33m(\u001b[0m\u001b[0mx\u001b[0m\u001b[1;33m,\u001b[0m \u001b[1;33m*\u001b[0m\u001b[0margs\u001b[0m\u001b[1;33m)\u001b[0m\u001b[1;33m[\u001b[0m\u001b[1;36m0\u001b[0m\u001b[1;33m:\u001b[0m\u001b[1;36m2\u001b[0m\u001b[1;33m]\u001b[0m\u001b[1;33m\u001b[0m\u001b[1;33m\u001b[0m\u001b[0m\n\u001b[0m\u001b[0;32m    775\u001b[0m \u001b[1;33m\u001b[0m\u001b[0m\n\u001b[0;32m    776\u001b[0m         \u001b[1;32melif\u001b[0m \u001b[0msolver\u001b[0m \u001b[1;33m==\u001b[0m \u001b[1;34m\"newton-cg\"\u001b[0m\u001b[1;33m:\u001b[0m\u001b[1;33m\u001b[0m\u001b[1;33m\u001b[0m\u001b[0m\n",
      "\u001b[1;32mE:\\Program Files (x86)\\Anaconda\\envs\\Projet3\\lib\\site-packages\\sklearn\\linear_model\\_logistic.py\u001b[0m in \u001b[0;36m_multinomial_loss_grad\u001b[1;34m(w, X, Y, alpha, sample_weight)\u001b[0m\n\u001b[0;32m    346\u001b[0m     \u001b[0mfit_intercept\u001b[0m \u001b[1;33m=\u001b[0m \u001b[0mw\u001b[0m\u001b[1;33m.\u001b[0m\u001b[0msize\u001b[0m \u001b[1;33m==\u001b[0m \u001b[0mn_classes\u001b[0m \u001b[1;33m*\u001b[0m \u001b[1;33m(\u001b[0m\u001b[0mn_features\u001b[0m \u001b[1;33m+\u001b[0m \u001b[1;36m1\u001b[0m\u001b[1;33m)\u001b[0m\u001b[1;33m\u001b[0m\u001b[1;33m\u001b[0m\u001b[0m\n\u001b[0;32m    347\u001b[0m     \u001b[0mgrad\u001b[0m \u001b[1;33m=\u001b[0m \u001b[0mnp\u001b[0m\u001b[1;33m.\u001b[0m\u001b[0mzeros\u001b[0m\u001b[1;33m(\u001b[0m\u001b[1;33m(\u001b[0m\u001b[0mn_classes\u001b[0m\u001b[1;33m,\u001b[0m \u001b[0mn_features\u001b[0m \u001b[1;33m+\u001b[0m \u001b[0mbool\u001b[0m\u001b[1;33m(\u001b[0m\u001b[0mfit_intercept\u001b[0m\u001b[1;33m)\u001b[0m\u001b[1;33m)\u001b[0m\u001b[1;33m,\u001b[0m \u001b[0mdtype\u001b[0m\u001b[1;33m=\u001b[0m\u001b[0mX\u001b[0m\u001b[1;33m.\u001b[0m\u001b[0mdtype\u001b[0m\u001b[1;33m)\u001b[0m\u001b[1;33m\u001b[0m\u001b[1;33m\u001b[0m\u001b[0m\n\u001b[1;32m--> 348\u001b[1;33m     \u001b[0mloss\u001b[0m\u001b[1;33m,\u001b[0m \u001b[0mp\u001b[0m\u001b[1;33m,\u001b[0m \u001b[0mw\u001b[0m \u001b[1;33m=\u001b[0m \u001b[0m_multinomial_loss\u001b[0m\u001b[1;33m(\u001b[0m\u001b[0mw\u001b[0m\u001b[1;33m,\u001b[0m \u001b[0mX\u001b[0m\u001b[1;33m,\u001b[0m \u001b[0mY\u001b[0m\u001b[1;33m,\u001b[0m \u001b[0malpha\u001b[0m\u001b[1;33m,\u001b[0m \u001b[0msample_weight\u001b[0m\u001b[1;33m)\u001b[0m\u001b[1;33m\u001b[0m\u001b[1;33m\u001b[0m\u001b[0m\n\u001b[0m\u001b[0;32m    349\u001b[0m     \u001b[0msample_weight\u001b[0m \u001b[1;33m=\u001b[0m \u001b[0msample_weight\u001b[0m\u001b[1;33m[\u001b[0m\u001b[1;33m:\u001b[0m\u001b[1;33m,\u001b[0m \u001b[0mnp\u001b[0m\u001b[1;33m.\u001b[0m\u001b[0mnewaxis\u001b[0m\u001b[1;33m]\u001b[0m\u001b[1;33m\u001b[0m\u001b[1;33m\u001b[0m\u001b[0m\n\u001b[0;32m    350\u001b[0m     \u001b[0mdiff\u001b[0m \u001b[1;33m=\u001b[0m \u001b[0msample_weight\u001b[0m \u001b[1;33m*\u001b[0m \u001b[1;33m(\u001b[0m\u001b[0mp\u001b[0m \u001b[1;33m-\u001b[0m \u001b[0mY\u001b[0m\u001b[1;33m)\u001b[0m\u001b[1;33m\u001b[0m\u001b[1;33m\u001b[0m\u001b[0m\n",
      "\u001b[1;32mE:\\Program Files (x86)\\Anaconda\\envs\\Projet3\\lib\\site-packages\\sklearn\\linear_model\\_logistic.py\u001b[0m in \u001b[0;36m_multinomial_loss\u001b[1;34m(w, X, Y, alpha, sample_weight)\u001b[0m\n\u001b[0;32m    297\u001b[0m     \u001b[0mp\u001b[0m \u001b[1;33m=\u001b[0m \u001b[0msafe_sparse_dot\u001b[0m\u001b[1;33m(\u001b[0m\u001b[0mX\u001b[0m\u001b[1;33m,\u001b[0m \u001b[0mw\u001b[0m\u001b[1;33m.\u001b[0m\u001b[0mT\u001b[0m\u001b[1;33m)\u001b[0m\u001b[1;33m\u001b[0m\u001b[1;33m\u001b[0m\u001b[0m\n\u001b[0;32m    298\u001b[0m     \u001b[0mp\u001b[0m \u001b[1;33m+=\u001b[0m \u001b[0mintercept\u001b[0m\u001b[1;33m\u001b[0m\u001b[1;33m\u001b[0m\u001b[0m\n\u001b[1;32m--> 299\u001b[1;33m     \u001b[0mp\u001b[0m \u001b[1;33m-=\u001b[0m \u001b[0mlogsumexp\u001b[0m\u001b[1;33m(\u001b[0m\u001b[0mp\u001b[0m\u001b[1;33m,\u001b[0m \u001b[0maxis\u001b[0m\u001b[1;33m=\u001b[0m\u001b[1;36m1\u001b[0m\u001b[1;33m)\u001b[0m\u001b[1;33m[\u001b[0m\u001b[1;33m:\u001b[0m\u001b[1;33m,\u001b[0m \u001b[0mnp\u001b[0m\u001b[1;33m.\u001b[0m\u001b[0mnewaxis\u001b[0m\u001b[1;33m]\u001b[0m\u001b[1;33m\u001b[0m\u001b[1;33m\u001b[0m\u001b[0m\n\u001b[0m\u001b[0;32m    300\u001b[0m     \u001b[0mloss\u001b[0m \u001b[1;33m=\u001b[0m \u001b[1;33m-\u001b[0m\u001b[1;33m(\u001b[0m\u001b[0msample_weight\u001b[0m \u001b[1;33m*\u001b[0m \u001b[0mY\u001b[0m \u001b[1;33m*\u001b[0m \u001b[0mp\u001b[0m\u001b[1;33m)\u001b[0m\u001b[1;33m.\u001b[0m\u001b[0msum\u001b[0m\u001b[1;33m(\u001b[0m\u001b[1;33m)\u001b[0m\u001b[1;33m\u001b[0m\u001b[1;33m\u001b[0m\u001b[0m\n\u001b[0;32m    301\u001b[0m     \u001b[0mloss\u001b[0m \u001b[1;33m+=\u001b[0m \u001b[1;36m0.5\u001b[0m \u001b[1;33m*\u001b[0m \u001b[0malpha\u001b[0m \u001b[1;33m*\u001b[0m \u001b[0msquared_norm\u001b[0m\u001b[1;33m(\u001b[0m\u001b[0mw\u001b[0m\u001b[1;33m)\u001b[0m\u001b[1;33m\u001b[0m\u001b[1;33m\u001b[0m\u001b[0m\n",
      "\u001b[1;32mE:\\Program Files (x86)\\Anaconda\\envs\\Projet3\\lib\\site-packages\\scipy\\special\\_logsumexp.py\u001b[0m in \u001b[0;36mlogsumexp\u001b[1;34m(a, axis, b, keepdims, return_sign)\u001b[0m\n\u001b[0;32m    112\u001b[0m     \u001b[1;31m# suppress warnings about log of zero\u001b[0m\u001b[1;33m\u001b[0m\u001b[1;33m\u001b[0m\u001b[0m\n\u001b[0;32m    113\u001b[0m     \u001b[1;32mwith\u001b[0m \u001b[0mnp\u001b[0m\u001b[1;33m.\u001b[0m\u001b[0merrstate\u001b[0m\u001b[1;33m(\u001b[0m\u001b[0mdivide\u001b[0m\u001b[1;33m=\u001b[0m\u001b[1;34m'ignore'\u001b[0m\u001b[1;33m)\u001b[0m\u001b[1;33m:\u001b[0m\u001b[1;33m\u001b[0m\u001b[1;33m\u001b[0m\u001b[0m\n\u001b[1;32m--> 114\u001b[1;33m         \u001b[0ms\u001b[0m \u001b[1;33m=\u001b[0m \u001b[0mnp\u001b[0m\u001b[1;33m.\u001b[0m\u001b[0msum\u001b[0m\u001b[1;33m(\u001b[0m\u001b[0mtmp\u001b[0m\u001b[1;33m,\u001b[0m \u001b[0maxis\u001b[0m\u001b[1;33m=\u001b[0m\u001b[0maxis\u001b[0m\u001b[1;33m,\u001b[0m \u001b[0mkeepdims\u001b[0m\u001b[1;33m=\u001b[0m\u001b[0mkeepdims\u001b[0m\u001b[1;33m)\u001b[0m\u001b[1;33m\u001b[0m\u001b[1;33m\u001b[0m\u001b[0m\n\u001b[0m\u001b[0;32m    115\u001b[0m         \u001b[1;32mif\u001b[0m \u001b[0mreturn_sign\u001b[0m\u001b[1;33m:\u001b[0m\u001b[1;33m\u001b[0m\u001b[1;33m\u001b[0m\u001b[0m\n\u001b[0;32m    116\u001b[0m             \u001b[0msgn\u001b[0m \u001b[1;33m=\u001b[0m \u001b[0mnp\u001b[0m\u001b[1;33m.\u001b[0m\u001b[0msign\u001b[0m\u001b[1;33m(\u001b[0m\u001b[0ms\u001b[0m\u001b[1;33m)\u001b[0m\u001b[1;33m\u001b[0m\u001b[1;33m\u001b[0m\u001b[0m\n",
      "\u001b[1;32mE:\\Program Files (x86)\\Anaconda\\envs\\Projet3\\lib\\site-packages\\numpy\\core\\overrides.py\u001b[0m in \u001b[0;36msum\u001b[1;34m(*args, **kwargs)\u001b[0m\n",
      "\u001b[1;32mE:\\Program Files (x86)\\Anaconda\\envs\\Projet3\\lib\\site-packages\\numpy\\core\\fromnumeric.py\u001b[0m in \u001b[0;36msum\u001b[1;34m(a, axis, dtype, out, keepdims, initial, where)\u001b[0m\n\u001b[0;32m   2294\u001b[0m         \u001b[1;32mreturn\u001b[0m \u001b[0mres\u001b[0m\u001b[1;33m\u001b[0m\u001b[1;33m\u001b[0m\u001b[0m\n\u001b[0;32m   2295\u001b[0m \u001b[1;33m\u001b[0m\u001b[0m\n\u001b[1;32m-> 2296\u001b[1;33m     return _wrapreduction(a, np.add, 'sum', axis, dtype, out, keepdims=keepdims,\n\u001b[0m\u001b[0;32m   2297\u001b[0m                           initial=initial, where=where)\n\u001b[0;32m   2298\u001b[0m \u001b[1;33m\u001b[0m\u001b[0m\n",
      "\u001b[1;32mE:\\Program Files (x86)\\Anaconda\\envs\\Projet3\\lib\\site-packages\\numpy\\core\\fromnumeric.py\u001b[0m in \u001b[0;36m_wrapreduction\u001b[1;34m(obj, ufunc, method, axis, dtype, out, **kwargs)\u001b[0m\n\u001b[0;32m     84\u001b[0m                 \u001b[1;32mreturn\u001b[0m \u001b[0mreduction\u001b[0m\u001b[1;33m(\u001b[0m\u001b[0maxis\u001b[0m\u001b[1;33m=\u001b[0m\u001b[0maxis\u001b[0m\u001b[1;33m,\u001b[0m \u001b[0mout\u001b[0m\u001b[1;33m=\u001b[0m\u001b[0mout\u001b[0m\u001b[1;33m,\u001b[0m \u001b[1;33m**\u001b[0m\u001b[0mpasskwargs\u001b[0m\u001b[1;33m)\u001b[0m\u001b[1;33m\u001b[0m\u001b[1;33m\u001b[0m\u001b[0m\n\u001b[0;32m     85\u001b[0m \u001b[1;33m\u001b[0m\u001b[0m\n\u001b[1;32m---> 86\u001b[1;33m     \u001b[1;32mreturn\u001b[0m \u001b[0mufunc\u001b[0m\u001b[1;33m.\u001b[0m\u001b[0mreduce\u001b[0m\u001b[1;33m(\u001b[0m\u001b[0mobj\u001b[0m\u001b[1;33m,\u001b[0m \u001b[0maxis\u001b[0m\u001b[1;33m,\u001b[0m \u001b[0mdtype\u001b[0m\u001b[1;33m,\u001b[0m \u001b[0mout\u001b[0m\u001b[1;33m,\u001b[0m \u001b[1;33m**\u001b[0m\u001b[0mpasskwargs\u001b[0m\u001b[1;33m)\u001b[0m\u001b[1;33m\u001b[0m\u001b[1;33m\u001b[0m\u001b[0m\n\u001b[0m\u001b[0;32m     87\u001b[0m \u001b[1;33m\u001b[0m\u001b[0m\n\u001b[0;32m     88\u001b[0m \u001b[1;33m\u001b[0m\u001b[0m\n",
      "\u001b[1;31mKeyboardInterrupt\u001b[0m: "
     ]
    }
   ],
   "source": [
    "pipe_lr.fit(x_train,y_train)"
   ]
  },
  {
   "cell_type": "code",
   "execution_count": null,
   "id": "464d9cc0",
   "metadata": {},
   "outputs": [],
   "source": [
    "pipe_lr.score(x_test,y_test)"
   ]
  },
  {
   "cell_type": "code",
   "execution_count": null,
   "id": "bb183e56",
   "metadata": {},
   "outputs": [],
   "source": [
    "print(x_test.iloc[0])"
   ]
  },
  {
   "cell_type": "code",
   "execution_count": null,
   "id": "e7727d8a",
   "metadata": {},
   "outputs": [],
   "source": [
    "pred1 = x_test.iloc[0]"
   ]
  },
  {
   "cell_type": "code",
   "execution_count": null,
   "id": "d02a2851",
   "metadata": {},
   "outputs": [],
   "source": [
    "pipe_lr.predict([pred1])"
   ]
  },
  {
   "cell_type": "code",
   "execution_count": null,
   "id": "51e7ddfa",
   "metadata": {},
   "outputs": [],
   "source": [
    "print(pipe_lr.classes_)\n",
    "pipe_lr.predict_proba([pred1])"
   ]
  },
  {
   "cell_type": "code",
   "execution_count": null,
   "id": "87beb4ca",
   "metadata": {},
   "outputs": [],
   "source": []
  },
  {
   "cell_type": "code",
   "execution_count": null,
   "id": "1b7bffb8",
   "metadata": {},
   "outputs": [],
   "source": []
  }
 ],
 "metadata": {
  "kernelspec": {
   "display_name": "Projet3",
   "language": "python",
   "name": "projet3"
  },
  "language_info": {
   "codemirror_mode": {
    "name": "ipython",
    "version": 3
   },
   "file_extension": ".py",
   "mimetype": "text/x-python",
   "name": "python",
   "nbconvert_exporter": "python",
   "pygments_lexer": "ipython3",
   "version": "3.9.7"
  }
 },
 "nbformat": 4,
 "nbformat_minor": 5
}
